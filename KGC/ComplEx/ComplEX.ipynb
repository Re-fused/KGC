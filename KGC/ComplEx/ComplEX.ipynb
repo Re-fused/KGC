{
 "cells": [
  {
   "cell_type": "code",
   "execution_count": 1,
   "id": "0196818f",
   "metadata": {},
   "outputs": [],
   "source": [
    "import torch\n",
    "import torch.nn as nn\n",
    "\n",
    "class Config:\n",
    "    def __init__(self, ent_num, rel_num):\n",
    "        self.ent_num = ent_num\n",
    "        self.rel_num = rel_num\n",
    "        self.dim = 200\n",
    "        self.neg_ratio = 100\n",
    "        self.batch_size = 100\n",
    "        self.device = torch.device(\"cuda:0\" if torch.cuda.is_available() else \"cpu\")\n",
    "        self.lambd = 0.00001\n",
    "        self.lr = 0.001\n",
    "        self.epochs = 30"
   ]
  },
  {
   "cell_type": "code",
   "execution_count": 2,
   "id": "85c98b30",
   "metadata": {},
   "outputs": [],
   "source": [
    "class ComplEX(nn.Module):\n",
    "    def __init__(self, config):\n",
    "        super(ComplEX, self).__init__()\n",
    "        self.config = config\n",
    "        self.ent_re_embedding = nn.Embedding(config.ent_num, config.dim)\n",
    "        self.ent_im_embedding = nn.Embedding(config.ent_num, config.dim)\n",
    "        \n",
    "        self.rel_re_embedding = nn.Embedding(config.rel_num, config.dim)\n",
    "        self.rel_im_embedding = nn.Embedding(config.rel_num, config.dim)\n",
    "        self.init()\n",
    "        self.loss = nn.Softplus()\n",
    "    \n",
    "    def init(self):\n",
    "        nn.init.xavier_uniform_(self.ent_re_embedding.weight.data)\n",
    "        nn.init.xavier_uniform_(self.ent_im_embedding.weight.data)\n",
    "        nn.init.xavier_uniform_(self.rel_re_embedding.weight.data)\n",
    "        nn.init.xavier_uniform_(self.rel_im_embedding.weight.data)\n",
    "    \n",
    "    def _cal(self, h_re, h_im, r_re, r_im, t_re, t_im):\n",
    "        \n",
    "       \n",
    "        score =  h_re * t_re * r_re+ h_im * t_im * r_re+ h_re * t_im * r_im- h_im * t_re * r_im\n",
    "        return torch.sum(score, -1)\n",
    "        \n",
    "    def forward(self, h, r, t):\n",
    "        h_re = self.ent_re_embedding(h)\n",
    "        h_im = self.ent_im_embedding(h)\n",
    "        \n",
    "        r_re = self.rel_re_embedding(r)\n",
    "        r_im = self.rel_im_embedding(r)\n",
    "        \n",
    "        t_re = self.ent_re_embedding(t)\n",
    "        t_im = self.ent_im_embedding(t)\n",
    "        sc = self._cal(h_re, h_im, r_re, r_im, t_re, t_im)\n",
    "        return sc \n",
    "    \n",
    "    def regularization(self, h, r, t):\n",
    "        \n",
    "        h_re = self.ent_re_embedding(h)\n",
    "        h_im = self.ent_im_embedding(h)\n",
    "        r_re = self.rel_re_embedding(r)\n",
    "        r_im = self.rel_im_embedding(r)\n",
    "        t_re = self.ent_re_embedding(t)\n",
    "        t_im = self.ent_im_embedding(t)\n",
    "        \n",
    "        regul = (torch.mean(h_re**2)+\n",
    "                torch.mean(h_im**2)+\n",
    "                torch.mean(r_re**2)+\n",
    "                torch.mean(r_im**2)+\n",
    "                torch.mean(t_re**2)+\n",
    "                torch.mean(t_im**2))/6\n",
    "        return regul\n",
    "        \n",
    "    "
   ]
  },
  {
   "cell_type": "code",
   "execution_count": 3,
   "id": "09c2b601",
   "metadata": {},
   "outputs": [],
   "source": [
    "class loadData:\n",
    "    def __init__(self, data_name):\n",
    "        self.path = '/home/qiupp/data/FB15K/'#文件路径自己设置\n",
    "#         self.path = '/home/qiupp/code/ConvE/data/'+data_name+'/'\n",
    "        self.rel2id = {}\n",
    "        self.ent2id = {}\n",
    "        self.data = {sql: self.read(sql) for sql in ['train', 'valid', 'test']}\n",
    "        \n",
    "    def read(self, file_name):\n",
    "        with open(self.path+file_name+'.txt', 'r') as f:\n",
    "            lines = f.readlines()\n",
    "        triples = []\n",
    "        for line in lines:\n",
    "            temp = line.strip().split()\n",
    "            triples.append((self.get_ent(temp[0]), self.get_rel(temp[1]), self.get_ent(temp[2])))\n",
    "        return triples\n",
    "    \n",
    "    def get_ent(self,ent):\n",
    "        if not ent in self.ent2id.keys():\n",
    "            self.ent2id[ent] = len(self.ent2id)\n",
    "        return self.ent2id[ent]\n",
    "    def get_rel(self, rel):\n",
    "        if not rel in self.rel2id.keys():\n",
    "            self.rel2id[rel] = len(self.rel2id)\n",
    "        return self.rel2id[rel]\n",
    "    def ent_num(self):\n",
    "        return len(self.ent2id)\n",
    "    \n",
    "    def rel_num(self):\n",
    "        return len(self.rel2id)\n",
    "    "
   ]
  },
  {
   "cell_type": "code",
   "execution_count": 4,
   "id": "7f4b326b",
   "metadata": {},
   "outputs": [],
   "source": [
    "from torch.utils.data import DataLoader, Dataset\n",
    "import numpy as np\n",
    "from random import randint,random, shuffle\n",
    "class MyTrainData(Dataset):\n",
    "    def __init__(self, loaddata, config):\n",
    "        super(MyTrainData,self).__init__()\n",
    "        self.data = loaddata.data['train']\n",
    "        self.config = config\n",
    "    def __len__(self):\n",
    "        return len(self.data)\n",
    "    \n",
    "    def randValue(self, value):\n",
    "        temp = randint(0, self.config.ent_num-1)\n",
    "        while temp == value:\n",
    "            temp = randint(0, self.config.ent_num-1)\n",
    "        return temp\n",
    "    \n",
    "    \n",
    "    \n",
    "    def __getitem__(self, index):\n",
    "        fact = self.data[index]\n",
    "        fact = np.expand_dims(fact, axis = 0)\n",
    "        \n",
    "        neg = np.repeat(fact, self.config.neg_ratio, axis=0)\n",
    "        for i in  range(self.config.neg_ratio):\n",
    "            if random() < 0.5:\n",
    "                neg[i][0] = self.randValue(neg[i][0])\n",
    "            else:\n",
    "                neg[i][2] = self.randValue(neg[i][2])\n",
    "        fact = np.append(fact, 1)\n",
    "        neg = np.append(neg, -np.ones((self.config.neg_ratio, 1)), axis = 1)\n",
    "        return torch.LongTensor(fact), torch.LongTensor(neg)\n",
    "        \n",
    "        \n",
    "        \n",
    "        "
   ]
  },
  {
   "cell_type": "code",
   "execution_count": 5,
   "id": "4626273b",
   "metadata": {},
   "outputs": [],
   "source": [
    "class MyTestData(Dataset):\n",
    "    def __init__(self, loaddata, data_type):\n",
    "        self.data = loaddata.data[data_type]\n",
    "        self.ent_num = loaddata.ent_num()\n",
    "        self.loaddata = loaddata\n",
    "        self.all_facts = set(self.get_all_facts())\n",
    "        \n",
    "    def get_all_facts(self):\n",
    "        triples = []\n",
    "        for sql in ['train', 'valid', 'test']:\n",
    "            for fact in self.loaddata.data[sql]:\n",
    "                triples.append(fact)\n",
    "        return triples\n",
    "        \n",
    "        \n",
    "        \n",
    "    def __len__(self):\n",
    "        return len(self.data)\n",
    "    \n",
    "    def __getitem__(self, index):\n",
    "        fact = self.data[index]\n",
    "        #pos = [fact]\n",
    "        #pos = np.array(pos)\n",
    "        #neg_tail = np.repeat(pos, self.ent_num, axis = 0)\n",
    "        #neg_head = np.repeat(pos, self.ent_num, axis = 0)\n",
    "        neg_tail = []\n",
    "        h, r, t = fact\n",
    "        for i in range(0,self.ent_num):\n",
    "            if t == i:\n",
    "                continue\n",
    "            neg_tail.append((h, r, i))\n",
    "            \n",
    "        neg_tail = [fact]+list(set(neg_tail)-self.all_facts)\n",
    "        \n",
    "        neg_head = []\n",
    "        for i in range(0,self.ent_num):\n",
    "            if h == i:\n",
    "                continue\n",
    "            neg_head.append((i, r, t))\n",
    "        \n",
    "        neg_head = [fact]+list(set(neg_head)-self.all_facts)\n",
    "#         print(len(neg_tail))\n",
    "        return torch.LongTensor(neg_head), torch.LongTensor(neg_tail)"
   ]
  },
  {
   "cell_type": "code",
   "execution_count": 6,
   "id": "9c240ac6",
   "metadata": {},
   "outputs": [],
   "source": [
    "class Measure:\n",
    "    def __init__(self):\n",
    "        self.mrr = {'head':0.0, 'tail':0.0}\n",
    "        self.mr = {'head':0.0, 'tail':0.0}\n",
    "        self.hit1  = {'head':0.0, 'tail':0.0}\n",
    "        self.hit3 = {'head':0.0, 'tail':0.0}\n",
    "        self.hit10 = {'head':0.0, 'tail':0.0}\n",
    "    def updata(self, rank, head_tail):\n",
    "        if rank == 1:\n",
    "            self.hit1[head_tail] += 1\n",
    "        if rank <= 3:\n",
    "            self.hit3[head_tail] += 1\n",
    "        if rank <= 10:\n",
    "            self.hit10[head_tail] += 1\n",
    "        self.mr[head_tail] += rank\n",
    "        self.mrr[head_tail] += 1.0/rank\n",
    "    def total_deal(self, fact_num):\n",
    "        print(\"---------head--------\")\n",
    "        print('hit1:'+str(self.hit1['head']/fact_num))\n",
    "        print('hit3:'+str(self.hit3['head']/fact_num))\n",
    "        print('hit10:'+str(self.hit10['head']/fact_num))\n",
    "        print('mr:'+str(self.mr['head']/fact_num))\n",
    "        print('mrr:'+str(self.mrr['head']/fact_num))\n",
    "        print(\"---------tail--------\")\n",
    "        print('hit1:'+str(self.hit1['tail']/fact_num))\n",
    "        print('hit3:'+str(self.hit3['tail']/fact_num))\n",
    "        print('hit10:'+str(self.hit10['tail']/fact_num))\n",
    "        print('mr:'+str(self.mr['tail']/fact_num))\n",
    "        print('mrr:'+str(self.mrr['tail']/fact_num))\n",
    "    def init(self):\n",
    "        self.mrr = {'head':0.0, 'tail':0.0}\n",
    "        self.mr = {'head':0.0, 'tail':0.0}\n",
    "        self.hit1  = {'head':0.0, 'tail':0.0}\n",
    "        self.hit3 = {'head':0.0, 'tail':0.0}\n",
    "        self.hit10 = {'head':0.0, 'tail':0.0}\n",
    "        \n",
    "        "
   ]
  },
  {
   "cell_type": "code",
   "execution_count": 7,
   "id": "2b123014",
   "metadata": {},
   "outputs": [],
   "source": [
    "import os\n",
    "from tqdm import trange\n",
    "os.environ['CUDA_LAUNCH_BLOCKING'] = '1'\n",
    "class Trainer:\n",
    "    def __init__(self, config, loaddata):\n",
    "        self.config = config\n",
    "        self.loaddata = loaddata\n",
    "        self.train_loader, self.valid_loader = self.init_data() \n",
    "#         self.model = ComplEX(config)\n",
    "#         self.model = self.model.to(config.device)\n",
    "        self.model = torch.load(\"/home/qiupp/codestore/ComplEX/modelFB/122.pkl\",map_location = config.device)\n",
    "        self.measure = Measure()\n",
    "        self.fact_num = len(loaddata.data['valid'])\n",
    "    def init_data(self):\n",
    "        myTrainData = MyTrainData(self.loaddata, config)\n",
    "        train_loader = DataLoader(myTrainData,batch_size = config.batch_size, shuffle = True)\n",
    "        \n",
    "        myTestData = MyTestData(self.loaddata, 'valid')\n",
    "        valid_loader =  DataLoader(myTestData, batch_size = 1, shuffle = True)\n",
    "        return train_loader,valid_loader\n",
    "    def train(self):\n",
    "        optimizer = torch.optim.Adam(self.model.parameters(), lr = self.config.lr)\n",
    "        for epoch in trange(1, self.config.epochs+1):\n",
    "            self.model.train()\n",
    "            tot = 0.0\n",
    "            cn = 0\n",
    "            for i, (pos, neg) in enumerate(self.train_loader):\n",
    "                neg = neg.view(-1, neg.shape[-1])\n",
    "                data = torch.cat([pos, neg], dim = 0)\n",
    "                index = [i for i in range(data.shape[0])]\n",
    "                shuffle(index)\n",
    "                data = data[index]\n",
    "                data = data.to(self.config.device)\n",
    "                h = data[:,0]\n",
    "                r = data[:, 1]\n",
    "                t = data[:, 2]\n",
    "                labels = data[:, -1]\n",
    "                optimizer.zero_grad()\n",
    "#                 print(h.max(),h.min(), t.max(), t.min())\n",
    "                scores = self.model(h, r, t)\n",
    "                \n",
    "                loss = torch.sum(self.model.loss(-labels*scores))+self.config.lambd*self.model.regularization(h, r, t)/h.shape[0]\n",
    "                loss.backward()\n",
    "                optimizer.step()\n",
    "                tot += loss.cpu().item()\n",
    "                cn = cn + 1\n",
    "            print(\"------loss:\"+str(tot/cn)+\"-------\")\n",
    "#             print('++++++++++++++++++++')\n",
    "#             self.model.eval()\n",
    "#             self.measure.init()\n",
    "#             for i,(head, tail) in enumerate(self.valid_loader):\n",
    "#                 head = head.view(-1, 3)\n",
    "#                 head = head.to(self.config.device)\n",
    "# #                 print(head.shape)\n",
    "#                 h = head[:, 0]\n",
    "#                 r = head[:, 1]\n",
    "#                 t = head[:, 2]\n",
    "# #                 print(h.max(),h.min(), t.max(), t.min())\n",
    "#                 score = self.model(h, r, t)\n",
    "#                 score = score.cpu().data.numpy()\n",
    "#                 rank = (score >= score[0]).sum()\n",
    "#                 self.measure.updata(rank, 'head')\n",
    "                \n",
    "#                 tail = tail.view(-1, 3)\n",
    "#                 tail = tail.to(self.config.device)\n",
    "#                 h = tail[:, 0]\n",
    "#                 r = tail[:, 1]\n",
    "#                 t = tail[:, 2]\n",
    "# #                 print(h.max(),h.min(), t.max(), t.min())\n",
    "# #                 print(tail)\n",
    "#                 score = self.model(h, r, t)\n",
    "#                 score = score.cpu().data.numpy()\n",
    "#                 rank = (score >= score[0]).sum()\n",
    "#                 self.measure.updata(rank, 'tail')\n",
    "#             self.measure.total_deal(fact_num)\n",
    "            self.save_mode(epoch)\n",
    "                \n",
    "                \n",
    "    def save_mode(self, epoch): \n",
    "        #模型存储路径\n",
    "        save_path = '/home/qiupp/codestore/ComplEX/modelFB/'\n",
    "        if not os.path.exists(save_path):\n",
    "            os.mkdir(save_path)\n",
    "        torch.save(self.model, save_path+str(epoch)+'.pkl')"
   ]
  },
  {
   "cell_type": "code",
   "execution_count": 8,
   "id": "019a9d5e",
   "metadata": {},
   "outputs": [
    {
     "name": "stdout",
     "output_type": "stream",
     "text": [
      "14951 1345\n"
     ]
    },
    {
     "name": "stderr",
     "output_type": "stream",
     "text": [
      "  0%|▎                                                                                      | 1/300 [03:55<19:32:24, 235.26s/it]"
     ]
    },
    {
     "name": "stdout",
     "output_type": "stream",
     "text": [
      "------loss:109.60302675559821-------\n"
     ]
    },
    {
     "name": "stderr",
     "output_type": "stream",
     "text": [
      "  1%|▌                                                                                      | 2/300 [07:50<19:28:25, 235.25s/it]"
     ]
    },
    {
     "name": "stdout",
     "output_type": "stream",
     "text": [
      "------loss:108.47124221388079-------\n"
     ]
    },
    {
     "name": "stderr",
     "output_type": "stream",
     "text": [
      "  1%|▊                                                                                      | 3/300 [11:47<19:27:31, 235.86s/it]"
     ]
    },
    {
     "name": "stdout",
     "output_type": "stream",
     "text": [
      "------loss:107.48227960542337-------\n"
     ]
    },
    {
     "name": "stderr",
     "output_type": "stream",
     "text": [
      "  1%|█▏                                                                                     | 4/300 [15:43<19:24:11, 235.99s/it]"
     ]
    },
    {
     "name": "stdout",
     "output_type": "stream",
     "text": [
      "------loss:107.5335880439013-------\n"
     ]
    },
    {
     "name": "stderr",
     "output_type": "stream",
     "text": [
      "  2%|█▍                                                                                     | 5/300 [19:42<19:25:58, 237.15s/it]"
     ]
    },
    {
     "name": "stdout",
     "output_type": "stream",
     "text": [
      "------loss:106.95825497440944-------\n"
     ]
    },
    {
     "name": "stderr",
     "output_type": "stream",
     "text": [
      "  2%|█▋                                                                                     | 6/300 [23:39<19:21:07, 236.97s/it]"
     ]
    },
    {
     "name": "stdout",
     "output_type": "stream",
     "text": [
      "------loss:106.26188371986743-------\n"
     ]
    },
    {
     "name": "stderr",
     "output_type": "stream",
     "text": [
      "  2%|██                                                                                     | 7/300 [27:36<19:18:40, 237.27s/it]"
     ]
    },
    {
     "name": "stdout",
     "output_type": "stream",
     "text": [
      "------loss:105.92003661907272-------\n"
     ]
    },
    {
     "name": "stderr",
     "output_type": "stream",
     "text": [
      "  3%|██▎                                                                                    | 8/300 [31:35<19:17:19, 237.81s/it]"
     ]
    },
    {
     "name": "stdout",
     "output_type": "stream",
     "text": [
      "------loss:105.49444257739364-------\n"
     ]
    },
    {
     "name": "stderr",
     "output_type": "stream",
     "text": [
      "  3%|██▌                                                                                    | 9/300 [35:53<19:43:04, 243.93s/it]"
     ]
    },
    {
     "name": "stdout",
     "output_type": "stream",
     "text": [
      "------loss:105.37514842346015-------\n"
     ]
    },
    {
     "name": "stderr",
     "output_type": "stream",
     "text": [
      "  3%|██▊                                                                                   | 10/300 [40:15<20:05:40, 249.45s/it]"
     ]
    },
    {
     "name": "stdout",
     "output_type": "stream",
     "text": [
      "------loss:104.95931302711664-------\n"
     ]
    },
    {
     "name": "stderr",
     "output_type": "stream",
     "text": [
      "  4%|███▏                                                                                  | 11/300 [44:32<20:13:19, 251.90s/it]"
     ]
    },
    {
     "name": "stdout",
     "output_type": "stream",
     "text": [
      "------loss:104.80574534823563-------\n"
     ]
    },
    {
     "name": "stderr",
     "output_type": "stream",
     "text": [
      "  4%|███▍                                                                                  | 12/300 [48:51<20:18:36, 253.88s/it]"
     ]
    },
    {
     "name": "stdout",
     "output_type": "stream",
     "text": [
      "------loss:104.40760113387708-------\n"
     ]
    },
    {
     "name": "stderr",
     "output_type": "stream",
     "text": [
      "  4%|███▋                                                                                  | 13/300 [53:07<20:18:41, 254.78s/it]"
     ]
    },
    {
     "name": "stdout",
     "output_type": "stream",
     "text": [
      "------loss:104.08096416659703-------\n"
     ]
    },
    {
     "name": "stderr",
     "output_type": "stream",
     "text": [
      "  5%|████                                                                                  | 14/300 [57:21<20:12:44, 254.42s/it]"
     ]
    },
    {
     "name": "stdout",
     "output_type": "stream",
     "text": [
      "------loss:104.02965339366963-------\n"
     ]
    },
    {
     "name": "stderr",
     "output_type": "stream",
     "text": [
      "  5%|████▏                                                                               | 15/300 [1:01:34<20:06:26, 253.99s/it]"
     ]
    },
    {
     "name": "stdout",
     "output_type": "stream",
     "text": [
      "------loss:103.70145809334635-------\n"
     ]
    },
    {
     "name": "stderr",
     "output_type": "stream",
     "text": [
      "  5%|████▍                                                                               | 16/300 [1:05:53<20:08:51, 255.39s/it]"
     ]
    },
    {
     "name": "stdout",
     "output_type": "stream",
     "text": [
      "------loss:103.49174788535036-------\n"
     ]
    },
    {
     "name": "stderr",
     "output_type": "stream",
     "text": [
      "  6%|████▊                                                                               | 17/300 [1:10:11<20:09:04, 256.34s/it]"
     ]
    },
    {
     "name": "stdout",
     "output_type": "stream",
     "text": [
      "------loss:103.21127584280558-------\n"
     ]
    },
    {
     "name": "stderr",
     "output_type": "stream",
     "text": [
      "  6%|█████                                                                               | 18/300 [1:15:51<22:02:10, 281.31s/it]"
     ]
    },
    {
     "name": "stdout",
     "output_type": "stream",
     "text": [
      "------loss:102.93833197584216-------\n"
     ]
    },
    {
     "name": "stderr",
     "output_type": "stream",
     "text": [
      "  6%|█████▎                                                                              | 19/300 [1:20:10<21:26:43, 274.75s/it]"
     ]
    },
    {
     "name": "stdout",
     "output_type": "stream",
     "text": [
      "------loss:102.71042401980091-------\n"
     ]
    },
    {
     "name": "stderr",
     "output_type": "stream",
     "text": [
      "  7%|█████▌                                                                              | 20/300 [1:26:13<23:25:43, 301.23s/it]"
     ]
    },
    {
     "name": "stdout",
     "output_type": "stream",
     "text": [
      "------loss:102.46520554940432-------\n"
     ]
    },
    {
     "name": "stderr",
     "output_type": "stream",
     "text": [
      "  7%|█████▉                                                                              | 21/300 [1:33:06<25:56:57, 334.83s/it]"
     ]
    },
    {
     "name": "stdout",
     "output_type": "stream",
     "text": [
      "------loss:102.75919266094435-------\n"
     ]
    },
    {
     "name": "stderr",
     "output_type": "stream",
     "text": [
      "  7%|██████▏                                                                             | 22/300 [1:38:54<26:09:06, 338.66s/it]"
     ]
    },
    {
     "name": "stdout",
     "output_type": "stream",
     "text": [
      "------loss:102.19401259848614-------\n"
     ]
    },
    {
     "name": "stderr",
     "output_type": "stream",
     "text": [
      "  8%|██████▍                                                                             | 23/300 [1:44:21<25:48:18, 335.37s/it]"
     ]
    },
    {
     "name": "stdout",
     "output_type": "stream",
     "text": [
      "------loss:101.79503559513597-------\n"
     ]
    },
    {
     "name": "stderr",
     "output_type": "stream",
     "text": [
      "  8%|██████▋                                                                             | 24/300 [1:49:38<25:16:21, 329.64s/it]"
     ]
    },
    {
     "name": "stdout",
     "output_type": "stream",
     "text": [
      "------loss:101.87413754052673-------\n"
     ]
    },
    {
     "name": "stderr",
     "output_type": "stream",
     "text": [
      "  8%|███████                                                                             | 25/300 [1:54:50<24:46:17, 324.28s/it]"
     ]
    },
    {
     "name": "stdout",
     "output_type": "stream",
     "text": [
      "------loss:101.7746421832912-------\n"
     ]
    },
    {
     "name": "stderr",
     "output_type": "stream",
     "text": [
      "  9%|███████▎                                                                            | 26/300 [1:59:10<23:13:17, 305.10s/it]"
     ]
    },
    {
     "name": "stdout",
     "output_type": "stream",
     "text": [
      "------loss:101.56657522166802-------\n"
     ]
    },
    {
     "name": "stderr",
     "output_type": "stream",
     "text": [
      "  9%|███████▌                                                                            | 27/300 [2:04:38<23:39:29, 311.98s/it]"
     ]
    },
    {
     "name": "stdout",
     "output_type": "stream",
     "text": [
      "------loss:101.47318574134877-------\n"
     ]
    },
    {
     "name": "stderr",
     "output_type": "stream",
     "text": [
      "  9%|███████▊                                                                            | 28/300 [2:10:54<25:01:58, 331.32s/it]"
     ]
    },
    {
     "name": "stdout",
     "output_type": "stream",
     "text": [
      "------loss:101.15671539622427-------\n"
     ]
    },
    {
     "name": "stderr",
     "output_type": "stream",
     "text": [
      "  9%|███████▊                                                                            | 28/300 [2:16:32<22:06:27, 292.60s/it]\n"
     ]
    },
    {
     "ename": "KeyboardInterrupt",
     "evalue": "",
     "output_type": "error",
     "traceback": [
      "\u001b[0;31m---------------------------------------------------------------------------\u001b[0m",
      "\u001b[0;31mKeyboardInterrupt\u001b[0m                         Traceback (most recent call last)",
      "Input \u001b[0;32mIn [8]\u001b[0m, in \u001b[0;36m<cell line: 5>\u001b[0;34m()\u001b[0m\n\u001b[1;32m      3\u001b[0m \u001b[38;5;28mprint\u001b[39m(config\u001b[38;5;241m.\u001b[39ment_num, config\u001b[38;5;241m.\u001b[39mrel_num)\n\u001b[1;32m      4\u001b[0m trainer \u001b[38;5;241m=\u001b[39m Trainer(config, loaddata)\n\u001b[0;32m----> 5\u001b[0m \u001b[43mtrainer\u001b[49m\u001b[38;5;241;43m.\u001b[39;49m\u001b[43mtrain\u001b[49m\u001b[43m(\u001b[49m\u001b[43m)\u001b[49m\n",
      "Input \u001b[0;32mIn [7]\u001b[0m, in \u001b[0;36mTrainer.train\u001b[0;34m(self)\u001b[0m\n\u001b[1;32m     36\u001b[0m                 t \u001b[38;5;241m=\u001b[39m data[:, \u001b[38;5;241m2\u001b[39m]\n\u001b[1;32m     37\u001b[0m                 labels \u001b[38;5;241m=\u001b[39m data[:, \u001b[38;5;241m-\u001b[39m\u001b[38;5;241m1\u001b[39m]\n\u001b[0;32m---> 38\u001b[0m                 \u001b[43moptimizer\u001b[49m\u001b[38;5;241;43m.\u001b[39;49m\u001b[43mzero_grad\u001b[49m\u001b[43m(\u001b[49m\u001b[43m)\u001b[49m\n\u001b[1;32m     39\u001b[0m \u001b[38;5;66;03m#                 print(h.max(),h.min(), t.max(), t.min())\u001b[39;00m\n\u001b[1;32m     40\u001b[0m                 scores \u001b[38;5;241m=\u001b[39m \u001b[38;5;28mself\u001b[39m\u001b[38;5;241m.\u001b[39mmodel(h, r, t)\n",
      "File \u001b[0;32m~/.conda/envs/pytorch/lib/python3.8/site-packages/torch/optim/optimizer.py:217\u001b[0m, in \u001b[0;36mOptimizer.zero_grad\u001b[0;34m(self, set_to_none)\u001b[0m\n\u001b[1;32m    215\u001b[0m \u001b[38;5;28;01melse\u001b[39;00m:\n\u001b[1;32m    216\u001b[0m     p\u001b[38;5;241m.\u001b[39mgrad\u001b[38;5;241m.\u001b[39mrequires_grad_(\u001b[38;5;28;01mFalse\u001b[39;00m)\n\u001b[0;32m--> 217\u001b[0m \u001b[43mp\u001b[49m\u001b[38;5;241;43m.\u001b[39;49m\u001b[43mgrad\u001b[49m\u001b[38;5;241;43m.\u001b[39;49m\u001b[43mzero_\u001b[49m\u001b[43m(\u001b[49m\u001b[43m)\u001b[49m\n",
      "\u001b[0;31mKeyboardInterrupt\u001b[0m: "
     ]
    }
   ],
   "source": [
    "loaddata = loadData('FB15k-237')\n",
    "config = Config(loaddata.ent_num(), loaddata.rel_num())\n",
    "print(config.ent_num, config.rel_num)\n",
    "trainer = Trainer(config, loaddata)\n",
    "trainer.train()"
   ]
  },
  {
   "cell_type": "code",
   "execution_count": 9,
   "id": "3d43e02e",
   "metadata": {},
   "outputs": [],
   "source": [
    "class Tester:\n",
    "    def __init__(self, model_path, loaddata, config):\n",
    "        \n",
    "        self.loaddata = loaddata\n",
    "        self.test_loader = self.loadTest()\n",
    "        self.measure = Measure()\n",
    "        self.fact_num = len(loaddata.data['test'])\n",
    "        self.config = config\n",
    "        self.model = torch.load(model_path, map_location = config.device)\n",
    "    def loadTest(self):\n",
    "        myTestData = MyTestData(self.loaddata, 'test')\n",
    "        test_loader = DataLoader(myTestData, batch_size = 1, shuffle = True)\n",
    "        return test_loader\n",
    "    def test(self):\n",
    "        for i,(head, tail) in enumerate(self.test_loader):\n",
    "            head = head.view(-1, 3)\n",
    "            head = head.to(self.config.device)\n",
    "            h = head[:, 0]\n",
    "            r = head[:, 1]\n",
    "            t = head[:, 2]\n",
    "            score = self.model(h, r, t)\n",
    "            score = score.cpu().data.numpy()\n",
    "            rank = (score >= score[0]).sum()\n",
    "            self.measure.updata(rank, 'head')\n",
    "            \n",
    "            tail = tail.view(-1, 3)\n",
    "            tail = tail.to(self.config.device)\n",
    "            h = tail[:, 0]\n",
    "            r = tail[:, 1]\n",
    "            t = tail[:, 2]\n",
    "            score = self.model(h, r, t)\n",
    "            score = score.cpu().data.numpy()\n",
    "            rank = (score >= score[0]).sum()\n",
    "            self.measure.updata(rank, 'tail')\n",
    "        self.measure.total_deal(self.fact_num)\n",
    "            \n",
    "            "
   ]
  },
  {
   "cell_type": "code",
   "execution_count": 10,
   "id": "61ab64c4",
   "metadata": {},
   "outputs": [
    {
     "name": "stdout",
     "output_type": "stream",
     "text": [
      "cuda:0\n",
      "---------head--------\n",
      "hit1:0.576374193766823\n",
      "hit3:0.7085541128472516\n",
      "hit10:0.794789321325185\n",
      "mr:164.62634795415687\n",
      "mrr:0.6561032302137269\n",
      "---------tail--------\n",
      "hit1:0.6024445159215182\n",
      "hit3:0.7404817930964432\n",
      "hit10:0.8346735284657446\n",
      "mr:129.74032943407087\n",
      "mrr:0.6860494299962363\n"
     ]
    }
   ],
   "source": [
    "print(config.device)\n",
    "tester = Tester(\"/home/qiupp/codestore/ComplEX/modelFB/28.pkl\", loaddata, config)\n",
    "tester.test()"
   ]
  },
  {
   "cell_type": "code",
   "execution_count": null,
   "id": "27e196f4",
   "metadata": {},
   "outputs": [],
   "source": [
    "!nvidia-smi"
   ]
  },
  {
   "cell_type": "code",
   "execution_count": null,
   "id": "b291659c",
   "metadata": {},
   "outputs": [],
   "source": []
  }
 ],
 "metadata": {
  "kernelspec": {
   "display_name": "Python 3 (ipykernel)",
   "language": "python",
   "name": "python3"
  },
  "language_info": {
   "codemirror_mode": {
    "name": "ipython",
    "version": 3
   },
   "file_extension": ".py",
   "mimetype": "text/x-python",
   "name": "python",
   "nbconvert_exporter": "python",
   "pygments_lexer": "ipython3",
   "version": "3.8.12"
  }
 },
 "nbformat": 4,
 "nbformat_minor": 5
}
