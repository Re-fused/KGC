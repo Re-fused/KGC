{
 "cells": [
  {
   "cell_type": "code",
   "execution_count": 20,
   "id": "b92d1371",
   "metadata": {},
   "outputs": [],
   "source": [
    "import torch\n",
    "import torch.nn as nn\n",
    "\n",
    "\n",
    "class Congfig:\n",
    "    def __init__(self):\n",
    "        self.ent_num = 14541\n",
    "        self.rel_num = 237\n",
    "        self.epochs = 300\n",
    "        self.out_channels = 128\n",
    "        self.dim = 100\n",
    "        self.dropout_rate = 0.5\n",
    "        self.lambd = 0.1\n",
    "        self.learn_rate = 0.001\n",
    "        self.batch = 100\n",
    "        self.neg_num = 10\n"
   ]
  },
  {
   "cell_type": "code",
   "execution_count": 21,
   "id": "6713ec1f",
   "metadata": {},
   "outputs": [],
   "source": [
    "class ConvKB(nn.Module):\n",
    "    def __init__(self, config):\n",
    "        super(ConvKB,self).__init__()\n",
    "        self.config = config\n",
    "        self.device = device\n",
    "        #进行实体和关系embedding\n",
    "        self.ent_embeddings = nn.Embedding(config.ent_num, config.dim)\n",
    "        self.rel_embeddings = nn.Embedding(config.rel_num, config.dim)\n",
    "        self.bn_1 = nn.BatchNorm2d(1)\n",
    "        self.conv = nn.Conv2d(1, config.out_channels, (1, 3))#采用1x3的卷积核\n",
    "        self.bn_2 = nn.BatchNorm2d(self.config.out_channels)\n",
    "        self.dropout1 = nn.Dropout(0.5)\n",
    "        self.non_linearity = nn.ReLU()\n",
    "        #全连接层，将dim*out_channel数据进行线性变换\n",
    "        self.fc_layer1 = nn.Linear((config.dim)*config.out_channels,1)\n",
    "        #定义损失函数\n",
    "        self.criterion = nn.Softplus()\n",
    "        \n",
    "        #加载embedding的参数，如果没有则采用nn.init.xavier_uniform_方式进行初始化\n",
    "    def init(self, ent2vec, rel2vec):\n",
    "        self.ent_embeddings.weight.data.copy_(torch.from_numpy(ent2vec))\n",
    "        self.rel_embeddings.weight.data.copy_(torch.from_numpy(rel2vec))\n",
    "        nn.init.xavier_uniform_(self.fc_layer1.weight.data)\n",
    "        #nn.init.xavier_uniform_(self.fc_layer2.weight.data)\n",
    "        nn.init.xavier_uniform_(self.conv.weight.data)\n",
    "\n",
    "    \n",
    "    def _calc(self, h, r, t):\n",
    "        h = h.unsqueeze(1)#batch*1*dim\n",
    "        r = r.unsqueeze(1)\n",
    "        t = t.unsqueeze(1)\n",
    "        \n",
    "        conv_input = torch.cat([h, r, t], dim = 1)# batch*3*dim\n",
    "        #print(conv_input.shape)\n",
    "        conv_input = conv_input.transpose(1, 2)#batch*dim*3\n",
    "        conv_input = conv_input.unsqueeze(1)#batch*1*dim*3,增加维度1是因为CNN需要通道为1\n",
    "        out_conv = self.bn_1(conv_input)\n",
    "        out_conv = self.conv(out_conv)\n",
    "        out_conv = self.bn_2(out_conv)\n",
    "        out_conv = self.non_linearity(out_conv)\n",
    "        out_conv = out_conv.view(-1,(self.config.dim)*self.config.out_channels)\n",
    "        input_fc = self.dropout1(out_conv)\n",
    "        score = self.fc_layer1(input_fc)\n",
    "        score = score.squeeze(1)#注意这里，在调试时没有注意，导致训练出错，难以检测出来\n",
    "        return score\n",
    "    \n",
    "    def loss(self, score, regul, labels):\n",
    "        #损失函数，取反，使正列趋近于0，负例不断优化，逐渐变小\n",
    "        return torch.mean(self.criterion(-1*score*labels))+self.config.lambd*regul\n",
    "        \n",
    "    \n",
    "    def forward(self, h, r, t, labels):\n",
    "        h_embed = self.ent_embeddings(h)\n",
    "        r_embed = self.rel_embeddings(r)\n",
    "        t_embed = self.ent_embeddings(t)\n",
    "        \n",
    "        score = self._calc(h_embed, r_embed, t_embed)\n",
    "        \n",
    "        #正则化\n",
    "        l2_reg = torch.mean(h_embed**2) + torch.mean(r_embed**2) + torch.mean(t_embed**2)\n",
    "        \n",
    "        for W in self.conv.parameters():\n",
    "            l2_reg += W.norm(2)\n",
    "        for W in self.fc_layer1.parameters():\n",
    "            l2_reg += W.norm(2)\n",
    "        \n",
    "        return self.loss(score,l2_reg, labels)  \n",
    "    #预测函数，与_calc函数类似\n",
    "    def predict(self, h, r, t):\n",
    "        h_embed = self.ent_embeddings(h)\n",
    "        r_embed = self.rel_embeddings(r)\n",
    "        t_embed = self.ent_embeddings(t)\n",
    "        \n",
    "        \n",
    "        score = self._calc(h_embed, r_embed, t_embed)\n",
    "        return score.cpu().data.numpy()\n",
    "            \n",
    "        \n",
    "        \n",
    "        \n",
    "        "
   ]
  },
  {
   "cell_type": "code",
   "execution_count": 22,
   "id": "a3b2d2f5",
   "metadata": {},
   "outputs": [],
   "source": [
    "import numpy as np\n",
    "import random\n",
    "import torch\n",
    "import math\n",
    "\n",
    "class Dataset:\n",
    "    def __init__(self, ds_name):\n",
    "        self.name = ds_name\n",
    "        self.dir = \"/home/qiupp/codestore/ConvKB/benchmarks/\" + ds_name + \"/\"\n",
    "        self.ent2id = {}\n",
    "        self.rel2id = {}\n",
    "        self.read_ent_id()\n",
    "        self.read_rel_id()\n",
    "        #print(self.ent2id, len(self.rel2id))\n",
    "        self.data = {spl: self.read(self.dir + spl + \".txt\") for spl in [\"train2id\", \"valid2id\", \"test2id\"]}\n",
    "        self.batch_index = 0\n",
    "        self.ent2vec, self.rel2vec = self.read_init()\n",
    "       \n",
    "    def read(self, file_path):\n",
    "        with open(file_path, \"r\") as f:\n",
    "            lines = f.readlines()\n",
    "        \n",
    "        triples = np.zeros((len(lines), 3))\n",
    "        for i, line in enumerate(lines):\n",
    "            temp = line.strip().split()\n",
    "            #print(temp)\n",
    "            if len(temp) == 1 :\n",
    "                continue\n",
    "            #print(temp)\n",
    "            triples[i] = np.array(self.triple2ids(temp))\n",
    "        return triples\n",
    "    def read_init(self):\n",
    "        with open(self.dir+\"entity2vec100.init\", 'r') as f:\n",
    "            lines = f.readlines()\n",
    "        ent2vec = []\n",
    "        for line in lines:\n",
    "            ent2vec.append(line.strip().split())\n",
    "        ent2vec = np.array(ent2vec,dtype = np.float32)\n",
    "        with open(self.dir+\"relation2vec100.init\", 'r') as f:\n",
    "            lines = f.readlines()\n",
    "        rel2vec = []\n",
    "        for line in lines:\n",
    "            rel2vec.append(line.strip().split())\n",
    "        rel2vec = np.array(rel2vec, dtype = np.float32)\n",
    "        return ent2vec, rel2vec\n",
    "    \n",
    "    def num_ent(self):\n",
    "        return len(self.ent2id)\n",
    "    \n",
    "    def num_rel(self):\n",
    "        return len(self.rel2id)\n",
    "                     \n",
    "    def triple2ids(self, triple):\n",
    "        return [int(triple[0].strip()), int(triple[2].strip()), int(triple[1].strip())]\n",
    "      \n",
    "    def read_ent_id(self):\n",
    "        with open(self.dir + 'entity2id.txt', 'r')as f:\n",
    "            lines = f.readlines()\n",
    "        for line in lines:\n",
    "            temp = line.strip().split()\n",
    "            if len(temp) <= 1:\n",
    "                continue\n",
    "            self.ent2id[temp[0]] = int(temp[1])\n",
    "    \n",
    "    def read_rel_id(self):\n",
    "        with open(self.dir + 'relation2id.txt', 'r')as f:\n",
    "            lines = f.readlines()\n",
    "        for line in lines:\n",
    "            temp = line.strip().split()\n",
    "            if len(temp) <= 1:\n",
    "                continue\n",
    "            self.rel2id[temp[0]] = int(temp[1])\n",
    "    def rand_ent_except(self, ent):\n",
    "        rand_ent = random.randint(0, self.num_ent() - 1)\n",
    "        while(rand_ent == ent):\n",
    "            rand_ent = random.randint(0, self.num_ent() - 1)\n",
    "        return rand_ent\n",
    "                     \n",
    "    def next_pos_batch(self, batch_size):\n",
    "        if self.batch_index + batch_size < len(self.data[\"train2id\"]):\n",
    "            batch = self.data[\"train2id\"][self.batch_index: self.batch_index+batch_size]\n",
    "            self.batch_index += batch_size\n",
    "        else:\n",
    "            batch = self.data[\"train2id\"][self.batch_index:]\n",
    "            self.batch_index = 0\n",
    "        return np.append(batch, np.ones((len(batch), 1)), axis=1).astype(\"int\") #appending the +1 label\n",
    "                     \n",
    "    def generate_neg(self, pos_batch, neg_ratio):\n",
    "        neg_batch = np.repeat(np.copy(pos_batch), neg_ratio, axis=0)\n",
    "        for i in range(len(neg_batch)):\n",
    "            if random.random() < 0.5:\n",
    "                neg_batch[i][0] = self.rand_ent_except(neg_batch[i][0]) #flipping head\n",
    "            else:\n",
    "                neg_batch[i][2] = self.rand_ent_except(neg_batch[i][2]) #flipping tail\n",
    "        neg_batch[:,-1] = -1\n",
    "        return neg_batch\n",
    "\n",
    "    def next_batch(self, batch_size, neg_ratio, device):\n",
    "        pos_batch = self.next_pos_batch(batch_size)\n",
    "        neg_batch = self.generate_neg(pos_batch, neg_ratio)\n",
    "        batch = np.append(pos_batch, neg_batch, axis=0)\n",
    "        np.random.shuffle(batch)\n",
    "        heads  = torch.tensor(batch[:,0]).long().to(device)\n",
    "        rels   = torch.tensor(batch[:,1]).long().to(device)\n",
    "        tails  = torch.tensor(batch[:,2]).long().to(device)\n",
    "        labels = torch.tensor(batch[:,3]).long().to(device)\n",
    "        return heads, rels, tails, labels\n",
    "    \n",
    "    def was_last_batch(self):\n",
    "        return (self.batch_index == 0)\n",
    "\n",
    "    def num_batch(self, batch_size):\n",
    "        return int(math.ceil(float(len(self.data[\"train2id\"])) / batch_size))"
   ]
  },
  {
   "cell_type": "code",
   "execution_count": 23,
   "id": "755e14be",
   "metadata": {},
   "outputs": [
    {
     "name": "stdout",
     "output_type": "stream",
     "text": [
      "14541 237\n"
     ]
    }
   ],
   "source": [
    "datasets = Dataset(\"FB15K237\")\n",
    "device = torch.device('cuda:0' if torch.cuda.is_available() else 'cpu')\n",
    "#print(datasets.next_batch(10, 1, device))\n",
    "print(datasets.num_ent(), datasets.num_rel())\n",
    "config = Congfig()"
   ]
  },
  {
   "cell_type": "code",
   "execution_count": 24,
   "id": "8dce74a1",
   "metadata": {},
   "outputs": [],
   "source": [
    "import os\n",
    "from tqdm import tqdm\n",
    "class Trainer:\n",
    "    def __init__(self, datasets, config, device):\n",
    "        self.device = device\n",
    "        self.datasets = datasets\n",
    "        self.config = config\n",
    "        self.model = ConvKB(config).to(device)\n",
    "        self.model.init(datasets.ent2vec, datasets.rel2vec)\n",
    "    def train(self):\n",
    "        \n",
    "        opimizer = torch.optim.Adagrad(self.model.parameters(),\n",
    "                lr=self.config.learn_rate,\n",
    "                weight_decay = 0)\n",
    "        for epoch in tqdm(range(1, self.config.epochs+1)):\n",
    "            tot_loss = 0.0\n",
    "            lash_batch = False\n",
    "            \n",
    "            i = 0.0\n",
    "            while not lash_batch:\n",
    "                opimizer.zero_grad()\n",
    "                lash_batch = self.datasets.was_last_batch()\n",
    "                h, r, t, lables = self.datasets.next_batch(self.config.batch, self.config.neg_num, self.device)\n",
    "                #print(lables)\n",
    "                loss = self.model(h, r, t,lables)\n",
    "                loss.backward()\n",
    "                opimizer.step()\n",
    "                tot_loss += loss.cpu().item()\n",
    "                i += 1\n",
    "                if i % 500 == 0:\n",
    "                    print(loss.cpu().item())\n",
    "            print(\"第 \"+str(epoch)+\" 轮损失函数： \"+str(tot_loss))\n",
    "            if epoch % 50 == 0:\n",
    "                self.save_model(epoch)\n",
    "    def save_model(self, epoch):\n",
    "        directory = '/home/qiupp/codestore/ConvKB/models/'\n",
    "        if not os.path.exists(directory):\n",
    "            os.mkdir(directory)\n",
    "        torch.save(self.model, directory+str(epoch)+\".pkl\")\n",
    "\n",
    "        "
   ]
  },
  {
   "cell_type": "code",
   "execution_count": 25,
   "id": "44ddbbdc",
   "metadata": {},
   "outputs": [
    {
     "name": "stderr",
     "output_type": "stream",
     "text": [
      "\r",
      "  0%|                                                                         | 0/300 [00:00<?, ?it/s]"
     ]
    },
    {
     "name": "stdout",
     "output_type": "stream",
     "text": [
      "第 1 轮损失函数： 1.653429627418518\n",
      "0.6615503430366516\n",
      "0.6041750907897949\n",
      "0.5396155118942261\n",
      "0.4843931496143341\n",
      "0.4685586988925934\n"
     ]
    },
    {
     "name": "stderr",
     "output_type": "stream",
     "text": [
      "\r",
      "  1%|▍                                                                | 2/300 [00:20<50:18, 10.13s/it]"
     ]
    },
    {
     "name": "stdout",
     "output_type": "stream",
     "text": [
      "第 2 轮损失函数： 1565.7546453475952\n",
      "0.4328857362270355\n",
      "0.43700680136680603\n",
      "0.3965681493282318\n",
      "0.3782287538051605\n",
      "0.37099435925483704\n"
     ]
    },
    {
     "name": "stderr",
     "output_type": "stream",
     "text": [
      "\r",
      "  1%|▋                                                              | 3/300 [00:41<1:12:26, 14.63s/it]"
     ]
    },
    {
     "name": "stdout",
     "output_type": "stream",
     "text": [
      "第 3 轮损失函数： 1095.5925097763538\n",
      "0.3578563332557678\n",
      "0.3671465516090393\n",
      "0.34956249594688416\n",
      "0.337202250957489\n",
      "0.34353673458099365\n"
     ]
    },
    {
     "name": "stderr",
     "output_type": "stream",
     "text": [
      "\r",
      "  1%|▊                                                              | 4/300 [01:03<1:26:03, 17.45s/it]"
     ]
    },
    {
     "name": "stdout",
     "output_type": "stream",
     "text": [
      "第 4 轮损失函数： 954.311464369297\n",
      "0.3305646777153015\n",
      "0.3477289378643036\n",
      "0.31845295429229736\n",
      "0.3209487795829773\n",
      "0.3174670934677124\n"
     ]
    },
    {
     "name": "stderr",
     "output_type": "stream",
     "text": [
      "\r",
      "  2%|█                                                              | 5/300 [01:24<1:32:49, 18.88s/it]"
     ]
    },
    {
     "name": "stdout",
     "output_type": "stream",
     "text": [
      "第 5 轮损失函数： 879.4924072027206\n",
      "0.3040543496608734\n",
      "0.32065388560295105\n",
      "0.29579034447669983\n",
      "0.29543980956077576\n",
      "0.292237251996994\n"
     ]
    },
    {
     "name": "stderr",
     "output_type": "stream",
     "text": [
      "\r",
      "  2%|█▎                                                             | 6/300 [01:45<1:34:54, 19.37s/it]"
     ]
    },
    {
     "name": "stdout",
     "output_type": "stream",
     "text": [
      "第 6 轮损失函数： 818.5758870244026\n",
      "0.2850876748561859\n",
      "0.30273184180259705\n",
      "0.2800261974334717\n",
      "0.26782554388046265\n",
      "0.2751663029193878\n"
     ]
    },
    {
     "name": "stderr",
     "output_type": "stream",
     "text": [
      "\r",
      "  2%|█▍                                                             | 7/300 [02:05<1:36:06, 19.68s/it]"
     ]
    },
    {
     "name": "stdout",
     "output_type": "stream",
     "text": [
      "第 7 轮损失函数： 766.0166207551956\n",
      "0.26745396852493286\n",
      "0.28510841727256775\n",
      "0.2666012942790985\n",
      "0.26128289103507996\n",
      "0.2664511203765869\n"
     ]
    },
    {
     "name": "stderr",
     "output_type": "stream",
     "text": [
      "\r",
      "  3%|█▋                                                             | 8/300 [02:26<1:36:50, 19.90s/it]"
     ]
    },
    {
     "name": "stdout",
     "output_type": "stream",
     "text": [
      "第 8 轮损失函数： 719.2301075309515\n",
      "0.24875816702842712\n",
      "0.27151113748550415\n",
      "0.2556057274341583\n",
      "0.24222570657730103\n",
      "0.25112470984458923\n"
     ]
    },
    {
     "name": "stderr",
     "output_type": "stream",
     "text": [
      "\r",
      "  3%|█▉                                                             | 9/300 [02:46<1:38:03, 20.22s/it]"
     ]
    },
    {
     "name": "stdout",
     "output_type": "stream",
     "text": [
      "第 9 轮损失函数： 677.2215726822615\n",
      "0.2366700917482376\n",
      "0.24940311908721924\n",
      "0.23955950140953064\n",
      "0.2262229174375534\n",
      "0.23145008087158203\n"
     ]
    },
    {
     "name": "stderr",
     "output_type": "stream",
     "text": [
      "\r",
      "  3%|██                                                            | 10/300 [03:07<1:37:51, 20.25s/it]"
     ]
    },
    {
     "name": "stdout",
     "output_type": "stream",
     "text": [
      "第 10 轮损失函数： 638.6686208546162\n",
      "0.2317633330821991\n",
      "0.2443663477897644\n",
      "0.22508323192596436\n",
      "0.21924187242984772\n",
      "0.22066202759742737\n"
     ]
    },
    {
     "name": "stderr",
     "output_type": "stream",
     "text": [
      "\r",
      "  4%|██▎                                                           | 11/300 [03:27<1:37:37, 20.27s/it]"
     ]
    },
    {
     "name": "stdout",
     "output_type": "stream",
     "text": [
      "第 11 轮损失函数： 603.335382655263\n",
      "0.2068937122821808\n",
      "0.22769546508789062\n",
      "0.21340331435203552\n",
      "0.20647045969963074\n",
      "0.20738086104393005\n"
     ]
    },
    {
     "name": "stderr",
     "output_type": "stream",
     "text": [
      "\r",
      "  4%|██▍                                                           | 12/300 [03:48<1:37:49, 20.38s/it]"
     ]
    },
    {
     "name": "stdout",
     "output_type": "stream",
     "text": [
      "第 12 轮损失函数： 569.9808383733034\n",
      "0.19844135642051697\n",
      "0.21718451380729675\n",
      "0.19950446486473083\n",
      "0.19293901324272156\n",
      "0.1933055967092514\n"
     ]
    },
    {
     "name": "stderr",
     "output_type": "stream",
     "text": [
      "\r",
      "  4%|██▋                                                           | 13/300 [04:08<1:37:22, 20.36s/it]"
     ]
    },
    {
     "name": "stdout",
     "output_type": "stream",
     "text": [
      "第 13 轮损失函数： 539.4536796063185\n",
      "0.18822786211967468\n",
      "0.21638447046279907\n",
      "0.19347545504570007\n",
      "0.17436769604682922\n",
      "0.18842777609825134\n"
     ]
    },
    {
     "name": "stderr",
     "output_type": "stream",
     "text": [
      "\r",
      "  5%|██▉                                                           | 14/300 [04:28<1:37:03, 20.36s/it]"
     ]
    },
    {
     "name": "stdout",
     "output_type": "stream",
     "text": [
      "第 14 轮损失函数： 510.8810803294182\n",
      "0.17968222498893738\n",
      "0.19490410387516022\n",
      "0.18540306389331818\n",
      "0.17657402157783508\n",
      "0.1715240627527237\n"
     ]
    },
    {
     "name": "stderr",
     "output_type": "stream",
     "text": [
      "\r",
      "  5%|███                                                           | 15/300 [04:49<1:36:28, 20.31s/it]"
     ]
    },
    {
     "name": "stdout",
     "output_type": "stream",
     "text": [
      "第 15 轮损失函数： 484.12395426630974\n",
      "0.17194339632987976\n",
      "0.1925147920846939\n",
      "0.17106413841247559\n",
      "0.15945756435394287\n",
      "0.1711742877960205\n"
     ]
    },
    {
     "name": "stderr",
     "output_type": "stream",
     "text": [
      "\r",
      "  5%|███▎                                                          | 16/300 [05:09<1:35:40, 20.21s/it]"
     ]
    },
    {
     "name": "stdout",
     "output_type": "stream",
     "text": [
      "第 16 轮损失函数： 458.4781853556633\n",
      "0.16537690162658691\n",
      "0.17866362631320953\n",
      "0.15177983045578003\n",
      "0.15064656734466553\n",
      "0.15311871469020844\n"
     ]
    },
    {
     "name": "stderr",
     "output_type": "stream",
     "text": [
      "\r",
      "  6%|███▌                                                          | 17/300 [05:30<1:37:43, 20.72s/it]"
     ]
    },
    {
     "name": "stdout",
     "output_type": "stream",
     "text": [
      "第 17 轮损失函数： 434.82464338839054\n",
      "0.1564934104681015\n",
      "0.17332430183887482\n",
      "0.15955644845962524\n",
      "0.13992464542388916\n",
      "0.14809870719909668\n"
     ]
    },
    {
     "name": "stderr",
     "output_type": "stream",
     "text": [
      "\r",
      "  6%|███▋                                                          | 18/300 [05:51<1:36:50, 20.60s/it]"
     ]
    },
    {
     "name": "stdout",
     "output_type": "stream",
     "text": [
      "第 18 轮损失函数： 412.67240492999554\n",
      "0.14501531422138214\n",
      "0.17739546298980713\n",
      "0.15006515383720398\n",
      "0.13665582239627838\n",
      "0.13985785841941833\n"
     ]
    },
    {
     "name": "stderr",
     "output_type": "stream",
     "text": [
      "\r",
      "  6%|███▉                                                          | 19/300 [06:11<1:36:03, 20.51s/it]"
     ]
    },
    {
     "name": "stdout",
     "output_type": "stream",
     "text": [
      "第 19 轮损失函数： 391.36832934617996\n",
      "0.13337945938110352\n",
      "0.1557023823261261\n",
      "0.13188786804676056\n",
      "0.13428989052772522\n",
      "0.13541856408119202\n"
     ]
    },
    {
     "name": "stderr",
     "output_type": "stream",
     "text": [
      "\r",
      "  7%|████▏                                                         | 20/300 [06:31<1:35:25, 20.45s/it]"
     ]
    },
    {
     "name": "stdout",
     "output_type": "stream",
     "text": [
      "第 20 轮损失函数： 371.5791689530015\n",
      "0.12987017631530762\n",
      "0.14892545342445374\n",
      "0.13188716769218445\n",
      "0.12080056965351105\n",
      "0.12793868780136108\n"
     ]
    },
    {
     "name": "stderr",
     "output_type": "stream",
     "text": [
      "\r",
      "  7%|████▎                                                         | 21/300 [06:53<1:36:59, 20.86s/it]"
     ]
    },
    {
     "name": "stdout",
     "output_type": "stream",
     "text": [
      "第 21 轮损失函数： 352.7600816115737\n",
      "0.12018640339374542\n",
      "0.14352577924728394\n",
      "0.1207919716835022\n",
      "0.11407230794429779\n",
      "0.1264887899160385\n"
     ]
    },
    {
     "name": "stderr",
     "output_type": "stream",
     "text": [
      "\r",
      "  7%|████▌                                                         | 22/300 [07:14<1:36:00, 20.72s/it]"
     ]
    },
    {
     "name": "stdout",
     "output_type": "stream",
     "text": [
      "第 22 轮损失函数： 335.403764590621\n",
      "0.12140201032161713\n",
      "0.1429307907819748\n",
      "0.12057933956384659\n",
      "0.10929584503173828\n",
      "0.12499828636646271\n"
     ]
    },
    {
     "name": "stderr",
     "output_type": "stream",
     "text": [
      "\r",
      "  8%|████▊                                                         | 23/300 [07:34<1:35:11, 20.62s/it]"
     ]
    },
    {
     "name": "stdout",
     "output_type": "stream",
     "text": [
      "第 23 轮损失函数： 318.9243995696306\n",
      "0.10770583152770996\n",
      "0.13074490427970886\n",
      "0.11961433291435242\n",
      "0.10318632423877716\n",
      "0.10922836512327194\n"
     ]
    },
    {
     "name": "stderr",
     "output_type": "stream",
     "text": [
      "\r",
      "  8%|████▉                                                         | 24/300 [07:54<1:34:32, 20.55s/it]"
     ]
    },
    {
     "name": "stdout",
     "output_type": "stream",
     "text": [
      "第 24 轮损失函数： 304.10255581885576\n",
      "0.11103992909193039\n",
      "0.12695027887821198\n",
      "0.1074419766664505\n",
      "0.10386906564235687\n",
      "0.11553789675235748\n"
     ]
    },
    {
     "name": "stderr",
     "output_type": "stream",
     "text": [
      "\r",
      "  8%|█████▏                                                        | 25/300 [08:15<1:33:58, 20.50s/it]"
     ]
    },
    {
     "name": "stdout",
     "output_type": "stream",
     "text": [
      "第 25 轮损失函数： 295.7923785150051\n",
      "0.10524386167526245\n",
      "0.12412034720182419\n",
      "0.11278532445430756\n",
      "0.09869696944952011\n",
      "0.10683102905750275\n"
     ]
    },
    {
     "name": "stderr",
     "output_type": "stream",
     "text": [
      "\r",
      "  9%|█████▎                                                        | 26/300 [08:35<1:33:54, 20.56s/it]"
     ]
    },
    {
     "name": "stdout",
     "output_type": "stream",
     "text": [
      "第 26 轮损失函数： 294.3034431710839\n",
      "0.09991666674613953\n",
      "0.13176321983337402\n",
      "0.11437761038541794\n",
      "0.10646121203899384\n",
      "0.10975794494152069\n"
     ]
    },
    {
     "name": "stderr",
     "output_type": "stream",
     "text": [
      "\r",
      "  9%|█████▌                                                        | 27/300 [08:56<1:34:08, 20.69s/it]"
     ]
    },
    {
     "name": "stdout",
     "output_type": "stream",
     "text": [
      "第 27 轮损失函数： 293.45266246050596\n",
      "0.10389730334281921\n",
      "0.13471776247024536\n",
      "0.1138518899679184\n",
      "0.10506747663021088\n",
      "0.11505953222513199\n"
     ]
    },
    {
     "name": "stderr",
     "output_type": "stream",
     "text": [
      "\r",
      "  9%|█████▊                                                        | 28/300 [09:19<1:36:36, 21.31s/it]"
     ]
    },
    {
     "name": "stdout",
     "output_type": "stream",
     "text": [
      "第 28 轮损失函数： 292.835095025599\n",
      "0.10137206315994263\n",
      "0.12920908629894257\n",
      "0.10882768779993057\n",
      "0.10028555989265442\n",
      "0.10290780663490295\n"
     ]
    },
    {
     "name": "stderr",
     "output_type": "stream",
     "text": [
      "\r",
      " 10%|█████▉                                                        | 29/300 [09:41<1:36:43, 21.42s/it]"
     ]
    },
    {
     "name": "stdout",
     "output_type": "stream",
     "text": [
      "第 29 轮损失函数： 291.5184291154146\n",
      "0.09703342616558075\n",
      "0.12564054131507874\n",
      "0.1092122346162796\n",
      "0.09433808922767639\n",
      "0.10974195599555969\n"
     ]
    },
    {
     "name": "stderr",
     "output_type": "stream",
     "text": [
      "\r",
      " 10%|██████▏                                                       | 30/300 [10:02<1:35:18, 21.18s/it]"
     ]
    },
    {
     "name": "stdout",
     "output_type": "stream",
     "text": [
      "第 30 轮损失函数： 290.82282865047455\n",
      "0.09886381030082703\n",
      "0.12722063064575195\n",
      "0.1060551181435585\n",
      "0.1013062596321106\n",
      "0.1131397932767868\n"
     ]
    },
    {
     "name": "stderr",
     "output_type": "stream",
     "text": [
      "\r",
      " 10%|██████▍                                                       | 31/300 [10:24<1:37:19, 21.71s/it]"
     ]
    },
    {
     "name": "stdout",
     "output_type": "stream",
     "text": [
      "第 31 轮损失函数： 289.5166440755129\n",
      "0.10336101800203323\n",
      "0.12963953614234924\n",
      "0.10868525505065918\n",
      "0.10323440283536911\n",
      "0.11182480305433273\n"
     ]
    },
    {
     "name": "stderr",
     "output_type": "stream",
     "text": [
      "\r",
      " 11%|██████▌                                                       | 32/300 [10:46<1:36:54, 21.70s/it]"
     ]
    },
    {
     "name": "stdout",
     "output_type": "stream",
     "text": [
      "第 32 轮损失函数： 288.919181086123\n",
      "0.0995769277215004\n",
      "0.12738260626792908\n",
      "0.1110198050737381\n",
      "0.10391490161418915\n",
      "0.10184113681316376\n"
     ]
    },
    {
     "name": "stderr",
     "output_type": "stream",
     "text": [
      "\r",
      " 11%|██████▊                                                       | 33/300 [11:06<1:34:41, 21.28s/it]"
     ]
    },
    {
     "name": "stdout",
     "output_type": "stream",
     "text": [
      "第 33 轮损失函数： 288.2668679431081\n",
      "0.09468598663806915\n",
      "0.12003867328166962\n",
      "0.11706452071666718\n",
      "0.10514234006404877\n",
      "0.10816654562950134\n"
     ]
    },
    {
     "name": "stderr",
     "output_type": "stream",
     "text": [
      "\r",
      " 11%|███████                                                       | 34/300 [11:27<1:32:56, 20.96s/it]"
     ]
    },
    {
     "name": "stdout",
     "output_type": "stream",
     "text": [
      "第 34 轮损失函数： 287.12335305660963\n",
      "0.10252141952514648\n",
      "0.1222650557756424\n",
      "0.10689534991979599\n",
      "0.09936222434043884\n",
      "0.10757620632648468\n"
     ]
    },
    {
     "name": "stderr",
     "output_type": "stream",
     "text": [
      "\r",
      " 12%|███████▏                                                      | 35/300 [11:45<1:29:21, 20.23s/it]"
     ]
    },
    {
     "name": "stdout",
     "output_type": "stream",
     "text": [
      "第 35 轮损失函数： 286.74196826666594\n",
      "0.10437966883182526\n",
      "0.12898927927017212\n",
      "0.10638287663459778\n",
      "0.1047707349061966\n",
      "0.10781769454479218\n"
     ]
    },
    {
     "name": "stderr",
     "output_type": "stream",
     "text": [
      "\r",
      " 12%|███████▍                                                      | 36/300 [12:05<1:29:05, 20.25s/it]"
     ]
    },
    {
     "name": "stdout",
     "output_type": "stream",
     "text": [
      "第 36 轮损失函数： 286.0250238403678\n",
      "0.11038917303085327\n",
      "0.13155701756477356\n",
      "0.11015573143959045\n",
      "0.10724329948425293\n",
      "0.10485532134771347\n"
     ]
    },
    {
     "name": "stderr",
     "output_type": "stream",
     "text": [
      "\r",
      " 12%|███████▋                                                      | 37/300 [12:26<1:28:44, 20.25s/it]"
     ]
    },
    {
     "name": "stdout",
     "output_type": "stream",
     "text": [
      "第 37 轮损失函数： 285.0665283575654\n",
      "0.09707623720169067\n",
      "0.1231774389743805\n",
      "0.10715527832508087\n",
      "0.10563470423221588\n",
      "0.1040477305650711\n"
     ]
    },
    {
     "name": "stderr",
     "output_type": "stream",
     "text": [
      "\r",
      " 13%|███████▊                                                      | 38/300 [12:46<1:28:36, 20.29s/it]"
     ]
    },
    {
     "name": "stdout",
     "output_type": "stream",
     "text": [
      "第 38 轮损失函数： 284.40259202569723\n",
      "0.10346680879592896\n",
      "0.12587624788284302\n",
      "0.11230216920375824\n",
      "0.09821105003356934\n",
      "0.10451366007328033\n"
     ]
    },
    {
     "name": "stderr",
     "output_type": "stream",
     "text": [
      "\r",
      " 13%|████████                                                      | 39/300 [13:06<1:28:16, 20.29s/it]"
     ]
    },
    {
     "name": "stdout",
     "output_type": "stream",
     "text": [
      "第 39 轮损失函数： 283.50767316669226\n",
      "0.10472000390291214\n",
      "0.12834681570529938\n",
      "0.09575598686933517\n",
      "0.09770798683166504\n",
      "0.10865214467048645\n"
     ]
    },
    {
     "name": "stderr",
     "output_type": "stream",
     "text": [
      "\r",
      " 13%|████████▎                                                     | 40/300 [13:27<1:27:54, 20.29s/it]"
     ]
    },
    {
     "name": "stdout",
     "output_type": "stream",
     "text": [
      "第 40 轮损失函数： 283.322349332273\n",
      "0.10160647332668304\n",
      "0.13104462623596191\n",
      "0.10723848640918732\n",
      "0.104027658700943\n",
      "0.11226609349250793\n"
     ]
    },
    {
     "name": "stderr",
     "output_type": "stream",
     "text": [
      "\r",
      " 14%|████████▍                                                     | 41/300 [13:47<1:27:35, 20.29s/it]"
     ]
    },
    {
     "name": "stdout",
     "output_type": "stream",
     "text": [
      "第 41 轮损失函数： 282.9292049482465\n",
      "0.10259672999382019\n",
      "0.1177576333284378\n",
      "0.10992931574583054\n",
      "0.09861645847558975\n",
      "0.10533512383699417\n"
     ]
    },
    {
     "name": "stderr",
     "output_type": "stream",
     "text": [
      "\r",
      " 14%|████████▋                                                     | 42/300 [14:07<1:27:13, 20.28s/it]"
     ]
    },
    {
     "name": "stdout",
     "output_type": "stream",
     "text": [
      "第 42 轮损失函数： 281.9480560570955\n",
      "0.11016490310430527\n",
      "0.12694713473320007\n",
      "0.10920080542564392\n",
      "0.0954713523387909\n",
      "0.10565294325351715\n"
     ]
    },
    {
     "name": "stderr",
     "output_type": "stream",
     "text": [
      "\r",
      " 14%|████████▉                                                     | 43/300 [14:28<1:26:59, 20.31s/it]"
     ]
    },
    {
     "name": "stdout",
     "output_type": "stream",
     "text": [
      "第 43 轮损失函数： 281.283450871706\n",
      "0.09689032286405563\n",
      "0.11904866993427277\n",
      "0.10234840214252472\n",
      "0.09753914177417755\n",
      "0.10971929132938385\n"
     ]
    },
    {
     "name": "stderr",
     "output_type": "stream",
     "text": [
      "\r",
      " 15%|█████████                                                     | 44/300 [14:48<1:26:41, 20.32s/it]"
     ]
    },
    {
     "name": "stdout",
     "output_type": "stream",
     "text": [
      "第 44 轮损失函数： 280.6579187884927\n",
      "0.09985246509313583\n",
      "0.121548131108284\n",
      "0.11058349907398224\n",
      "0.09950368106365204\n",
      "0.1099952757358551\n"
     ]
    },
    {
     "name": "stderr",
     "output_type": "stream",
     "text": [
      "\r",
      " 15%|█████████▎                                                    | 45/300 [15:09<1:26:42, 20.40s/it]"
     ]
    },
    {
     "name": "stdout",
     "output_type": "stream",
     "text": [
      "第 45 轮损失函数： 280.0575193166733\n",
      "0.09528122842311859\n",
      "0.11929462850093842\n",
      "0.10449393093585968\n",
      "0.10221516340970993\n",
      "0.10640934109687805\n"
     ]
    },
    {
     "name": "stderr",
     "output_type": "stream",
     "text": [
      "\r",
      " 15%|█████████▌                                                    | 46/300 [15:29<1:26:10, 20.36s/it]"
     ]
    },
    {
     "name": "stdout",
     "output_type": "stream",
     "text": [
      "第 46 轮损失函数： 279.6513724401593\n",
      "0.10496696829795837\n",
      "0.11853133141994476\n",
      "0.10483716428279877\n",
      "0.10196591913700104\n",
      "0.1010657399892807\n"
     ]
    },
    {
     "name": "stderr",
     "output_type": "stream",
     "text": [
      "\r",
      " 16%|█████████▋                                                    | 47/300 [15:49<1:26:00, 20.40s/it]"
     ]
    },
    {
     "name": "stdout",
     "output_type": "stream",
     "text": [
      "第 47 轮损失函数： 278.9210627451539\n",
      "0.09933361411094666\n",
      "0.12118756026029587\n",
      "0.09939587116241455\n",
      "0.09940673410892487\n",
      "0.10420477390289307\n"
     ]
    },
    {
     "name": "stderr",
     "output_type": "stream",
     "text": [
      "\r",
      " 16%|█████████▉                                                    | 48/300 [16:09<1:25:25, 20.34s/it]"
     ]
    },
    {
     "name": "stdout",
     "output_type": "stream",
     "text": [
      "第 48 轮损失函数： 278.00352770090103\n",
      "0.09217596054077148\n",
      "0.11867956072092056\n",
      "0.11728180944919586\n",
      "0.1008424311876297\n",
      "0.10660243034362793\n"
     ]
    },
    {
     "name": "stderr",
     "output_type": "stream",
     "text": [
      "\r",
      " 16%|██████████▏                                                   | 49/300 [16:30<1:24:58, 20.31s/it]"
     ]
    },
    {
     "name": "stdout",
     "output_type": "stream",
     "text": [
      "第 49 轮损失函数： 278.31646905094385\n",
      "0.09829330444335938\n",
      "0.12636695802211761\n",
      "0.10978706181049347\n",
      "0.09382408112287521\n",
      "0.11103665828704834\n"
     ]
    },
    {
     "name": "stderr",
     "output_type": "stream",
     "text": [
      "\r",
      " 17%|██████████▎                                                   | 50/300 [16:51<1:26:07, 20.67s/it]"
     ]
    },
    {
     "name": "stdout",
     "output_type": "stream",
     "text": [
      "第 50 轮损失函数： 277.496533498168\n",
      "0.09680593013763428\n",
      "0.12370766699314117\n",
      "0.09543579816818237\n",
      "0.08969639241695404\n",
      "0.11129854619503021\n"
     ]
    },
    {
     "name": "stderr",
     "output_type": "stream",
     "text": [
      "\r",
      " 17%|██████████▌                                                   | 51/300 [17:12<1:25:30, 20.60s/it]"
     ]
    },
    {
     "name": "stdout",
     "output_type": "stream",
     "text": [
      "第 51 轮损失函数： 276.89216519892216\n",
      "0.09518751502037048\n",
      "0.11692646145820618\n",
      "0.09300497174263\n",
      "0.09735904633998871\n",
      "0.09916998445987701\n"
     ]
    },
    {
     "name": "stderr",
     "output_type": "stream",
     "text": [
      "\r",
      " 17%|██████████▋                                                   | 52/300 [17:32<1:24:45, 20.51s/it]"
     ]
    },
    {
     "name": "stdout",
     "output_type": "stream",
     "text": [
      "第 52 轮损失函数： 276.2733377367258\n",
      "0.09349912405014038\n",
      "0.12825331091880798\n",
      "0.09831813722848892\n",
      "0.10402965545654297\n",
      "0.10495324432849884\n"
     ]
    },
    {
     "name": "stderr",
     "output_type": "stream",
     "text": [
      "\r",
      " 18%|██████████▉                                                   | 53/300 [17:52<1:24:07, 20.44s/it]"
     ]
    },
    {
     "name": "stdout",
     "output_type": "stream",
     "text": [
      "第 53 轮损失函数： 275.47623585164547\n",
      "0.1048632487654686\n",
      "0.1280009150505066\n",
      "0.10638311505317688\n",
      "0.1013125330209732\n",
      "0.10169847309589386\n"
     ]
    },
    {
     "name": "stderr",
     "output_type": "stream",
     "text": [
      "\r",
      " 18%|███████████▏                                                  | 54/300 [18:13<1:23:37, 20.40s/it]"
     ]
    },
    {
     "name": "stdout",
     "output_type": "stream",
     "text": [
      "第 54 轮损失函数： 275.3983734101057\n",
      "0.10835259407758713\n",
      "0.11512096226215363\n",
      "0.10889717936515808\n",
      "0.09373462200164795\n",
      "0.10769093036651611\n"
     ]
    },
    {
     "name": "stderr",
     "output_type": "stream",
     "text": [
      "\r",
      " 18%|███████████▎                                                  | 55/300 [18:33<1:23:08, 20.36s/it]"
     ]
    },
    {
     "name": "stdout",
     "output_type": "stream",
     "text": [
      "第 55 轮损失函数： 274.56567035615444\n",
      "0.09828647971153259\n",
      "0.13256625831127167\n",
      "0.10355742275714874\n",
      "0.09855452179908752\n",
      "0.10630044341087341\n"
     ]
    },
    {
     "name": "stderr",
     "output_type": "stream",
     "text": [
      "\r",
      " 19%|███████████▌                                                  | 56/300 [18:54<1:23:14, 20.47s/it]"
     ]
    },
    {
     "name": "stdout",
     "output_type": "stream",
     "text": [
      "第 56 轮损失函数： 274.1209234073758\n",
      "0.09468932449817657\n",
      "0.11667139828205109\n",
      "0.0997915267944336\n",
      "0.10214951634407043\n",
      "0.10239984095096588\n"
     ]
    },
    {
     "name": "stderr",
     "output_type": "stream",
     "text": [
      "\r",
      " 19%|███████████▊                                                  | 57/300 [19:16<1:25:01, 20.99s/it]"
     ]
    },
    {
     "name": "stdout",
     "output_type": "stream",
     "text": [
      "第 57 轮损失函数： 274.0894309952855\n",
      "0.09960518032312393\n",
      "0.10878034681081772\n",
      "0.10456803441047668\n",
      "0.09524410963058472\n",
      "0.1091993898153305\n"
     ]
    },
    {
     "name": "stderr",
     "output_type": "stream",
     "text": [
      "\r",
      " 19%|███████████▉                                                  | 58/300 [19:36<1:23:43, 20.76s/it]"
     ]
    },
    {
     "name": "stdout",
     "output_type": "stream",
     "text": [
      "第 58 轮损失函数： 273.444084957242\n",
      "0.09336146712303162\n",
      "0.12586572766304016\n",
      "0.10930527746677399\n",
      "0.09369678795337677\n",
      "0.10163891315460205\n"
     ]
    },
    {
     "name": "stderr",
     "output_type": "stream",
     "text": [
      "\r",
      " 20%|████████████▏                                                 | 59/300 [19:56<1:22:42, 20.59s/it]"
     ]
    },
    {
     "name": "stdout",
     "output_type": "stream",
     "text": [
      "第 59 轮损失函数： 272.9976966679096\n",
      "0.09735383093357086\n",
      "0.12882393598556519\n",
      "0.10181751847267151\n",
      "0.09315824508666992\n",
      "0.09891057014465332\n"
     ]
    },
    {
     "name": "stderr",
     "output_type": "stream",
     "text": [
      "\r",
      " 20%|████████████▍                                                 | 60/300 [20:16<1:21:58, 20.49s/it]"
     ]
    },
    {
     "name": "stdout",
     "output_type": "stream",
     "text": [
      "第 60 轮损失函数： 272.2914913892746\n",
      "0.09862750768661499\n",
      "0.10818056017160416\n",
      "0.10415317118167877\n",
      "0.10184216499328613\n",
      "0.10343222320079803\n"
     ]
    },
    {
     "name": "stderr",
     "output_type": "stream",
     "text": [
      "\r",
      " 20%|████████████▌                                                 | 61/300 [20:37<1:22:02, 20.60s/it]"
     ]
    },
    {
     "name": "stdout",
     "output_type": "stream",
     "text": [
      "第 61 轮损失函数： 272.28922387957573\n",
      "0.09570174664258957\n",
      "0.11789507418870926\n",
      "0.10262979567050934\n",
      "0.09293714165687561\n",
      "0.10409192740917206\n"
     ]
    },
    {
     "name": "stderr",
     "output_type": "stream",
     "text": [
      "\r",
      " 21%|████████████▊                                                 | 62/300 [20:58<1:22:02, 20.68s/it]"
     ]
    },
    {
     "name": "stdout",
     "output_type": "stream",
     "text": [
      "第 62 轮损失函数： 272.02998618781567\n",
      "0.09384417533874512\n",
      "0.10849571228027344\n",
      "0.09613169729709625\n",
      "0.09684887528419495\n",
      "0.09810972213745117\n"
     ]
    },
    {
     "name": "stderr",
     "output_type": "stream",
     "text": [
      "\r",
      " 21%|█████████████                                                 | 63/300 [21:18<1:21:06, 20.54s/it]"
     ]
    },
    {
     "name": "stdout",
     "output_type": "stream",
     "text": [
      "第 63 轮损失函数： 270.93389455229044\n",
      "0.09486040472984314\n",
      "0.11745958030223846\n",
      "0.10141386836767197\n",
      "0.10178135335445404\n",
      "0.10473456978797913\n"
     ]
    },
    {
     "name": "stderr",
     "output_type": "stream",
     "text": [
      "\r",
      " 21%|█████████████▏                                                | 64/300 [21:39<1:21:16, 20.66s/it]"
     ]
    },
    {
     "name": "stdout",
     "output_type": "stream",
     "text": [
      "第 64 轮损失函数： 269.9820912107825\n",
      "0.0923631340265274\n",
      "0.11828005313873291\n",
      "0.11011289060115814\n",
      "0.09762774407863617\n",
      "0.09638853371143341\n"
     ]
    },
    {
     "name": "stderr",
     "output_type": "stream",
     "text": [
      "\r",
      " 22%|█████████████▍                                                | 65/300 [22:00<1:20:59, 20.68s/it]"
     ]
    },
    {
     "name": "stdout",
     "output_type": "stream",
     "text": [
      "第 65 轮损失函数： 270.704716399312\n",
      "0.09911416471004486\n",
      "0.11360512673854828\n",
      "0.09563881903886795\n",
      "0.09938588738441467\n",
      "0.1064055785536766\n"
     ]
    },
    {
     "name": "stderr",
     "output_type": "stream",
     "text": [
      "\r",
      " 22%|█████████████▋                                                | 66/300 [22:21<1:21:00, 20.77s/it]"
     ]
    },
    {
     "name": "stdout",
     "output_type": "stream",
     "text": [
      "第 66 轮损失函数： 269.84009832143784\n",
      "0.08940158784389496\n",
      "0.12052087485790253\n",
      "0.1023513674736023\n",
      "0.09267079085111618\n",
      "0.10496817529201508\n"
     ]
    },
    {
     "name": "stderr",
     "output_type": "stream",
     "text": [
      "\r",
      " 22%|█████████████▊                                                | 67/300 [22:47<1:26:55, 22.38s/it]"
     ]
    },
    {
     "name": "stdout",
     "output_type": "stream",
     "text": [
      "第 67 轮损失函数： 269.51467118412256\n",
      "0.09698818624019623\n",
      "0.10893520712852478\n",
      "0.09113774448633194\n",
      "0.09272587299346924\n",
      "0.10756655037403107\n"
     ]
    },
    {
     "name": "stderr",
     "output_type": "stream",
     "text": [
      "\r",
      " 23%|██████████████                                                | 68/300 [23:10<1:26:47, 22.45s/it]"
     ]
    },
    {
     "name": "stdout",
     "output_type": "stream",
     "text": [
      "第 68 轮损失函数： 268.7276887372136\n",
      "0.10338129103183746\n",
      "0.11527971923351288\n",
      "0.10452167689800262\n",
      "0.09076742082834244\n",
      "0.10768717527389526\n"
     ]
    },
    {
     "name": "stderr",
     "output_type": "stream",
     "text": [
      "\r",
      " 23%|██████████████▎                                               | 69/300 [23:33<1:27:01, 22.60s/it]"
     ]
    },
    {
     "name": "stdout",
     "output_type": "stream",
     "text": [
      "第 69 轮损失函数： 268.5734332948923\n",
      "0.09619319438934326\n",
      "0.10746946930885315\n",
      "0.1056988537311554\n",
      "0.0947381854057312\n",
      "0.09634257853031158\n"
     ]
    },
    {
     "name": "stderr",
     "output_type": "stream",
     "text": [
      "\r",
      " 23%|██████████████▍                                               | 70/300 [23:56<1:26:58, 22.69s/it]"
     ]
    },
    {
     "name": "stdout",
     "output_type": "stream",
     "text": [
      "第 70 轮损失函数： 268.6279411017895\n",
      "0.10075417160987854\n",
      "0.12108492851257324\n",
      "0.09894951432943344\n",
      "0.10809731483459473\n",
      "0.10512302815914154\n"
     ]
    },
    {
     "name": "stderr",
     "output_type": "stream",
     "text": [
      "\r",
      " 24%|██████████████▋                                               | 71/300 [24:17<1:25:24, 22.38s/it]"
     ]
    },
    {
     "name": "stdout",
     "output_type": "stream",
     "text": [
      "第 71 轮损失函数： 267.96698892861605\n",
      "0.09077292680740356\n",
      "0.11456441879272461\n",
      "0.09709980338811874\n",
      "0.09933535754680634\n",
      "0.09627225995063782\n"
     ]
    },
    {
     "name": "stderr",
     "output_type": "stream",
     "text": [
      "\r",
      " 24%|██████████████▉                                               | 72/300 [24:38<1:23:36, 22.00s/it]"
     ]
    },
    {
     "name": "stdout",
     "output_type": "stream",
     "text": [
      "第 72 轮损失函数： 267.85623551160097\n",
      "0.09399713575839996\n",
      "0.12603691220283508\n",
      "0.1042400449514389\n",
      "0.0952296331524849\n",
      "0.10498641431331635\n"
     ]
    },
    {
     "name": "stderr",
     "output_type": "stream",
     "text": [
      "\r",
      " 24%|███████████████                                               | 73/300 [25:00<1:23:06, 21.97s/it]"
     ]
    },
    {
     "name": "stdout",
     "output_type": "stream",
     "text": [
      "第 73 轮损失函数： 267.5663255676627\n",
      "0.09707412123680115\n",
      "0.11364766955375671\n",
      "0.10683350265026093\n",
      "0.09139062464237213\n",
      "0.11037500202655792\n"
     ]
    },
    {
     "name": "stderr",
     "output_type": "stream",
     "text": [
      "\r",
      " 25%|███████████████▎                                              | 74/300 [25:21<1:21:08, 21.54s/it]"
     ]
    },
    {
     "name": "stdout",
     "output_type": "stream",
     "text": [
      "第 74 轮损失函数： 266.82603027671576\n",
      "0.09148041903972626\n",
      "0.12058311700820923\n",
      "0.09894242882728577\n",
      "0.09799756109714508\n",
      "0.10282278060913086\n"
     ]
    },
    {
     "name": "stderr",
     "output_type": "stream",
     "text": [
      "\r",
      " 25%|███████████████▌                                              | 75/300 [25:41<1:19:36, 21.23s/it]"
     ]
    },
    {
     "name": "stdout",
     "output_type": "stream",
     "text": [
      "第 75 轮损失函数： 266.64386992901564\n",
      "0.09359736740589142\n",
      "0.11527743935585022\n",
      "0.09609419107437134\n",
      "0.09783537685871124\n",
      "0.10930955410003662\n"
     ]
    },
    {
     "name": "stderr",
     "output_type": "stream",
     "text": [
      "\r",
      " 25%|███████████████▋                                              | 76/300 [26:02<1:18:09, 20.93s/it]"
     ]
    },
    {
     "name": "stdout",
     "output_type": "stream",
     "text": [
      "第 76 轮损失函数： 265.849991992116\n",
      "0.09647592902183533\n",
      "0.11563169956207275\n",
      "0.09485708922147751\n",
      "0.09773961454629898\n",
      "0.10316702723503113\n"
     ]
    },
    {
     "name": "stderr",
     "output_type": "stream",
     "text": [
      "\r",
      " 26%|███████████████▉                                              | 77/300 [26:22<1:17:00, 20.72s/it]"
     ]
    },
    {
     "name": "stdout",
     "output_type": "stream",
     "text": [
      "第 77 轮损失函数： 265.7098351493478\n",
      "0.08927518129348755\n",
      "0.12800492346286774\n",
      "0.10084664821624756\n",
      "0.09058861434459686\n",
      "0.1030270904302597\n"
     ]
    },
    {
     "name": "stderr",
     "output_type": "stream",
     "text": [
      "\r",
      " 26%|████████████████                                              | 78/300 [26:42<1:16:07, 20.57s/it]"
     ]
    },
    {
     "name": "stdout",
     "output_type": "stream",
     "text": [
      "第 78 轮损失函数： 265.8922053053975\n",
      "0.09373690187931061\n",
      "0.12089775502681732\n",
      "0.09629470109939575\n",
      "0.09283842146396637\n",
      "0.10007080435752869\n"
     ]
    },
    {
     "name": "stderr",
     "output_type": "stream",
     "text": [
      "\r",
      " 26%|████████████████▎                                             | 79/300 [27:02<1:15:11, 20.41s/it]"
     ]
    },
    {
     "name": "stdout",
     "output_type": "stream",
     "text": [
      "第 79 轮损失函数： 265.35203306376934\n",
      "0.10202869027853012\n",
      "0.12617933750152588\n",
      "0.09426344931125641\n",
      "0.0964142456650734\n",
      "0.10362830013036728\n"
     ]
    },
    {
     "name": "stderr",
     "output_type": "stream",
     "text": [
      "\r",
      " 27%|████████████████▌                                             | 80/300 [27:21<1:13:09, 19.95s/it]"
     ]
    },
    {
     "name": "stdout",
     "output_type": "stream",
     "text": [
      "第 80 轮损失函数： 264.7413852736354\n",
      "0.09581279009580612\n",
      "0.11156921088695526\n",
      "0.10299837589263916\n",
      "0.09808724373579025\n",
      "0.09380105882883072\n"
     ]
    },
    {
     "name": "stderr",
     "output_type": "stream",
     "text": [
      "\r",
      " 27%|████████████████▋                                             | 81/300 [27:41<1:13:11, 20.05s/it]"
     ]
    },
    {
     "name": "stdout",
     "output_type": "stream",
     "text": [
      "第 81 轮损失函数： 264.65159648656845\n",
      "0.09252099692821503\n",
      "0.12605252861976624\n",
      "0.09549698233604431\n",
      "0.09650501608848572\n",
      "0.0949525535106659\n"
     ]
    },
    {
     "name": "stderr",
     "output_type": "stream",
     "text": [
      "\r",
      " 27%|████████████████▉                                             | 82/300 [28:02<1:13:07, 20.13s/it]"
     ]
    },
    {
     "name": "stdout",
     "output_type": "stream",
     "text": [
      "第 82 轮损失函数： 264.5500397384167\n",
      "0.09391771256923676\n",
      "0.102632537484169\n",
      "0.09297940135002136\n",
      "0.092390276491642\n",
      "0.09729492664337158\n"
     ]
    },
    {
     "name": "stderr",
     "output_type": "stream",
     "text": [
      "\r",
      " 28%|█████████████████▏                                            | 83/300 [28:22<1:13:00, 20.19s/it]"
     ]
    },
    {
     "name": "stdout",
     "output_type": "stream",
     "text": [
      "第 83 轮损失函数： 263.9588355049491\n",
      "0.09880547225475311\n",
      "0.11247143149375916\n",
      "0.10286010801792145\n",
      "0.09487132728099823\n",
      "0.09726126492023468\n"
     ]
    },
    {
     "name": "stderr",
     "output_type": "stream",
     "text": [
      "\r",
      " 28%|█████████████████▎                                            | 84/300 [28:42<1:12:47, 20.22s/it]"
     ]
    },
    {
     "name": "stdout",
     "output_type": "stream",
     "text": [
      "第 84 轮损失函数： 263.5893118157983\n",
      "0.0891052782535553\n",
      "0.10511192679405212\n",
      "0.10474248230457306\n",
      "0.09669456630945206\n",
      "0.10212390869855881\n"
     ]
    },
    {
     "name": "stderr",
     "output_type": "stream",
     "text": [
      "\r",
      " 28%|█████████████████▌                                            | 85/300 [29:03<1:12:50, 20.33s/it]"
     ]
    },
    {
     "name": "stdout",
     "output_type": "stream",
     "text": [
      "第 85 轮损失函数： 263.0939859524369\n",
      "0.09475992619991302\n",
      "0.12396319210529327\n",
      "0.09467770159244537\n",
      "0.08478657156229019\n",
      "0.09602763503789902\n"
     ]
    },
    {
     "name": "stderr",
     "output_type": "stream",
     "text": [
      "\r",
      " 29%|█████████████████▊                                            | 86/300 [29:23<1:12:28, 20.32s/it]"
     ]
    },
    {
     "name": "stdout",
     "output_type": "stream",
     "text": [
      "第 86 轮损失函数： 263.28474171459675\n",
      "0.09234094619750977\n",
      "0.12180411070585251\n",
      "0.09460572153329849\n",
      "0.09808096289634705\n",
      "0.09564603865146637\n"
     ]
    },
    {
     "name": "stderr",
     "output_type": "stream",
     "text": [
      "\r",
      " 29%|█████████████████▉                                            | 87/300 [29:43<1:12:06, 20.31s/it]"
     ]
    },
    {
     "name": "stdout",
     "output_type": "stream",
     "text": [
      "第 87 轮损失函数： 262.75128910690546\n",
      "0.09188023209571838\n",
      "0.11824767291545868\n",
      "0.10161373764276505\n",
      "0.08915752172470093\n",
      "0.09588105976581573\n"
     ]
    },
    {
     "name": "stderr",
     "output_type": "stream",
     "text": [
      "\r",
      " 29%|██████████████████▏                                           | 88/300 [30:04<1:11:46, 20.31s/it]"
     ]
    },
    {
     "name": "stdout",
     "output_type": "stream",
     "text": [
      "第 88 轮损失函数： 262.59069583564997\n",
      "0.09140390157699585\n",
      "0.10789816081523895\n",
      "0.0964968353509903\n",
      "0.09252636134624481\n",
      "0.0950022041797638\n"
     ]
    },
    {
     "name": "stderr",
     "output_type": "stream",
     "text": [
      "\r",
      " 30%|██████████████████▍                                           | 89/300 [30:24<1:11:28, 20.32s/it]"
     ]
    },
    {
     "name": "stdout",
     "output_type": "stream",
     "text": [
      "第 89 轮损失函数： 261.9135943055153\n",
      "0.0880429744720459\n",
      "0.11868159472942352\n",
      "0.09789862483739853\n",
      "0.08546482026576996\n",
      "0.10395007580518723\n"
     ]
    },
    {
     "name": "stderr",
     "output_type": "stream",
     "text": [
      "\r",
      " 30%|██████████████████▌                                           | 90/300 [30:44<1:11:13, 20.35s/it]"
     ]
    },
    {
     "name": "stdout",
     "output_type": "stream",
     "text": [
      "第 90 轮损失函数： 261.5895804911852\n",
      "0.08702175319194794\n",
      "0.12619173526763916\n",
      "0.0961962342262268\n",
      "0.09148166328668594\n",
      "0.09484350681304932\n"
     ]
    },
    {
     "name": "stderr",
     "output_type": "stream",
     "text": [
      "\r",
      " 30%|██████████████████▊                                           | 91/300 [31:06<1:12:38, 20.85s/it]"
     ]
    },
    {
     "name": "stdout",
     "output_type": "stream",
     "text": [
      "第 91 轮损失函数： 261.1279926300049\n",
      "0.091303251683712\n",
      "0.11995035409927368\n",
      "0.10348308086395264\n",
      "0.09046268463134766\n",
      "0.09947153925895691\n"
     ]
    },
    {
     "name": "stderr",
     "output_type": "stream",
     "text": [
      "\r",
      " 31%|███████████████████                                           | 92/300 [31:28<1:13:29, 21.20s/it]"
     ]
    },
    {
     "name": "stdout",
     "output_type": "stream",
     "text": [
      "第 92 轮损失函数： 260.8786299228668\n",
      "0.10033302009105682\n",
      "0.12560753524303436\n",
      "0.09937965869903564\n",
      "0.10031785070896149\n",
      "0.09927845001220703\n"
     ]
    },
    {
     "name": "stderr",
     "output_type": "stream",
     "text": [
      "\r",
      " 31%|███████████████████▏                                          | 93/300 [31:49<1:12:33, 21.03s/it]"
     ]
    },
    {
     "name": "stdout",
     "output_type": "stream",
     "text": [
      "第 93 轮损失函数： 260.7039063423872\n",
      "0.088849276304245\n",
      "0.11476792395114899\n",
      "0.09758564829826355\n",
      "0.093633733689785\n",
      "0.10064435005187988\n"
     ]
    },
    {
     "name": "stderr",
     "output_type": "stream",
     "text": [
      "\r",
      " 31%|███████████████████▍                                          | 94/300 [32:09<1:11:24, 20.80s/it]"
     ]
    },
    {
     "name": "stdout",
     "output_type": "stream",
     "text": [
      "第 94 轮损失函数： 260.58774285018444\n",
      "0.09670208394527435\n",
      "0.11871916055679321\n",
      "0.09480135142803192\n",
      "0.08271687477827072\n",
      "0.10268744826316833\n"
     ]
    },
    {
     "name": "stderr",
     "output_type": "stream",
     "text": [
      "\r",
      " 32%|███████████████████▋                                          | 95/300 [32:30<1:10:33, 20.65s/it]"
     ]
    },
    {
     "name": "stdout",
     "output_type": "stream",
     "text": [
      "第 95 轮损失函数： 260.20113062113523\n",
      "0.0893690437078476\n",
      "0.11857517063617706\n",
      "0.09154185652732849\n",
      "0.0882706344127655\n",
      "0.09771598875522614\n"
     ]
    },
    {
     "name": "stderr",
     "output_type": "stream",
     "text": [
      "\r",
      " 32%|███████████████████▊                                          | 96/300 [32:50<1:09:49, 20.54s/it]"
     ]
    },
    {
     "name": "stdout",
     "output_type": "stream",
     "text": [
      "第 96 轮损失函数： 259.92101392894983\n",
      "0.10145372152328491\n",
      "0.1074448674917221\n",
      "0.09696561098098755\n",
      "0.08997887372970581\n",
      "0.09954015910625458\n"
     ]
    },
    {
     "name": "stderr",
     "output_type": "stream",
     "text": [
      "\r",
      " 32%|████████████████████                                          | 97/300 [33:10<1:09:14, 20.47s/it]"
     ]
    },
    {
     "name": "stdout",
     "output_type": "stream",
     "text": [
      "第 97 轮损失函数： 259.4933474883437\n",
      "0.09219011664390564\n",
      "0.11392086744308472\n",
      "0.09534911811351776\n",
      "0.09272420406341553\n",
      "0.09105989336967468\n"
     ]
    },
    {
     "name": "stderr",
     "output_type": "stream",
     "text": [
      "\r",
      " 33%|████████████████████▎                                         | 98/300 [33:30<1:08:41, 20.41s/it]"
     ]
    },
    {
     "name": "stdout",
     "output_type": "stream",
     "text": [
      "第 98 轮损失函数： 259.51716040074825\n",
      "0.09663905203342438\n",
      "0.12097075581550598\n",
      "0.09173376113176346\n",
      "0.08558811247348785\n",
      "0.10061805695295334\n"
     ]
    },
    {
     "name": "stderr",
     "output_type": "stream",
     "text": [
      "\r",
      " 33%|████████████████████▍                                         | 99/300 [33:51<1:08:14, 20.37s/it]"
     ]
    },
    {
     "name": "stdout",
     "output_type": "stream",
     "text": [
      "第 99 轮损失函数： 259.3456933051348\n",
      "0.09926821291446686\n",
      "0.1058102399110794\n",
      "0.0948309600353241\n",
      "0.08622054755687714\n",
      "0.10467733442783356\n"
     ]
    },
    {
     "name": "stderr",
     "output_type": "stream",
     "text": [
      "\r",
      " 33%|████████████████████▎                                        | 100/300 [34:11<1:07:49, 20.35s/it]"
     ]
    },
    {
     "name": "stdout",
     "output_type": "stream",
     "text": [
      "第 100 轮损失函数： 259.31449972093105\n",
      "0.08812768757343292\n",
      "0.10718391835689545\n",
      "0.09549616277217865\n",
      "0.08885005116462708\n",
      "0.09814311563968658\n"
     ]
    },
    {
     "name": "stderr",
     "output_type": "stream",
     "text": [
      "\r",
      " 34%|████████████████████▌                                        | 101/300 [34:31<1:07:32, 20.37s/it]"
     ]
    },
    {
     "name": "stdout",
     "output_type": "stream",
     "text": [
      "第 101 轮损失函数： 258.3362185060978\n",
      "0.0938166081905365\n",
      "0.1224341094493866\n",
      "0.09786411374807358\n",
      "0.09717163443565369\n",
      "0.0995505303144455\n"
     ]
    },
    {
     "name": "stderr",
     "output_type": "stream",
     "text": [
      "\r",
      " 34%|████████████████████▋                                        | 102/300 [34:52<1:07:11, 20.36s/it]"
     ]
    },
    {
     "name": "stdout",
     "output_type": "stream",
     "text": [
      "第 102 轮损失函数： 258.42244412750006\n",
      "0.0946902483701706\n",
      "0.11463622003793716\n",
      "0.10167641937732697\n",
      "0.08375178277492523\n",
      "0.10289368778467178\n"
     ]
    },
    {
     "name": "stderr",
     "output_type": "stream",
     "text": [
      "\r",
      " 34%|████████████████████▉                                        | 103/300 [35:13<1:07:58, 20.70s/it]"
     ]
    },
    {
     "name": "stdout",
     "output_type": "stream",
     "text": [
      "第 103 轮损失函数： 257.8339124247432\n",
      "0.09231725335121155\n",
      "0.1088666319847107\n",
      "0.10624946653842926\n",
      "0.08226776123046875\n",
      "0.09256291389465332\n"
     ]
    },
    {
     "name": "stderr",
     "output_type": "stream",
     "text": [
      "\r",
      " 35%|█████████████████████▏                                       | 104/300 [35:35<1:08:08, 20.86s/it]"
     ]
    },
    {
     "name": "stdout",
     "output_type": "stream",
     "text": [
      "第 104 轮损失函数： 258.32369361817837\n",
      "0.09416675567626953\n",
      "0.11665970832109451\n",
      "0.09564761817455292\n",
      "0.09495333582162857\n",
      "0.09952051937580109\n"
     ]
    },
    {
     "name": "stderr",
     "output_type": "stream",
     "text": [
      "\r",
      " 35%|█████████████████████▎                                       | 105/300 [35:55<1:07:13, 20.68s/it]"
     ]
    },
    {
     "name": "stdout",
     "output_type": "stream",
     "text": [
      "第 105 轮损失函数： 257.52868424355984\n",
      "0.08986902981996536\n",
      "0.11275483667850494\n",
      "0.10081945359706879\n",
      "0.08782106637954712\n",
      "0.09488583356142044\n"
     ]
    },
    {
     "name": "stderr",
     "output_type": "stream",
     "text": [
      "\r",
      " 35%|█████████████████████▌                                       | 106/300 [36:15<1:06:28, 20.56s/it]"
     ]
    },
    {
     "name": "stdout",
     "output_type": "stream",
     "text": [
      "第 106 轮损失函数： 257.55973322689533\n",
      "0.09004631638526917\n",
      "0.1120319664478302\n",
      "0.09762188792228699\n",
      "0.09556212276220322\n",
      "0.09953045845031738\n"
     ]
    },
    {
     "name": "stderr",
     "output_type": "stream",
     "text": [
      "\r",
      " 36%|█████████████████████▊                                       | 107/300 [36:35<1:05:54, 20.49s/it]"
     ]
    },
    {
     "name": "stdout",
     "output_type": "stream",
     "text": [
      "第 107 轮损失函数： 257.0038455724716\n",
      "0.08820518851280212\n",
      "0.10306417942047119\n",
      "0.09682346880435944\n",
      "0.08822758495807648\n",
      "0.10142108798027039\n"
     ]
    },
    {
     "name": "stderr",
     "output_type": "stream",
     "text": [
      "\r",
      " 36%|█████████████████████▉                                       | 108/300 [36:56<1:05:32, 20.48s/it]"
     ]
    },
    {
     "name": "stdout",
     "output_type": "stream",
     "text": [
      "第 108 轮损失函数： 257.4348267689347\n",
      "0.08556488156318665\n",
      "0.11228050291538239\n",
      "0.08869847655296326\n",
      "0.08288408815860748\n",
      "0.09640999138355255\n"
     ]
    },
    {
     "name": "stderr",
     "output_type": "stream",
     "text": [
      "\r",
      " 36%|██████████████████████▏                                      | 109/300 [37:16<1:05:09, 20.47s/it]"
     ]
    },
    {
     "name": "stdout",
     "output_type": "stream",
     "text": [
      "第 109 轮损失函数： 256.67433474957943\n",
      "0.08826007694005966\n",
      "0.11612210422754288\n",
      "0.0930100679397583\n",
      "0.08935047686100006\n",
      "0.09222236275672913\n"
     ]
    },
    {
     "name": "stderr",
     "output_type": "stream",
     "text": [
      "\r",
      " 37%|██████████████████████▎                                      | 110/300 [37:37<1:04:47, 20.46s/it]"
     ]
    },
    {
     "name": "stdout",
     "output_type": "stream",
     "text": [
      "第 110 轮损失函数： 256.873689904809\n",
      "0.08378741145133972\n",
      "0.11008067429065704\n",
      "0.09666618704795837\n",
      "0.08865631371736526\n",
      "0.10716326534748077\n"
     ]
    },
    {
     "name": "stderr",
     "output_type": "stream",
     "text": [
      "\r",
      " 37%|██████████████████████▌                                      | 111/300 [37:57<1:04:22, 20.44s/it]"
     ]
    },
    {
     "name": "stdout",
     "output_type": "stream",
     "text": [
      "第 111 轮损失函数： 255.9719803929329\n",
      "0.09967321157455444\n",
      "0.11582706868648529\n",
      "0.09574119001626968\n",
      "0.08882080018520355\n",
      "0.09550969302654266\n"
     ]
    },
    {
     "name": "stderr",
     "output_type": "stream",
     "text": [
      "\r",
      " 37%|██████████████████████▊                                      | 112/300 [38:19<1:05:30, 20.91s/it]"
     ]
    },
    {
     "name": "stdout",
     "output_type": "stream",
     "text": [
      "第 112 轮损失函数： 256.12537241727114\n",
      "0.08918941020965576\n",
      "0.11830498278141022\n",
      "0.09591691941022873\n",
      "0.0949430912733078\n",
      "0.10457736253738403\n"
     ]
    },
    {
     "name": "stderr",
     "output_type": "stream",
     "text": [
      "\r",
      " 38%|██████████████████████▉                                      | 113/300 [38:41<1:06:19, 21.28s/it]"
     ]
    },
    {
     "name": "stdout",
     "output_type": "stream",
     "text": [
      "第 113 轮损失函数： 255.8586780950427\n",
      "0.0967705100774765\n",
      "0.12432163953781128\n",
      "0.08990494906902313\n",
      "0.08584634959697723\n",
      "0.10327450931072235\n"
     ]
    },
    {
     "name": "stderr",
     "output_type": "stream",
     "text": [
      "\r",
      " 38%|███████████████████████▏                                     | 114/300 [39:02<1:05:30, 21.13s/it]"
     ]
    },
    {
     "name": "stdout",
     "output_type": "stream",
     "text": [
      "第 114 轮损失函数： 255.38152781873941\n",
      "0.08657163381576538\n",
      "0.1076841950416565\n",
      "0.1048041582107544\n",
      "0.09298025071620941\n",
      "0.08679123222827911\n"
     ]
    },
    {
     "name": "stderr",
     "output_type": "stream",
     "text": [
      "\r",
      " 38%|███████████████████████▍                                     | 115/300 [39:24<1:05:39, 21.29s/it]"
     ]
    },
    {
     "name": "stdout",
     "output_type": "stream",
     "text": [
      "第 115 轮损失函数： 255.20700298249722\n",
      "0.09358657896518707\n",
      "0.10978695750236511\n",
      "0.09310903400182724\n",
      "0.08326075971126556\n",
      "0.09918636083602905\n"
     ]
    },
    {
     "name": "stderr",
     "output_type": "stream",
     "text": [
      "\r",
      " 39%|███████████████████████▌                                     | 116/300 [39:44<1:04:35, 21.06s/it]"
     ]
    },
    {
     "name": "stdout",
     "output_type": "stream",
     "text": [
      "第 116 轮损失函数： 254.9634582772851\n",
      "0.0951170101761818\n",
      "0.11461152881383896\n",
      "0.09303183108568192\n",
      "0.09290827810764313\n",
      "0.10033273696899414\n"
     ]
    },
    {
     "name": "stderr",
     "output_type": "stream",
     "text": [
      "\r",
      " 39%|███████████████████████▊                                     | 117/300 [40:05<1:03:33, 20.84s/it]"
     ]
    },
    {
     "name": "stdout",
     "output_type": "stream",
     "text": [
      "第 117 轮损失函数： 254.4418764412403\n",
      "0.09467107057571411\n",
      "0.11728586256504059\n",
      "0.08929918706417084\n",
      "0.0902845710515976\n",
      "0.09031655639410019\n"
     ]
    },
    {
     "name": "stderr",
     "output_type": "stream",
     "text": [
      "\r",
      " 39%|███████████████████████▉                                     | 118/300 [40:25<1:03:09, 20.82s/it]"
     ]
    },
    {
     "name": "stdout",
     "output_type": "stream",
     "text": [
      "第 118 轮损失函数： 254.11512503772974\n",
      "0.09341371059417725\n",
      "0.11417101323604584\n",
      "0.09476490318775177\n",
      "0.08860328048467636\n",
      "0.09912732243537903\n"
     ]
    },
    {
     "name": "stderr",
     "output_type": "stream",
     "text": [
      "\r",
      " 40%|████████████████████████▏                                    | 119/300 [40:47<1:03:37, 21.09s/it]"
     ]
    },
    {
     "name": "stdout",
     "output_type": "stream",
     "text": [
      "第 119 轮损失函数： 254.25813165307045\n",
      "0.08927744626998901\n",
      "0.11365784704685211\n",
      "0.09442474693059921\n",
      "0.09118840098381042\n",
      "0.10267381370067596\n"
     ]
    },
    {
     "name": "stderr",
     "output_type": "stream",
     "text": [
      "\r",
      " 40%|████████████████████████▍                                    | 120/300 [41:09<1:03:52, 21.29s/it]"
     ]
    },
    {
     "name": "stdout",
     "output_type": "stream",
     "text": [
      "第 120 轮损失函数： 254.07820849120617\n",
      "0.08758126199245453\n",
      "0.11069415509700775\n",
      "0.08969205617904663\n",
      "0.09459015727043152\n",
      "0.08691730350255966\n"
     ]
    },
    {
     "name": "stderr",
     "output_type": "stream",
     "text": [
      "\r",
      " 40%|████████████████████████▌                                    | 121/300 [41:31<1:04:24, 21.59s/it]"
     ]
    },
    {
     "name": "stdout",
     "output_type": "stream",
     "text": [
      "第 121 轮损失函数： 253.95848195254803\n",
      "0.08577224612236023\n",
      "0.10512930154800415\n",
      "0.09942179918289185\n",
      "0.09122413396835327\n",
      "0.10181624442338943\n"
     ]
    },
    {
     "name": "stderr",
     "output_type": "stream",
     "text": [
      "\r",
      " 41%|████████████████████████▊                                    | 122/300 [41:52<1:03:16, 21.33s/it]"
     ]
    },
    {
     "name": "stdout",
     "output_type": "stream",
     "text": [
      "第 122 轮损失函数： 253.85352659225464\n",
      "0.09215597808361053\n",
      "0.10660426318645477\n",
      "0.09957537055015564\n",
      "0.10175341367721558\n",
      "0.10135813802480698\n"
     ]
    },
    {
     "name": "stderr",
     "output_type": "stream",
     "text": [
      "\r",
      " 41%|█████████████████████████                                    | 123/300 [42:13<1:02:28, 21.18s/it]"
     ]
    },
    {
     "name": "stdout",
     "output_type": "stream",
     "text": [
      "第 123 轮损失函数： 253.5143819525838\n",
      "0.08539296686649323\n",
      "0.1121615618467331\n",
      "0.09146356582641602\n",
      "0.08406682312488556\n",
      "0.1040373370051384\n"
     ]
    },
    {
     "name": "stderr",
     "output_type": "stream",
     "text": [
      "\r",
      " 41%|█████████████████████████▏                                   | 124/300 [42:33<1:01:48, 21.07s/it]"
     ]
    },
    {
     "name": "stdout",
     "output_type": "stream",
     "text": [
      "第 124 轮损失函数： 253.31649601459503\n",
      "0.08863523602485657\n",
      "0.11395463347434998\n",
      "0.09132663905620575\n",
      "0.08771194517612457\n",
      "0.09586074948310852\n"
     ]
    },
    {
     "name": "stderr",
     "output_type": "stream",
     "text": [
      "\r",
      " 42%|█████████████████████████▍                                   | 125/300 [43:07<1:12:23, 24.82s/it]"
     ]
    },
    {
     "name": "stdout",
     "output_type": "stream",
     "text": [
      "第 125 轮损失函数： 252.91810216009617\n",
      "0.09510547667741776\n",
      "0.11503082513809204\n",
      "0.09492795169353485\n",
      "0.08211669325828552\n",
      "0.09084703028202057\n"
     ]
    },
    {
     "name": "stderr",
     "output_type": "stream",
     "text": [
      "\r",
      " 42%|█████████████████████████▌                                   | 126/300 [43:49<1:26:39, 29.88s/it]"
     ]
    },
    {
     "name": "stdout",
     "output_type": "stream",
     "text": [
      "第 126 轮损失函数： 252.847831428051\n",
      "0.08764664828777313\n",
      "0.11513950675725937\n",
      "0.09090772271156311\n",
      "0.09078364074230194\n",
      "0.09020072221755981\n"
     ]
    },
    {
     "name": "stderr",
     "output_type": "stream",
     "text": [
      "\r",
      " 42%|█████████████████████████▊                                   | 127/300 [44:30<1:35:46, 33.22s/it]"
     ]
    },
    {
     "name": "stdout",
     "output_type": "stream",
     "text": [
      "第 127 轮损失函数： 252.41187807917595\n",
      "0.09282952547073364\n",
      "0.1130034327507019\n",
      "0.08784498274326324\n",
      "0.09383495151996613\n",
      "0.09885702282190323\n"
     ]
    },
    {
     "name": "stderr",
     "output_type": "stream",
     "text": [
      "\r",
      " 43%|██████████████████████████                                   | 128/300 [45:12<1:42:36, 35.79s/it]"
     ]
    },
    {
     "name": "stdout",
     "output_type": "stream",
     "text": [
      "第 128 轮损失函数： 252.30427422374487\n",
      "0.08860737085342407\n",
      "0.10920003056526184\n",
      "0.09280156344175339\n",
      "0.09401681274175644\n",
      "0.09485653787851334\n"
     ]
    },
    {
     "name": "stderr",
     "output_type": "stream",
     "text": [
      "\r",
      " 43%|██████████████████████████▏                                  | 129/300 [45:53<1:46:49, 37.48s/it]"
     ]
    },
    {
     "name": "stdout",
     "output_type": "stream",
     "text": [
      "第 129 轮损失函数： 252.87219642102718\n",
      "0.08367644995450974\n",
      "0.11294634640216827\n",
      "0.09471532702445984\n",
      "0.09332209080457687\n",
      "0.09906995296478271\n"
     ]
    },
    {
     "name": "stderr",
     "output_type": "stream",
     "text": [
      "\r",
      " 43%|██████████████████████████▍                                  | 130/300 [46:34<1:49:21, 38.60s/it]"
     ]
    },
    {
     "name": "stdout",
     "output_type": "stream",
     "text": [
      "第 130 轮损失函数： 252.04732986539602\n",
      "0.08943654596805573\n",
      "0.11717033386230469\n",
      "0.08875295519828796\n",
      "0.08856493979692459\n",
      "0.10010764002799988\n"
     ]
    },
    {
     "name": "stderr",
     "output_type": "stream",
     "text": [
      "\r",
      " 44%|██████████████████████████▋                                  | 131/300 [47:14<1:50:07, 39.10s/it]"
     ]
    },
    {
     "name": "stdout",
     "output_type": "stream",
     "text": [
      "第 131 轮损失函数： 251.7005498483777\n",
      "0.08319512009620667\n",
      "0.10982416570186615\n",
      "0.08908012509346008\n",
      "0.0902787446975708\n",
      "0.09867627173662186\n"
     ]
    },
    {
     "name": "stderr",
     "output_type": "stream",
     "text": [
      "\r",
      " 44%|██████████████████████████▊                                  | 132/300 [47:56<1:51:14, 39.73s/it]"
     ]
    },
    {
     "name": "stdout",
     "output_type": "stream",
     "text": [
      "第 132 轮损失函数： 251.7054869607091\n",
      "0.08607660233974457\n",
      "0.10943929851055145\n",
      "0.10668367147445679\n",
      "0.09296118468046188\n",
      "0.09716621041297913\n"
     ]
    },
    {
     "name": "stderr",
     "output_type": "stream",
     "text": [
      "\r",
      " 44%|███████████████████████████                                  | 133/300 [48:37<1:52:08, 40.29s/it]"
     ]
    },
    {
     "name": "stdout",
     "output_type": "stream",
     "text": [
      "第 133 轮损失函数： 251.52062541991472\n",
      "0.09270195662975311\n",
      "0.11302784085273743\n",
      "0.0891033187508583\n",
      "0.09064208716154099\n",
      "0.10125114023685455\n"
     ]
    },
    {
     "name": "stderr",
     "output_type": "stream",
     "text": [
      "\r",
      " 45%|███████████████████████████▏                                 | 134/300 [49:19<1:52:18, 40.59s/it]"
     ]
    },
    {
     "name": "stdout",
     "output_type": "stream",
     "text": [
      "第 134 轮损失函数： 251.71569517999887\n",
      "0.09290628880262375\n",
      "0.105368971824646\n",
      "0.09896630793809891\n",
      "0.08583599328994751\n",
      "0.09796151518821716\n"
     ]
    },
    {
     "name": "stderr",
     "output_type": "stream",
     "text": [
      "\r",
      " 45%|███████████████████████████▍                                 | 135/300 [50:00<1:51:58, 40.72s/it]"
     ]
    },
    {
     "name": "stdout",
     "output_type": "stream",
     "text": [
      "第 135 轮损失函数： 251.1498721241951\n",
      "0.08725130558013916\n",
      "0.1044449657201767\n",
      "0.09922663867473602\n",
      "0.08959061652421951\n",
      "0.09333130717277527\n"
     ]
    },
    {
     "name": "stderr",
     "output_type": "stream",
     "text": [
      "\r",
      " 45%|███████████████████████████▋                                 | 136/300 [50:40<1:51:09, 40.67s/it]"
     ]
    },
    {
     "name": "stdout",
     "output_type": "stream",
     "text": [
      "第 136 轮损失函数： 250.93799339979887\n",
      "0.08632887899875641\n",
      "0.1210123598575592\n",
      "0.0927971825003624\n",
      "0.083778016269207\n",
      "0.09987586736679077\n"
     ]
    },
    {
     "name": "stderr",
     "output_type": "stream",
     "text": [
      "\r",
      " 46%|███████████████████████████▊                                 | 137/300 [51:19<1:49:07, 40.17s/it]"
     ]
    },
    {
     "name": "stdout",
     "output_type": "stream",
     "text": [
      "第 137 轮损失函数： 250.58161557465792\n",
      "0.08380206674337387\n",
      "0.10828789323568344\n",
      "0.09672901034355164\n",
      "0.08739538490772247\n",
      "0.09776642918586731\n"
     ]
    },
    {
     "name": "stderr",
     "output_type": "stream",
     "text": [
      "\r",
      " 46%|████████████████████████████                                 | 138/300 [52:00<1:48:52, 40.32s/it]"
     ]
    },
    {
     "name": "stdout",
     "output_type": "stream",
     "text": [
      "第 138 轮损失函数： 250.12561544775963\n",
      "0.09429693967103958\n",
      "0.11775833368301392\n",
      "0.0939147025346756\n",
      "0.09040535986423492\n",
      "0.10031324625015259\n"
     ]
    },
    {
     "name": "stderr",
     "output_type": "stream",
     "text": [
      "\r",
      " 46%|████████████████████████████▎                                | 139/300 [52:41<1:48:49, 40.56s/it]"
     ]
    },
    {
     "name": "stdout",
     "output_type": "stream",
     "text": [
      "第 139 轮损失函数： 250.2530006095767\n",
      "0.09977491199970245\n",
      "0.11850631237030029\n",
      "0.10339288413524628\n",
      "0.088380366563797\n",
      "0.10037130117416382\n"
     ]
    },
    {
     "name": "stderr",
     "output_type": "stream",
     "text": [
      "\r",
      " 47%|████████████████████████████▍                                | 140/300 [53:22<1:48:24, 40.65s/it]"
     ]
    },
    {
     "name": "stdout",
     "output_type": "stream",
     "text": [
      "第 140 轮损失函数： 250.0618323534727\n",
      "0.08312763273715973\n",
      "0.10568594187498093\n",
      "0.09188741445541382\n",
      "0.08270581811666489\n",
      "0.09987485408782959\n"
     ]
    },
    {
     "name": "stderr",
     "output_type": "stream",
     "text": [
      "\r",
      " 47%|████████████████████████████▋                                | 141/300 [54:03<1:48:19, 40.88s/it]"
     ]
    },
    {
     "name": "stdout",
     "output_type": "stream",
     "text": [
      "第 141 轮损失函数： 249.67571582645178\n",
      "0.08675824850797653\n",
      "0.12036816030740738\n",
      "0.1006731390953064\n",
      "0.0866711288690567\n",
      "0.09802615642547607\n"
     ]
    },
    {
     "name": "stderr",
     "output_type": "stream",
     "text": [
      "\r",
      " 47%|████████████████████████████▊                                | 142/300 [54:45<1:48:13, 41.10s/it]"
     ]
    },
    {
     "name": "stdout",
     "output_type": "stream",
     "text": [
      "第 142 轮损失函数： 249.54490631073713\n",
      "0.08428913354873657\n",
      "0.1070886105298996\n",
      "0.08789150416851044\n",
      "0.09506204724311829\n",
      "0.09917102009057999\n"
     ]
    },
    {
     "name": "stderr",
     "output_type": "stream",
     "text": [
      "\r",
      " 48%|█████████████████████████████                                | 143/300 [55:25<1:46:57, 40.88s/it]"
     ]
    },
    {
     "name": "stdout",
     "output_type": "stream",
     "text": [
      "第 143 轮损失函数： 249.76165023446083\n",
      "0.09112505614757538\n",
      "0.10830994695425034\n",
      "0.09397836774587631\n",
      "0.0843169167637825\n",
      "0.09567694365978241\n"
     ]
    },
    {
     "name": "stderr",
     "output_type": "stream",
     "text": [
      "\r",
      " 48%|█████████████████████████████▎                               | 144/300 [56:05<1:45:26, 40.55s/it]"
     ]
    },
    {
     "name": "stdout",
     "output_type": "stream",
     "text": [
      "第 144 轮损失函数： 249.4437716305256\n",
      "0.08230243623256683\n",
      "0.10837310552597046\n",
      "0.09915746003389359\n",
      "0.08429070562124252\n",
      "0.09438024461269379\n"
     ]
    },
    {
     "name": "stderr",
     "output_type": "stream",
     "text": [
      "\r",
      " 48%|█████████████████████████████▍                               | 145/300 [56:46<1:45:04, 40.67s/it]"
     ]
    },
    {
     "name": "stdout",
     "output_type": "stream",
     "text": [
      "第 145 轮损失函数： 249.18845291435719\n",
      "0.0895807147026062\n",
      "0.11534316092729568\n",
      "0.0900774747133255\n",
      "0.08733528107404709\n",
      "0.09292493760585785\n"
     ]
    },
    {
     "name": "stderr",
     "output_type": "stream",
     "text": [
      "\r",
      " 49%|█████████████████████████████▋                               | 146/300 [57:26<1:43:55, 40.49s/it]"
     ]
    },
    {
     "name": "stdout",
     "output_type": "stream",
     "text": [
      "第 146 轮损失函数： 249.17083571106195\n",
      "0.08640758693218231\n",
      "0.11907893419265747\n",
      "0.09722669422626495\n",
      "0.08565911650657654\n",
      "0.09808392822742462\n"
     ]
    },
    {
     "name": "stderr",
     "output_type": "stream",
     "text": [
      "\r",
      " 49%|█████████████████████████████▉                               | 147/300 [58:07<1:43:48, 40.71s/it]"
     ]
    },
    {
     "name": "stdout",
     "output_type": "stream",
     "text": [
      "第 147 轮损失函数： 248.59358932077885\n",
      "0.09464584290981293\n",
      "0.10873880237340927\n",
      "0.09139496088027954\n",
      "0.08822642266750336\n",
      "0.09352018684148788\n"
     ]
    },
    {
     "name": "stderr",
     "output_type": "stream",
     "text": [
      "\r",
      " 49%|██████████████████████████████                               | 148/300 [58:48<1:43:13, 40.75s/it]"
     ]
    },
    {
     "name": "stdout",
     "output_type": "stream",
     "text": [
      "第 148 轮损失函数： 248.65744701772928\n",
      "0.08754934370517731\n",
      "0.1127849817276001\n",
      "0.09274692833423615\n",
      "0.08523017168045044\n",
      "0.09496020525693893\n"
     ]
    },
    {
     "name": "stderr",
     "output_type": "stream",
     "text": [
      "\r",
      " 50%|██████████████████████████████▎                              | 149/300 [59:29<1:42:33, 40.75s/it]"
     ]
    },
    {
     "name": "stdout",
     "output_type": "stream",
     "text": [
      "第 149 轮损失函数： 248.39230677485466\n",
      "0.09138965606689453\n",
      "0.10285155475139618\n",
      "0.08908481895923615\n",
      "0.08577992022037506\n",
      "0.09530963003635406\n"
     ]
    },
    {
     "name": "stderr",
     "output_type": "stream",
     "text": [
      "\r",
      " 50%|█████████████████████████████▌                             | 150/300 [1:00:08<1:40:23, 40.16s/it]"
     ]
    },
    {
     "name": "stdout",
     "output_type": "stream",
     "text": [
      "第 150 轮损失函数： 248.03054138273\n",
      "0.08547550439834595\n",
      "0.11256091296672821\n",
      "0.08609180152416229\n",
      "0.08304215967655182\n",
      "0.09313107281923294\n"
     ]
    },
    {
     "name": "stderr",
     "output_type": "stream",
     "text": [
      "\r",
      " 50%|█████████████████████████████▋                             | 151/300 [1:00:49<1:40:24, 40.43s/it]"
     ]
    },
    {
     "name": "stdout",
     "output_type": "stream",
     "text": [
      "第 151 轮损失函数： 248.33183651417494\n",
      "0.08374939113855362\n",
      "0.10907727479934692\n",
      "0.09577450156211853\n",
      "0.08870730549097061\n",
      "0.10295040905475616\n"
     ]
    },
    {
     "name": "stderr",
     "output_type": "stream",
     "text": [
      "\r",
      " 51%|█████████████████████████████▉                             | 152/300 [1:01:29<1:39:49, 40.47s/it]"
     ]
    },
    {
     "name": "stdout",
     "output_type": "stream",
     "text": [
      "第 152 轮损失函数： 247.67118860781193\n",
      "0.08867713809013367\n",
      "0.11263671517372131\n",
      "0.09022267162799835\n",
      "0.09794600307941437\n",
      "0.08967263996601105\n"
     ]
    },
    {
     "name": "stderr",
     "output_type": "stream",
     "text": [
      "\r",
      " 51%|██████████████████████████████                             | 153/300 [1:02:10<1:39:31, 40.62s/it]"
     ]
    },
    {
     "name": "stdout",
     "output_type": "stream",
     "text": [
      "第 153 轮损失函数： 247.96170483529568\n",
      "0.08656960725784302\n",
      "0.1031351238489151\n",
      "0.09488552808761597\n",
      "0.08848389238119125\n",
      "0.09801402688026428\n"
     ]
    },
    {
     "name": "stderr",
     "output_type": "stream",
     "text": [
      "\r",
      " 51%|██████████████████████████████▎                            | 154/300 [1:02:51<1:39:21, 40.83s/it]"
     ]
    },
    {
     "name": "stdout",
     "output_type": "stream",
     "text": [
      "第 154 轮损失函数： 247.73741944134235\n",
      "0.08899939060211182\n",
      "0.11040090769529343\n",
      "0.09204449504613876\n",
      "0.08848035335540771\n",
      "0.09015211462974548\n"
     ]
    },
    {
     "name": "stderr",
     "output_type": "stream",
     "text": [
      "\r",
      " 52%|██████████████████████████████▍                            | 155/300 [1:03:33<1:39:01, 40.98s/it]"
     ]
    },
    {
     "name": "stdout",
     "output_type": "stream",
     "text": [
      "第 155 轮损失函数： 247.26436676084995\n",
      "0.09185492247343063\n",
      "0.1112658828496933\n",
      "0.08623489737510681\n",
      "0.0846526175737381\n",
      "0.09575784206390381\n"
     ]
    },
    {
     "name": "stderr",
     "output_type": "stream",
     "text": [
      "\r",
      " 52%|██████████████████████████████▋                            | 156/300 [1:04:00<1:28:26, 36.85s/it]"
     ]
    },
    {
     "name": "stdout",
     "output_type": "stream",
     "text": [
      "第 156 轮损失函数： 247.41661486029625\n",
      "0.08887159824371338\n",
      "0.11485639214515686\n",
      "0.09438911080360413\n",
      "0.08946097642183304\n",
      "0.08418593555688858\n"
     ]
    },
    {
     "name": "stderr",
     "output_type": "stream",
     "text": [
      "\r",
      " 52%|██████████████████████████████▉                            | 157/300 [1:04:20<1:15:58, 31.88s/it]"
     ]
    },
    {
     "name": "stdout",
     "output_type": "stream",
     "text": [
      "第 157 轮损失函数： 246.83386897295713\n",
      "0.09245286881923676\n",
      "0.10769180953502655\n",
      "0.08970736712217331\n",
      "0.08692890405654907\n",
      "0.08758953958749771\n"
     ]
    },
    {
     "name": "stderr",
     "output_type": "stream",
     "text": [
      "\r",
      " 53%|███████████████████████████████                            | 158/300 [1:04:44<1:09:51, 29.52s/it]"
     ]
    },
    {
     "name": "stdout",
     "output_type": "stream",
     "text": [
      "第 158 轮损失函数： 246.73715525120497\n",
      "0.08847251534461975\n",
      "0.11318494379520416\n",
      "0.08683184534311295\n",
      "0.0890144482254982\n",
      "0.09599551558494568\n"
     ]
    },
    {
     "name": "stderr",
     "output_type": "stream",
     "text": [
      "\r",
      " 53%|███████████████████████████████▎                           | 159/300 [1:05:25<1:17:27, 32.96s/it]"
     ]
    },
    {
     "name": "stdout",
     "output_type": "stream",
     "text": [
      "第 159 轮损失函数： 246.93954755365849\n",
      "0.0870983824133873\n",
      "0.10929803550243378\n",
      "0.08665406703948975\n",
      "0.0909319818019867\n",
      "0.0957539826631546\n"
     ]
    },
    {
     "name": "stderr",
     "output_type": "stream",
     "text": [
      "\r",
      " 53%|███████████████████████████████▍                           | 160/300 [1:06:06<1:22:20, 35.29s/it]"
     ]
    },
    {
     "name": "stdout",
     "output_type": "stream",
     "text": [
      "第 160 轮损失函数： 246.483154065907\n",
      "0.08373867720365524\n",
      "0.11519169807434082\n",
      "0.08701528608798981\n",
      "0.08855368196964264\n",
      "0.08691801130771637\n"
     ]
    },
    {
     "name": "stderr",
     "output_type": "stream",
     "text": [
      "\r",
      " 54%|███████████████████████████████▋                           | 161/300 [1:06:47<1:25:23, 36.86s/it]"
     ]
    },
    {
     "name": "stdout",
     "output_type": "stream",
     "text": [
      "第 161 轮损失函数： 246.33057040721178\n",
      "0.0811796635389328\n",
      "0.11981804668903351\n",
      "0.09422401338815689\n",
      "0.08895127475261688\n",
      "0.10862763226032257\n"
     ]
    },
    {
     "name": "stderr",
     "output_type": "stream",
     "text": [
      "\r",
      " 54%|███████████████████████████████▊                           | 162/300 [1:07:27<1:27:09, 37.89s/it]"
     ]
    },
    {
     "name": "stdout",
     "output_type": "stream",
     "text": [
      "第 162 轮损失函数： 246.5165152028203\n",
      "0.09295616298913956\n",
      "0.10416962206363678\n",
      "0.08645788580179214\n",
      "0.085579514503479\n",
      "0.09804069995880127\n"
     ]
    },
    {
     "name": "stderr",
     "output_type": "stream",
     "text": [
      "\r",
      " 54%|████████████████████████████████                           | 163/300 [1:08:07<1:28:22, 38.71s/it]"
     ]
    },
    {
     "name": "stdout",
     "output_type": "stream",
     "text": [
      "第 163 轮损失函数： 246.12914963066578\n",
      "0.0820835530757904\n",
      "0.1079704761505127\n",
      "0.09094364941120148\n",
      "0.08468408137559891\n",
      "0.0925302505493164\n"
     ]
    },
    {
     "name": "stderr",
     "output_type": "stream",
     "text": [
      "\r",
      " 55%|████████████████████████████████▎                          | 164/300 [1:08:48<1:29:00, 39.27s/it]"
     ]
    },
    {
     "name": "stdout",
     "output_type": "stream",
     "text": [
      "第 164 轮损失函数： 246.24655708670616\n",
      "0.09608872979879379\n",
      "0.11169707775115967\n",
      "0.08343913406133652\n",
      "0.08361489325761795\n",
      "0.09636695683002472\n"
     ]
    },
    {
     "name": "stderr",
     "output_type": "stream",
     "text": [
      "\r",
      " 55%|████████████████████████████████▍                          | 165/300 [1:09:27<1:27:49, 39.03s/it]"
     ]
    },
    {
     "name": "stdout",
     "output_type": "stream",
     "text": [
      "第 165 轮损失函数： 245.87146430835128\n",
      "0.09208215773105621\n",
      "0.11445125937461853\n",
      "0.09598614275455475\n",
      "0.09623884409666061\n",
      "0.0918779969215393\n"
     ]
    },
    {
     "name": "stderr",
     "output_type": "stream",
     "text": [
      "\r",
      " 55%|████████████████████████████████▋                          | 166/300 [1:10:08<1:28:40, 39.70s/it]"
     ]
    },
    {
     "name": "stdout",
     "output_type": "stream",
     "text": [
      "第 166 轮损失函数： 246.08375362306833\n",
      "0.08673512935638428\n",
      "0.10648322850465775\n",
      "0.09159577637910843\n",
      "0.0893029272556305\n",
      "0.09221979230642319\n"
     ]
    },
    {
     "name": "stderr",
     "output_type": "stream",
     "text": [
      "\r",
      " 56%|████████████████████████████████▊                          | 167/300 [1:10:49<1:29:19, 40.30s/it]"
     ]
    },
    {
     "name": "stdout",
     "output_type": "stream",
     "text": [
      "第 167 轮损失函数： 245.70034689456224\n",
      "0.0922810286283493\n",
      "0.10287681221961975\n",
      "0.0883270651102066\n",
      "0.08971549570560455\n",
      "0.0909239649772644\n"
     ]
    },
    {
     "name": "stderr",
     "output_type": "stream",
     "text": [
      "\r",
      " 56%|█████████████████████████████████                          | 168/300 [1:11:10<1:15:20, 34.24s/it]"
     ]
    },
    {
     "name": "stdout",
     "output_type": "stream",
     "text": [
      "第 168 轮损失函数： 245.7090349122882\n",
      "0.08479689061641693\n",
      "0.11339445412158966\n",
      "0.09195258468389511\n",
      "0.09108658879995346\n",
      "0.09568296372890472\n"
     ]
    },
    {
     "name": "stderr",
     "output_type": "stream",
     "text": [
      "\r",
      " 56%|█████████████████████████████████▏                         | 169/300 [1:11:31<1:06:07, 30.29s/it]"
     ]
    },
    {
     "name": "stdout",
     "output_type": "stream",
     "text": [
      "第 169 轮损失函数： 244.62199135124683\n",
      "0.08503274619579315\n",
      "0.10858727991580963\n",
      "0.08793385326862335\n",
      "0.0888439416885376\n",
      "0.09327617287635803\n"
     ]
    },
    {
     "name": "stderr",
     "output_type": "stream",
     "text": [
      "\r",
      " 57%|██████████████████████████████████▌                          | 170/300 [1:11:51<59:17, 27.36s/it]"
     ]
    },
    {
     "name": "stdout",
     "output_type": "stream",
     "text": [
      "第 170 轮损失函数： 245.35610765218735\n",
      "0.08563414216041565\n",
      "0.10626989603042603\n",
      "0.094135582447052\n",
      "0.09412345290184021\n",
      "0.09876847267150879\n"
     ]
    },
    {
     "name": "stderr",
     "output_type": "stream",
     "text": [
      "\r",
      " 57%|██████████████████████████████████▊                          | 171/300 [1:12:12<54:22, 25.29s/it]"
     ]
    },
    {
     "name": "stdout",
     "output_type": "stream",
     "text": [
      "第 171 轮损失函数： 244.94459043443203\n",
      "0.0832226425409317\n",
      "0.09920533001422882\n",
      "0.0933564156293869\n",
      "0.09324778616428375\n",
      "0.09178957343101501\n"
     ]
    },
    {
     "name": "stderr",
     "output_type": "stream",
     "text": [
      "\r",
      " 57%|██████████████████████████████████▉                          | 172/300 [1:12:32<50:58, 23.90s/it]"
     ]
    },
    {
     "name": "stdout",
     "output_type": "stream",
     "text": [
      "第 172 轮损失函数： 244.68845784664154\n",
      "0.08917711675167084\n",
      "0.1141880601644516\n",
      "0.0909019261598587\n",
      "0.0874137133359909\n",
      "0.09789037704467773\n"
     ]
    },
    {
     "name": "stderr",
     "output_type": "stream",
     "text": [
      "\r",
      " 58%|███████████████████████████████████▏                         | 173/300 [1:12:53<48:35, 22.96s/it]"
     ]
    },
    {
     "name": "stdout",
     "output_type": "stream",
     "text": [
      "第 173 轮损失函数： 244.6515194028616\n",
      "0.0893414318561554\n",
      "0.10869278013706207\n",
      "0.09724797308444977\n",
      "0.09133990108966827\n",
      "0.09019556641578674\n"
     ]
    },
    {
     "name": "stderr",
     "output_type": "stream",
     "text": [
      "\r",
      " 58%|███████████████████████████████████▍                         | 174/300 [1:13:13<46:18, 22.06s/it]"
     ]
    },
    {
     "name": "stdout",
     "output_type": "stream",
     "text": [
      "第 174 轮损失函数： 244.14601956307888\n",
      "0.09254635870456696\n",
      "0.11095844209194183\n",
      "0.09686748683452606\n",
      "0.0839257538318634\n",
      "0.0837664008140564\n"
     ]
    },
    {
     "name": "stderr",
     "output_type": "stream",
     "text": [
      "\r",
      " 58%|███████████████████████████████████▌                         | 175/300 [1:13:31<43:15, 20.76s/it]"
     ]
    },
    {
     "name": "stdout",
     "output_type": "stream",
     "text": [
      "第 175 轮损失函数： 243.93048345297575\n",
      "0.08494237065315247\n",
      "0.11990383267402649\n",
      "0.09112837165594101\n",
      "0.08217349648475647\n",
      "0.0921826958656311\n"
     ]
    },
    {
     "name": "stderr",
     "output_type": "stream",
     "text": [
      "\r",
      " 59%|███████████████████████████████████▊                         | 176/300 [1:13:51<42:53, 20.76s/it]"
     ]
    },
    {
     "name": "stdout",
     "output_type": "stream",
     "text": [
      "第 176 轮损失函数： 244.01478124409914\n",
      "0.09363311529159546\n",
      "0.10521134734153748\n",
      "0.08913615345954895\n",
      "0.08771328628063202\n",
      "0.094090536236763\n"
     ]
    },
    {
     "name": "stderr",
     "output_type": "stream",
     "text": [
      "\r",
      " 59%|███████████████████████████████████▉                         | 177/300 [1:14:12<42:13, 20.60s/it]"
     ]
    },
    {
     "name": "stdout",
     "output_type": "stream",
     "text": [
      "第 177 轮损失函数： 243.69995373487473\n",
      "0.08730466663837433\n",
      "0.10330897569656372\n",
      "0.0889342874288559\n",
      "0.09301791340112686\n",
      "0.10554802417755127\n"
     ]
    },
    {
     "name": "stderr",
     "output_type": "stream",
     "text": [
      "\r",
      " 59%|████████████████████████████████████▏                        | 178/300 [1:14:32<41:47, 20.55s/it]"
     ]
    },
    {
     "name": "stdout",
     "output_type": "stream",
     "text": [
      "第 178 轮损失函数： 243.88171346485615\n",
      "0.08817291259765625\n",
      "0.11028985679149628\n",
      "0.09819423407316208\n",
      "0.08825945854187012\n",
      "0.09769894182682037\n"
     ]
    },
    {
     "name": "stderr",
     "output_type": "stream",
     "text": [
      "\r",
      " 60%|████████████████████████████████████▍                        | 179/300 [1:14:52<41:14, 20.45s/it]"
     ]
    },
    {
     "name": "stdout",
     "output_type": "stream",
     "text": [
      "第 179 轮损失函数： 243.80774811655283\n",
      "0.07843904197216034\n",
      "0.112708181142807\n",
      "0.09329752624034882\n",
      "0.08918396383523941\n",
      "0.09254138171672821\n"
     ]
    },
    {
     "name": "stderr",
     "output_type": "stream",
     "text": [
      "\r",
      " 60%|████████████████████████████████████▌                        | 180/300 [1:15:13<40:46, 20.39s/it]"
     ]
    },
    {
     "name": "stdout",
     "output_type": "stream",
     "text": [
      "第 180 轮损失函数： 243.24899826943874\n",
      "0.08767405897378922\n",
      "0.1060844138264656\n",
      "0.08787430822849274\n",
      "0.09267694503068924\n",
      "0.09162838011980057\n"
     ]
    },
    {
     "name": "stderr",
     "output_type": "stream",
     "text": [
      "\r",
      " 60%|████████████████████████████████████▊                        | 181/300 [1:15:33<40:29, 20.42s/it]"
     ]
    },
    {
     "name": "stdout",
     "output_type": "stream",
     "text": [
      "第 181 轮损失函数： 243.0578104928136\n",
      "0.08201730251312256\n",
      "0.10031872242689133\n",
      "0.08511471748352051\n",
      "0.0929265171289444\n",
      "0.09049692749977112\n"
     ]
    },
    {
     "name": "stderr",
     "output_type": "stream",
     "text": [
      "\r",
      " 61%|█████████████████████████████████████                        | 182/300 [1:15:53<40:02, 20.36s/it]"
     ]
    },
    {
     "name": "stdout",
     "output_type": "stream",
     "text": [
      "第 182 轮损失函数： 243.40544171631336\n",
      "0.08786508440971375\n",
      "0.10544620454311371\n",
      "0.09364530444145203\n",
      "0.08654721826314926\n",
      "0.10407999157905579\n"
     ]
    },
    {
     "name": "stderr",
     "output_type": "stream",
     "text": [
      "\r",
      " 61%|█████████████████████████████████████▏                       | 183/300 [1:16:14<39:36, 20.31s/it]"
     ]
    },
    {
     "name": "stdout",
     "output_type": "stream",
     "text": [
      "第 183 轮损失函数： 242.90094758570194\n",
      "0.0860888734459877\n",
      "0.10750441253185272\n",
      "0.08874042332172394\n",
      "0.08324210345745087\n",
      "0.09044831991195679\n"
     ]
    },
    {
     "name": "stderr",
     "output_type": "stream",
     "text": [
      "\r",
      " 61%|█████████████████████████████████████▍                       | 184/300 [1:16:36<40:22, 20.89s/it]"
     ]
    },
    {
     "name": "stdout",
     "output_type": "stream",
     "text": [
      "第 184 轮损失函数： 243.268778860569\n",
      "0.09394244849681854\n",
      "0.10834258794784546\n",
      "0.0917816162109375\n",
      "0.08565159142017365\n",
      "0.09024529159069061\n"
     ]
    },
    {
     "name": "stderr",
     "output_type": "stream",
     "text": [
      "\r",
      " 62%|█████████████████████████████████████▌                       | 185/300 [1:16:57<40:04, 20.91s/it]"
     ]
    },
    {
     "name": "stdout",
     "output_type": "stream",
     "text": [
      "第 185 轮损失函数： 242.57492505013943\n",
      "0.08290843665599823\n",
      "0.10495112836360931\n",
      "0.08861561119556427\n",
      "0.08302795886993408\n",
      "0.09417610615491867\n"
     ]
    },
    {
     "name": "stderr",
     "output_type": "stream",
     "text": [
      "\r",
      " 62%|█████████████████████████████████████▊                       | 186/300 [1:17:17<39:19, 20.69s/it]"
     ]
    },
    {
     "name": "stdout",
     "output_type": "stream",
     "text": [
      "第 186 轮损失函数： 243.64801844209433\n",
      "0.08252595365047455\n",
      "0.11092686653137207\n",
      "0.08537520468235016\n",
      "0.08270609378814697\n",
      "0.08874988555908203\n"
     ]
    },
    {
     "name": "stderr",
     "output_type": "stream",
     "text": [
      "\r",
      " 62%|██████████████████████████████████████                       | 187/300 [1:17:37<38:49, 20.61s/it]"
     ]
    },
    {
     "name": "stdout",
     "output_type": "stream",
     "text": [
      "第 187 轮损失函数： 242.057482175529\n",
      "0.08150453120470047\n",
      "0.1031142920255661\n",
      "0.09018437564373016\n",
      "0.08503338694572449\n",
      "0.0949617326259613\n"
     ]
    },
    {
     "name": "stderr",
     "output_type": "stream",
     "text": [
      "\r",
      " 63%|██████████████████████████████████████▏                      | 188/300 [1:17:58<38:16, 20.50s/it]"
     ]
    },
    {
     "name": "stdout",
     "output_type": "stream",
     "text": [
      "第 188 轮损失函数： 242.55851723998785\n",
      "0.09855106472969055\n",
      "0.10416949540376663\n",
      "0.09281335771083832\n",
      "0.08886882662773132\n",
      "0.09152864664793015\n"
     ]
    },
    {
     "name": "stderr",
     "output_type": "stream",
     "text": [
      "\r",
      " 63%|██████████████████████████████████████▍                      | 189/300 [1:18:18<37:46, 20.42s/it]"
     ]
    },
    {
     "name": "stdout",
     "output_type": "stream",
     "text": [
      "第 189 轮损失函数： 242.64635954797268\n",
      "0.08674077689647675\n",
      "0.10995643585920334\n",
      "0.09148102253675461\n",
      "0.09391015768051147\n",
      "0.09252998232841492\n"
     ]
    },
    {
     "name": "stderr",
     "output_type": "stream",
     "text": [
      "\r",
      " 63%|██████████████████████████████████████▋                      | 190/300 [1:18:38<37:26, 20.42s/it]"
     ]
    },
    {
     "name": "stdout",
     "output_type": "stream",
     "text": [
      "第 190 轮损失函数： 242.26774897426367\n",
      "0.08882628381252289\n",
      "0.11250275373458862\n",
      "0.09518732130527496\n",
      "0.08375844359397888\n",
      "0.08993315696716309\n"
     ]
    },
    {
     "name": "stderr",
     "output_type": "stream",
     "text": [
      "\r",
      " 64%|██████████████████████████████████████▊                      | 191/300 [1:18:59<37:13, 20.49s/it]"
     ]
    },
    {
     "name": "stdout",
     "output_type": "stream",
     "text": [
      "第 191 轮损失函数： 241.8509879335761\n",
      "0.08518171310424805\n",
      "0.10767795145511627\n",
      "0.09316174685955048\n",
      "0.08351609110832214\n",
      "0.09712725877761841\n"
     ]
    },
    {
     "name": "stderr",
     "output_type": "stream",
     "text": [
      "\r",
      " 64%|███████████████████████████████████████                      | 192/300 [1:19:20<37:01, 20.57s/it]"
     ]
    },
    {
     "name": "stdout",
     "output_type": "stream",
     "text": [
      "第 192 轮损失函数： 241.738361120224\n",
      "0.08308829367160797\n",
      "0.11906871199607849\n",
      "0.09459839761257172\n",
      "0.08581583201885223\n",
      "0.09194767475128174\n"
     ]
    },
    {
     "name": "stderr",
     "output_type": "stream",
     "text": [
      "\r",
      " 64%|███████████████████████████████████████▏                     | 193/300 [1:19:40<36:46, 20.62s/it]"
     ]
    },
    {
     "name": "stdout",
     "output_type": "stream",
     "text": [
      "第 193 轮损失函数： 241.75859657675028\n",
      "0.08720269799232483\n",
      "0.108136847615242\n",
      "0.09114231914281845\n",
      "0.0805506557226181\n",
      "0.09159412980079651\n"
     ]
    },
    {
     "name": "stderr",
     "output_type": "stream",
     "text": [
      "\r",
      " 65%|███████████████████████████████████████▍                     | 194/300 [1:20:01<36:14, 20.51s/it]"
     ]
    },
    {
     "name": "stdout",
     "output_type": "stream",
     "text": [
      "第 194 轮损失函数： 241.2933718636632\n",
      "0.08626273274421692\n",
      "0.10586930811405182\n",
      "0.0858599841594696\n",
      "0.08878899365663528\n",
      "0.08463391661643982\n"
     ]
    },
    {
     "name": "stderr",
     "output_type": "stream",
     "text": [
      "\r",
      " 65%|███████████████████████████████████████▋                     | 195/300 [1:20:21<35:44, 20.42s/it]"
     ]
    },
    {
     "name": "stdout",
     "output_type": "stream",
     "text": [
      "第 195 轮损失函数： 240.96905614435673\n",
      "0.08577322959899902\n",
      "0.10436208546161652\n",
      "0.08938440680503845\n",
      "0.09405596554279327\n",
      "0.08988349139690399\n"
     ]
    },
    {
     "name": "stderr",
     "output_type": "stream",
     "text": [
      "\r",
      " 65%|███████████████████████████████████████▊                     | 196/300 [1:20:41<35:25, 20.43s/it]"
     ]
    },
    {
     "name": "stdout",
     "output_type": "stream",
     "text": [
      "第 196 轮损失函数： 241.3430402353406\n",
      "0.08893336355686188\n",
      "0.10525103658437729\n",
      "0.08795584738254547\n",
      "0.0944308340549469\n",
      "0.08093273639678955\n"
     ]
    },
    {
     "name": "stderr",
     "output_type": "stream",
     "text": [
      "\r",
      " 66%|████████████████████████████████████████                     | 197/300 [1:21:01<34:38, 20.18s/it]"
     ]
    },
    {
     "name": "stdout",
     "output_type": "stream",
     "text": [
      "第 197 轮损失函数： 241.23867277801037\n",
      "0.08614307641983032\n",
      "0.10685725510120392\n",
      "0.0967903584241867\n",
      "0.08245527744293213\n",
      "0.08564963936805725\n"
     ]
    },
    {
     "name": "stderr",
     "output_type": "stream",
     "text": [
      "\r",
      " 66%|████████████████████████████████████████▎                    | 198/300 [1:21:18<32:45, 19.27s/it]"
     ]
    },
    {
     "name": "stdout",
     "output_type": "stream",
     "text": [
      "第 198 轮损失函数： 240.8486209139228\n",
      "0.08665180206298828\n",
      "0.10380461812019348\n",
      "0.09769093990325928\n",
      "0.08786336332559586\n",
      "0.08847558498382568\n"
     ]
    },
    {
     "name": "stderr",
     "output_type": "stream",
     "text": [
      "\r",
      " 66%|████████████████████████████████████████▍                    | 199/300 [1:21:41<34:27, 20.47s/it]"
     ]
    },
    {
     "name": "stdout",
     "output_type": "stream",
     "text": [
      "第 199 轮损失函数： 240.61618749052286\n",
      "0.0914914458990097\n",
      "0.10781536996364594\n",
      "0.08701364696025848\n",
      "0.08286479115486145\n",
      "0.08720649033784866\n"
     ]
    },
    {
     "name": "stderr",
     "output_type": "stream",
     "text": [
      "\r",
      " 67%|████████████████████████████████████████▋                    | 200/300 [1:22:03<34:50, 20.91s/it]"
     ]
    },
    {
     "name": "stdout",
     "output_type": "stream",
     "text": [
      "第 200 轮损失函数： 240.64815835654736\n",
      "0.08559156954288483\n",
      "0.10023026168346405\n",
      "0.08830058574676514\n",
      "0.08829673379659653\n",
      "0.09151268005371094\n"
     ]
    },
    {
     "name": "stderr",
     "output_type": "stream",
     "text": [
      "\r",
      " 67%|████████████████████████████████████████▊                    | 201/300 [1:22:24<34:18, 20.79s/it]"
     ]
    },
    {
     "name": "stdout",
     "output_type": "stream",
     "text": [
      "第 201 轮损失函数： 240.5205106139183\n",
      "0.09507450461387634\n",
      "0.10677239298820496\n",
      "0.08659045398235321\n",
      "0.0802752748131752\n",
      "0.08988206088542938\n"
     ]
    },
    {
     "name": "stderr",
     "output_type": "stream",
     "text": [
      "\r",
      " 67%|█████████████████████████████████████████                    | 202/300 [1:22:45<34:08, 20.90s/it]"
     ]
    },
    {
     "name": "stdout",
     "output_type": "stream",
     "text": [
      "第 202 轮损失函数： 240.35998630523682\n",
      "0.0787157267332077\n",
      "0.10988780856132507\n",
      "0.08783897757530212\n",
      "0.1008458286523819\n",
      "0.09839525818824768\n"
     ]
    },
    {
     "name": "stderr",
     "output_type": "stream",
     "text": [
      "\r",
      " 68%|█████████████████████████████████████████▎                   | 203/300 [1:23:06<33:57, 21.00s/it]"
     ]
    },
    {
     "name": "stdout",
     "output_type": "stream",
     "text": [
      "第 203 轮损失函数： 240.17095186561346\n",
      "0.08454026281833649\n",
      "0.10875600576400757\n",
      "0.09476793557405472\n",
      "0.09310799092054367\n",
      "0.08725650608539581\n"
     ]
    },
    {
     "name": "stderr",
     "output_type": "stream",
     "text": [
      "\r",
      " 68%|█████████████████████████████████████████▍                   | 204/300 [1:23:27<33:19, 20.83s/it]"
     ]
    },
    {
     "name": "stdout",
     "output_type": "stream",
     "text": [
      "第 204 轮损失函数： 240.1591051965952\n",
      "0.0937393456697464\n",
      "0.1045875996351242\n",
      "0.10586129128932953\n",
      "0.08905740082263947\n",
      "0.09055911004543304\n"
     ]
    },
    {
     "name": "stderr",
     "output_type": "stream",
     "text": [
      "\r",
      " 68%|█████████████████████████████████████████▋                   | 205/300 [1:23:47<32:48, 20.72s/it]"
     ]
    },
    {
     "name": "stdout",
     "output_type": "stream",
     "text": [
      "第 205 轮损失函数： 240.05259035527706\n",
      "0.08750639855861664\n",
      "0.10367929935455322\n",
      "0.08648727834224701\n",
      "0.08149226754903793\n",
      "0.0973816066980362\n"
     ]
    },
    {
     "name": "stderr",
     "output_type": "stream",
     "text": [
      "\r",
      " 69%|█████████████████████████████████████████▉                   | 206/300 [1:24:07<32:13, 20.57s/it]"
     ]
    },
    {
     "name": "stdout",
     "output_type": "stream",
     "text": [
      "第 206 轮损失函数： 240.06975656747818\n",
      "0.0826529860496521\n",
      "0.10571540147066116\n",
      "0.08649682998657227\n",
      "0.10675956308841705\n",
      "0.09099093079566956\n"
     ]
    },
    {
     "name": "stderr",
     "output_type": "stream",
     "text": [
      "\r",
      " 69%|██████████████████████████████████████████                   | 207/300 [1:24:28<31:55, 20.60s/it]"
     ]
    },
    {
     "name": "stdout",
     "output_type": "stream",
     "text": [
      "第 207 轮损失函数： 240.1408435627818\n",
      "0.08536024391651154\n",
      "0.10465968400239944\n",
      "0.09057320654392242\n",
      "0.08559923619031906\n",
      "0.09136326611042023\n"
     ]
    },
    {
     "name": "stderr",
     "output_type": "stream",
     "text": [
      "\r",
      " 69%|██████████████████████████████████████████▎                  | 208/300 [1:24:49<31:41, 20.67s/it]"
     ]
    },
    {
     "name": "stdout",
     "output_type": "stream",
     "text": [
      "第 208 轮损失函数： 239.54729394614697\n",
      "0.0812738835811615\n",
      "0.10564000904560089\n",
      "0.09371238201856613\n",
      "0.07798555493354797\n",
      "0.08883854746818542\n"
     ]
    },
    {
     "name": "stderr",
     "output_type": "stream",
     "text": [
      "\r",
      " 70%|██████████████████████████████████████████▍                  | 209/300 [1:25:09<31:15, 20.61s/it]"
     ]
    },
    {
     "name": "stdout",
     "output_type": "stream",
     "text": [
      "第 209 轮损失函数： 239.37073040753603\n",
      "0.08475696295499802\n",
      "0.10428890585899353\n",
      "0.0904497280716896\n",
      "0.07958665490150452\n",
      "0.090556800365448\n"
     ]
    },
    {
     "name": "stderr",
     "output_type": "stream",
     "text": [
      "\r",
      " 70%|██████████████████████████████████████████▋                  | 210/300 [1:25:30<30:52, 20.59s/it]"
     ]
    },
    {
     "name": "stdout",
     "output_type": "stream",
     "text": [
      "第 210 轮损失函数： 239.76109237968922\n",
      "0.08367122709751129\n",
      "0.11014100164175034\n",
      "0.08817043900489807\n",
      "0.08045182377099991\n",
      "0.09171508252620697\n"
     ]
    },
    {
     "name": "stderr",
     "output_type": "stream",
     "text": [
      "\r",
      " 70%|██████████████████████████████████████████▉                  | 211/300 [1:25:53<31:54, 21.51s/it]"
     ]
    },
    {
     "name": "stdout",
     "output_type": "stream",
     "text": [
      "第 211 轮损失函数： 239.30106472223997\n",
      "0.0858343243598938\n",
      "0.1158866435289383\n",
      "0.09085451066493988\n",
      "0.08641600608825684\n",
      "0.08765511214733124\n"
     ]
    },
    {
     "name": "stderr",
     "output_type": "stream",
     "text": [
      "\r",
      " 71%|███████████████████████████████████████████                  | 212/300 [1:26:17<32:24, 22.09s/it]"
     ]
    },
    {
     "name": "stdout",
     "output_type": "stream",
     "text": [
      "第 212 轮损失函数： 239.25316362828016\n",
      "0.08866480737924576\n",
      "0.1050792932510376\n",
      "0.09208852052688599\n",
      "0.08235261589288712\n",
      "0.08498840034008026\n"
     ]
    },
    {
     "name": "stderr",
     "output_type": "stream",
     "text": [
      "\r",
      " 71%|███████████████████████████████████████████▎                 | 213/300 [1:26:37<31:19, 21.60s/it]"
     ]
    },
    {
     "name": "stdout",
     "output_type": "stream",
     "text": [
      "第 213 轮损失函数： 238.84690195322037\n",
      "0.0849233865737915\n",
      "0.10412426292896271\n",
      "0.09616890549659729\n",
      "0.08144939690828323\n",
      "0.08929173648357391\n"
     ]
    },
    {
     "name": "stderr",
     "output_type": "stream",
     "text": [
      "\r",
      " 71%|███████████████████████████████████████████▌                 | 214/300 [1:26:58<30:22, 21.19s/it]"
     ]
    },
    {
     "name": "stdout",
     "output_type": "stream",
     "text": [
      "第 214 轮损失函数： 239.02298956364393\n",
      "0.0819656103849411\n",
      "0.10792681574821472\n",
      "0.08798521757125854\n",
      "0.08451654016971588\n",
      "0.09287001192569733\n"
     ]
    },
    {
     "name": "stderr",
     "output_type": "stream",
     "text": [
      "\r",
      " 72%|███████████████████████████████████████████▋                 | 215/300 [1:27:18<29:36, 20.91s/it]"
     ]
    },
    {
     "name": "stdout",
     "output_type": "stream",
     "text": [
      "第 215 轮损失函数： 238.99388301372528\n",
      "0.08316385746002197\n",
      "0.10656306147575378\n",
      "0.0958629846572876\n",
      "0.0766000971198082\n",
      "0.10042230784893036\n"
     ]
    },
    {
     "name": "stderr",
     "output_type": "stream",
     "text": [
      "\r",
      " 72%|███████████████████████████████████████████▉                 | 216/300 [1:27:39<29:20, 20.96s/it]"
     ]
    },
    {
     "name": "stdout",
     "output_type": "stream",
     "text": [
      "第 216 轮损失函数： 238.899161323905\n",
      "0.083649180829525\n",
      "0.11256974190473557\n",
      "0.09269167482852936\n",
      "0.08514969050884247\n",
      "0.09359341859817505\n"
     ]
    },
    {
     "name": "stderr",
     "output_type": "stream",
     "text": [
      "\r",
      " 72%|████████████████████████████████████████████                 | 217/300 [1:28:01<29:24, 21.26s/it]"
     ]
    },
    {
     "name": "stdout",
     "output_type": "stream",
     "text": [
      "第 217 轮损失函数： 238.45837105810642\n",
      "0.08883756399154663\n",
      "0.11386895924806595\n",
      "0.0806882232427597\n",
      "0.08179941773414612\n",
      "0.08422376960515976\n"
     ]
    },
    {
     "name": "stderr",
     "output_type": "stream",
     "text": [
      "\r",
      " 73%|████████████████████████████████████████████▎                | 218/300 [1:28:21<28:38, 20.96s/it]"
     ]
    },
    {
     "name": "stdout",
     "output_type": "stream",
     "text": [
      "第 218 轮损失函数： 238.2118738591671\n",
      "0.08570723235607147\n",
      "0.10401377081871033\n",
      "0.08313080668449402\n",
      "0.08809869736433029\n",
      "0.08813902735710144\n"
     ]
    },
    {
     "name": "stderr",
     "output_type": "stream",
     "text": [
      "\r",
      " 73%|████████████████████████████████████████████▌                | 219/300 [1:28:41<28:01, 20.76s/it]"
     ]
    },
    {
     "name": "stdout",
     "output_type": "stream",
     "text": [
      "第 219 轮损失函数： 238.2810992449522\n",
      "0.08555981516838074\n",
      "0.1083892434835434\n",
      "0.08903943002223969\n",
      "0.08044368773698807\n",
      "0.08723869919776917\n"
     ]
    },
    {
     "name": "stderr",
     "output_type": "stream",
     "text": [
      "\r",
      " 73%|████████████████████████████████████████████▋                | 220/300 [1:29:02<27:28, 20.61s/it]"
     ]
    },
    {
     "name": "stdout",
     "output_type": "stream",
     "text": [
      "第 220 轮损失函数： 238.36162700876594\n",
      "0.08874368667602539\n",
      "0.1092793196439743\n",
      "0.09700007736682892\n",
      "0.08933093398809433\n",
      "0.08767399936914444\n"
     ]
    },
    {
     "name": "stderr",
     "output_type": "stream",
     "text": [
      "\r",
      " 74%|████████████████████████████████████████████▉                | 221/300 [1:29:22<26:57, 20.48s/it]"
     ]
    },
    {
     "name": "stdout",
     "output_type": "stream",
     "text": [
      "第 221 轮损失函数： 237.89530578255653\n",
      "0.0833919420838356\n",
      "0.11160378158092499\n",
      "0.09595637023448944\n",
      "0.08810849487781525\n",
      "0.09112730622291565\n"
     ]
    },
    {
     "name": "stderr",
     "output_type": "stream",
     "text": [
      "\r",
      " 74%|█████████████████████████████████████████████▏               | 222/300 [1:29:43<26:45, 20.59s/it]"
     ]
    },
    {
     "name": "stdout",
     "output_type": "stream",
     "text": [
      "第 222 轮损失函数： 237.95383927226067\n",
      "0.08643098175525665\n",
      "0.10427626967430115\n",
      "0.09287029504776001\n",
      "0.08501413464546204\n",
      "0.09568662941455841\n"
     ]
    },
    {
     "name": "stderr",
     "output_type": "stream",
     "text": [
      "\r",
      " 74%|█████████████████████████████████████████████▎               | 223/300 [1:30:03<26:25, 20.59s/it]"
     ]
    },
    {
     "name": "stdout",
     "output_type": "stream",
     "text": [
      "第 223 轮损失函数： 237.4419882595539\n",
      "0.09219615906476974\n",
      "0.10458046197891235\n",
      "0.08992074429988861\n",
      "0.08458017557859421\n",
      "0.09473971277475357\n"
     ]
    },
    {
     "name": "stderr",
     "output_type": "stream",
     "text": [
      "\r",
      " 75%|█████████████████████████████████████████████▌               | 224/300 [1:30:23<25:56, 20.48s/it]"
     ]
    },
    {
     "name": "stdout",
     "output_type": "stream",
     "text": [
      "第 224 轮损失函数： 237.9954156577587\n",
      "0.08249537646770477\n",
      "0.10763236880302429\n",
      "0.08813535422086716\n",
      "0.08364386856555939\n",
      "0.09870360791683197\n"
     ]
    },
    {
     "name": "stderr",
     "output_type": "stream",
     "text": [
      "\r",
      " 75%|█████████████████████████████████████████████▊               | 225/300 [1:30:43<25:17, 20.23s/it]"
     ]
    },
    {
     "name": "stdout",
     "output_type": "stream",
     "text": [
      "第 225 轮损失函数： 237.58349214494228\n",
      "0.08585909008979797\n",
      "0.10783116519451141\n",
      "0.08986438810825348\n",
      "0.08621184527873993\n",
      "0.09577184915542603\n"
     ]
    },
    {
     "name": "stderr",
     "output_type": "stream",
     "text": [
      "\r",
      " 75%|█████████████████████████████████████████████▉               | 226/300 [1:31:05<25:25, 20.62s/it]"
     ]
    },
    {
     "name": "stdout",
     "output_type": "stream",
     "text": [
      "第 226 轮损失函数： 237.7564152404666\n",
      "0.09052936732769012\n",
      "0.1067032516002655\n",
      "0.0922120064496994\n",
      "0.08649211376905441\n",
      "0.09240934997797012\n"
     ]
    },
    {
     "name": "stderr",
     "output_type": "stream",
     "text": [
      "\r",
      " 76%|██████████████████████████████████████████████▏              | 227/300 [1:31:25<24:58, 20.53s/it]"
     ]
    },
    {
     "name": "stdout",
     "output_type": "stream",
     "text": [
      "第 227 轮损失函数： 237.50379335135221\n",
      "0.08636850118637085\n",
      "0.10895171761512756\n",
      "0.07951585948467255\n",
      "0.08086254447698593\n",
      "0.08798850327730179\n"
     ]
    },
    {
     "name": "stderr",
     "output_type": "stream",
     "text": [
      "\r",
      " 76%|██████████████████████████████████████████████▎              | 228/300 [1:31:46<24:41, 20.58s/it]"
     ]
    },
    {
     "name": "stdout",
     "output_type": "stream",
     "text": [
      "第 228 轮损失函数： 237.41720575466752\n",
      "0.08487029373645782\n",
      "0.10824507474899292\n",
      "0.09324842691421509\n",
      "0.08439843356609344\n",
      "0.09161412715911865\n"
     ]
    },
    {
     "name": "stderr",
     "output_type": "stream",
     "text": [
      "\r",
      " 76%|██████████████████████████████████████████████▌              | 229/300 [1:32:06<24:08, 20.40s/it]"
     ]
    },
    {
     "name": "stdout",
     "output_type": "stream",
     "text": [
      "第 229 轮损失函数： 236.9998299255967\n",
      "0.0954902321100235\n",
      "0.1096930205821991\n",
      "0.0817425549030304\n",
      "0.08157958090305328\n",
      "0.0908554196357727\n"
     ]
    },
    {
     "name": "stderr",
     "output_type": "stream",
     "text": [
      "\r",
      " 77%|██████████████████████████████████████████████▊              | 230/300 [1:32:26<23:57, 20.53s/it]"
     ]
    },
    {
     "name": "stdout",
     "output_type": "stream",
     "text": [
      "第 230 轮损失函数： 237.31753539294004\n",
      "0.08441482484340668\n",
      "0.10372591018676758\n",
      "0.09271930903196335\n",
      "0.08189307898283005\n",
      "0.08536797761917114\n"
     ]
    },
    {
     "name": "stderr",
     "output_type": "stream",
     "text": [
      "\r",
      " 77%|██████████████████████████████████████████████▉              | 231/300 [1:32:48<23:49, 20.71s/it]"
     ]
    },
    {
     "name": "stdout",
     "output_type": "stream",
     "text": [
      "第 231 轮损失函数： 236.75464860349894\n",
      "0.07588103413581848\n",
      "0.10503289103507996\n",
      "0.09768016636371613\n",
      "0.08890247344970703\n",
      "0.10250803828239441\n"
     ]
    },
    {
     "name": "stderr",
     "output_type": "stream",
     "text": [
      "\r",
      " 77%|███████████████████████████████████████████████▏             | 232/300 [1:33:14<25:23, 22.41s/it]"
     ]
    },
    {
     "name": "stdout",
     "output_type": "stream",
     "text": [
      "第 232 轮损失函数： 237.30570679157972\n",
      "0.08852118253707886\n",
      "0.11505613476037979\n",
      "0.09671333432197571\n",
      "0.08467458188533783\n",
      "0.088624007999897\n"
     ]
    },
    {
     "name": "stderr",
     "output_type": "stream",
     "text": [
      "\r",
      " 78%|███████████████████████████████████████████████▍             | 233/300 [1:33:35<24:42, 22.13s/it]"
     ]
    },
    {
     "name": "stdout",
     "output_type": "stream",
     "text": [
      "第 233 轮损失函数： 236.9449813440442\n",
      "0.08145053684711456\n",
      "0.10443700104951859\n",
      "0.0827062726020813\n",
      "0.08183704316616058\n",
      "0.0891447439789772\n"
     ]
    },
    {
     "name": "stderr",
     "output_type": "stream",
     "text": [
      "\r",
      " 78%|███████████████████████████████████████████████▌             | 234/300 [1:33:57<24:06, 21.91s/it]"
     ]
    },
    {
     "name": "stdout",
     "output_type": "stream",
     "text": [
      "第 234 轮损失函数： 236.64191845059395\n",
      "0.09293670952320099\n",
      "0.09856677055358887\n",
      "0.08446751534938812\n",
      "0.09190286695957184\n",
      "0.08517134189605713\n"
     ]
    },
    {
     "name": "stderr",
     "output_type": "stream",
     "text": [
      "\r",
      " 78%|███████████████████████████████████████████████▊             | 235/300 [1:34:18<23:22, 21.57s/it]"
     ]
    },
    {
     "name": "stdout",
     "output_type": "stream",
     "text": [
      "第 235 轮损失函数： 236.36801003664732\n",
      "0.08569997549057007\n",
      "0.10626266151666641\n",
      "0.09087862074375153\n",
      "0.08719547837972641\n",
      "0.08883122354745865\n"
     ]
    },
    {
     "name": "stderr",
     "output_type": "stream",
     "text": [
      "\r",
      " 79%|███████████████████████████████████████████████▉             | 236/300 [1:34:39<22:48, 21.38s/it]"
     ]
    },
    {
     "name": "stdout",
     "output_type": "stream",
     "text": [
      "第 236 轮损失函数： 236.42614087462425\n",
      "0.08401378989219666\n",
      "0.10598807036876678\n",
      "0.08682627975940704\n",
      "0.07850931584835052\n",
      "0.09088946878910065\n"
     ]
    },
    {
     "name": "stderr",
     "output_type": "stream",
     "text": [
      "\r",
      " 79%|████████████████████████████████████████████████▏            | 237/300 [1:35:00<22:27, 21.39s/it]"
     ]
    },
    {
     "name": "stdout",
     "output_type": "stream",
     "text": [
      "第 237 轮损失函数： 236.12100690603256\n",
      "0.08003154397010803\n",
      "0.11243776977062225\n",
      "0.08665567636489868\n",
      "0.0907445028424263\n",
      "0.08891618996858597\n"
     ]
    },
    {
     "name": "stderr",
     "output_type": "stream",
     "text": [
      "\r",
      " 79%|████████████████████████████████████████████████▍            | 238/300 [1:35:21<21:53, 21.18s/it]"
     ]
    },
    {
     "name": "stdout",
     "output_type": "stream",
     "text": [
      "第 238 轮损失函数： 236.3890803977847\n",
      "0.09202554821968079\n",
      "0.10937173664569855\n",
      "0.08204434812068939\n",
      "0.08956680446863174\n",
      "0.09991073608398438\n"
     ]
    },
    {
     "name": "stderr",
     "output_type": "stream",
     "text": [
      "\r",
      " 80%|████████████████████████████████████████████████▌            | 239/300 [1:35:42<21:26, 21.09s/it]"
     ]
    },
    {
     "name": "stdout",
     "output_type": "stream",
     "text": [
      "第 239 轮损失函数： 236.05130253732204\n",
      "0.09013018012046814\n",
      "0.10509853810071945\n",
      "0.08428710699081421\n",
      "0.08405555039644241\n",
      "0.09234680235385895\n"
     ]
    },
    {
     "name": "stderr",
     "output_type": "stream",
     "text": [
      "\r",
      " 80%|████████████████████████████████████████████████▊            | 240/300 [1:36:03<21:20, 21.34s/it]"
     ]
    },
    {
     "name": "stdout",
     "output_type": "stream",
     "text": [
      "第 240 轮损失函数： 236.2643771842122\n",
      "0.09024918079376221\n",
      "0.1055389940738678\n",
      "0.08742006123065948\n",
      "0.07740970700979233\n",
      "0.09302137792110443\n"
     ]
    },
    {
     "name": "stderr",
     "output_type": "stream",
     "text": [
      "\r",
      " 80%|█████████████████████████████████████████████████            | 241/300 [1:36:25<21:02, 21.41s/it]"
     ]
    },
    {
     "name": "stdout",
     "output_type": "stream",
     "text": [
      "第 241 轮损失函数： 235.92932373285294\n",
      "0.08381160348653793\n",
      "0.10890714079141617\n",
      "0.08442537486553192\n",
      "0.0809522271156311\n",
      "0.08824848383665085\n"
     ]
    },
    {
     "name": "stderr",
     "output_type": "stream",
     "text": [
      "\r",
      " 81%|█████████████████████████████████████████████████▏           | 242/300 [1:36:47<20:46, 21.49s/it]"
     ]
    },
    {
     "name": "stdout",
     "output_type": "stream",
     "text": [
      "第 242 轮损失函数： 235.49485087394714\n",
      "0.08119869232177734\n",
      "0.10947774350643158\n",
      "0.08428966999053955\n",
      "0.0823146253824234\n",
      "0.09902322292327881\n"
     ]
    },
    {
     "name": "stderr",
     "output_type": "stream",
     "text": [
      "\r",
      " 81%|█████████████████████████████████████████████████▍           | 243/300 [1:37:07<20:08, 21.20s/it]"
     ]
    },
    {
     "name": "stdout",
     "output_type": "stream",
     "text": [
      "第 243 轮损失函数： 236.2307866960764\n",
      "0.0788533091545105\n",
      "0.10290706157684326\n",
      "0.08245747536420822\n",
      "0.09021270275115967\n",
      "0.09385541081428528\n"
     ]
    },
    {
     "name": "stderr",
     "output_type": "stream",
     "text": [
      "\r",
      " 81%|█████████████████████████████████████████████████▌           | 244/300 [1:37:28<19:37, 21.03s/it]"
     ]
    },
    {
     "name": "stdout",
     "output_type": "stream",
     "text": [
      "第 244 轮损失函数： 235.42707800865173\n",
      "0.07987572252750397\n",
      "0.09924764931201935\n",
      "0.08659577369689941\n",
      "0.08994192630052567\n",
      "0.0827915221452713\n"
     ]
    },
    {
     "name": "stderr",
     "output_type": "stream",
     "text": [
      "\r",
      " 82%|█████████████████████████████████████████████████▊           | 245/300 [1:37:49<19:16, 21.02s/it]"
     ]
    },
    {
     "name": "stdout",
     "output_type": "stream",
     "text": [
      "第 245 轮损失函数： 235.399796590209\n",
      "0.08167356252670288\n",
      "0.10675317794084549\n",
      "0.09701656550168991\n",
      "0.07844416797161102\n",
      "0.09478190541267395\n"
     ]
    },
    {
     "name": "stderr",
     "output_type": "stream",
     "text": [
      "\r",
      " 82%|██████████████████████████████████████████████████           | 246/300 [1:38:09<18:46, 20.87s/it]"
     ]
    },
    {
     "name": "stdout",
     "output_type": "stream",
     "text": [
      "第 246 轮损失函数： 235.28653340786695\n",
      "0.08766284584999084\n",
      "0.09966221451759338\n",
      "0.09166155755519867\n",
      "0.0812501460313797\n",
      "0.0982481837272644\n"
     ]
    },
    {
     "name": "stderr",
     "output_type": "stream",
     "text": [
      "\r",
      " 82%|██████████████████████████████████████████████████▏          | 247/300 [1:38:30<18:27, 20.89s/it]"
     ]
    },
    {
     "name": "stdout",
     "output_type": "stream",
     "text": [
      "第 247 轮损失函数： 234.82169537991285\n",
      "0.08238127082586288\n",
      "0.11430644989013672\n",
      "0.08291541785001755\n",
      "0.07892435789108276\n",
      "0.08579832315444946\n"
     ]
    },
    {
     "name": "stderr",
     "output_type": "stream",
     "text": [
      "\r",
      " 83%|██████████████████████████████████████████████████▍          | 248/300 [1:38:51<18:06, 20.90s/it]"
     ]
    },
    {
     "name": "stdout",
     "output_type": "stream",
     "text": [
      "第 248 轮损失函数： 235.37460687756538\n",
      "0.0827854573726654\n",
      "0.1014481782913208\n",
      "0.08893556892871857\n",
      "0.07810035347938538\n",
      "0.08534473925828934\n"
     ]
    },
    {
     "name": "stderr",
     "output_type": "stream",
     "text": [
      "\r",
      " 83%|██████████████████████████████████████████████████▋          | 249/300 [1:39:12<17:38, 20.75s/it]"
     ]
    },
    {
     "name": "stdout",
     "output_type": "stream",
     "text": [
      "第 249 轮损失函数： 235.15819708257914\n",
      "0.0827835202217102\n",
      "0.11580750346183777\n",
      "0.07797591388225555\n",
      "0.08164139091968536\n",
      "0.08323460817337036\n"
     ]
    },
    {
     "name": "stderr",
     "output_type": "stream",
     "text": [
      "\r",
      " 83%|██████████████████████████████████████████████████▊          | 250/300 [1:39:32<17:17, 20.75s/it]"
     ]
    },
    {
     "name": "stdout",
     "output_type": "stream",
     "text": [
      "第 250 轮损失函数： 234.74917086213827\n",
      "0.08551660180091858\n",
      "0.10978613793849945\n",
      "0.08211414515972137\n",
      "0.08334188163280487\n",
      "0.08857898414134979\n"
     ]
    },
    {
     "name": "stderr",
     "output_type": "stream",
     "text": [
      "\r",
      " 84%|███████████████████████████████████████████████████          | 251/300 [1:39:54<17:13, 21.10s/it]"
     ]
    },
    {
     "name": "stdout",
     "output_type": "stream",
     "text": [
      "第 251 轮损失函数： 234.59002428501844\n",
      "0.08108185976743698\n",
      "0.10060008615255356\n",
      "0.0835563987493515\n",
      "0.08658206462860107\n",
      "0.08650575578212738\n"
     ]
    },
    {
     "name": "stderr",
     "output_type": "stream",
     "text": [
      "\r",
      " 84%|███████████████████████████████████████████████████▏         | 252/300 [1:40:15<16:53, 21.12s/it]"
     ]
    },
    {
     "name": "stdout",
     "output_type": "stream",
     "text": [
      "第 252 轮损失函数： 234.88839055597782\n",
      "0.09574302285909653\n",
      "0.11341452598571777\n",
      "0.08867399394512177\n",
      "0.08955013751983643\n",
      "0.094508096575737\n"
     ]
    },
    {
     "name": "stderr",
     "output_type": "stream",
     "text": [
      "\r",
      " 84%|███████████████████████████████████████████████████▍         | 253/300 [1:40:36<16:23, 20.93s/it]"
     ]
    },
    {
     "name": "stdout",
     "output_type": "stream",
     "text": [
      "第 253 轮损失函数： 234.78133112937212\n",
      "0.08849907666444778\n",
      "0.10048683732748032\n",
      "0.08511067181825638\n",
      "0.08058659732341766\n",
      "0.08150620758533478\n"
     ]
    },
    {
     "name": "stderr",
     "output_type": "stream",
     "text": [
      "\r",
      " 85%|███████████████████████████████████████████████████▋         | 254/300 [1:40:56<15:54, 20.75s/it]"
     ]
    },
    {
     "name": "stdout",
     "output_type": "stream",
     "text": [
      "第 254 轮损失函数： 234.73133626580238\n",
      "0.0890645980834961\n",
      "0.10640730708837509\n",
      "0.08466795086860657\n",
      "0.0801582783460617\n",
      "0.08491657674312592\n"
     ]
    },
    {
     "name": "stderr",
     "output_type": "stream",
     "text": [
      "\r",
      " 85%|███████████████████████████████████████████████████▊         | 255/300 [1:41:17<15:34, 20.77s/it]"
     ]
    },
    {
     "name": "stdout",
     "output_type": "stream",
     "text": [
      "第 255 轮损失函数： 234.22057776898146\n",
      "0.07851049304008484\n",
      "0.11596758663654327\n",
      "0.08679458498954773\n",
      "0.08706633746623993\n",
      "0.09343089163303375\n"
     ]
    },
    {
     "name": "stderr",
     "output_type": "stream",
     "text": [
      "\r",
      " 85%|████████████████████████████████████████████████████         | 256/300 [1:41:39<15:23, 20.99s/it]"
     ]
    },
    {
     "name": "stdout",
     "output_type": "stream",
     "text": [
      "第 256 轮损失函数： 234.00976840406656\n",
      "0.0863674134016037\n",
      "0.10130569338798523\n",
      "0.08531811088323593\n",
      "0.08523184061050415\n",
      "0.08168376982212067\n"
     ]
    },
    {
     "name": "stderr",
     "output_type": "stream",
     "text": [
      "\r",
      " 86%|████████████████████████████████████████████████████▎        | 257/300 [1:41:59<14:53, 20.78s/it]"
     ]
    },
    {
     "name": "stdout",
     "output_type": "stream",
     "text": [
      "第 257 轮损失函数： 234.48522297292948\n",
      "0.0856182873249054\n",
      "0.1084887832403183\n",
      "0.08255411684513092\n",
      "0.08649381995201111\n",
      "0.08582612872123718\n"
     ]
    },
    {
     "name": "stderr",
     "output_type": "stream",
     "text": [
      "\r",
      " 86%|████████████████████████████████████████████████████▍        | 258/300 [1:42:20<14:33, 20.79s/it]"
     ]
    },
    {
     "name": "stdout",
     "output_type": "stream",
     "text": [
      "第 258 轮损失函数： 233.94859923422337\n",
      "0.09345028549432755\n",
      "0.11004185676574707\n",
      "0.08949381113052368\n",
      "0.07816855609416962\n",
      "0.09043058753013611\n"
     ]
    },
    {
     "name": "stderr",
     "output_type": "stream",
     "text": [
      "\r",
      " 86%|████████████████████████████████████████████████████▋        | 259/300 [1:42:40<14:05, 20.62s/it]"
     ]
    },
    {
     "name": "stdout",
     "output_type": "stream",
     "text": [
      "第 259 轮损失函数： 233.9899265319109\n",
      "0.07797472923994064\n",
      "0.10091289132833481\n",
      "0.09201037138700485\n",
      "0.09717874974012375\n",
      "0.08947748690843582\n"
     ]
    },
    {
     "name": "stderr",
     "output_type": "stream",
     "text": [
      "\r",
      " 87%|████████████████████████████████████████████████████▊        | 260/300 [1:43:00<13:42, 20.56s/it]"
     ]
    },
    {
     "name": "stdout",
     "output_type": "stream",
     "text": [
      "第 260 轮损失函数： 233.48300839215517\n",
      "0.07823964953422546\n",
      "0.10898624360561371\n",
      "0.08427316695451736\n",
      "0.08220255374908447\n",
      "0.08604718744754791\n"
     ]
    },
    {
     "name": "stderr",
     "output_type": "stream",
     "text": [
      "\r",
      " 87%|█████████████████████████████████████████████████████        | 261/300 [1:43:20<13:06, 20.18s/it]"
     ]
    },
    {
     "name": "stdout",
     "output_type": "stream",
     "text": [
      "第 261 轮损失函数： 233.89210478961468\n",
      "0.08616659045219421\n",
      "0.10902312397956848\n",
      "0.08542497456073761\n",
      "0.08726301044225693\n",
      "0.08775915205478668\n"
     ]
    },
    {
     "name": "stderr",
     "output_type": "stream",
     "text": [
      "\r",
      " 87%|█████████████████████████████████████████████████████▎       | 262/300 [1:43:40<12:48, 20.23s/it]"
     ]
    },
    {
     "name": "stdout",
     "output_type": "stream",
     "text": [
      "第 262 轮损失函数： 233.8170811831951\n",
      "0.08165635168552399\n",
      "0.1042923629283905\n",
      "0.08245956897735596\n",
      "0.07975946366786957\n",
      "0.09041832387447357\n"
     ]
    },
    {
     "name": "stderr",
     "output_type": "stream",
     "text": [
      "\r",
      " 88%|█████████████████████████████████████████████████████▍       | 263/300 [1:44:00<12:29, 20.25s/it]"
     ]
    },
    {
     "name": "stdout",
     "output_type": "stream",
     "text": [
      "第 263 轮损失函数： 233.6110988855362\n",
      "0.08814796060323715\n",
      "0.10557831823825836\n",
      "0.08884647488594055\n",
      "0.08333514630794525\n",
      "0.08513536304235458\n"
     ]
    },
    {
     "name": "stderr",
     "output_type": "stream",
     "text": [
      "\r",
      " 88%|█████████████████████████████████████████████████████▋       | 264/300 [1:44:21<12:10, 20.30s/it]"
     ]
    },
    {
     "name": "stdout",
     "output_type": "stream",
     "text": [
      "第 264 轮损失函数： 233.63102716952562\n",
      "0.09196406602859497\n",
      "0.11088038980960846\n",
      "0.08310133218765259\n",
      "0.0797039121389389\n",
      "0.0849437415599823\n"
     ]
    },
    {
     "name": "stderr",
     "output_type": "stream",
     "text": [
      "\r",
      " 88%|█████████████████████████████████████████████████████▉       | 265/300 [1:44:41<11:50, 20.30s/it]"
     ]
    },
    {
     "name": "stdout",
     "output_type": "stream",
     "text": [
      "第 265 轮损失函数： 233.60755165666342\n",
      "0.07919880747795105\n",
      "0.11124677956104279\n",
      "0.09191235899925232\n",
      "0.09258688986301422\n",
      "0.08452411741018295\n"
     ]
    },
    {
     "name": "stderr",
     "output_type": "stream",
     "text": [
      "\r",
      " 89%|██████████████████████████████████████████████████████       | 266/300 [1:45:02<11:33, 20.41s/it]"
     ]
    },
    {
     "name": "stdout",
     "output_type": "stream",
     "text": [
      "第 266 轮损失函数： 233.0359210446477\n",
      "0.0810680240392685\n",
      "0.11036336421966553\n",
      "0.08514002710580826\n",
      "0.09083904325962067\n",
      "0.09086970239877701\n"
     ]
    },
    {
     "name": "stderr",
     "output_type": "stream",
     "text": [
      "\r",
      " 89%|██████████████████████████████████████████████████████▎      | 267/300 [1:45:23<11:23, 20.71s/it]"
     ]
    },
    {
     "name": "stdout",
     "output_type": "stream",
     "text": [
      "第 267 轮损失函数： 233.3496974669397\n",
      "0.0805797129869461\n",
      "0.10312402248382568\n",
      "0.09396948665380478\n",
      "0.0852176770567894\n",
      "0.08707264065742493\n"
     ]
    },
    {
     "name": "stderr",
     "output_type": "stream",
     "text": [
      "\r",
      " 89%|██████████████████████████████████████████████████████▍      | 268/300 [1:45:49<11:51, 22.22s/it]"
     ]
    },
    {
     "name": "stdout",
     "output_type": "stream",
     "text": [
      "第 268 轮损失函数： 233.18561857193708\n",
      "0.08044491708278656\n",
      "0.11198468506336212\n",
      "0.08134937286376953\n",
      "0.07933168113231659\n",
      "0.08465585112571716\n"
     ]
    },
    {
     "name": "stderr",
     "output_type": "stream",
     "text": [
      "\r",
      " 90%|██████████████████████████████████████████████████████▋      | 269/300 [1:46:11<11:26, 22.15s/it]"
     ]
    },
    {
     "name": "stdout",
     "output_type": "stream",
     "text": [
      "第 269 轮损失函数： 233.38177616894245\n",
      "0.07613669335842133\n",
      "0.10321977734565735\n",
      "0.09416176378726959\n",
      "0.08285467326641083\n",
      "0.08337348699569702\n"
     ]
    },
    {
     "name": "stderr",
     "output_type": "stream",
     "text": [
      "\r",
      " 90%|██████████████████████████████████████████████████████▉      | 270/300 [1:46:32<10:53, 21.78s/it]"
     ]
    },
    {
     "name": "stdout",
     "output_type": "stream",
     "text": [
      "第 270 轮损失函数： 233.25613225251436\n",
      "0.08041635155677795\n",
      "0.10119833052158356\n",
      "0.09291252493858337\n",
      "0.09040579199790955\n",
      "0.09057220816612244\n"
     ]
    },
    {
     "name": "stderr",
     "output_type": "stream",
     "text": [
      "\r",
      " 90%|███████████████████████████████████████████████████████      | 271/300 [1:46:52<10:19, 21.35s/it]"
     ]
    },
    {
     "name": "stdout",
     "output_type": "stream",
     "text": [
      "第 271 轮损失函数： 233.195064984262\n",
      "0.08251647651195526\n",
      "0.09868112951517105\n",
      "0.08812446892261505\n",
      "0.0786043107509613\n",
      "0.09011957794427872\n"
     ]
    },
    {
     "name": "stderr",
     "output_type": "stream",
     "text": [
      "\r",
      " 91%|███████████████████████████████████████████████████████▎     | 272/300 [1:47:13<09:52, 21.16s/it]"
     ]
    },
    {
     "name": "stdout",
     "output_type": "stream",
     "text": [
      "第 272 轮损失函数： 232.97818164527416\n",
      "0.08467660844326019\n",
      "0.09767366200685501\n",
      "0.08269422501325607\n",
      "0.0793093591928482\n",
      "0.09128214418888092\n"
     ]
    },
    {
     "name": "stderr",
     "output_type": "stream",
     "text": [
      "\r",
      " 91%|███████████████████████████████████████████████████████▌     | 273/300 [1:47:33<09:24, 20.90s/it]"
     ]
    },
    {
     "name": "stdout",
     "output_type": "stream",
     "text": [
      "第 273 轮损失函数： 232.51562936976552\n",
      "0.08584626764059067\n",
      "0.1031138002872467\n",
      "0.08563262224197388\n",
      "0.08821222186088562\n",
      "0.08757220208644867\n"
     ]
    },
    {
     "name": "stderr",
     "output_type": "stream",
     "text": [
      "\r",
      " 91%|███████████████████████████████████████████████████████▋     | 274/300 [1:47:54<09:00, 20.78s/it]"
     ]
    },
    {
     "name": "stdout",
     "output_type": "stream",
     "text": [
      "第 274 轮损失函数： 232.61612279713154\n",
      "0.0793532058596611\n",
      "0.11225234717130661\n",
      "0.08062846213579178\n",
      "0.07607197761535645\n",
      "0.10055112838745117\n"
     ]
    },
    {
     "name": "stderr",
     "output_type": "stream",
     "text": [
      "\r",
      " 92%|███████████████████████████████████████████████████████▉     | 275/300 [1:48:14<08:36, 20.66s/it]"
     ]
    },
    {
     "name": "stdout",
     "output_type": "stream",
     "text": [
      "第 275 轮损失函数： 232.14142301678658\n",
      "0.08794565498828888\n",
      "0.10107716917991638\n",
      "0.09468212723731995\n",
      "0.09920112788677216\n",
      "0.09298825263977051\n"
     ]
    },
    {
     "name": "stderr",
     "output_type": "stream",
     "text": [
      "\r",
      " 92%|████████████████████████████████████████████████████████     | 276/300 [1:48:34<08:14, 20.60s/it]"
     ]
    },
    {
     "name": "stdout",
     "output_type": "stream",
     "text": [
      "第 276 轮损失函数： 232.13259660080075\n",
      "0.0829315334558487\n",
      "0.0873652845621109\n",
      "0.08388765156269073\n",
      "0.08011916279792786\n",
      "0.08424362540245056\n"
     ]
    },
    {
     "name": "stderr",
     "output_type": "stream",
     "text": [
      "\r",
      " 92%|████████████████████████████████████████████████████████▎    | 277/300 [1:48:55<07:50, 20.47s/it]"
     ]
    },
    {
     "name": "stdout",
     "output_type": "stream",
     "text": [
      "第 277 轮损失函数： 231.79108559340239\n",
      "0.07704707235097885\n",
      "0.1016261875629425\n",
      "0.08691416680812836\n",
      "0.08189332485198975\n",
      "0.08418765664100647\n"
     ]
    },
    {
     "name": "stderr",
     "output_type": "stream",
     "text": [
      "\r",
      " 93%|████████████████████████████████████████████████████████▌    | 278/300 [1:49:15<07:29, 20.43s/it]"
     ]
    },
    {
     "name": "stdout",
     "output_type": "stream",
     "text": [
      "第 278 轮损失函数： 232.1623299382627\n",
      "0.07729411125183105\n",
      "0.1070072278380394\n",
      "0.09142470359802246\n",
      "0.08156412839889526\n",
      "0.08726322650909424\n"
     ]
    },
    {
     "name": "stderr",
     "output_type": "stream",
     "text": [
      "\r",
      " 93%|████████████████████████████████████████████████████████▋    | 279/300 [1:49:35<07:08, 20.39s/it]"
     ]
    },
    {
     "name": "stdout",
     "output_type": "stream",
     "text": [
      "第 279 轮损失函数： 231.71780043840408\n",
      "0.07809063792228699\n",
      "0.1022973358631134\n",
      "0.0870550349354744\n",
      "0.08166392147541046\n",
      "0.0992233008146286\n"
     ]
    },
    {
     "name": "stderr",
     "output_type": "stream",
     "text": [
      "\r",
      " 93%|████████████████████████████████████████████████████████▉    | 280/300 [1:49:56<06:47, 20.39s/it]"
     ]
    },
    {
     "name": "stdout",
     "output_type": "stream",
     "text": [
      "第 280 轮损失函数： 231.6809378042817\n",
      "0.07826539874076843\n",
      "0.10581125319004059\n",
      "0.08637391030788422\n",
      "0.08901823312044144\n",
      "0.08494642376899719\n"
     ]
    },
    {
     "name": "stderr",
     "output_type": "stream",
     "text": [
      "\r",
      " 94%|█████████████████████████████████████████████████████████▏   | 281/300 [1:50:16<06:26, 20.35s/it]"
     ]
    },
    {
     "name": "stdout",
     "output_type": "stream",
     "text": [
      "第 281 轮损失函数： 231.37882658094168\n",
      "0.07840096950531006\n",
      "0.1010754406452179\n",
      "0.08626164495944977\n",
      "0.08450940251350403\n",
      "0.08805689215660095\n"
     ]
    },
    {
     "name": "stderr",
     "output_type": "stream",
     "text": [
      "\r",
      " 94%|█████████████████████████████████████████████████████████▎   | 282/300 [1:50:36<06:05, 20.33s/it]"
     ]
    },
    {
     "name": "stdout",
     "output_type": "stream",
     "text": [
      "第 282 轮损失函数： 231.15733960270882\n",
      "0.09059478342533112\n",
      "0.10339561104774475\n",
      "0.08132718503475189\n",
      "0.0828513577580452\n",
      "0.0939173698425293\n"
     ]
    },
    {
     "name": "stderr",
     "output_type": "stream",
     "text": [
      "\r",
      " 94%|█████████████████████████████████████████████████████████▌   | 283/300 [1:50:58<05:51, 20.66s/it]"
     ]
    },
    {
     "name": "stdout",
     "output_type": "stream",
     "text": [
      "第 283 轮损失函数： 231.65245098620653\n",
      "0.07788776606321335\n",
      "0.1008482426404953\n",
      "0.09252098947763443\n",
      "0.08239899575710297\n",
      "0.09395377337932587\n"
     ]
    },
    {
     "name": "stderr",
     "output_type": "stream",
     "text": [
      "\r",
      " 95%|█████████████████████████████████████████████████████████▋   | 284/300 [1:51:18<05:31, 20.71s/it]"
     ]
    },
    {
     "name": "stdout",
     "output_type": "stream",
     "text": [
      "第 284 轮损失函数： 231.27736695855856\n",
      "0.08260975778102875\n",
      "0.10946406424045563\n",
      "0.091281957924366\n",
      "0.09117596596479416\n",
      "0.0833694264292717\n"
     ]
    },
    {
     "name": "stderr",
     "output_type": "stream",
     "text": [
      "\r",
      " 95%|█████████████████████████████████████████████████████████▉   | 285/300 [1:51:40<05:14, 20.97s/it]"
     ]
    },
    {
     "name": "stdout",
     "output_type": "stream",
     "text": [
      "第 285 轮损失函数： 231.4819010719657\n",
      "0.08529399335384369\n",
      "0.10894045233726501\n",
      "0.07982108741998672\n",
      "0.08060033619403839\n",
      "0.08475179970264435\n"
     ]
    },
    {
     "name": "stderr",
     "output_type": "stream",
     "text": [
      "\r",
      " 95%|██████████████████████████████████████████████████████████▏  | 286/300 [1:52:02<04:59, 21.41s/it]"
     ]
    },
    {
     "name": "stdout",
     "output_type": "stream",
     "text": [
      "第 286 轮损失函数： 231.17376900464296\n",
      "0.08388465642929077\n",
      "0.1071324348449707\n",
      "0.08677002042531967\n",
      "0.07788876444101334\n",
      "0.09114658832550049\n"
     ]
    },
    {
     "name": "stderr",
     "output_type": "stream",
     "text": [
      "\r",
      " 96%|██████████████████████████████████████████████████████████▎  | 287/300 [1:52:26<04:47, 22.08s/it]"
     ]
    },
    {
     "name": "stdout",
     "output_type": "stream",
     "text": [
      "第 287 轮损失函数： 231.11845153570175\n",
      "0.08154751360416412\n",
      "0.09673532098531723\n",
      "0.08271405100822449\n",
      "0.07202571630477905\n",
      "0.08533723652362823\n"
     ]
    },
    {
     "name": "stderr",
     "output_type": "stream",
     "text": [
      "\r",
      " 96%|██████████████████████████████████████████████████████████▌  | 288/300 [1:52:54<04:45, 23.77s/it]"
     ]
    },
    {
     "name": "stdout",
     "output_type": "stream",
     "text": [
      "第 288 轮损失函数： 231.43835523724556\n",
      "0.07763649523258209\n",
      "0.09453123062849045\n",
      "0.08716940879821777\n",
      "0.08648698776960373\n",
      "0.08954513818025589\n"
     ]
    },
    {
     "name": "stderr",
     "output_type": "stream",
     "text": [
      "\r",
      " 96%|██████████████████████████████████████████████████████████▊  | 289/300 [1:53:17<04:18, 23.48s/it]"
     ]
    },
    {
     "name": "stdout",
     "output_type": "stream",
     "text": [
      "第 289 轮损失函数： 231.2938802316785\n",
      "0.0820998102426529\n",
      "0.0988357663154602\n",
      "0.09614524990320206\n",
      "0.07863953709602356\n",
      "0.09223077446222305\n"
     ]
    },
    {
     "name": "stderr",
     "output_type": "stream",
     "text": [
      "\r",
      " 97%|██████████████████████████████████████████████████████████▉  | 290/300 [1:53:38<03:47, 22.75s/it]"
     ]
    },
    {
     "name": "stdout",
     "output_type": "stream",
     "text": [
      "第 290 轮损失函数： 231.01541767269373\n",
      "0.08185908198356628\n",
      "0.10092641413211823\n",
      "0.08366603404283524\n",
      "0.0853213369846344\n",
      "0.087706059217453\n"
     ]
    },
    {
     "name": "stderr",
     "output_type": "stream",
     "text": [
      "\r",
      " 97%|███████████████████████████████████████████████████████████▏ | 291/300 [1:53:58<03:18, 22.06s/it]"
     ]
    },
    {
     "name": "stdout",
     "output_type": "stream",
     "text": [
      "第 291 轮损失函数： 231.0066380314529\n",
      "0.08453069627285004\n",
      "0.09920993447303772\n",
      "0.09001980721950531\n",
      "0.08582720160484314\n",
      "0.08427678793668747\n"
     ]
    },
    {
     "name": "stderr",
     "output_type": "stream",
     "text": [
      "\r",
      " 97%|███████████████████████████████████████████████████████████▎ | 292/300 [1:54:18<02:52, 21.51s/it]"
     ]
    },
    {
     "name": "stdout",
     "output_type": "stream",
     "text": [
      "第 292 轮损失函数： 230.60211428254843\n",
      "0.07747620344161987\n",
      "0.09698082506656647\n",
      "0.0913422703742981\n",
      "0.0780346691608429\n",
      "0.0811905562877655\n"
     ]
    },
    {
     "name": "stderr",
     "output_type": "stream",
     "text": [
      "\r",
      " 98%|███████████████████████████████████████████████████████████▌ | 293/300 [1:54:39<02:29, 21.38s/it]"
     ]
    },
    {
     "name": "stdout",
     "output_type": "stream",
     "text": [
      "第 293 轮损失函数： 231.065809763968\n",
      "0.07796765118837357\n",
      "0.10646702349185944\n",
      "0.08815498650074005\n",
      "0.07956285029649734\n",
      "0.09174531698226929\n"
     ]
    },
    {
     "name": "stderr",
     "output_type": "stream",
     "text": [
      "\r",
      " 98%|███████████████████████████████████████████████████████████▊ | 294/300 [1:55:02<02:09, 21.61s/it]"
     ]
    },
    {
     "name": "stdout",
     "output_type": "stream",
     "text": [
      "第 294 轮损失函数： 230.56831793487072\n",
      "0.07916508615016937\n",
      "0.09974057972431183\n",
      "0.08629858493804932\n",
      "0.0810958594083786\n",
      "0.08524163067340851\n"
     ]
    },
    {
     "name": "stderr",
     "output_type": "stream",
     "text": [
      "\r",
      " 98%|███████████████████████████████████████████████████████████▉ | 295/300 [1:55:24<01:48, 21.77s/it]"
     ]
    },
    {
     "name": "stdout",
     "output_type": "stream",
     "text": [
      "第 295 轮损失函数： 230.6073180437088\n",
      "0.07853592932224274\n",
      "0.10767090320587158\n",
      "0.08806422352790833\n",
      "0.08480773866176605\n",
      "0.08642565459012985\n"
     ]
    },
    {
     "name": "stderr",
     "output_type": "stream",
     "text": [
      "\r",
      " 99%|████████████████████████████████████████████████████████████▏| 296/300 [1:55:44<01:25, 21.45s/it]"
     ]
    },
    {
     "name": "stdout",
     "output_type": "stream",
     "text": [
      "第 296 轮损失函数： 230.68384936451912\n",
      "0.08181104063987732\n",
      "0.11083715409040451\n",
      "0.0891711562871933\n",
      "0.07761179655790329\n",
      "0.09679301083087921\n"
     ]
    },
    {
     "name": "stderr",
     "output_type": "stream",
     "text": [
      "\r",
      " 99%|████████████████████████████████████████████████████████████▍| 297/300 [1:56:16<01:13, 24.64s/it]"
     ]
    },
    {
     "name": "stdout",
     "output_type": "stream",
     "text": [
      "第 297 轮损失函数： 230.03904452174902\n",
      "0.08269832283258438\n",
      "0.10282932221889496\n",
      "0.08794309198856354\n",
      "0.08432458341121674\n",
      "0.10197051614522934\n"
     ]
    },
    {
     "name": "stderr",
     "output_type": "stream",
     "text": [
      "\r",
      " 99%|████████████████████████████████████████████████████████████▌| 298/300 [1:56:58<00:59, 29.64s/it]"
     ]
    },
    {
     "name": "stdout",
     "output_type": "stream",
     "text": [
      "第 298 轮损失函数： 230.7273129746318\n",
      "0.08653974533081055\n",
      "0.10131055116653442\n",
      "0.08892370760440826\n",
      "0.08372065424919128\n",
      "0.08759640902280807\n"
     ]
    },
    {
     "name": "stderr",
     "output_type": "stream",
     "text": [
      "\r",
      "100%|████████████████████████████████████████████████████████████▊| 299/300 [1:57:38<00:32, 32.92s/it]"
     ]
    },
    {
     "name": "stdout",
     "output_type": "stream",
     "text": [
      "第 299 轮损失函数： 230.1218115836382\n",
      "0.08263865113258362\n",
      "0.11379930377006531\n",
      "0.08486193418502808\n",
      "0.07811146974563599\n",
      "0.08840574324131012\n"
     ]
    },
    {
     "name": "stderr",
     "output_type": "stream",
     "text": [
      "100%|█████████████████████████████████████████████████████████████| 300/300 [1:58:20<00:00, 23.67s/it]"
     ]
    },
    {
     "name": "stdout",
     "output_type": "stream",
     "text": [
      "第 300 轮损失函数： 230.40921949595213\n"
     ]
    },
    {
     "name": "stderr",
     "output_type": "stream",
     "text": [
      "\n"
     ]
    }
   ],
   "source": [
    "\n",
    "device = torch.device('cuda:0' if torch.cuda.is_available() else 'cpu')\n",
    "trainer = Trainer(datasets, config, device)\n",
    "trainer.train()"
   ]
  },
  {
   "cell_type": "code",
   "execution_count": 32,
   "id": "35e2d73c",
   "metadata": {},
   "outputs": [],
   "source": [
    "class Measure:\n",
    "    def __init__(self):\n",
    "        self.hit1 = 0.0\n",
    "        self.hit3 = 0.0\n",
    "        self.hit10 = 0.0\n",
    "        self.mr = 0.0\n",
    "        self.mrr = 0.0\n",
    "    def update(self, rank):\n",
    "        if rank == 1:\n",
    "            self.hit1 += 1.0\n",
    "        if rank  <= 3:\n",
    "            self.hit3 += 1.0\n",
    "        if rank <= 10:\n",
    "            self.hit10 += 1.0\n",
    "        self.mr +=  rank\n",
    "        self.mrr += (1.0/rank)\n",
    "    def final_process(self, rel_num):\n",
    "        self.hit1 /= rel_num\n",
    "        self.hit10 /= rel_num\n",
    "        self.hit3 /= rel_num\n",
    "        self.mr /= rel_num\n",
    "        self.mrr /= rel_num\n",
    "    def print_(self):\n",
    "        print(\"++++++++++++++++++++\")\n",
    "        print(\"hit1:   \"+ str(self.hit1))\n",
    "        print(\"hit3:   \"+ str(self.hit3))\n",
    "        print(\"hit10:   \"+ str(self.hit10))\n",
    "        print(\"mr:   \"+ str(self.mr))\n",
    "        print(\"mrr:   \"+ str(self.mrr))\n",
    "        "
   ]
  },
  {
   "cell_type": "code",
   "execution_count": 33,
   "id": "9033b0de",
   "metadata": {},
   "outputs": [],
   "source": [
    "import numpy as np\n",
    "class Tester:\n",
    "    def __init__(self, datasets,model_path, device, valid_or_test):\n",
    "        self.datasets = datasets\n",
    "        self.all_facts = set(self.get_all_facts())\n",
    "        self.device = device\n",
    "        self.model = torch.load(model_path, map_location = self.device)\n",
    "        self.model.eval()\n",
    "        self.valid_or_test = valid_or_test\n",
    "        self.measure = Measure()\n",
    "        self.total = 2*len(datasets.data[valid_or_test])\n",
    "    def get_all_facts(self):\n",
    "        triples = []\n",
    "        for sql in ['train2id', 'valid2id', 'test2id']:\n",
    "            print(sql)\n",
    "            for fact in self.datasets.data[sql]:\n",
    "                triples.append(tuple(fact))\n",
    "        return triples\n",
    "    def add_rel_fact(self, fact, head_or_tail):\n",
    "        h, r, t = fact\n",
    "        \n",
    "        add_triple = []\n",
    "        if head_or_tail == 'head':\n",
    "            for i in range(self.datasets.num_ent()):\n",
    "                if i == h:\n",
    "                    continue\n",
    "                add_triple.append((i, r, t))\n",
    "        elif head_or_tail == 'tail':\n",
    "            for i in range(self.datasets.num_ent()):\n",
    "                if i == t:\n",
    "                    continue\n",
    "                add_triple.append((h, r, i))\n",
    "        \n",
    "        return add_triple\n",
    "    def move_repeat_triple(self,add_facts, fact):\n",
    "        temp =  [tuple(fact)] + list( set(add_facts)- self.all_facts)\n",
    "        return np.array(temp)\n",
    "    \n",
    "    def change_torch(self, add_triple):\n",
    "        h = add_triple[:, 0]\n",
    "        r = add_triple[:,1]\n",
    "        t = add_triple[:, 2]\n",
    "        return torch.LongTensor(h).to(self.device), torch.LongTensor(r).to(self.device), torch.LongTensor(t).to(self.device)\n",
    "    def test(self):\n",
    "        cn = 0\n",
    "        for fact in self.datasets.data[self.valid_or_test]:\n",
    "            for head_or_tail in ['head', 'tail']:\n",
    "                new_facts = self.add_rel_fact(fact, head_or_tail)\n",
    "                move_facts = self.move_repeat_triple(new_facts, fact)\n",
    "                #print(len(move_facts))\n",
    "                h,r,t = self.change_torch(move_facts)\n",
    "                pred = self.model.predict(h, r, t)\n",
    "            \n",
    "                rank = (pred >= pred[0]).sum()\n",
    "                cn += 1\n",
    "                self.measure.update(rank)\n",
    "        self.measure.final_process(self.total)\n",
    "        print(cn)\n",
    "        self.measure.print_()    "
   ]
  },
  {
   "cell_type": "code",
   "execution_count": null,
   "id": "7baa912f",
   "metadata": {},
   "outputs": [
    {
     "name": "stdout",
     "output_type": "stream",
     "text": [
      "train2id\n",
      "valid2id\n",
      "test2id\n"
     ]
    }
   ],
   "source": [
    "model_path = '/home/qiupp/codestore/ConvKB/models/300.pkl'\n",
    "Test = Tester(datasets, model_path, device,  'valid2id')\n",
    "Test.test()"
   ]
  },
  {
   "cell_type": "code",
   "execution_count": 52,
   "id": "8d207339",
   "metadata": {},
   "outputs": [
    {
     "name": "stdout",
     "output_type": "stream",
     "text": [
      "[1 2 3 4 5]\n"
     ]
    }
   ],
   "source": []
  },
  {
   "cell_type": "code",
   "execution_count": 19,
   "id": "235a73ed",
   "metadata": {},
   "outputs": [
    {
     "name": "stdout",
     "output_type": "stream",
     "text": [
      "10\n"
     ]
    }
   ],
   "source": []
  },
  {
   "cell_type": "code",
   "execution_count": 19,
   "id": "2c5bd8d7",
   "metadata": {},
   "outputs": [
    {
     "name": "stdout",
     "output_type": "stream",
     "text": [
      "tensor([-1., -2., -3.])\n"
     ]
    }
   ],
   "source": []
  },
  {
   "cell_type": "code",
   "execution_count": 52,
   "id": "2b9d89f7",
   "metadata": {},
   "outputs": [
    {
     "name": "stdout",
     "output_type": "stream",
     "text": [
      "tensor(4.0764) tensor(4.7772)\n"
     ]
    }
   ],
   "source": [
    "\n"
   ]
  },
  {
   "cell_type": "code",
   "execution_count": null,
   "id": "dd40d5f2",
   "metadata": {},
   "outputs": [],
   "source": []
  }
 ],
 "metadata": {
  "kernelspec": {
   "display_name": "Python 3 (ipykernel)",
   "language": "python",
   "name": "python3"
  },
  "language_info": {
   "codemirror_mode": {
    "name": "ipython",
    "version": 3
   },
   "file_extension": ".py",
   "mimetype": "text/x-python",
   "name": "python",
   "nbconvert_exporter": "python",
   "pygments_lexer": "ipython3",
   "version": "3.8.12"
  }
 },
 "nbformat": 4,
 "nbformat_minor": 5
}
