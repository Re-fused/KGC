{
 "cells": [
  {
   "cell_type": "code",
   "execution_count": 1,
   "id": "c32aa654",
   "metadata": {},
   "outputs": [
    {
     "name": "stderr",
     "output_type": "stream",
     "text": [
      "2022-05-05 04:14:50,201 - root - INFO - Test info\n",
      "2022-05-05 04:14:50,204 - root - DEBUG - Test debug\n",
      "2022-05-05 04:14:50,206 - root - ERROR - Test error\n"
     ]
    }
   ],
   "source": [
    "\n",
    "import logging\n",
    "import os\n",
    "logger = logging.getLogger()\n",
    " \n",
    "formatter = logging.Formatter('%(asctime)s - %(name)s - %(levelname)s - %(message)s')\n",
    " \n",
    "# Setup file handler\n",
    "fhandler  = logging.FileHandler('my.log')\n",
    "fhandler.setLevel(logging.DEBUG)\n",
    "fhandler.setFormatter(formatter)\n",
    " \n",
    "# Configure stream handler for the cells\n",
    "chandler = logging.StreamHandler()\n",
    "chandler.setLevel(logging.DEBUG)\n",
    "chandler.setFormatter(formatter)\n",
    " \n",
    "# Add both handlers\n",
    "logger.addHandler(fhandler)\n",
    "logger.addHandler(chandler)\n",
    "logger.setLevel(logging.DEBUG)\n",
    " \n",
    "# Show the handlers\n",
    "logger.handlers\n",
    " \n",
    "# Log Something\n",
    "logger.info(\"Test info\")\n",
    "logger.debug(\"Test debug\")\n",
    "logger.error(\"Test error\")\n"
   ]
  },
  {
   "cell_type": "code",
   "execution_count": 2,
   "id": "fa04e9c9",
   "metadata": {},
   "outputs": [],
   "source": [
    "import torch\n",
    "import torch.nn as nn\n",
    "\n",
    "class Config:\n",
    "    def __init__(self):\n",
    "        self.ent_num = 10\n",
    "        self.rel_num = 10\n",
    "        self.dim = 100\n",
    "        self.neg_ratio = 100\n",
    "        self.batch_size = 100\n",
    "        self.device = torch.device(\"cuda:0\" if torch.cuda.is_available() else \"cpu\")\n",
    "        self.lambd = 0.00001\n",
    "        self.lr = 0.001\n",
    "        self.epochs = 30\n",
    "        self.ent_dim = 100\n",
    "        self.rel_dim = 100\n",
    "        self.data_path = \"/home/qiupp/data/\"\n",
    "        self.data_name = \"FB15k-237\"\n",
    "        self.model_path = \"/home/qiupp/codestore/NTN/models\"\n",
    "    def init_rel_ent(self, ent_num, rel_num):\n",
    "        self.ent_num = ent_num\n",
    "        self.rel_num = rel_num\n",
    "        "
   ]
  },
  {
   "cell_type": "code",
   "execution_count": 3,
   "id": "faaee909",
   "metadata": {},
   "outputs": [],
   "source": [
    "class NTN(nn.Module):\n",
    "    def __init__(self, config):\n",
    "        super(NTN, self).__init__()\n",
    "        self.config = config\n",
    "        self.ent_emb = nn.Embedding(config.ent_num, config.ent_dim)\n",
    "        self.rel_emb = nn.Embedding(config.rel_num, config.rel_dim)\n",
    "        \n",
    "        \n",
    "        self.mr = nn.Parameter(torch.randn(config.rel_dim, config.ent_dim*config.ent_dim),requires_grad=True)\n",
    "        self.mr1 = nn.Parameter(torch.randn(config.ent_dim, config.rel_dim))\n",
    "        \n",
    "        self.mr2 = nn.Parameter(torch.randn(config.ent_dim, config.rel_dim))\n",
    "        \n",
    "        self.b = nn.Parameter(torch.randn(1, config.rel_dim))\n",
    "                              \n",
    "        self.init()\n",
    "        self.loss = nn.Softplus()\n",
    "    def init(self):\n",
    "        nn.init.xavier_normal_(self.ent_emb.weight.data)\n",
    "        nn.init.xavier_normal_(self.rel_emb.weight.data)\n",
    "        nn.init.xavier_normal_(self.mr.data)\n",
    "        nn.init.xavier_normal_(self.mr1.data)\n",
    "        nn.init.xavier_normal_(self.mr2.data)\n",
    "        \n",
    "    def forward(self, h, r, t):\n",
    "        h_e = self.ent_emb(h)\n",
    "        r_e = self.rel_emb(r)\n",
    "        t_e = self.ent_emb(t)\n",
    "        \n",
    "        mr1_res = torch.mm(h_e,self.mr1)\n",
    "        mr2_res = torch.mm(t_e, self.mr2)\n",
    "                              \n",
    "        \n",
    "        expand_h = h_e.unsqueeze(0).repeat(self.config.rel_dim, 1, 1)\n",
    "        expand_t = t_e.unsqueeze(-1)\n",
    "        mr_res = torch.matmul(expand_h, self.mr.view(self.config.rel_dim, self.config.ent_dim, self.config.ent_dim)).permute(1, 0, 2)\n",
    "#         print(mr_res.shape)\n",
    "        mr_all = torch.matmul(mr_res, expand_t)\n",
    "        mr_all = mr_all.squeeze(-1)\n",
    "        \n",
    "        return torch.sum(torch.tanh(mr_all+mr1_res+mr2_res+self.b)*r_e, -1)\n",
    "    def regularization(self):\n",
    "        return ((torch.norm(self.ent_emb.weight, 2)**2)+\\\n",
    "                (torch.norm(self.rel_emb.weight, 2)**2)+\\\n",
    "                (torch.norm(self.mr)**2)+\\\n",
    "                (torch.norm(self.mr1)**2)+\\\n",
    "                (torch.norm(self.mr2)**2))\n",
    "    \n",
    "   \n",
    "        \n",
    "    "
   ]
  },
  {
   "cell_type": "code",
   "execution_count": 4,
   "id": "516b9adb",
   "metadata": {},
   "outputs": [],
   "source": [
    "# config = Config()\n",
    "# h = torch.zeros(10).long()\n",
    "# r = torch.zeros(10).long()\n",
    "# t = torch.zeros(10).long()\n",
    "# print(config.ent_num, config.rel_num)\n",
    "# model = NTN(config)\n",
    "# x = model(h, r, t)\n",
    "# print(x.shape)"
   ]
  },
  {
   "cell_type": "code",
   "execution_count": 5,
   "id": "0fbb4d5f",
   "metadata": {},
   "outputs": [],
   "source": [
    "\n",
    "class loadData:\n",
    "    def __init__(self, congfig):\n",
    "        self.path = congfig.data_path+congfig.data_name+\"/\"#文件路径自己设置\n",
    "        self.rel2id = {}\n",
    "        self.ent2id = {}\n",
    "        self.data = {sql: self.read(sql) for sql in ['train', 'valid', 'test']}\n",
    "        \n",
    "    def read(self, file_name):\n",
    "        with open(self.path+file_name+'.txt', 'r') as f:\n",
    "            lines = f.readlines()\n",
    "        triples = []\n",
    "        for line in lines:\n",
    "            temp = line.strip().split()\n",
    "            triples.append((self.get_ent(temp[0]), self.get_rel(temp[1]), self.get_ent(temp[2])))\n",
    "        return triples\n",
    "    \n",
    "    def get_ent(self,ent):\n",
    "        if not ent in self.ent2id.keys():\n",
    "            self.ent2id[ent] = len(self.ent2id)\n",
    "        return self.ent2id[ent]\n",
    "    def get_rel(self, rel):\n",
    "        if not rel in self.rel2id.keys():\n",
    "            self.rel2id[rel] = len(self.rel2id)\n",
    "        return self.rel2id[rel]\n",
    "    def ent_num(self):\n",
    "        return len(self.ent2id)\n",
    "    \n",
    "    def rel_num(self):\n",
    "        return len(self.rel2id)\n",
    "    "
   ]
  },
  {
   "cell_type": "code",
   "execution_count": 6,
   "id": "199ab95e",
   "metadata": {},
   "outputs": [],
   "source": [
    "from torch.utils.data import DataLoader, Dataset\n",
    "import numpy as np\n",
    "from random import randint,random, shuffle\n",
    "class MyTrainData(Dataset):\n",
    "    def __init__(self, loaddata, config):\n",
    "        super(MyTrainData,self).__init__()\n",
    "        self.data = loaddata.data['train']\n",
    "        self.config = config\n",
    "    def __len__(self):\n",
    "        return len(self.data)\n",
    "    \n",
    "    def randValue(self, value):\n",
    "        temp = randint(0, self.config.ent_num-1)\n",
    "        while temp == value:\n",
    "            temp = randint(0, self.config.ent_num-1)\n",
    "        return temp\n",
    "    \n",
    "    \n",
    "    \n",
    "    def __getitem__(self, index):\n",
    "        fact = self.data[index]\n",
    "        fact = np.expand_dims(fact, axis = 0)\n",
    "        \n",
    "        neg = np.repeat(fact, self.config.neg_ratio, axis=0)\n",
    "        for i in  range(self.config.neg_ratio):\n",
    "            if random() < 0.5:\n",
    "                neg[i][0] = self.randValue(neg[i][0])\n",
    "            else:\n",
    "                neg[i][2] = self.randValue(neg[i][2])\n",
    "        fact = np.append(fact, 1)\n",
    "        neg = np.append(neg, -np.ones((self.config.neg_ratio, 1)), axis = 1)\n",
    "        return torch.LongTensor(fact), torch.LongTensor(neg)\n",
    "        \n",
    "        \n",
    "        \n",
    "        "
   ]
  },
  {
   "cell_type": "code",
   "execution_count": 7,
   "id": "308c9478",
   "metadata": {},
   "outputs": [],
   "source": [
    "class MyTestData(Dataset):\n",
    "    def __init__(self, loaddata, data_type):\n",
    "        self.data = loaddata.data[data_type]\n",
    "        self.ent_num = loaddata.ent_num()\n",
    "        self.loaddata = loaddata\n",
    "        self.all_facts = set(self.get_all_facts())\n",
    "        \n",
    "    def get_all_facts(self):\n",
    "        triples = []\n",
    "        for sql in ['train', 'valid', 'test']:\n",
    "            for fact in self.loaddata.data[sql]:\n",
    "                triples.append(fact)\n",
    "        return triples\n",
    "        \n",
    "        \n",
    "        \n",
    "    def __len__(self):\n",
    "        return len(self.data)\n",
    "    \n",
    "    def __getitem__(self, index):\n",
    "        fact = self.data[index]\n",
    "        neg_tail = []\n",
    "        h, r, t = fact\n",
    "        for i in range(0,self.ent_num):\n",
    "            if t == i:\n",
    "                continue\n",
    "            neg_tail.append((h, r, i))\n",
    "            \n",
    "        neg_tail = [fact]+list(set(neg_tail)-self.all_facts)\n",
    "        \n",
    "        neg_head = []\n",
    "        for i in range(0,self.ent_num):\n",
    "            if h == i:\n",
    "                continue\n",
    "            neg_head.append((i, r, t))\n",
    "        \n",
    "        neg_head = [fact]+list(set(neg_head)-self.all_facts)\n",
    "        return torch.LongTensor(neg_head), torch.LongTensor(neg_tail)"
   ]
  },
  {
   "cell_type": "code",
   "execution_count": 8,
   "id": "798e728a",
   "metadata": {},
   "outputs": [],
   "source": [
    "class Measure:\n",
    "    def __init__(self):\n",
    "        self.mrr = {'head':0.0, 'tail':0.0}\n",
    "        self.mr = {'head':0.0, 'tail':0.0}\n",
    "        self.hit1  = {'head':0.0, 'tail':0.0}\n",
    "        self.hit3 = {'head':0.0, 'tail':0.0}\n",
    "        self.hit10 = {'head':0.0, 'tail':0.0}\n",
    "    def updata(self, rank, head_tail):\n",
    "        if rank == 1:\n",
    "            self.hit1[head_tail] += 1\n",
    "        if rank <= 3:\n",
    "            self.hit3[head_tail] += 1\n",
    "        if rank <= 10:\n",
    "            self.hit10[head_tail] += 1\n",
    "        self.mr[head_tail] += rank\n",
    "        self.mrr[head_tail] += 1.0/rank\n",
    "    def total_deal(self, fact_num):\n",
    "        print(\"---------result--------\")\n",
    "        logger.info('hit1:'+str((self.hit1['head']+self.hit1['tail'])/fact_num))\n",
    "        logger.info('hit3:'+str((self.hit3['head']+self.hit3['tail'])/fact_num))\n",
    "        logger.info('hit10:'+str((self.hit10['head']+self.hit10['tail'])/fact_num))\n",
    "        logger.info('mr:'+str((self.mr['head']+self.mr['tail'])/fact_num))\n",
    "        logger.info('mrr:'+str((self.mrr['head']+self.mrr['tail'])/fact_num))\n",
    "        return (self.mrr['head']+self.mrr['tail'])/fact_num\n",
    "    def init(self):\n",
    "        self.mrr = {'head':0.0, 'tail':0.0}\n",
    "        self.mr = {'head':0.0, 'tail':0.0}\n",
    "        self.hit1  = {'head':0.0, 'tail':0.0}\n",
    "        self.hit3 = {'head':0.0, 'tail':0.0}\n",
    "        self.hit10 = {'head':0.0, 'tail':0.0}\n",
    "        \n",
    "        "
   ]
  },
  {
   "cell_type": "code",
   "execution_count": 9,
   "id": "91876b63",
   "metadata": {},
   "outputs": [],
   "source": [
    "import os\n",
    "from tqdm import trange\n",
    "os.environ['CUDA_LAUNCH_BLOCKING'] = '1'\n",
    "class Trainer:\n",
    "    def __init__(self, config, loaddata, model):\n",
    "        self.config = config\n",
    "        self.loaddata = loaddata\n",
    "        self.train_loader, self.valid_loader = self.init_data() \n",
    "        self.model = model.to(config.device)\n",
    "        self.measure = Measure()\n",
    "        self.fact_num = len(loaddata.data['valid'])\n",
    "    def init_data(self):\n",
    "        myTrainData = MyTrainData(self.loaddata, config)\n",
    "        train_loader = DataLoader(myTrainData,batch_size = config.batch_size, shuffle = True)\n",
    "        \n",
    "        myTestData = MyTestData(self.loaddata, 'valid')\n",
    "        valid_loader =  DataLoader(myTestData, batch_size = 1, shuffle = True)\n",
    "        return train_loader,valid_loader\n",
    "    def train(self):\n",
    "        best_acc = 0.0\n",
    "        optimizer = torch.optim.Adam(self.model.parameters(), lr = self.config.lr)\n",
    "        for epoch in trange(1, self.config.epochs+1):\n",
    "            self.model.train()\n",
    "            tot = 0.0\n",
    "            cn = 0\n",
    "            for i, (pos, neg) in enumerate(self.train_loader):\n",
    "                neg = neg.view(-1, neg.shape[-1])\n",
    "                data = torch.cat([pos, neg], dim = 0)\n",
    "                index = [i for i in range(data.shape[0])]\n",
    "                shuffle(index)\n",
    "                data = data[index]\n",
    "                data = data.to(self.config.device)\n",
    "                h = data[:,0]\n",
    "#                 print(data.shape, self.config.batch_size)\n",
    "                r = data[:, 1]\n",
    "                t = data[:, 2]\n",
    "                labels = data[:, -1]\n",
    "                optimizer.zero_grad()\n",
    "#                 print(h.max(),h.min(), t.max(), t.min())\n",
    "                scores = self.model(h, r, t)\n",
    "#                 print(scores.shape)\n",
    "                \n",
    "                loss = torch.sum(self.model.loss(-labels*scores))+self.config.lambd*self.model.regularization()/h.shape[0]\n",
    "                loss.backward()\n",
    "                optimizer.step()\n",
    "                tot += loss.cpu().item()\n",
    "                cn = cn + 1\n",
    "            print(\"------loss:\"+str(tot/cn)+\"-------\")\n",
    "            \n",
    "            self.model.eval()\n",
    "            self.measure.init()\n",
    "            for i,(head, tail) in enumerate(self.valid_loader):\n",
    "                head = head.view(-1, 3)\n",
    "                head = head.to(self.config.device)\n",
    "#                 print(head.shape)\n",
    "                h = head[:, 0]\n",
    "                r = head[:, 1]\n",
    "                t = head[:, 2]\n",
    "#                 print(h.max(),h.min(), t.max(), t.min())\n",
    "                score = self.model(h, r, t)\n",
    "                score = score.cpu().data.numpy()\n",
    "                rank = (score >= score[0]).sum()\n",
    "                self.measure.updata(rank, 'head')\n",
    "                \n",
    "                tail = tail.view(-1, 3)\n",
    "                tail = tail.to(self.config.device)\n",
    "                h = tail[:, 0]\n",
    "                r = tail[:, 1]\n",
    "                t = tail[:, 2]\n",
    "#                 print(h.max(),h.min(), t.max(), t.min())\n",
    "#                 print(tail)\n",
    "                score = self.model(h, r, t)\n",
    "                score = score.cpu().data.numpy()\n",
    "                rank = (score >= score[0]).sum()\n",
    "                self.measure.updata(rank, 'tail')\n",
    "            acc = self.measure.total_deal(self.fact_num*2)\n",
    "            if acc > best_acc:\n",
    "                best_acc = acc\n",
    "                self.save_mode()\n",
    "                \n",
    "                \n",
    "    def save_mode(self): \n",
    "        #模型存储路径\n",
    "        save_path = self.config.model_path+'/'\n",
    "        if not os.path.exists(save_path):\n",
    "            os.mkdir(save_path)\n",
    "        torch.save(self.model.state_dict(),save_path+config.data_name+\"_best_acc.pkl\" )"
   ]
  },
  {
   "cell_type": "code",
   "execution_count": 10,
   "id": "224edafd",
   "metadata": {},
   "outputs": [
    {
     "name": "stdout",
     "output_type": "stream",
     "text": [
      "100 237 cuda:0\n"
     ]
    },
    {
     "name": "stderr",
     "output_type": "stream",
     "text": [
      "\r",
      "  0%|                                                                                  | 0/30 [00:00<?, ?it/s]"
     ]
    },
    {
     "name": "stdout",
     "output_type": "stream",
     "text": [
      "------loss:538.602685974592-------\n"
     ]
    },
    {
     "name": "stderr",
     "output_type": "stream",
     "text": [
      "2022-05-05 04:37:22,212 - root - INFO - hit1:0.05856857713145138\n",
      "2022-05-05 04:37:22,213 - root - INFO - hit3:0.11936127744510978\n",
      "2022-05-05 04:37:22,213 - root - INFO - hit10:0.24468206444254348\n",
      "2022-05-05 04:37:22,213 - root - INFO - mr:621.4845451953237\n",
      "2022-05-05 04:37:22,214 - root - INFO - mrr:0.11781722447191591\n",
      "  3%|██▎                                                                  | 1/30 [22:21<10:48:10, 1341.05s/it]"
     ]
    },
    {
     "name": "stdout",
     "output_type": "stream",
     "text": [
      "---------result--------\n",
      "------loss:272.94247306190283-------\n"
     ]
    },
    {
     "name": "stderr",
     "output_type": "stream",
     "text": [
      "2022-05-05 05:00:03,332 - root - INFO - hit1:0.09264328485885372\n",
      "2022-05-05 05:00:03,333 - root - INFO - hit3:0.18209295694325633\n",
      "2022-05-05 05:00:03,334 - root - INFO - hit10:0.33088109495295126\n",
      "2022-05-05 05:00:03,335 - root - INFO - mr:286.25705731394356\n",
      "2022-05-05 05:00:03,336 - root - INFO - mrr:0.1699377658738804\n",
      "  7%|████▌                                                                | 2/30 [45:02<10:31:19, 1352.84s/it]"
     ]
    },
    {
     "name": "stdout",
     "output_type": "stream",
     "text": [
      "---------result--------\n",
      "------loss:226.5301486890514-------\n"
     ]
    },
    {
     "name": "stderr",
     "output_type": "stream",
     "text": [
      "2022-05-05 05:22:28,184 - root - INFO - hit1:0.10704305674365555\n",
      "2022-05-05 05:22:28,185 - root - INFO - hit3:0.20444824636441403\n",
      "2022-05-05 05:22:28,185 - root - INFO - hit10:0.3624465355004277\n",
      "2022-05-05 05:22:28,186 - root - INFO - mr:230.0865982321072\n",
      "2022-05-05 05:22:28,186 - root - INFO - mrr:0.18984608013348603\n",
      " 10%|██████▋                                                            | 3/30 [1:07:26<10:07:08, 1349.19s/it]"
     ]
    },
    {
     "name": "stdout",
     "output_type": "stream",
     "text": [
      "---------result--------\n",
      "------loss:201.3248657020552-------\n"
     ]
    },
    {
     "name": "stderr",
     "output_type": "stream",
     "text": [
      "2022-05-05 05:45:13,526 - root - INFO - hit1:0.1155688622754491\n",
      "2022-05-05 05:45:13,527 - root - INFO - hit3:0.21551183347590533\n",
      "2022-05-05 05:45:13,527 - root - INFO - hit10:0.37924151696606784\n",
      "2022-05-05 05:45:13,528 - root - INFO - mr:222.21998859424008\n",
      "2022-05-05 05:45:13,528 - root - INFO - mrr:0.2005671816202323\n",
      " 13%|█████████                                                           | 4/30 [1:30:12<9:47:25, 1355.58s/it]"
     ]
    },
    {
     "name": "stdout",
     "output_type": "stream",
     "text": [
      "---------result--------\n",
      "------loss:184.1932334444437-------\n"
     ]
    },
    {
     "name": "stderr",
     "output_type": "stream",
     "text": [
      "2022-05-05 06:07:51,799 - root - INFO - hit1:0.11534074707727403\n",
      "2022-05-05 06:07:51,800 - root - INFO - hit3:0.2184203022526376\n",
      "2022-05-05 06:07:51,801 - root - INFO - hit10:0.38910749928714\n",
      "2022-05-05 06:07:51,802 - root - INFO - mr:226.34140290846878\n",
      "2022-05-05 06:07:51,802 - root - INFO - mrr:0.20307225570512372\n",
      " 17%|███████████▎                                                        | 5/30 [1:52:50<9:25:13, 1356.55s/it]"
     ]
    },
    {
     "name": "stdout",
     "output_type": "stream",
     "text": [
      "---------result--------\n",
      "------loss:170.4230008318002-------\n"
     ]
    },
    {
     "name": "stderr",
     "output_type": "stream",
     "text": [
      "2022-05-05 06:30:02,508 - root - INFO - hit1:0.11656686626746507\n",
      "2022-05-05 06:30:02,509 - root - INFO - hit3:0.22189905902480753\n",
      "2022-05-05 06:30:02,510 - root - INFO - hit10:0.39144568006843455\n",
      "2022-05-05 06:30:02,510 - root - INFO - mr:236.05480467636156\n",
      "2022-05-05 06:30:02,511 - root - INFO - mrr:0.20502562631219226\n",
      " 20%|█████████████▌                                                      | 6/30 [2:15:01<8:59:06, 1347.77s/it]"
     ]
    },
    {
     "name": "stdout",
     "output_type": "stream",
     "text": [
      "---------result--------\n",
      "------loss:160.08705460473425-------\n"
     ]
    },
    {
     "name": "stderr",
     "output_type": "stream",
     "text": [
      "2022-05-05 06:52:43,913 - root - INFO - hit1:0.11685201026518392\n",
      "2022-05-05 06:52:43,915 - root - INFO - hit3:0.22540633019674935\n",
      "2022-05-05 06:52:43,916 - root - INFO - hit10:0.3971485600228115\n",
      "2022-05-05 06:52:43,917 - root - INFO - mr:246.89495295124038\n",
      "2022-05-05 06:52:43,918 - root - INFO - mrr:0.20665175626716703\n",
      " 23%|███████████████▊                                                    | 7/30 [2:37:42<8:38:21, 1352.22s/it]"
     ]
    },
    {
     "name": "stdout",
     "output_type": "stream",
     "text": [
      "---------result--------\n",
      "------loss:151.27308793176542-------\n"
     ]
    },
    {
     "name": "stderr",
     "output_type": "stream",
     "text": [
      "2022-05-05 07:15:12,857 - root - INFO - hit1:0.11628172226974622\n",
      "2022-05-05 07:15:12,858 - root - INFO - hit3:0.22246934702024523\n",
      "2022-05-05 07:15:12,858 - root - INFO - hit10:0.3909894496720844\n",
      "2022-05-05 07:15:12,859 - root - INFO - mr:261.40481893356144\n",
      "2022-05-05 07:15:12,859 - root - INFO - mrr:0.20434313953909694\n",
      " 27%|██████████████████▏                                                 | 8/30 [3:00:11<8:15:25, 1351.15s/it]"
     ]
    },
    {
     "name": "stdout",
     "output_type": "stream",
     "text": [
      "---------result--------\n",
      "------loss:143.725921910445-------\n"
     ]
    },
    {
     "name": "stderr",
     "output_type": "stream",
     "text": [
      "2022-05-05 07:37:44,554 - root - INFO - hit1:0.11767892785856858\n",
      "2022-05-05 07:37:44,556 - root - INFO - hit3:0.224009124607927\n",
      "2022-05-05 07:37:44,558 - root - INFO - hit10:0.39104647847162816\n",
      "2022-05-05 07:37:44,560 - root - INFO - mr:271.53350441973197\n",
      "2022-05-05 07:37:44,561 - root - INFO - mrr:0.20549648083903133\n",
      " 30%|████████████████████▍                                               | 9/30 [3:22:43<7:52:57, 1351.33s/it]"
     ]
    },
    {
     "name": "stdout",
     "output_type": "stream",
     "text": [
      "---------result--------\n",
      "------loss:137.6961223348636-------\n"
     ]
    },
    {
     "name": "stderr",
     "output_type": "stream",
     "text": [
      "2022-05-05 07:59:09,918 - root - INFO - hit1:0.11676646706586827\n",
      "2022-05-05 07:59:09,919 - root - INFO - hit3:0.22110065583119476\n",
      "2022-05-05 07:59:09,920 - root - INFO - hit10:0.3906187624750499\n",
      "2022-05-05 07:59:09,920 - root - INFO - mr:287.52104362703164\n",
      "2022-05-05 07:59:09,921 - root - INFO - mrr:0.2044233741507626\n",
      " 33%|██████████████████████▎                                            | 10/30 [3:44:08<7:23:39, 1330.96s/it]"
     ]
    },
    {
     "name": "stdout",
     "output_type": "stream",
     "text": [
      "---------result--------\n"
     ]
    },
    {
     "name": "stderr",
     "output_type": "stream",
     "text": [
      " 33%|██████████████████████▎                                            | 10/30 [3:47:15<7:34:30, 1363.52s/it]\n"
     ]
    },
    {
     "ename": "KeyboardInterrupt",
     "evalue": "",
     "output_type": "error",
     "traceback": [
      "\u001b[0;31m---------------------------------------------------------------------------\u001b[0m",
      "\u001b[0;31mKeyboardInterrupt\u001b[0m                         Traceback (most recent call last)",
      "Input \u001b[0;32mIn [10]\u001b[0m, in \u001b[0;36m<cell line: 9>\u001b[0;34m()\u001b[0m\n\u001b[1;32m      6\u001b[0m \u001b[38;5;66;03m# model.load_state_dict(torch.load(config.model_path+\"/\"+config.data_name+\"_best_acc.pkl\"))\u001b[39;00m\n\u001b[1;32m      8\u001b[0m trainer \u001b[38;5;241m=\u001b[39m Trainer(config, loaddata,model)\n\u001b[0;32m----> 9\u001b[0m \u001b[43mtrainer\u001b[49m\u001b[38;5;241;43m.\u001b[39;49m\u001b[43mtrain\u001b[49m\u001b[43m(\u001b[49m\u001b[43m)\u001b[49m\n",
      "Input \u001b[0;32mIn [9]\u001b[0m, in \u001b[0;36mTrainer.train\u001b[0;34m(self)\u001b[0m\n\u001b[1;32m     24\u001b[0m tot \u001b[38;5;241m=\u001b[39m \u001b[38;5;241m0.0\u001b[39m\n\u001b[1;32m     25\u001b[0m cn \u001b[38;5;241m=\u001b[39m \u001b[38;5;241m0\u001b[39m\n\u001b[0;32m---> 26\u001b[0m \u001b[38;5;28;01mfor\u001b[39;00m i, (pos, neg) \u001b[38;5;129;01min\u001b[39;00m \u001b[38;5;28menumerate\u001b[39m(\u001b[38;5;28mself\u001b[39m\u001b[38;5;241m.\u001b[39mtrain_loader):\n\u001b[1;32m     27\u001b[0m     neg \u001b[38;5;241m=\u001b[39m neg\u001b[38;5;241m.\u001b[39mview(\u001b[38;5;241m-\u001b[39m\u001b[38;5;241m1\u001b[39m, neg\u001b[38;5;241m.\u001b[39mshape[\u001b[38;5;241m-\u001b[39m\u001b[38;5;241m1\u001b[39m])\n\u001b[1;32m     28\u001b[0m     data \u001b[38;5;241m=\u001b[39m torch\u001b[38;5;241m.\u001b[39mcat([pos, neg], dim \u001b[38;5;241m=\u001b[39m \u001b[38;5;241m0\u001b[39m)\n",
      "File \u001b[0;32m~/.conda/envs/pytorch/lib/python3.8/site-packages/torch/utils/data/dataloader.py:521\u001b[0m, in \u001b[0;36m_BaseDataLoaderIter.__next__\u001b[0;34m(self)\u001b[0m\n\u001b[1;32m    519\u001b[0m \u001b[38;5;28;01mif\u001b[39;00m \u001b[38;5;28mself\u001b[39m\u001b[38;5;241m.\u001b[39m_sampler_iter \u001b[38;5;129;01mis\u001b[39;00m \u001b[38;5;28;01mNone\u001b[39;00m:\n\u001b[1;32m    520\u001b[0m     \u001b[38;5;28mself\u001b[39m\u001b[38;5;241m.\u001b[39m_reset()\n\u001b[0;32m--> 521\u001b[0m data \u001b[38;5;241m=\u001b[39m \u001b[38;5;28;43mself\u001b[39;49m\u001b[38;5;241;43m.\u001b[39;49m\u001b[43m_next_data\u001b[49m\u001b[43m(\u001b[49m\u001b[43m)\u001b[49m\n\u001b[1;32m    522\u001b[0m \u001b[38;5;28mself\u001b[39m\u001b[38;5;241m.\u001b[39m_num_yielded \u001b[38;5;241m+\u001b[39m\u001b[38;5;241m=\u001b[39m \u001b[38;5;241m1\u001b[39m\n\u001b[1;32m    523\u001b[0m \u001b[38;5;28;01mif\u001b[39;00m \u001b[38;5;28mself\u001b[39m\u001b[38;5;241m.\u001b[39m_dataset_kind \u001b[38;5;241m==\u001b[39m _DatasetKind\u001b[38;5;241m.\u001b[39mIterable \u001b[38;5;129;01mand\u001b[39;00m \\\n\u001b[1;32m    524\u001b[0m         \u001b[38;5;28mself\u001b[39m\u001b[38;5;241m.\u001b[39m_IterableDataset_len_called \u001b[38;5;129;01mis\u001b[39;00m \u001b[38;5;129;01mnot\u001b[39;00m \u001b[38;5;28;01mNone\u001b[39;00m \u001b[38;5;129;01mand\u001b[39;00m \\\n\u001b[1;32m    525\u001b[0m         \u001b[38;5;28mself\u001b[39m\u001b[38;5;241m.\u001b[39m_num_yielded \u001b[38;5;241m>\u001b[39m \u001b[38;5;28mself\u001b[39m\u001b[38;5;241m.\u001b[39m_IterableDataset_len_called:\n",
      "File \u001b[0;32m~/.conda/envs/pytorch/lib/python3.8/site-packages/torch/utils/data/dataloader.py:561\u001b[0m, in \u001b[0;36m_SingleProcessDataLoaderIter._next_data\u001b[0;34m(self)\u001b[0m\n\u001b[1;32m    559\u001b[0m \u001b[38;5;28;01mdef\u001b[39;00m \u001b[38;5;21m_next_data\u001b[39m(\u001b[38;5;28mself\u001b[39m):\n\u001b[1;32m    560\u001b[0m     index \u001b[38;5;241m=\u001b[39m \u001b[38;5;28mself\u001b[39m\u001b[38;5;241m.\u001b[39m_next_index()  \u001b[38;5;66;03m# may raise StopIteration\u001b[39;00m\n\u001b[0;32m--> 561\u001b[0m     data \u001b[38;5;241m=\u001b[39m \u001b[38;5;28;43mself\u001b[39;49m\u001b[38;5;241;43m.\u001b[39;49m\u001b[43m_dataset_fetcher\u001b[49m\u001b[38;5;241;43m.\u001b[39;49m\u001b[43mfetch\u001b[49m\u001b[43m(\u001b[49m\u001b[43mindex\u001b[49m\u001b[43m)\u001b[49m  \u001b[38;5;66;03m# may raise StopIteration\u001b[39;00m\n\u001b[1;32m    562\u001b[0m     \u001b[38;5;28;01mif\u001b[39;00m \u001b[38;5;28mself\u001b[39m\u001b[38;5;241m.\u001b[39m_pin_memory:\n\u001b[1;32m    563\u001b[0m         data \u001b[38;5;241m=\u001b[39m _utils\u001b[38;5;241m.\u001b[39mpin_memory\u001b[38;5;241m.\u001b[39mpin_memory(data)\n",
      "File \u001b[0;32m~/.conda/envs/pytorch/lib/python3.8/site-packages/torch/utils/data/_utils/fetch.py:49\u001b[0m, in \u001b[0;36m_MapDatasetFetcher.fetch\u001b[0;34m(self, possibly_batched_index)\u001b[0m\n\u001b[1;32m     47\u001b[0m \u001b[38;5;28;01mdef\u001b[39;00m \u001b[38;5;21mfetch\u001b[39m(\u001b[38;5;28mself\u001b[39m, possibly_batched_index):\n\u001b[1;32m     48\u001b[0m     \u001b[38;5;28;01mif\u001b[39;00m \u001b[38;5;28mself\u001b[39m\u001b[38;5;241m.\u001b[39mauto_collation:\n\u001b[0;32m---> 49\u001b[0m         data \u001b[38;5;241m=\u001b[39m [\u001b[38;5;28mself\u001b[39m\u001b[38;5;241m.\u001b[39mdataset[idx] \u001b[38;5;28;01mfor\u001b[39;00m idx \u001b[38;5;129;01min\u001b[39;00m possibly_batched_index]\n\u001b[1;32m     50\u001b[0m     \u001b[38;5;28;01melse\u001b[39;00m:\n\u001b[1;32m     51\u001b[0m         data \u001b[38;5;241m=\u001b[39m \u001b[38;5;28mself\u001b[39m\u001b[38;5;241m.\u001b[39mdataset[possibly_batched_index]\n",
      "File \u001b[0;32m~/.conda/envs/pytorch/lib/python3.8/site-packages/torch/utils/data/_utils/fetch.py:49\u001b[0m, in \u001b[0;36m<listcomp>\u001b[0;34m(.0)\u001b[0m\n\u001b[1;32m     47\u001b[0m \u001b[38;5;28;01mdef\u001b[39;00m \u001b[38;5;21mfetch\u001b[39m(\u001b[38;5;28mself\u001b[39m, possibly_batched_index):\n\u001b[1;32m     48\u001b[0m     \u001b[38;5;28;01mif\u001b[39;00m \u001b[38;5;28mself\u001b[39m\u001b[38;5;241m.\u001b[39mauto_collation:\n\u001b[0;32m---> 49\u001b[0m         data \u001b[38;5;241m=\u001b[39m [\u001b[38;5;28;43mself\u001b[39;49m\u001b[38;5;241;43m.\u001b[39;49m\u001b[43mdataset\u001b[49m\u001b[43m[\u001b[49m\u001b[43midx\u001b[49m\u001b[43m]\u001b[49m \u001b[38;5;28;01mfor\u001b[39;00m idx \u001b[38;5;129;01min\u001b[39;00m possibly_batched_index]\n\u001b[1;32m     50\u001b[0m     \u001b[38;5;28;01melse\u001b[39;00m:\n\u001b[1;32m     51\u001b[0m         data \u001b[38;5;241m=\u001b[39m \u001b[38;5;28mself\u001b[39m\u001b[38;5;241m.\u001b[39mdataset[possibly_batched_index]\n",
      "Input \u001b[0;32mIn [6]\u001b[0m, in \u001b[0;36mMyTrainData.__getitem__\u001b[0;34m(self, index)\u001b[0m\n\u001b[1;32m     27\u001b[0m         neg[i][\u001b[38;5;241m0\u001b[39m] \u001b[38;5;241m=\u001b[39m \u001b[38;5;28mself\u001b[39m\u001b[38;5;241m.\u001b[39mrandValue(neg[i][\u001b[38;5;241m0\u001b[39m])\n\u001b[1;32m     28\u001b[0m     \u001b[38;5;28;01melse\u001b[39;00m:\n\u001b[0;32m---> 29\u001b[0m         neg[i][\u001b[38;5;241m2\u001b[39m] \u001b[38;5;241m=\u001b[39m \u001b[38;5;28;43mself\u001b[39;49m\u001b[38;5;241;43m.\u001b[39;49m\u001b[43mrandValue\u001b[49m\u001b[43m(\u001b[49m\u001b[43mneg\u001b[49m\u001b[43m[\u001b[49m\u001b[43mi\u001b[49m\u001b[43m]\u001b[49m\u001b[43m[\u001b[49m\u001b[38;5;241;43m2\u001b[39;49m\u001b[43m]\u001b[49m\u001b[43m)\u001b[49m\n\u001b[1;32m     30\u001b[0m fact \u001b[38;5;241m=\u001b[39m np\u001b[38;5;241m.\u001b[39mappend(fact, \u001b[38;5;241m1\u001b[39m)\n\u001b[1;32m     31\u001b[0m neg \u001b[38;5;241m=\u001b[39m np\u001b[38;5;241m.\u001b[39mappend(neg, \u001b[38;5;241m-\u001b[39mnp\u001b[38;5;241m.\u001b[39mones((\u001b[38;5;28mself\u001b[39m\u001b[38;5;241m.\u001b[39mconfig\u001b[38;5;241m.\u001b[39mneg_ratio, \u001b[38;5;241m1\u001b[39m)), axis \u001b[38;5;241m=\u001b[39m \u001b[38;5;241m1\u001b[39m)\n",
      "Input \u001b[0;32mIn [6]\u001b[0m, in \u001b[0;36mMyTrainData.randValue\u001b[0;34m(self, value)\u001b[0m\n\u001b[1;32m     12\u001b[0m \u001b[38;5;28;01mdef\u001b[39;00m \u001b[38;5;21mrandValue\u001b[39m(\u001b[38;5;28mself\u001b[39m, value):\n\u001b[0;32m---> 13\u001b[0m     temp \u001b[38;5;241m=\u001b[39m \u001b[43mrandint\u001b[49m\u001b[43m(\u001b[49m\u001b[38;5;241;43m0\u001b[39;49m\u001b[43m,\u001b[49m\u001b[43m \u001b[49m\u001b[38;5;28;43mself\u001b[39;49m\u001b[38;5;241;43m.\u001b[39;49m\u001b[43mconfig\u001b[49m\u001b[38;5;241;43m.\u001b[39;49m\u001b[43ment_num\u001b[49m\u001b[38;5;241;43m-\u001b[39;49m\u001b[38;5;241;43m1\u001b[39;49m\u001b[43m)\u001b[49m\n\u001b[1;32m     14\u001b[0m     \u001b[38;5;28;01mwhile\u001b[39;00m temp \u001b[38;5;241m==\u001b[39m value:\n\u001b[1;32m     15\u001b[0m         temp \u001b[38;5;241m=\u001b[39m randint(\u001b[38;5;241m0\u001b[39m, \u001b[38;5;28mself\u001b[39m\u001b[38;5;241m.\u001b[39mconfig\u001b[38;5;241m.\u001b[39ment_num\u001b[38;5;241m-\u001b[39m\u001b[38;5;241m1\u001b[39m)\n",
      "File \u001b[0;32m~/.conda/envs/pytorch/lib/python3.8/random.py:248\u001b[0m, in \u001b[0;36mRandom.randint\u001b[0;34m(self, a, b)\u001b[0m\n\u001b[1;32m    244\u001b[0m \u001b[38;5;28;01mdef\u001b[39;00m \u001b[38;5;21mrandint\u001b[39m(\u001b[38;5;28mself\u001b[39m, a, b):\n\u001b[1;32m    245\u001b[0m     \u001b[38;5;124;03m\"\"\"Return random integer in range [a, b], including both end points.\u001b[39;00m\n\u001b[1;32m    246\u001b[0m \u001b[38;5;124;03m    \"\"\"\u001b[39;00m\n\u001b[0;32m--> 248\u001b[0m     \u001b[38;5;28;01mreturn\u001b[39;00m \u001b[38;5;28;43mself\u001b[39;49m\u001b[38;5;241;43m.\u001b[39;49m\u001b[43mrandrange\u001b[49m\u001b[43m(\u001b[49m\u001b[43ma\u001b[49m\u001b[43m,\u001b[49m\u001b[43m \u001b[49m\u001b[43mb\u001b[49m\u001b[38;5;241;43m+\u001b[39;49m\u001b[38;5;241;43m1\u001b[39;49m\u001b[43m)\u001b[49m\n",
      "File \u001b[0;32m~/.conda/envs/pytorch/lib/python3.8/random.py:213\u001b[0m, in \u001b[0;36mRandom.randrange\u001b[0;34m(self, start, stop, step, _int)\u001b[0m\n\u001b[1;32m    211\u001b[0m \u001b[38;5;28;01mif\u001b[39;00m istart \u001b[38;5;241m!=\u001b[39m start:\n\u001b[1;32m    212\u001b[0m     \u001b[38;5;28;01mraise\u001b[39;00m \u001b[38;5;167;01mValueError\u001b[39;00m(\u001b[38;5;124m\"\u001b[39m\u001b[38;5;124mnon-integer arg 1 for randrange()\u001b[39m\u001b[38;5;124m\"\u001b[39m)\n\u001b[0;32m--> 213\u001b[0m \u001b[38;5;28;01mif\u001b[39;00m \u001b[43mstop\u001b[49m\u001b[43m \u001b[49m\u001b[38;5;129;43;01mis\u001b[39;49;00m\u001b[43m \u001b[49m\u001b[38;5;28;43;01mNone\u001b[39;49;00m:\n\u001b[1;32m    214\u001b[0m     \u001b[38;5;28;01mif\u001b[39;00m istart \u001b[38;5;241m>\u001b[39m \u001b[38;5;241m0\u001b[39m:\n\u001b[1;32m    215\u001b[0m         \u001b[38;5;28;01mreturn\u001b[39;00m \u001b[38;5;28mself\u001b[39m\u001b[38;5;241m.\u001b[39m_randbelow(istart)\n",
      "\u001b[0;31mKeyboardInterrupt\u001b[0m: "
     ]
    }
   ],
   "source": [
    "config = Config()\n",
    "loaddata = loadData(config)\n",
    "config.init_rel_ent(loaddata.ent_num(), loaddata.rel_num())\n",
    "print(config.batch_size, config.rel_num,config.device)\n",
    "model = NTN(config)\n",
    "# model.load_state_dict(torch.load(config.model_path+\"/\"+config.data_name+\"_best_acc.pkl\"))\n",
    "\n",
    "trainer = Trainer(config, loaddata,model)\n",
    "trainer.train()"
   ]
  },
  {
   "cell_type": "code",
   "execution_count": 11,
   "id": "5ef77b58",
   "metadata": {},
   "outputs": [],
   "source": [
    "class Tester:\n",
    "    def __init__(self, model, loaddata, config):\n",
    "        \n",
    "        self.loaddata = loaddata\n",
    "        self.test_loader = self.loadTest()\n",
    "        self.measure = Measure()\n",
    "        self.fact_num = len(loaddata.data['test'])\n",
    "        self.config = config\n",
    "        self.model = model.to(config.device)\n",
    "    def loadTest(self):\n",
    "        myTestData = MyTestData(self.loaddata, 'test')\n",
    "        test_loader = DataLoader(myTestData, batch_size = 1, shuffle = True)\n",
    "        return test_loader\n",
    "    def test(self):\n",
    "        for i,(head, tail) in enumerate(self.test_loader):\n",
    "            head = head.view(-1, 3)\n",
    "            head = head.to(self.config.device)\n",
    "            h = head[:, 0]\n",
    "            r = head[:, 1]\n",
    "            t = head[:, 2]\n",
    "            score = self.model(h, r, t)\n",
    "            score = score.cpu().data.numpy()\n",
    "            rank = (score >= score[0]).sum()\n",
    "            self.measure.updata(rank, 'head')\n",
    "            \n",
    "            tail = tail.view(-1, 3)\n",
    "            tail = tail.to(self.config.device)\n",
    "            h = tail[:, 0]\n",
    "            r = tail[:, 1]\n",
    "            t = tail[:, 2]\n",
    "            score = self.model(h, r, t)\n",
    "            score = score.cpu().data.numpy()\n",
    "            rank = (score >= score[0]).sum()\n",
    "            self.measure.updata(rank, 'tail')\n",
    "        self.measure.total_deal(self.fact_num*2)\n",
    "            \n",
    "            "
   ]
  },
  {
   "cell_type": "code",
   "execution_count": 12,
   "id": "800e92a5",
   "metadata": {},
   "outputs": [
    {
     "name": "stdout",
     "output_type": "stream",
     "text": [
      "cuda:0\n"
     ]
    },
    {
     "name": "stderr",
     "output_type": "stream",
     "text": [
      "2022-05-05 08:20:51,455 - root - INFO - hit1:0.11382292582820287\n",
      "2022-05-05 08:20:51,456 - root - INFO - hit3:0.22092739177171894\n",
      "2022-05-05 08:20:51,456 - root - INFO - hit10:0.39130753444737615\n",
      "2022-05-05 08:20:51,457 - root - INFO - mr:270.7241522525164\n",
      "2022-05-05 08:20:51,457 - root - INFO - mrr:0.2029397597501765\n"
     ]
    },
    {
     "name": "stdout",
     "output_type": "stream",
     "text": [
      "---------result--------\n"
     ]
    }
   ],
   "source": [
    "print(config.device)\n",
    "model.load_state_dict(torch.load(config.model_path+\"/\"+config.data_name+\"_best_acc.pkl\"))\n",
    "tester = Tester(model, loaddata, config)\n",
    "tester.test()"
   ]
  },
  {
   "cell_type": "code",
   "execution_count": null,
   "id": "af7ec95a",
   "metadata": {},
   "outputs": [],
   "source": []
  }
 ],
 "metadata": {
  "kernelspec": {
   "display_name": "Python 3 (ipykernel)",
   "language": "python",
   "name": "python3"
  },
  "language_info": {
   "codemirror_mode": {
    "name": "ipython",
    "version": 3
   },
   "file_extension": ".py",
   "mimetype": "text/x-python",
   "name": "python",
   "nbconvert_exporter": "python",
   "pygments_lexer": "ipython3",
   "version": "3.8.12"
  }
 },
 "nbformat": 4,
 "nbformat_minor": 5
}
