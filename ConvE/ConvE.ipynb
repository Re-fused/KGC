{
 "cells": [
  {
   "cell_type": "code",
   "execution_count": 1,
   "id": "cba7837c",
   "metadata": {},
   "outputs": [],
   "source": [
    "import os\n",
    "import time\n",
    "from tqdm import tqdm, trange\n",
    "os.environ['CUDA_LAUNCH_BLOCKING'] = '1' \n",
    "class Config:\n",
    "    def __init__(self, ent_num, rel_num):\n",
    "        self.dim =  200\n",
    "        self.ent_num = ent_num\n",
    "        self.rel_num = rel_num\n",
    "        self.inputDrop = 0.2\n",
    "        self.hideDrop = 0.3\n",
    "        self.featureDrop = 0.3\n",
    "        self.filter_num = 64\n",
    "        self.dim1 = 20\n",
    "        self.hide_size = 19456\n",
    "        self.smooth = 0.1\n",
    "        self.lr = 0.0001\n",
    "        self.weight_decay = 0.0\n",
    "        self.epochs = 300\n",
    "        self.batch_size = 128"
   ]
  },
  {
   "cell_type": "code",
   "execution_count": 2,
   "id": "9b41b390",
   "metadata": {},
   "outputs": [],
   "source": [
    "import torch\n",
    "import torch.nn as nn\n",
    "import torch.nn.functional as F\n",
    "from torch.nn import  Parameter\n",
    "class ConvE(nn.Module):\n",
    "    def __init__(self, config):\n",
    "        super(ConvE, self).__init__()\n",
    "        self.config = config\n",
    "        self.ent_embs = nn.Embedding(self.config.ent_num, self.config.dim)\n",
    "        self.rel_embs = nn.Embedding(self.config.rel_num, self.config.dim)\n",
    "        self.input_drop = nn.Dropout(config.inputDrop)\n",
    "        self.hide_drop = nn.Dropout(config.hideDrop)\n",
    "        self.feature_drop = nn.Dropout2d(config.featureDrop)\n",
    "        self.conv = nn.Conv2d(1, 64, (3, 3), bias=True)\n",
    "        self.bn0 = nn.BatchNorm2d(1)\n",
    "        self.bn1 = nn.BatchNorm2d(64)\n",
    "        self.bn2 = nn.BatchNorm1d(config.dim)\n",
    "        self.fc = nn.Linear(config.hide_size, config.dim)\n",
    "        self.dim = config.dim #dim = 200\n",
    "        self.dim1 = config.dim1  #dim1 = 20\n",
    "        self.dim2 = self.dim // self.dim1 # dim2 = 10\n",
    "        self.loss = nn.BCELoss()\n",
    "        self.register_parameter('b',Parameter(torch.zeros(config.ent_num)))\n",
    "        self.init()\n",
    "        \n",
    "    def init(self):\n",
    "        nn.init.xavier_normal_(self.ent_embs.weight.data)\n",
    "        nn.init.xavier_normal_(self.rel_embs.weight.data)\n",
    "    def forward(self, e1, rel):\n",
    "        e1_emb = self.ent_embs(e1).view(-1, 1, self.dim1, self.dim2)#el_emb; batch*1*20*10\n",
    "        rel_emb = self.rel_embs(rel).view(-1, 1 ,self.dim1, self.dim2)\n",
    "        conv_input = torch.cat([e1_emb, rel_emb], dim = 2)#con_input: bath*1*40*10\n",
    "        conv_input = torch.transpose(conv_input, 2, 1).reshape((-1, 1, 2*self.dim1, self.dim2))\n",
    "        conv_input = self.bn0(conv_input)\n",
    "        x = self.input_drop(conv_input)\n",
    "        x = self.conv(conv_input)\n",
    "        x = self.bn1(x)\n",
    "        x = F.relu(x)\n",
    "        x = self.feature_drop(x)\n",
    "        x = x.view(x.shape[0], -1)#bacth*hide_size(38*8*32 = 9728)\n",
    "        x = self.fc(x)\n",
    "        x = self.hide_drop(x)\n",
    "        x = self.bn2(x)\n",
    "        x = F.relu(x)#batch*dim          ent_ems.weight   dim*ent_num\n",
    "        #print(x.shape, self.ent_embs.weight.shape)\n",
    "        x = torch.mm(x, self.ent_embs.weight.transpose(1, 0))\n",
    "        x += self.b.expand_as(x)\n",
    "        pred = torch.sigmoid(x)\n",
    "        return pred\n",
    "        \n",
    "        \n",
    "        \n",
    "        "
   ]
  },
  {
   "cell_type": "code",
   "execution_count": 3,
   "id": "250970be",
   "metadata": {},
   "outputs": [],
   "source": [
    "#config = Config(4, 4)\n",
    "#model = ConvE(config)\n",
    "#e1 = torch.LongTensor([1, 2, 1])\n",
    "#rel = torch.LongTensor([1, 2, 3])\n",
    "#print(model(e1, rel))"
   ]
  },
  {
   "cell_type": "code",
   "execution_count": 4,
   "id": "1cb59265",
   "metadata": {},
   "outputs": [],
   "source": [
    "from collections import defaultdict as ddict\n",
    "class dataProcess:\n",
    "    def __init__(self, file_name):\n",
    "        self.dir = '/home/qiupp/code/ConvE/data/'+file_name+'/'\n",
    "        self.ent2id = {}\n",
    "        self.rel2id = {}\n",
    "        self.data = {sql:self.read(sql) for sql in ['train', 'valid', 'test']}\n",
    "        self.train_sr2o = {}\n",
    "        self.all_sr2o = ddict(set)\n",
    "        self.triples = ddict(list)\n",
    "        self.sub_rel_map_obj()\n",
    "        self.train_triples()\n",
    "        self.valid_or_test_triples()\n",
    "        \n",
    "    def read(self, file_type):\n",
    "        with open(self.dir+file_type+'.txt', 'r') as f:\n",
    "            lines = f.readlines()\n",
    "        triples = []\n",
    "        for line in lines:\n",
    "            temp = line.strip().split()\n",
    "            triples.append((self.get_ent_id(temp[0]), self.get_rel_id(temp[1]), self.get_ent_id(temp[2])))\n",
    "        return triples\n",
    "    def get_ent_id(self, ent):\n",
    "        if  not ent in self.ent2id.keys():\n",
    "            self.ent2id[ent] = len(self.ent2id)\n",
    "        return self.ent2id[ent]\n",
    "        \n",
    "    def get_rel_id(self, rel):\n",
    "        if not rel  in self.rel2id.keys():\n",
    "            self.rel2id[rel] = len(self.rel2id)\n",
    "        return self.rel2id[rel]\n",
    "    def ent_num(self):\n",
    "        return len(self.ent2id)\n",
    "    def rel_num(self):\n",
    "        return len(self.rel2id)\n",
    "    def sub_rel_map_obj(self):\n",
    "        for fact in self.data['train']:\n",
    "            h, r, t = fact\n",
    "            self.all_sr2o[(h, r)].add(t)\n",
    "            self.all_sr2o[(t, r+ self.rel_num())].add(h)\n",
    "        \n",
    "        self.train_sr2o = {k: list(v) for k, v in self.all_sr2o.items()}\n",
    "        for sql in ['valid', 'test']:\n",
    "            for fact in self.data[sql]:\n",
    "                h, r, t = fact\n",
    "                self.all_sr2o[(h, r)].add(t)\n",
    "                self.all_sr2o[(t,r+self.rel_num())].add(h)\n",
    "    def train_triples(self):\n",
    "        for (h, r), t in self.train_sr2o.items():\n",
    "            self.triples['train'].append({'triple':(h, r), 'labels':t})\n",
    "    def valid_or_test_triples(self):\n",
    "        for sql in ['valid', 'test']:\n",
    "            for h, r, t in self.data[sql]:\n",
    "                rev_rel = r + self.rel_num()\n",
    "                self.triples[sql+'_tail'].append({'triple':(h, r, t), 'labels':self.all_sr2o[(h, r)]})\n",
    "                self.triples[sql+'_head'].append({'triple':(t,rev_rel, h), 'labels':self.all_sr2o[(t, rev_rel)]})\n",
    "        "
   ]
  },
  {
   "cell_type": "code",
   "execution_count": 5,
   "id": "6b73c2f6",
   "metadata": {},
   "outputs": [],
   "source": [
    "from torch.utils.data import DataLoader, Dataset\n",
    "class MyDataSet(Dataset):\n",
    "    def __init__(self, dataPro, type, smooth):\n",
    "        self.type = type\n",
    "        self.data = dataPro.triples[type]\n",
    "        self.ent_num = dataPro.ent_num()\n",
    "        self.smooth = smooth\n",
    "    def __len__(self):\n",
    "        return len(self.data)\n",
    "    \n",
    "    def __getitem__(self, index):\n",
    "        element = self.data[index]\n",
    "        \n",
    "        triple = torch.LongTensor(element['triple'])\n",
    "        labels = self.get_label(element['labels'])\n",
    "        return triple, labels\n",
    "    def get_label(self, labels):\n",
    "        temp_label = torch.zeros(self.ent_num)\n",
    "        for label in labels:\n",
    "            temp_label[label] = 1\n",
    "        if self.smooth != 0.0:\n",
    "            temp_label = (1-self.smooth)*temp_label+1.0/self.ent_num\n",
    "        return torch.FloatTensor(temp_label)\n",
    "        \n",
    "        "
   ]
  },
  {
   "cell_type": "code",
   "execution_count": 6,
   "id": "14bff218",
   "metadata": {},
   "outputs": [],
   "source": [
    "class Measure:\n",
    "    def __init__(self):\n",
    "        self.hit1 = 0.0\n",
    "        self.hit3 = 0.0\n",
    "        self.hit10 = 0.0\n",
    "        self.mr = 0.0\n",
    "        self.mrr = 0.0\n",
    "    def updata(self, rank):\n",
    "        if rank == 1:\n",
    "            self.hit1 += 1.0\n",
    "        if rank <= 3:\n",
    "            self.hit3 += 1.0\n",
    "        if rank <= 10:\n",
    "            self.hit10 += 1.0\n",
    "        self.mr += rank\n",
    "        self.mrr += 1.0 / rank\n",
    "    def deal(self, facts_num):\n",
    "        self.hit1 /=  facts_num\n",
    "        self.hit3 /= facts_num\n",
    "        self.hit10 /= facts_num\n",
    "        self.mr /= facts_num\n",
    "        self.mrr /= facts_num\n",
    "    def print_(self):\n",
    "        print('hit1: '+str(self.hit1))\n",
    "        print('hit3: '+str(self.hit3))\n",
    "        print('hit10: '+str(self.hit10))\n",
    "        print('mr: '+str(self.mr))\n",
    "        print('mrr: '+str(self.mrr))\n",
    "    def init(self):\n",
    "        self.hit1 = 0.0\n",
    "        self.hit3 = 0.0\n",
    "        self.hit10 = 0.0\n",
    "        self.mr = 0.0\n",
    "        self.mrr = 0.0\n",
    "    \n",
    "        \n",
    "        "
   ]
  },
  {
   "cell_type": "code",
   "execution_count": 7,
   "id": "b9b54da1",
   "metadata": {},
   "outputs": [],
   "source": [
    "import numpy as np\n",
    "import os\n",
    "class Trainer:\n",
    "    def __init__(self, dataPro, config, device):\n",
    "        self.device = device\n",
    "        self.dataPro = dataPro\n",
    "        self.mydataset = MyDataSet(dataPro, 'train', 0.1)\n",
    "        self.measure = Measure()\n",
    "        self.model = ConvE(config).to(device)\n",
    "        self.config = config\n",
    "        self.valid_data = DataLoader(MyDataSet(dataPro, 'valid_tail',0.00), batch_size = config.batch_size)\n",
    "        self.valid_data_len = len(dataPro.triples['valid_tail'])\n",
    "        print(\"valid_data_len\"+str(self.valid_data_len))\n",
    "        \n",
    "    def MyTrain(self):\n",
    "        optimizer = torch.optim.Adam(self.model.parameters(), lr=self.config.lr,weight_decay=self.config.weight_decay )\n",
    "        dataload = DataLoader(self.mydataset, batch_size = self.config.batch_size, shuffle = True)\n",
    "        for epoch in trange(1,self.config.epochs+1):\n",
    "            self.model.train()\n",
    "            total_loss = 0.0\n",
    "            for i,(triples, labels) in enumerate(dataload):\n",
    "                triples = triples.to(self.device)\n",
    "                labels = labels.to(self.device)\n",
    "                e1 = triples[:, 0]\n",
    "                rel = triples[:, 1]\n",
    "                optimizer.zero_grad()\n",
    "                #print(e1, rel)\n",
    "                score = self.model(e1, rel)\n",
    "#                 if i% 500 == 0:\n",
    "#                     print(score[1])\n",
    "                loss = self.model.loss(score, labels)\n",
    "                total_loss += loss.cpu().item()\n",
    "                loss.backward()\n",
    "                optimizer.step()\n",
    "            #total_loss_to_tensor = torch.FloatTensor(total_loss)\n",
    "            #print(total_loss_to_tensor)\n",
    "            print(\"损失值为：\"+str(total_loss))\n",
    "            \n",
    "            if epoch % 1 == 0:\n",
    "                self.save_model(epoch)\n",
    "                self.measure.init()\n",
    "                self.model.eval()\n",
    "                with torch.no_grad():\n",
    "                    tot_num = 0\n",
    "                    for i, (triples, labels) in enumerate(self.valid_data):\n",
    "                        tot_num += e1.shape[0]\n",
    "                        e1 = triples[:, 0]\n",
    "                        rel = triples[:, 1]\n",
    "                        e2 = triples[:, 2]\n",
    "                        e1 = e1.to(self.device)\n",
    "                        rel = rel.to(self.device)\n",
    "                        pred = self.model(e1, rel)\n",
    "                        pred = pred.cpu()\n",
    "                        self.predict(e2, labels,pred)\n",
    "                    self.measure.deal(tot_num)\n",
    "                    #print(tot_num)\n",
    "                    self.measure.print_()\n",
    "                 \n",
    "                \n",
    "    \n",
    "    def save_model(self, epoch):\n",
    "        model_path = '/home/qiupp/code/ConvE/models/'\n",
    "        if not os.path.exists(model_path):\n",
    "            os.mkdir(model_path)\n",
    "        torch.save(self.model, model_path+str(epoch)+'.pkl')\n",
    "    def predict(self, e2, labels, pred):\n",
    "        \n",
    "        n_batch = torch.arange(e2.shape[0])\n",
    "        target = pred[n_batch, e2]\n",
    "        pred = torch.where(labels.byte(), torch.zeros_like(pred), pred)\n",
    "        pred[n_batch, e2] = target\n",
    "        #print(target)\n",
    "        pred = pred.detach().numpy()\n",
    "        e2 = e2.numpy()\n",
    "        for i in range(e2.shape[0]):\n",
    "            ele = e2[i]\n",
    "            one_pred =  pred[i]\n",
    "            sc = one_pred[ele]\n",
    "            one_pred = np.delete(one_pred, ele)\n",
    "            one_pred = np.insert(one_pred,0, sc )\n",
    "            rank = (one_pred[0] <= one_pred).sum()\n",
    "            #print(rank)\n",
    "            self.measure.updata(rank)\n",
    "        \n",
    "        \n",
    "        "
   ]
  },
  {
   "cell_type": "code",
   "execution_count": 8,
   "id": "acc7ed50",
   "metadata": {
    "scrolled": true
   },
   "outputs": [
    {
     "name": "stdout",
     "output_type": "stream",
     "text": [
      "17535\n",
      "valid_data_len17535\n"
     ]
    },
    {
     "name": "stderr",
     "output_type": "stream",
     "text": [
      "\r",
      "  0%|                                                                                                   | 0/300 [00:00<?, ?it/s]"
     ]
    },
    {
     "name": "stdout",
     "output_type": "stream",
     "text": [
      "损失值为：123.67273036297411\n"
     ]
    },
    {
     "name": "stderr",
     "output_type": "stream",
     "text": [
      "/tmp/ipykernel_2648734/61736070.py:70: UserWarning: where received a uint8 condition tensor. This behavior is deprecated and will be removed in a future version of PyTorch. Use a boolean condition instead. (Triggered internally at  ../aten/src/ATen/native/TensorCompare.cpp:328.)\n",
      "  pred = torch.where(labels.byte(), torch.zeros_like(pred), pred)\n",
      "  0%|▎                                                                                        | 1/300 [00:24<2:00:25, 24.16s/it]"
     ]
    },
    {
     "name": "stdout",
     "output_type": "stream",
     "text": [
      "hit1: 0.09544803893501289\n",
      "hit3: 0.10775837389063841\n",
      "hit10: 0.14285714285714285\n",
      "mr: 4815.245805897509\n",
      "mrr: 0.11077693791927085\n",
      "损失值为：9.453660823404789\n"
     ]
    },
    {
     "name": "stderr",
     "output_type": "stream",
     "text": [
      "\r",
      "  1%|▌                                                                                        | 2/300 [01:21<3:35:32, 43.40s/it]"
     ]
    },
    {
     "name": "stdout",
     "output_type": "stream",
     "text": [
      "hit1: 0.11898081878041798\n",
      "hit3: 0.1372459204122531\n",
      "hit10: 0.19181219582021186\n",
      "mr: 3818.9705124534785\n",
      "mrr: 0.14150349964244144\n",
      "损失值为：4.570632785791531\n"
     ]
    },
    {
     "name": "stderr",
     "output_type": "stream",
     "text": [
      "\r",
      "  1%|▉                                                                                        | 3/300 [02:08<3:44:47, 45.41s/it]"
     ]
    },
    {
     "name": "stdout",
     "output_type": "stream",
     "text": [
      "hit1: 0.14056684798167765\n",
      "hit3: 0.17411966790724306\n",
      "hit10: 0.22404809619238478\n",
      "mr: 3184.323790438019\n",
      "mrr: 0.16977583821323627\n",
      "损失值为：3.3803812444675714\n"
     ]
    },
    {
     "name": "stderr",
     "output_type": "stream",
     "text": [
      "\r",
      "  1%|█▏                                                                                       | 4/300 [03:01<3:59:00, 48.45s/it]"
     ]
    },
    {
     "name": "stdout",
     "output_type": "stream",
     "text": [
      "hit1: 0.16095047237331805\n",
      "hit3: 0.20647008302318923\n",
      "hit10: 0.2718007443458345\n",
      "mr: 2730.4263956484397\n",
      "mrr: 0.19691674393858533\n",
      "损失值为：2.9656731536379084\n"
     ]
    },
    {
     "name": "stderr",
     "output_type": "stream",
     "text": [
      "\r",
      "  2%|█▍                                                                                       | 5/300 [03:52<4:01:24, 49.10s/it]"
     ]
    },
    {
     "name": "stdout",
     "output_type": "stream",
     "text": [
      "hit1: 0.17829945605496708\n",
      "hit3: 0.23469796736329804\n",
      "hit10: 0.3027769825365016\n",
      "mr: 2394.3884912682506\n",
      "mrr: 0.22047426723740635\n",
      "损失值为：2.7915118895471096\n"
     ]
    },
    {
     "name": "stderr",
     "output_type": "stream",
     "text": [
      "\r",
      "  2%|█▊                                                                                       | 6/300 [04:44<4:05:17, 50.06s/it]"
     ]
    },
    {
     "name": "stdout",
     "output_type": "stream",
     "text": [
      "hit1: 0.18202118522759805\n",
      "hit3: 0.25078728886344115\n",
      "hit10: 0.3342685370741483\n",
      "mr: 2135.344288577154\n",
      "mrr: 0.23153853478050726\n",
      "损失值为：2.6883374421158805\n"
     ]
    },
    {
     "name": "stderr",
     "output_type": "stream",
     "text": [
      "\r",
      "  2%|██                                                                                       | 7/300 [05:17<3:38:21, 44.71s/it]"
     ]
    },
    {
     "name": "stdout",
     "output_type": "stream",
     "text": [
      "hit1: 0.19198396793587175\n",
      "hit3: 0.2645863154881191\n",
      "hit10: 0.36364156885198967\n",
      "mr: 1906.8139707987402\n",
      "mrr: 0.2468623920675806\n",
      "损失值为：2.5878592174267396\n"
     ]
    },
    {
     "name": "stderr",
     "output_type": "stream",
     "text": [
      "\r",
      "  3%|██▎                                                                                      | 8/300 [05:41<3:05:30, 38.12s/it]"
     ]
    },
    {
     "name": "stdout",
     "output_type": "stream",
     "text": [
      "hit1: 0.20876037789865445\n",
      "hit3: 0.28674491840824506\n",
      "hit10: 0.37933008874892643\n",
      "mr: 1634.722244488978\n",
      "mrr: 0.26550334084545985\n",
      "损失值为：2.4803286376409233\n"
     ]
    },
    {
     "name": "stderr",
     "output_type": "stream",
     "text": [
      "\r",
      "  3%|██▋                                                                                      | 9/300 [06:33<3:26:04, 42.49s/it]"
     ]
    },
    {
     "name": "stdout",
     "output_type": "stream",
     "text": [
      "hit1: 0.21780704265674206\n",
      "hit3: 0.30329229888348125\n",
      "hit10: 0.3968508445462353\n",
      "mr: 1309.154995705697\n",
      "mrr: 0.2789681252863997\n",
      "损失值为：2.3817509156651795\n"
     ]
    },
    {
     "name": "stderr",
     "output_type": "stream",
     "text": [
      "\r",
      "  3%|██▉                                                                                     | 10/300 [07:28<3:43:34, 46.26s/it]"
     ]
    },
    {
     "name": "stdout",
     "output_type": "stream",
     "text": [
      "hit1: 0.22479244202691095\n",
      "hit3: 0.3180647008302319\n",
      "hit10: 0.4176925279129688\n",
      "mr: 1016.575780131692\n",
      "mrr: 0.2908952955489617\n",
      "损失值为：2.3070615048054606\n"
     ]
    },
    {
     "name": "stderr",
     "output_type": "stream",
     "text": [
      "\r",
      "  4%|███▏                                                                                    | 11/300 [08:16<3:45:42, 46.86s/it]"
     ]
    },
    {
     "name": "stdout",
     "output_type": "stream",
     "text": [
      "hit1: 0.23527054108216433\n",
      "hit3: 0.32888634411680506\n",
      "hit10: 0.4349842542227312\n",
      "mr: 755.8280561122244\n",
      "mrr: 0.30245683169409243\n",
      "损失值为：2.235534643754363\n"
     ]
    },
    {
     "name": "stderr",
     "output_type": "stream",
     "text": [
      "\r",
      "  4%|███▌                                                                                    | 12/300 [09:03<3:45:07, 46.90s/it]"
     ]
    },
    {
     "name": "stdout",
     "output_type": "stream",
     "text": [
      "hit1: 0.24151159461780705\n",
      "hit3: 0.3398797595190381\n",
      "hit10: 0.4506155167477813\n",
      "mr: 595.4436873747495\n",
      "mrr: 0.312869181203836\n",
      "损失值为：2.187629775609821\n"
     ]
    },
    {
     "name": "stderr",
     "output_type": "stream",
     "text": [
      "\r",
      "  4%|███▊                                                                                    | 13/300 [09:59<3:56:38, 49.47s/it]"
     ]
    },
    {
     "name": "stdout",
     "output_type": "stream",
     "text": [
      "hit1: 0.24660750071571716\n",
      "hit3: 0.3504151159461781\n",
      "hit10: 0.4607500715717149\n",
      "mr: 497.64689378757515\n",
      "mrr: 0.3200907369001833\n",
      "损失值为：2.1470480238785967\n"
     ]
    },
    {
     "name": "stderr",
     "output_type": "stream",
     "text": [
      "\r",
      "  5%|████                                                                                    | 14/300 [10:49<3:57:28, 49.82s/it]"
     ]
    },
    {
     "name": "stdout",
     "output_type": "stream",
     "text": [
      "hit1: 0.2533066132264529\n",
      "hit3: 0.3566561694818208\n",
      "hit10: 0.46973947895791585\n",
      "mr: 422.5898654451761\n",
      "mrr: 0.32730963180097816\n",
      "损失值为：2.1115457486594096\n"
     ]
    },
    {
     "name": "stderr",
     "output_type": "stream",
     "text": [
      "\r",
      "  5%|████▍                                                                                   | 15/300 [11:13<3:19:00, 41.90s/it]"
     ]
    },
    {
     "name": "stdout",
     "output_type": "stream",
     "text": [
      "hit1: 0.2606928141998282\n",
      "hit3: 0.36432865731462927\n",
      "hit10: 0.4807901517320355\n",
      "mr: 377.80933295161753\n",
      "mrr: 0.3347507743740598\n",
      "损失值为：2.072384605417028\n"
     ]
    },
    {
     "name": "stderr",
     "output_type": "stream",
     "text": [
      "\r",
      "  5%|████▋                                                                                   | 16/300 [11:38<2:53:57, 36.75s/it]"
     ]
    },
    {
     "name": "stdout",
     "output_type": "stream",
     "text": [
      "hit1: 0.2645863154881191\n",
      "hit3: 0.36993987975951903\n",
      "hit10: 0.48628685943315203\n",
      "mr: 338.7569997137131\n",
      "mrr: 0.33980512528180307\n",
      "损失值为：2.048118746140972\n"
     ]
    },
    {
     "name": "stderr",
     "output_type": "stream",
     "text": [
      "\r",
      "  6%|████▉                                                                                   | 17/300 [12:02<2:35:57, 33.07s/it]"
     ]
    },
    {
     "name": "stdout",
     "output_type": "stream",
     "text": [
      "hit1: 0.26618952190094475\n",
      "hit3: 0.3727454909819639\n",
      "hit10: 0.4913255081591755\n",
      "mr: 313.34749498997996\n",
      "mrr: 0.3424034444193058\n",
      "损失值为：2.0267560386564583\n"
     ]
    },
    {
     "name": "stderr",
     "output_type": "stream",
     "text": [
      "\r",
      "  6%|█████▎                                                                                  | 18/300 [12:26<2:22:48, 30.39s/it]"
     ]
    },
    {
     "name": "stdout",
     "output_type": "stream",
     "text": [
      "hit1: 0.2675636988262239\n",
      "hit3: 0.38013169195533925\n",
      "hit10: 0.4960778700257658\n",
      "mr: 296.32527912968794\n",
      "mrr: 0.3459205616890691\n",
      "损失值为：1.997544475714676\n"
     ]
    },
    {
     "name": "stderr",
     "output_type": "stream",
     "text": [
      "\r",
      "  6%|█████▌                                                                                  | 19/300 [12:50<2:13:06, 28.42s/it]"
     ]
    },
    {
     "name": "stdout",
     "output_type": "stream",
     "text": [
      "hit1: 0.2749498997995992\n",
      "hit3: 0.38614371600343544\n",
      "hit10: 0.5046092184368738\n",
      "mr: 281.2155167477813\n",
      "mrr: 0.3528271884912547\n",
      "损失值为：1.9790663719177246\n"
     ]
    },
    {
     "name": "stderr",
     "output_type": "stream",
     "text": [
      "\r",
      "  7%|█████▊                                                                                  | 20/300 [13:14<2:06:03, 27.01s/it]"
     ]
    },
    {
     "name": "stdout",
     "output_type": "stream",
     "text": [
      "hit1: 0.27827082736902375\n",
      "hit3: 0.38946464357286\n",
      "hit10: 0.5079301460062983\n",
      "mr: 268.4705983395362\n",
      "mrr: 0.35665735894877193\n",
      "损失值为：1.9634904003469273\n"
     ]
    },
    {
     "name": "stderr",
     "output_type": "stream",
     "text": [
      "\r",
      "  7%|██████▏                                                                                 | 21/300 [13:38<2:01:31, 26.13s/it]"
     ]
    },
    {
     "name": "stdout",
     "output_type": "stream",
     "text": [
      "hit1: 0.28067563698826226\n",
      "hit3: 0.39541941024906957\n",
      "hit10: 0.5118809046664758\n",
      "mr: 254.5580303464071\n",
      "mrr: 0.3602322763248881\n",
      "损失值为：1.9430071823298931\n"
     ]
    },
    {
     "name": "stderr",
     "output_type": "stream",
     "text": [
      "\r",
      "  7%|██████▍                                                                                 | 22/300 [14:02<1:57:48, 25.43s/it]"
     ]
    },
    {
     "name": "stdout",
     "output_type": "stream",
     "text": [
      "hit1: 0.2839965645576868\n",
      "hit3: 0.3987403378184941\n",
      "hit10: 0.5192671056398511\n",
      "mr: 245.8728313770398\n",
      "mrr: 0.3641883619498083\n",
      "损失值为：1.928626561188139\n"
     ]
    },
    {
     "name": "stderr",
     "output_type": "stream",
     "text": [
      "\r",
      "  8%|██████▋                                                                                 | 23/300 [14:26<1:55:07, 24.94s/it]"
     ]
    },
    {
     "name": "stdout",
     "output_type": "stream",
     "text": [
      "hit1: 0.2849699398797595\n",
      "hit3: 0.4020040080160321\n",
      "hit10: 0.5220154594904094\n",
      "mr: 234.75224735184656\n",
      "mrr: 0.366223219501109\n",
      "损失值为：1.9116828092373908\n"
     ]
    },
    {
     "name": "stderr",
     "output_type": "stream",
     "text": [
      "\r",
      "  8%|███████                                                                                 | 24/300 [14:50<1:53:25, 24.66s/it]"
     ]
    },
    {
     "name": "stdout",
     "output_type": "stream",
     "text": [
      "hit1: 0.288920698539937\n",
      "hit3: 0.40589750930432295\n",
      "hit10: 0.5245347838534211\n",
      "mr: 227.15574005153164\n",
      "mrr: 0.3702162508284524\n",
      "损失值为：1.8967784906271845\n"
     ]
    },
    {
     "name": "stderr",
     "output_type": "stream",
     "text": [
      "\r",
      "  8%|███████▎                                                                                | 25/300 [15:14<1:52:09, 24.47s/it]"
     ]
    },
    {
     "name": "stdout",
     "output_type": "stream",
     "text": [
      "hit1: 0.29292871457200115\n",
      "hit3: 0.40927569424563415\n",
      "hit10: 0.5287718293730318\n",
      "mr: 218.4440881763527\n",
      "mrr: 0.37390590244654637\n",
      "损失值为：1.8858761611627415\n"
     ]
    },
    {
     "name": "stderr",
     "output_type": "stream",
     "text": [
      "\r",
      "  9%|███████▋                                                                                | 26/300 [15:38<1:51:01, 24.31s/it]"
     ]
    },
    {
     "name": "stdout",
     "output_type": "stream",
     "text": [
      "hit1: 0.29561981105067275\n",
      "hit3: 0.4106498711709132\n",
      "hit10: 0.5330088748926425\n",
      "mr: 213.61941024906957\n",
      "mrr: 0.37632502124907413\n",
      "损失值为：1.8698129842523485\n"
     ]
    },
    {
     "name": "stderr",
     "output_type": "stream",
     "text": [
      "\r",
      "  9%|███████▉                                                                                | 27/300 [16:02<1:50:47, 24.35s/it]"
     ]
    },
    {
     "name": "stdout",
     "output_type": "stream",
     "text": [
      "hit1: 0.2992270254795305\n",
      "hit3: 0.4144861150873175\n",
      "hit10: 0.5373031777841397\n",
      "mr: 209.31285427998856\n",
      "mrr: 0.3801366837728469\n",
      "损失值为：1.8540815477026626\n"
     ]
    },
    {
     "name": "stderr",
     "output_type": "stream",
     "text": [
      "\r",
      "  9%|████████▏                                                                               | 28/300 [16:57<2:32:38, 33.67s/it]"
     ]
    },
    {
     "name": "stdout",
     "output_type": "stream",
     "text": [
      "hit1: 0.29974234182651016\n",
      "hit3: 0.41815058688806184\n",
      "hit10: 0.5415402233037504\n",
      "mr: 202.00801603206412\n",
      "mrr: 0.38234883839947403\n",
      "损失值为：1.8433220533188432\n"
     ]
    },
    {
     "name": "stderr",
     "output_type": "stream",
     "text": [
      "\r",
      " 10%|████████▌                                                                               | 29/300 [17:55<3:04:13, 40.79s/it]"
     ]
    },
    {
     "name": "stdout",
     "output_type": "stream",
     "text": [
      "hit1: 0.30323504151159464\n",
      "hit3: 0.4190667048382479\n",
      "hit10: 0.5466361294016605\n",
      "mr: 197.21643286573146\n",
      "mrr: 0.3852079491583884\n",
      "损失值为：1.82844506832771\n"
     ]
    },
    {
     "name": "stderr",
     "output_type": "stream",
     "text": [
      "\r",
      " 10%|████████▊                                                                               | 30/300 [18:54<3:29:01, 46.45s/it]"
     ]
    },
    {
     "name": "stdout",
     "output_type": "stream",
     "text": [
      "hit1: 0.30501002004008015\n",
      "hit3: 0.42347552247351844\n",
      "hit10: 0.5486973947895791\n",
      "mr: 191.51680503864873\n",
      "mrr: 0.38791783503167887\n",
      "损失值为：1.8163489050930366\n"
     ]
    },
    {
     "name": "stderr",
     "output_type": "stream",
     "text": [
      "\r",
      " 10%|█████████                                                                               | 31/300 [19:53<3:44:14, 50.02s/it]"
     ]
    },
    {
     "name": "stdout",
     "output_type": "stream",
     "text": [
      "hit1: 0.3043801889493272\n",
      "hit3: 0.42496421414257085\n",
      "hit10: 0.5519038076152305\n",
      "mr: 188.01024906956772\n",
      "mrr: 0.38843271786649414\n",
      "损失值为：1.805627437774092\n"
     ]
    },
    {
     "name": "stderr",
     "output_type": "stream",
     "text": [
      "\r",
      " 11%|█████████▍                                                                              | 32/300 [20:45<3:46:04, 50.61s/it]"
     ]
    },
    {
     "name": "stdout",
     "output_type": "stream",
     "text": [
      "hit1: 0.307357572287432\n",
      "hit3: 0.4272545090180361\n",
      "hit10: 0.5552819925565416\n",
      "mr: 183.86847981677641\n",
      "mrr: 0.3917041466305216\n",
      "损失值为：1.7963070028927177\n"
     ]
    },
    {
     "name": "stderr",
     "output_type": "stream",
     "text": [
      "\r",
      " 11%|█████████▋                                                                              | 33/300 [21:39<3:50:13, 51.74s/it]"
     ]
    },
    {
     "name": "stdout",
     "output_type": "stream",
     "text": [
      "hit1: 0.3089607787002577\n",
      "hit3: 0.4303464070999141\n",
      "hit10: 0.5581448611508731\n",
      "mr: 181.02673919267104\n",
      "mrr: 0.39355255077482526\n",
      "损失值为：1.782819879008457\n"
     ]
    },
    {
     "name": "stderr",
     "output_type": "stream",
     "text": [
      "\r",
      " 11%|█████████▉                                                                              | 34/300 [22:34<3:54:00, 52.78s/it]"
     ]
    },
    {
     "name": "stdout",
     "output_type": "stream",
     "text": [
      "hit1: 0.31176638992270256\n",
      "hit3: 0.434697967363298\n",
      "hit10: 0.5627827082736903\n",
      "mr: 176.69876896650445\n",
      "mrr: 0.3968633055372817\n",
      "损失值为：1.7748408098705113\n"
     ]
    },
    {
     "name": "stderr",
     "output_type": "stream",
     "text": [
      "\r",
      " 12%|██████████▎                                                                             | 35/300 [23:30<3:56:39, 53.58s/it]"
     ]
    },
    {
     "name": "stdout",
     "output_type": "stream",
     "text": [
      "hit1: 0.31279702261666187\n",
      "hit3: 0.435785857429144\n",
      "hit10: 0.565931863727455\n",
      "mr: 173.95344975665617\n",
      "mrr: 0.3984693708677793\n",
      "损失值为：1.7621306562796235\n"
     ]
    },
    {
     "name": "stderr",
     "output_type": "stream",
     "text": [
      "\r",
      " 12%|██████████▌                                                                             | 36/300 [24:22<3:54:17, 53.25s/it]"
     ]
    },
    {
     "name": "stdout",
     "output_type": "stream",
     "text": [
      "hit1: 0.31480103063269393\n",
      "hit3: 0.4373890638419696\n",
      "hit10: 0.5675350701402806\n",
      "mr: 170.43864872602347\n",
      "mrr: 0.40051518939253233\n",
      "损失值为：1.7555804182775319\n"
     ]
    },
    {
     "name": "stderr",
     "output_type": "stream",
     "text": [
      "\r",
      " 12%|██████████▊                                                                             | 37/300 [25:15<3:52:27, 53.03s/it]"
     ]
    },
    {
     "name": "stdout",
     "output_type": "stream",
     "text": [
      "hit1: 0.3166905239049528\n",
      "hit3: 0.4414543372459204\n",
      "hit10: 0.5723446893787575\n",
      "mr: 167.83544231319783\n",
      "mrr: 0.40300417808943795\n",
      "损失值为：1.7455870234407485\n"
     ]
    },
    {
     "name": "stderr",
     "output_type": "stream",
     "text": [
      "\r",
      " 13%|███████████▏                                                                            | 38/300 [26:10<3:54:17, 53.65s/it]"
     ]
    },
    {
     "name": "stdout",
     "output_type": "stream",
     "text": [
      "hit1: 0.3192098482679645\n",
      "hit3: 0.44248496993987974\n",
      "hit10: 0.5734325794446035\n",
      "mr: 166.12865731462927\n",
      "mrr: 0.4053684967222965\n",
      "损失值为：1.7357602333649993\n"
     ]
    },
    {
     "name": "stderr",
     "output_type": "stream",
     "text": [
      "\r",
      " 13%|███████████▍                                                                            | 39/300 [27:00<3:48:11, 52.46s/it]"
     ]
    },
    {
     "name": "stdout",
     "output_type": "stream",
     "text": [
      "hit1: 0.3202977383338105\n",
      "hit3: 0.4443744632121386\n",
      "hit10: 0.5766962496421414\n",
      "mr: 163.6403091898082\n",
      "mrr: 0.4067314680442324\n",
      "损失值为：1.7254469306208193\n"
     ]
    },
    {
     "name": "stderr",
     "output_type": "stream",
     "text": [
      "\r",
      " 13%|███████████▋                                                                            | 40/300 [27:48<3:41:49, 51.19s/it]"
     ]
    },
    {
     "name": "stdout",
     "output_type": "stream",
     "text": [
      "hit1: 0.32253077583738904\n",
      "hit3: 0.44660750071571714\n",
      "hit10: 0.5780131691955339\n",
      "mr: 161.75470941883768\n",
      "mrr: 0.4089796551540985\n",
      "损失值为：1.7195133094210178\n"
     ]
    },
    {
     "name": "stderr",
     "output_type": "stream",
     "text": [
      "\r",
      " 14%|████████████                                                                            | 41/300 [28:40<3:41:36, 51.34s/it]"
     ]
    },
    {
     "name": "stdout",
     "output_type": "stream",
     "text": [
      "hit1: 0.3226452905811623\n",
      "hit3: 0.4476953907815631\n",
      "hit10: 0.5807615230460922\n",
      "mr: 158.27632407672488\n",
      "mrr: 0.40988921711828447\n",
      "损失值为：1.7074601973872632\n"
     ]
    },
    {
     "name": "stderr",
     "output_type": "stream",
     "text": [
      "\r",
      " 14%|████████████▎                                                                           | 42/300 [29:34<3:45:11, 52.37s/it]"
     ]
    },
    {
     "name": "stdout",
     "output_type": "stream",
     "text": [
      "hit1: 0.32499284282851415\n",
      "hit3: 0.45015745777268823\n",
      "hit10: 0.5829373031777841\n",
      "mr: 156.8826223876324\n",
      "mrr: 0.41214742452554676\n",
      "损失值为：1.7012796173803508\n"
     ]
    },
    {
     "name": "stderr",
     "output_type": "stream",
     "text": [
      "\r",
      " 14%|████████████▌                                                                           | 43/300 [30:29<3:47:58, 53.22s/it]"
     ]
    },
    {
     "name": "stdout",
     "output_type": "stream",
     "text": [
      "hit1: 0.3260234755224735\n",
      "hit3: 0.4503292298883481\n",
      "hit10: 0.5855711422845692\n",
      "mr: 154.1939879759519\n",
      "mrr: 0.4132600246178013\n",
      "损失值为：1.694797778269276\n"
     ]
    },
    {
     "name": "stderr",
     "output_type": "stream",
     "text": [
      "\r",
      " 15%|████████████▉                                                                           | 44/300 [31:25<3:50:05, 53.93s/it]"
     ]
    },
    {
     "name": "stdout",
     "output_type": "stream",
     "text": [
      "hit1: 0.3289436014886917\n",
      "hit3: 0.45508159175493845\n",
      "hit10: 0.5864300028628686\n",
      "mr: 153.46430002862868\n",
      "mrr: 0.41614438915533986\n",
      "损失值为：1.686352259828709\n"
     ]
    },
    {
     "name": "stderr",
     "output_type": "stream",
     "text": [
      "\r",
      " 15%|█████████████▏                                                                          | 45/300 [32:13<3:41:29, 52.11s/it]"
     ]
    },
    {
     "name": "stdout",
     "output_type": "stream",
     "text": [
      "hit1: 0.3296306899513312\n",
      "hit3: 0.45588319496135127\n",
      "hit10: 0.5897509304322932\n",
      "mr: 152.61941024906957\n",
      "mrr: 0.4170295260830658\n",
      "损失值为：1.6757813539588824\n"
     ]
    },
    {
     "name": "stderr",
     "output_type": "stream",
     "text": [
      "\r",
      " 15%|█████████████▍                                                                          | 46/300 [32:45<3:14:38, 45.98s/it]"
     ]
    },
    {
     "name": "stdout",
     "output_type": "stream",
     "text": [
      "hit1: 0.3299169768107644\n",
      "hit3: 0.4564557686802176\n",
      "hit10: 0.5902662467792729\n",
      "mr: 149.82902948754653\n",
      "mrr: 0.41829733493543014\n",
      "损失值为：1.6695831143297255\n"
     ]
    },
    {
     "name": "stderr",
     "output_type": "stream",
     "text": [
      "\r",
      " 16%|█████████████▊                                                                          | 47/300 [33:09<2:46:04, 39.38s/it]"
     ]
    },
    {
     "name": "stdout",
     "output_type": "stream",
     "text": [
      "hit1: 0.3314056684798168\n",
      "hit3: 0.4588033209275694\n",
      "hit10: 0.5915831663326653\n",
      "mr: 147.8354995705697\n",
      "mrr: 0.419939252378771\n",
      "损失值为：1.6643766664201394\n"
     ]
    },
    {
     "name": "stderr",
     "output_type": "stream",
     "text": [
      "\r",
      " 16%|██████████████                                                                          | 48/300 [33:33<2:26:18, 34.84s/it]"
     ]
    },
    {
     "name": "stdout",
     "output_type": "stream",
     "text": [
      "hit1: 0.3319782421986831\n",
      "hit3: 0.4612081305468079\n",
      "hit10: 0.5942170054394503\n",
      "mr: 147.77108502719724\n",
      "mrr: 0.42105138713360507\n",
      "损失值为：1.6550240977667272\n"
     ]
    },
    {
     "name": "stderr",
     "output_type": "stream",
     "text": [
      "\r",
      " 16%|██████████████▎                                                                         | 49/300 [33:57<2:12:01, 31.56s/it]"
     ]
    },
    {
     "name": "stdout",
     "output_type": "stream",
     "text": [
      "hit1: 0.33266533066132264\n",
      "hit3: 0.46263956484397367\n",
      "hit10: 0.5955911823647294\n",
      "mr: 144.66229602061264\n",
      "mrr: 0.42178406076016\n",
      "损失值为：1.6480094797443599\n"
     ]
    },
    {
     "name": "stderr",
     "output_type": "stream",
     "text": [
      "\r",
      " 17%|██████████████▋                                                                         | 50/300 [34:21<2:02:08, 29.31s/it]"
     ]
    },
    {
     "name": "stdout",
     "output_type": "stream",
     "text": [
      "hit1: 0.3338677354709419\n",
      "hit3: 0.463670197537933\n",
      "hit10: 0.5961064987117092\n",
      "mr: 144.3751503006012\n",
      "mrr: 0.4230600767432955\n",
      "损失值为：1.641967012314126\n"
     ]
    },
    {
     "name": "stderr",
     "output_type": "stream",
     "text": [
      "\r",
      " 17%|██████████████▉                                                                         | 51/300 [34:45<1:55:20, 27.79s/it]"
     ]
    },
    {
     "name": "stdout",
     "output_type": "stream",
     "text": [
      "hit1: 0.33432579444603494\n",
      "hit3: 0.46555969081019183\n",
      "hit10: 0.5979387346120814\n",
      "mr: 142.23716003435442\n",
      "mrr: 0.4242340105559397\n",
      "损失值为：1.6329507402842864\n"
     ]
    },
    {
     "name": "stderr",
     "output_type": "stream",
     "text": [
      "\r",
      " 17%|███████████████▎                                                                        | 52/300 [35:09<1:50:41, 26.78s/it]"
     ]
    },
    {
     "name": "stdout",
     "output_type": "stream",
     "text": [
      "hit1: 0.3357572287432007\n",
      "hit3: 0.46733466933867734\n",
      "hit10: 0.598454050959061\n",
      "mr: 142.01981105067279\n",
      "mrr: 0.42530670804131765\n",
      "损失值为：1.630333533976227\n"
     ]
    },
    {
     "name": "stderr",
     "output_type": "stream",
     "text": [
      "\r",
      " 18%|███████████████▌                                                                        | 53/300 [35:34<1:47:02, 26.00s/it]"
     ]
    },
    {
     "name": "stdout",
     "output_type": "stream",
     "text": [
      "hit1: 0.33518465502433437\n",
      "hit3: 0.46802175780131694\n",
      "hit10: 0.6004580589750931\n",
      "mr: 140.54320068708847\n",
      "mrr: 0.42561666340125986\n",
      "损失值为：1.618699756800197\n"
     ]
    },
    {
     "name": "stderr",
     "output_type": "stream",
     "text": [
      "\r",
      " 18%|███████████████▊                                                                        | 54/300 [35:58<1:44:17, 25.44s/it]"
     ]
    },
    {
     "name": "stdout",
     "output_type": "stream",
     "text": [
      "hit1: 0.3381620383624392\n",
      "hit3: 0.4679645004294303\n",
      "hit10: 0.6017177211565989\n",
      "mr: 140.9400515316347\n",
      "mrr: 0.4275907543425222\n",
      "损失值为：1.6172220355365425\n"
     ]
    },
    {
     "name": "stderr",
     "output_type": "stream",
     "text": [
      "\r",
      " 18%|████████████████▏                                                                       | 55/300 [36:22<1:42:27, 25.09s/it]"
     ]
    },
    {
     "name": "stdout",
     "output_type": "stream",
     "text": [
      "hit1: 0.337417692527913\n",
      "hit3: 0.4693959347265961\n",
      "hit10: 0.6017177211565989\n",
      "mr: 139.48771829373032\n",
      "mrr: 0.42758124231610073\n",
      "损失值为：1.6110363982152194\n"
     ]
    },
    {
     "name": "stderr",
     "output_type": "stream",
     "text": [
      "\r",
      " 19%|████████████████▍                                                                       | 56/300 [36:46<1:40:50, 24.80s/it]"
     ]
    },
    {
     "name": "stdout",
     "output_type": "stream",
     "text": [
      "hit1: 0.3373604351560263\n",
      "hit3: 0.4700830231892356\n",
      "hit10: 0.6047523618665903\n",
      "mr: 139.1789865445176\n",
      "mrr: 0.4277971531545125\n",
      "损失值为：1.6028581319842488\n"
     ]
    },
    {
     "name": "stderr",
     "output_type": "stream",
     "text": [
      "\r",
      " 19%|████████████████▋                                                                       | 57/300 [37:32<2:05:47, 31.06s/it]"
     ]
    },
    {
     "name": "stdout",
     "output_type": "stream",
     "text": [
      "hit1: 0.33873461208130545\n",
      "hit3: 0.4713426853707415\n",
      "hit10: 0.6080160320641282\n",
      "mr: 137.3399942742628\n",
      "mrr: 0.42942347708215856\n",
      "损失值为：1.5983121088938788\n"
     ]
    },
    {
     "name": "stderr",
     "output_type": "stream",
     "text": [
      "\r",
      " 19%|█████████████████                                                                       | 58/300 [38:20<2:25:48, 36.15s/it]"
     ]
    },
    {
     "name": "stdout",
     "output_type": "stream",
     "text": [
      "hit1: 0.3381620383624392\n",
      "hit3: 0.47059833953621527\n",
      "hit10: 0.6065273403950758\n",
      "mr: 138.0847409103922\n",
      "mrr: 0.4289312535811438\n",
      "损失值为：1.5945953142363578\n"
     ]
    },
    {
     "name": "stderr",
     "output_type": "stream",
     "text": [
      "\r",
      " 20%|█████████████████▎                                                                      | 59/300 [39:12<2:44:30, 40.96s/it]"
     ]
    },
    {
     "name": "stdout",
     "output_type": "stream",
     "text": [
      "hit1: 0.3382765531062124\n",
      "hit3: 0.46979673632980246\n",
      "hit10: 0.6077870025765817\n",
      "mr: 136.92424849699398\n",
      "mrr: 0.42923964464675923\n",
      "损失值为：1.586737362202257\n"
     ]
    },
    {
     "name": "stderr",
     "output_type": "stream",
     "text": [
      "\r",
      " 20%|█████████████████▌                                                                      | 60/300 [40:02<2:54:20, 43.58s/it]"
     ]
    },
    {
     "name": "stdout",
     "output_type": "stream",
     "text": [
      "hit1: 0.3401087890065846\n",
      "hit3: 0.47225880332092757\n",
      "hit10: 0.6091039221299742\n",
      "mr: 135.95768680217577\n",
      "mrr: 0.4306210148745327\n",
      "损失值为：1.5795602181460708\n"
     ]
    },
    {
     "name": "stderr",
     "output_type": "stream",
     "text": [
      "\r",
      " 20%|█████████████████▉                                                                      | 61/300 [40:54<3:04:19, 46.27s/it]"
     ]
    },
    {
     "name": "stdout",
     "output_type": "stream",
     "text": [
      "hit1: 0.3402805611222445\n",
      "hit3: 0.47260234755224734\n",
      "hit10: 0.6108216432865732\n",
      "mr: 135.33014600629832\n",
      "mrr: 0.43123894658215944\n",
      "损失值为：1.5736489845439792\n"
     ]
    },
    {
     "name": "stderr",
     "output_type": "stream",
     "text": [
      "\r",
      " 21%|██████████████████▏                                                                     | 62/300 [41:43<3:05:53, 46.87s/it]"
     ]
    },
    {
     "name": "stdout",
     "output_type": "stream",
     "text": [
      "hit1: 0.3399370168909247\n",
      "hit3: 0.4727168622960206\n",
      "hit10: 0.6123103349556256\n",
      "mr: 136.1421700543945\n",
      "mrr: 0.4310956027514857\n",
      "损失值为：1.571907832287252\n"
     ]
    },
    {
     "name": "stderr",
     "output_type": "stream",
     "text": [
      "\r",
      " 21%|██████████████████▍                                                                     | 63/300 [42:47<3:26:23, 52.25s/it]"
     ]
    },
    {
     "name": "stdout",
     "output_type": "stream",
     "text": [
      "hit1: 0.3391926710563985\n",
      "hit3: 0.4720870312052677\n",
      "hit10: 0.6123675923275121\n",
      "mr: 135.39599198396795\n",
      "mrr: 0.4313732371040222\n",
      "损失值为：1.563640457810834\n"
     ]
    },
    {
     "name": "stderr",
     "output_type": "stream",
     "text": [
      "\r",
      " 21%|██████████████████▊                                                                     | 64/300 [43:40<3:25:49, 52.33s/it]"
     ]
    },
    {
     "name": "stdout",
     "output_type": "stream",
     "text": [
      "hit1: 0.3406813627254509\n",
      "hit3: 0.4739765244775265\n",
      "hit10: 0.6129974234182651\n",
      "mr: 135.13277984540508\n",
      "mrr: 0.4319753396944702\n",
      "损失值为：1.5601406085770577\n"
     ]
    },
    {
     "name": "stderr",
     "output_type": "stream",
     "text": [
      "\r",
      " 22%|███████████████████                                                                     | 65/300 [44:29<3:21:40, 51.49s/it]"
     ]
    },
    {
     "name": "stdout",
     "output_type": "stream",
     "text": [
      "hit1: 0.33867735470941884\n",
      "hit3: 0.4747781276839393\n",
      "hit10: 0.6140853134841111\n",
      "mr: 135.26916690523905\n",
      "mrr: 0.43150723798000284\n",
      "损失值为：1.5551119587616995\n"
     ]
    },
    {
     "name": "stderr",
     "output_type": "stream",
     "text": [
      "\r",
      " 22%|███████████████████▎                                                                    | 66/300 [45:25<3:25:11, 52.61s/it]"
     ]
    },
    {
     "name": "stdout",
     "output_type": "stream",
     "text": [
      "hit1: 0.3393071858001718\n",
      "hit3: 0.4738620097337532\n",
      "hit10: 0.6152877182937303\n",
      "mr: 135.90518179215573\n",
      "mrr: 0.4319778671585217\n",
      "损失值为：1.5521972936112434\n"
     ]
    },
    {
     "name": "stderr",
     "output_type": "stream",
     "text": [
      "\r",
      " 22%|███████████████████▋                                                                    | 67/300 [46:11<3:16:57, 50.72s/it]"
     ]
    },
    {
     "name": "stdout",
     "output_type": "stream",
     "text": [
      "hit1: 0.3383338104780991\n",
      "hit3: 0.47403378184941314\n",
      "hit10: 0.6158602920125966\n",
      "mr: 137.33140566847982\n",
      "mrr: 0.4313151319660146\n",
      "损失值为：1.5454261604463682\n"
     ]
    },
    {
     "name": "stderr",
     "output_type": "stream",
     "text": [
      "\r",
      " 23%|███████████████████▉                                                                    | 68/300 [46:41<2:51:50, 44.44s/it]"
     ]
    },
    {
     "name": "stdout",
     "output_type": "stream",
     "text": [
      "hit1: 0.3408531348411108\n",
      "hit3: 0.47432006870884624\n",
      "hit10: 0.6169481820784426\n",
      "mr: 136.54926996850844\n",
      "mrr: 0.4333744312380468\n",
      "损失值为：1.5400776222813874\n"
     ]
    },
    {
     "name": "stderr",
     "output_type": "stream",
     "text": [
      "\r",
      " 23%|████████████████████▏                                                                   | 69/300 [47:46<3:15:24, 50.75s/it]"
     ]
    },
    {
     "name": "stdout",
     "output_type": "stream",
     "text": [
      "hit1: 0.34033781849413114\n",
      "hit3: 0.47787002576581733\n",
      "hit10: 0.6159748067563698\n",
      "mr: 135.3361580303464\n",
      "mrr: 0.43325202625816805\n",
      "损失值为：1.538944575469941\n"
     ]
    },
    {
     "name": "stderr",
     "output_type": "stream",
     "text": [
      "\r",
      " 23%|████████████████████▌                                                                   | 70/300 [48:43<3:21:29, 52.56s/it]"
     ]
    },
    {
     "name": "stdout",
     "output_type": "stream",
     "text": [
      "hit1: 0.34056684798167763\n",
      "hit3: 0.47500715717148584\n",
      "hit10: 0.6182651016318351\n",
      "mr: 136.07002576581735\n",
      "mrr: 0.4335275038886014\n",
      "损失值为：1.5310437850421295\n"
     ]
    },
    {
     "name": "stderr",
     "output_type": "stream",
     "text": [
      "\r",
      " 24%|████████████████████▊                                                                   | 71/300 [49:42<3:27:24, 54.34s/it]"
     ]
    },
    {
     "name": "stdout",
     "output_type": "stream",
     "text": [
      "hit1: 0.3406813627254509\n",
      "hit3: 0.47580876037789865\n",
      "hit10: 0.6191239622101345\n",
      "mr: 135.67987403378186\n",
      "mrr: 0.4336045591815634\n",
      "损失值为：1.5280451336875558\n"
     ]
    },
    {
     "name": "stderr",
     "output_type": "stream",
     "text": [
      "\r",
      " 24%|█████████████████████                                                                   | 72/300 [50:32<3:22:16, 53.23s/it]"
     ]
    },
    {
     "name": "stdout",
     "output_type": "stream",
     "text": [
      "hit1: 0.3399942742628113\n",
      "hit3: 0.477927283137704\n",
      "hit10: 0.6174634984254223\n",
      "mr: 136.94938448325223\n",
      "mrr: 0.4335704352065721\n",
      "损失值为：1.521868989802897\n"
     ]
    },
    {
     "name": "stderr",
     "output_type": "stream",
     "text": [
      "\r",
      " 24%|█████████████████████▍                                                                  | 73/300 [51:21<3:16:06, 51.84s/it]"
     ]
    },
    {
     "name": "stdout",
     "output_type": "stream",
     "text": [
      "hit1: 0.3397079874033782\n",
      "hit3: 0.47746922416261095\n",
      "hit10: 0.6180933295161752\n",
      "mr: 137.78133409676497\n",
      "mrr: 0.43364860780723624\n",
      "损失值为：1.5188080130610615\n"
     ]
    },
    {
     "name": "stderr",
     "output_type": "stream",
     "text": [
      "\r",
      " 25%|█████████████████████▋                                                                  | 74/300 [52:22<3:26:11, 54.74s/it]"
     ]
    },
    {
     "name": "stdout",
     "output_type": "stream",
     "text": [
      "hit1: 0.3407958774692242\n",
      "hit3: 0.476839393071858\n",
      "hit10: 0.617807042656742\n",
      "mr: 138.025765817349\n",
      "mrr: 0.4340682129554641\n",
      "损失值为：1.519717762595974\n"
     ]
    },
    {
     "name": "stderr",
     "output_type": "stream",
     "text": [
      "\r",
      " 25%|██████████████████████                                                                  | 75/300 [53:02<3:08:56, 50.38s/it]"
     ]
    },
    {
     "name": "stdout",
     "output_type": "stream",
     "text": [
      "hit1: 0.3433152018322359\n",
      "hit3: 0.4783280847409104\n",
      "hit10: 0.6193529916976811\n",
      "mr: 137.46395648439736\n",
      "mrr: 0.43565718756092053\n",
      "损失值为：1.5108614061027765\n"
     ]
    },
    {
     "name": "stderr",
     "output_type": "stream",
     "text": [
      "\r",
      " 25%|██████████████████████▎                                                                 | 76/300 [53:58<3:14:04, 51.99s/it]"
     ]
    },
    {
     "name": "stdout",
     "output_type": "stream",
     "text": [
      "hit1: 0.34194102490695677\n",
      "hit3: 0.47918694531920986\n",
      "hit10: 0.6186086458631549\n",
      "mr: 137.36175207557974\n",
      "mrr: 0.4356333197894513\n",
      "损失值为：1.507819625781849\n"
     ]
    },
    {
     "name": "stderr",
     "output_type": "stream",
     "text": [
      "\r",
      " 26%|██████████████████████▌                                                                 | 77/300 [54:48<3:11:10, 51.44s/it]"
     ]
    },
    {
     "name": "stdout",
     "output_type": "stream",
     "text": [
      "hit1: 0.34136845118809045\n",
      "hit3: 0.47746922416261095\n",
      "hit10: 0.6202691096478672\n",
      "mr: 138.15722874320068\n",
      "mrr: 0.43458900511707077\n",
      "损失值为：1.5078031609300524\n"
     ]
    },
    {
     "name": "stderr",
     "output_type": "stream",
     "text": [
      "\r",
      " 26%|██████████████████████▉                                                                 | 78/300 [55:42<3:12:42, 52.08s/it]"
     ]
    },
    {
     "name": "stdout",
     "output_type": "stream",
     "text": [
      "hit1: 0.34360148869166907\n",
      "hit3: 0.477927283137704\n",
      "hit10: 0.6190094474663613\n",
      "mr: 140.06183796163756\n",
      "mrr: 0.4359193255855359\n",
      "损失值为：1.504186131292954\n"
     ]
    },
    {
     "name": "stderr",
     "output_type": "stream",
     "text": [
      "\r",
      " 26%|███████████████████████▏                                                                | 79/300 [56:36<3:14:06, 52.70s/it]"
     ]
    },
    {
     "name": "stdout",
     "output_type": "stream",
     "text": [
      "hit1: 0.3407958774692242\n",
      "hit3: 0.4771829373031778\n",
      "hit10: 0.6194675064414543\n",
      "mr: 140.4255940452333\n",
      "mrr: 0.43478931279604466\n",
      "损失值为：1.5024001045385376\n"
     ]
    },
    {
     "name": "stderr",
     "output_type": "stream",
     "text": [
      "\r",
      " 27%|███████████████████████▍                                                                | 80/300 [57:30<3:14:25, 53.02s/it]"
     ]
    },
    {
     "name": "stdout",
     "output_type": "stream",
     "text": [
      "hit1: 0.341597480675637\n",
      "hit3: 0.4785571142284569\n",
      "hit10: 0.6208989407386201\n",
      "mr: 141.51600343544231\n",
      "mrr: 0.434985604698632\n",
      "损失值为：1.4945215780753642\n"
     ]
    },
    {
     "name": "stderr",
     "output_type": "stream",
     "text": [
      "\r",
      " 27%|███████████████████████▊                                                                | 81/300 [58:33<3:24:08, 55.93s/it]"
     ]
    },
    {
     "name": "stdout",
     "output_type": "stream",
     "text": [
      "hit1: 0.3407386200973375\n",
      "hit3: 0.4779845405095906\n",
      "hit10: 0.6222731176638993\n",
      "mr: 139.79290008588606\n",
      "mrr: 0.4345158880974948\n",
      "损失值为：1.490773972705938\n"
     ]
    },
    {
     "name": "stderr",
     "output_type": "stream",
     "text": [
      "\r",
      " 27%|████████████████████████                                                                | 82/300 [59:23<3:17:43, 54.42s/it]"
     ]
    },
    {
     "name": "stdout",
     "output_type": "stream",
     "text": [
      "hit1: 0.34154022330375033\n",
      "hit3: 0.4764385914686516\n",
      "hit10: 0.6229602061265388\n",
      "mr: 138.67265960492412\n",
      "mrr: 0.43465434569297584\n",
      "损失值为：1.4898947265464813\n"
     ]
    },
    {
     "name": "stderr",
     "output_type": "stream",
     "text": [
      "\r",
      " 28%|███████████████████████▊                                                              | 83/300 [1:00:14<3:12:15, 53.16s/it]"
     ]
    },
    {
     "name": "stdout",
     "output_type": "stream",
     "text": [
      "hit1: 0.34131119381620384\n",
      "hit3: 0.4764958488405382\n",
      "hit10: 0.6211852275980533\n",
      "mr: 141.58465502433438\n",
      "mrr: 0.434364289111168\n",
      "损失值为：1.4830785929225385\n"
     ]
    },
    {
     "name": "stderr",
     "output_type": "stream",
     "text": [
      "\r",
      " 28%|████████████████████████                                                              | 84/300 [1:01:09<3:13:57, 53.88s/it]"
     ]
    },
    {
     "name": "stdout",
     "output_type": "stream",
     "text": [
      "hit1: 0.3393644431720584\n",
      "hit3: 0.4762668193529917\n",
      "hit10: 0.6227311766389922\n",
      "mr: 141.17257371886632\n",
      "mrr: 0.433605747485172\n",
      "损失值为：1.482524967403151\n"
     ]
    },
    {
     "name": "stderr",
     "output_type": "stream",
     "text": [
      "\r",
      " 28%|████████████████████████▎                                                             | 85/300 [1:01:58<3:07:21, 52.29s/it]"
     ]
    },
    {
     "name": "stdout",
     "output_type": "stream",
     "text": [
      "hit1: 0.3417692527912969\n",
      "hit3: 0.476839393071858\n",
      "hit10: 0.6225021471514457\n",
      "mr: 141.52092756942457\n",
      "mrr: 0.4350263873125355\n",
      "损失值为：1.4800327636767179\n"
     ]
    },
    {
     "name": "stderr",
     "output_type": "stream",
     "text": [
      "\r",
      " 29%|████████████████████████▋                                                             | 86/300 [1:02:45<3:00:47, 50.69s/it]"
     ]
    },
    {
     "name": "stdout",
     "output_type": "stream",
     "text": [
      "hit1: 0.3423418265101632\n",
      "hit3: 0.476839393071858\n",
      "hit10: 0.6227311766389922\n",
      "mr: 140.58768966504437\n",
      "mrr: 0.43516790992191434\n",
      "损失值为：1.4744756725849584\n"
     ]
    },
    {
     "name": "stderr",
     "output_type": "stream",
     "text": [
      "\r",
      " 29%|████████████████████████▉                                                             | 87/300 [1:03:48<3:13:17, 54.45s/it]"
     ]
    },
    {
     "name": "stdout",
     "output_type": "stream",
     "text": [
      "hit1: 0.3416547380475236\n",
      "hit3: 0.4779845405095906\n",
      "hit10: 0.6207844259948468\n",
      "mr: 142.33157744059548\n",
      "mrr: 0.4354567173173554\n",
      "损失值为：1.4716593408957124\n"
     ]
    },
    {
     "name": "stderr",
     "output_type": "stream",
     "text": [
      "\r",
      " 29%|█████████████████████████▏                                                            | 88/300 [1:04:37<3:06:56, 52.91s/it]"
     ]
    },
    {
     "name": "stdout",
     "output_type": "stream",
     "text": [
      "hit1: 0.34194102490695677\n",
      "hit3: 0.4791296879473232\n",
      "hit10: 0.6224448897795591\n",
      "mr: 142.25880332092757\n",
      "mrr: 0.43587127924707747\n",
      "损失值为：1.4706133322324604\n"
     ]
    },
    {
     "name": "stderr",
     "output_type": "stream",
     "text": [
      "\r",
      " 30%|█████████████████████████▌                                                            | 89/300 [1:05:29<3:05:04, 52.63s/it]"
     ]
    },
    {
     "name": "stdout",
     "output_type": "stream",
     "text": [
      "hit1: 0.33982250214715143\n",
      "hit3: 0.47603778986544515\n",
      "hit10: 0.621528771829373\n",
      "mr: 143.08663040366446\n",
      "mrr: 0.43366848339394765\n",
      "损失值为：1.4682887953240424\n"
     ]
    },
    {
     "name": "stderr",
     "output_type": "stream",
     "text": [
      "\r",
      " 30%|█████████████████████████▊                                                            | 90/300 [1:06:24<3:06:27, 53.27s/it]"
     ]
    },
    {
     "name": "stdout",
     "output_type": "stream",
     "text": [
      "hit1: 0.34125393644431723\n",
      "hit3: 0.47575150300601204\n",
      "hit10: 0.621528771829373\n",
      "mr: 142.5746922416261\n",
      "mrr: 0.43431096227303145\n",
      "损失值为：1.4648120967904106\n"
     ]
    },
    {
     "name": "stderr",
     "output_type": "stream",
     "text": [
      "\r",
      " 30%|██████████████████████████                                                            | 91/300 [1:07:14<3:02:10, 52.30s/it]"
     ]
    },
    {
     "name": "stdout",
     "output_type": "stream",
     "text": [
      "hit1: 0.33982250214715143\n",
      "hit3: 0.4756942456341254\n",
      "hit10: 0.6210134554823934\n",
      "mr: 144.20246206699113\n",
      "mrr: 0.4335164893039336\n",
      "损失值为：1.4631343457149342\n"
     ]
    },
    {
     "name": "stderr",
     "output_type": "stream",
     "text": [
      "\r",
      " 31%|██████████████████████████▎                                                           | 92/300 [1:08:20<3:15:56, 56.52s/it]"
     ]
    },
    {
     "name": "stdout",
     "output_type": "stream",
     "text": [
      "hit1: 0.3409103922129974\n",
      "hit3: 0.4773547094188377\n",
      "hit10: 0.6217005439450329\n",
      "mr: 143.42679645004296\n",
      "mrr: 0.434353459243937\n",
      "损失值为：1.4568656096234918\n"
     ]
    },
    {
     "name": "stderr",
     "output_type": "stream",
     "text": [
      "\r",
      " 31%|██████████████████████████▋                                                           | 93/300 [1:09:09<3:06:41, 54.11s/it]"
     ]
    },
    {
     "name": "stdout",
     "output_type": "stream",
     "text": [
      "hit1: 0.3393644431720584\n",
      "hit3: 0.4764958488405382\n",
      "hit10: 0.6212997423418265\n",
      "mr: 145.9541368451188\n",
      "mrr: 0.4333406321124328\n",
      "损失值为：1.4618334979750216\n"
     ]
    },
    {
     "name": "stderr",
     "output_type": "stream",
     "text": [
      "\r",
      " 31%|██████████████████████████▉                                                           | 94/300 [1:10:09<3:12:18, 56.01s/it]"
     ]
    },
    {
     "name": "stdout",
     "output_type": "stream",
     "text": [
      "hit1: 0.34033781849413114\n",
      "hit3: 0.47603778986544515\n",
      "hit10: 0.6214142570855997\n",
      "mr: 146.0363011737761\n",
      "mrr: 0.4338737201325822\n",
      "损失值为：1.4528969189850613\n"
     ]
    },
    {
     "name": "stderr",
     "output_type": "stream",
     "text": [
      "\r",
      " 32%|███████████████████████████▏                                                          | 95/300 [1:11:09<3:15:21, 57.18s/it]"
     ]
    },
    {
     "name": "stdout",
     "output_type": "stream",
     "text": [
      "hit1: 0.3401087890065846\n",
      "hit3: 0.47689665044374463\n",
      "hit10: 0.6223303750357858\n",
      "mr: 145.8462639564844\n",
      "mrr: 0.4340776623790574\n",
      "损失值为：1.4521248545497656\n"
     ]
    },
    {
     "name": "stderr",
     "output_type": "stream",
     "text": [
      "\r",
      " 32%|███████████████████████████▌                                                          | 96/300 [1:12:06<3:14:13, 57.12s/it]"
     ]
    },
    {
     "name": "stdout",
     "output_type": "stream",
     "text": [
      "hit1: 0.33924992842828516\n",
      "hit3: 0.47598053249355854\n",
      "hit10: 0.6201545949040939\n",
      "mr: 147.44975665616948\n",
      "mrr: 0.4328867232024494\n",
      "损失值为：1.4493288815720007\n"
     ]
    },
    {
     "name": "stderr",
     "output_type": "stream",
     "text": [
      "\r",
      " 32%|███████████████████████████▊                                                          | 97/300 [1:13:13<3:23:08, 60.04s/it]"
     ]
    },
    {
     "name": "stdout",
     "output_type": "stream",
     "text": [
      "hit1: 0.34022330375035786\n",
      "hit3: 0.4763240767248783\n",
      "hit10: 0.620612653879187\n",
      "mr: 146.52711136558833\n",
      "mrr: 0.4337224749514411\n",
      "损失值为：1.4465167203452438\n"
     ]
    },
    {
     "name": "stderr",
     "output_type": "stream",
     "text": [
      "\r",
      " 33%|████████████████████████████                                                          | 98/300 [1:14:04<3:12:43, 57.25s/it]"
     ]
    },
    {
     "name": "stdout",
     "output_type": "stream",
     "text": [
      "hit1: 0.3390781563126252\n",
      "hit3: 0.475293444030919\n",
      "hit10: 0.6217005439450329\n",
      "mr: 148.06023475522474\n",
      "mrr: 0.43289049792756196\n",
      "损失值为：1.4456589707406238\n"
     ]
    },
    {
     "name": "stderr",
     "output_type": "stream",
     "text": [
      "\r",
      " 33%|████████████████████████████▍                                                         | 99/300 [1:14:54<3:04:20, 55.03s/it]"
     ]
    },
    {
     "name": "stdout",
     "output_type": "stream",
     "text": [
      "hit1: 0.34016604637847125\n",
      "hit3: 0.4763240767248783\n",
      "hit10: 0.6202118522759805\n",
      "mr: 148.25330661322644\n",
      "mrr: 0.4335509419282985\n",
      "损失值为：1.4415743704885244\n"
     ]
    },
    {
     "name": "stderr",
     "output_type": "stream",
     "text": [
      "\r",
      " 33%|████████████████████████████▎                                                        | 100/300 [1:15:49<3:03:40, 55.10s/it]"
     ]
    },
    {
     "name": "stdout",
     "output_type": "stream",
     "text": [
      "hit1: 0.33850558259375896\n",
      "hit3: 0.4763240767248783\n",
      "hit10: 0.6206699112510736\n",
      "mr: 147.98963641568852\n",
      "mrr: 0.4328507264804177\n",
      "损失值为：1.4432968412293121\n"
     ]
    },
    {
     "name": "stderr",
     "output_type": "stream",
     "text": [
      "\r",
      " 34%|████████████████████████████▌                                                        | 101/300 [1:16:39<2:57:11, 53.42s/it]"
     ]
    },
    {
     "name": "stdout",
     "output_type": "stream",
     "text": [
      "hit1: 0.3382765531062124\n",
      "hit3: 0.4755224735184655\n",
      "hit10: 0.6196392785571142\n",
      "mr: 150.4985399370169\n",
      "mrr: 0.43260911192329854\n",
      "损失值为：1.4365449228789657\n"
     ]
    },
    {
     "name": "stderr",
     "output_type": "stream",
     "text": [
      "\r",
      " 34%|████████████████████████████▉                                                        | 102/300 [1:17:44<3:08:38, 57.17s/it]"
     ]
    },
    {
     "name": "stdout",
     "output_type": "stream",
     "text": [
      "hit1: 0.3381047809905525\n",
      "hit3: 0.4724878328084741\n",
      "hit10: 0.6207844259948468\n",
      "mr: 149.94400229029486\n",
      "mrr: 0.43184359958892277\n",
      "损失值为：1.4340675486018881\n"
     ]
    },
    {
     "name": "stderr",
     "output_type": "stream",
     "text": [
      "\r",
      " 34%|█████████████████████████████▏                                                       | 103/300 [1:18:37<3:03:23, 55.86s/it]"
     ]
    },
    {
     "name": "stdout",
     "output_type": "stream",
     "text": [
      "hit1: 0.337417692527913\n",
      "hit3: 0.47414829659318636\n",
      "hit10: 0.6183796163756083\n",
      "mr: 151.05508159175494\n",
      "mrr: 0.43151052695657927\n",
      "损失值为：1.4344888883642852\n"
     ]
    },
    {
     "name": "stderr",
     "output_type": "stream",
     "text": [
      "\r",
      " 35%|█████████████████████████████▍                                                       | 104/300 [1:19:32<3:01:35, 55.59s/it]"
     ]
    },
    {
     "name": "stdout",
     "output_type": "stream",
     "text": [
      "hit1: 0.3363870598339536\n",
      "hit3: 0.4735184655024334\n",
      "hit10: 0.6203836243916404\n",
      "mr: 149.42931577440595\n",
      "mrr: 0.4312192453337222\n",
      "损失值为：1.431663048104383\n"
     ]
    },
    {
     "name": "stderr",
     "output_type": "stream",
     "text": [
      "\r",
      " 35%|█████████████████████████████▋                                                       | 105/300 [1:20:25<2:57:42, 54.68s/it]"
     ]
    },
    {
     "name": "stdout",
     "output_type": "stream",
     "text": [
      "hit1: 0.33718866304036643\n",
      "hit3: 0.47391926710563986\n",
      "hit10: 0.6169481820784426\n",
      "mr: 152.8549098196393\n",
      "mrr: 0.4313958492377808\n",
      "损失值为：1.4294349170522764\n"
     ]
    },
    {
     "name": "stderr",
     "output_type": "stream",
     "text": [
      "\r",
      " 35%|██████████████████████████████                                                       | 106/300 [1:21:01<2:39:20, 49.28s/it]"
     ]
    },
    {
     "name": "stdout",
     "output_type": "stream",
     "text": [
      "hit1: 0.33661608932150017\n",
      "hit3: 0.4738047523618666\n",
      "hit10: 0.6198110506727741\n",
      "mr: 154.4372745490982\n",
      "mrr: 0.43075002602654106\n",
      "损失值为：1.4257738420274109\n"
     ]
    },
    {
     "name": "stderr",
     "output_type": "stream",
     "text": [
      "\r",
      " 36%|██████████████████████████████▎                                                      | 107/300 [1:21:26<2:14:31, 41.82s/it]"
     ]
    },
    {
     "name": "stdout",
     "output_type": "stream",
     "text": [
      "hit1: 0.3374749498997996\n",
      "hit3: 0.475293444030919\n",
      "hit10: 0.6170626968222158\n",
      "mr: 155.93907815631263\n",
      "mrr: 0.43111949187837817\n",
      "损失值为：1.4272671254584566\n"
     ]
    },
    {
     "name": "stderr",
     "output_type": "stream",
     "text": [
      "\r",
      " 36%|██████████████████████████████▌                                                      | 108/300 [1:21:50<1:56:44, 36.48s/it]"
     ]
    },
    {
     "name": "stdout",
     "output_type": "stream",
     "text": [
      "hit1: 0.33867735470941884\n",
      "hit3: 0.47466361294016607\n",
      "hit10: 0.6189521900944747\n",
      "mr: 155.8249069567707\n",
      "mrr: 0.43214903973867835\n",
      "损失值为：1.4278850220143795\n"
     ]
    },
    {
     "name": "stderr",
     "output_type": "stream",
     "text": [
      "\r",
      " 36%|██████████████████████████████▉                                                      | 109/300 [1:22:14<1:44:08, 32.72s/it]"
     ]
    },
    {
     "name": "stdout",
     "output_type": "stream",
     "text": [
      "hit1: 0.3354136845118809\n",
      "hit3: 0.4730031491554538\n",
      "hit10: 0.6174062410535357\n",
      "mr: 154.96478671628972\n",
      "mrr: 0.4299753340872884\n",
      "损失值为：1.4199537461972795\n"
     ]
    },
    {
     "name": "stderr",
     "output_type": "stream",
     "text": [
      "\r",
      " 37%|███████████████████████████████▏                                                     | 110/300 [1:22:44<1:41:23, 32.02s/it]"
     ]
    },
    {
     "name": "stdout",
     "output_type": "stream",
     "text": [
      "hit1: 0.33421127970226167\n",
      "hit3: 0.4728886344116805\n",
      "hit10: 0.6193529916976811\n",
      "mr: 153.50518179215575\n",
      "mrr: 0.4292308854402229\n",
      "损失值为：1.4193019836675376\n"
     ]
    },
    {
     "name": "stderr",
     "output_type": "stream",
     "text": [
      "\r",
      " 37%|███████████████████████████████▍                                                     | 111/300 [1:23:38<2:01:46, 38.66s/it]"
     ]
    },
    {
     "name": "stdout",
     "output_type": "stream",
     "text": [
      "hit1: 0.3366733466933868\n",
      "hit3: 0.471113655883195\n",
      "hit10: 0.6182651016318351\n",
      "mr: 155.75133123389637\n",
      "mrr: 0.43036748459639707\n",
      "损失值为：1.418655544752255\n"
     ]
    },
    {
     "name": "stderr",
     "output_type": "stream",
     "text": [
      "\r",
      " 37%|███████████████████████████████▋                                                     | 112/300 [1:24:32<2:14:52, 43.04s/it]"
     ]
    },
    {
     "name": "stdout",
     "output_type": "stream",
     "text": [
      "hit1: 0.3346693386773547\n",
      "hit3: 0.47323217864300027\n",
      "hit10: 0.6165473804752362\n",
      "mr: 155.3640423704552\n",
      "mrr: 0.42972643849504316\n",
      "损失值为：1.4168139168759808\n"
     ]
    },
    {
     "name": "stderr",
     "output_type": "stream",
     "text": [
      "\r",
      " 38%|████████████████████████████████                                                     | 113/300 [1:25:27<2:25:30, 46.69s/it]"
     ]
    },
    {
     "name": "stdout",
     "output_type": "stream",
     "text": [
      "hit1: 0.33678786143716005\n",
      "hit3: 0.474205553965073\n",
      "hit10: 0.6174634984254223\n",
      "mr: 156.34955625536787\n",
      "mrr: 0.43112078111044605\n",
      "损失值为：1.4202384108211845\n"
     ]
    },
    {
     "name": "stderr",
     "output_type": "stream",
     "text": [
      "\r",
      " 38%|████████████████████████████████▎                                                    | 114/300 [1:26:20<2:30:26, 48.53s/it]"
     ]
    },
    {
     "name": "stdout",
     "output_type": "stream",
     "text": [
      "hit1: 0.3354709418837675\n",
      "hit3: 0.4718007443458345\n",
      "hit10: 0.6168909247065559\n",
      "mr: 160.8711136558832\n",
      "mrr: 0.4292391538359572\n",
      "损失值为：1.413743745884858\n"
     ]
    },
    {
     "name": "stderr",
     "output_type": "stream",
     "text": [
      "\r",
      " 38%|████████████████████████████████▌                                                    | 115/300 [1:27:10<2:31:30, 49.14s/it]"
     ]
    },
    {
     "name": "stdout",
     "output_type": "stream",
     "text": [
      "hit1: 0.33610077297452046\n",
      "hit3: 0.4713426853707415\n",
      "hit10: 0.6162038362439164\n",
      "mr: 158.025250501002\n",
      "mrr: 0.429723090802977\n",
      "损失值为：1.41194586455822\n"
     ]
    },
    {
     "name": "stderr",
     "output_type": "stream",
     "text": [
      "\r",
      " 39%|████████████████████████████████▊                                                    | 116/300 [1:28:01<2:32:21, 49.68s/it]"
     ]
    },
    {
     "name": "stdout",
     "output_type": "stream",
     "text": [
      "hit1: 0.3381620383624392\n",
      "hit3: 0.47340395075866015\n",
      "hit10: 0.6164901231033496\n",
      "mr: 158.53335241912396\n",
      "mrr: 0.4308742875048799\n",
      "损失值为：1.4094085964607075\n"
     ]
    },
    {
     "name": "stderr",
     "output_type": "stream",
     "text": [
      "\r",
      " 39%|█████████████████████████████████▏                                                   | 117/300 [1:28:54<2:34:43, 50.73s/it]"
     ]
    },
    {
     "name": "stdout",
     "output_type": "stream",
     "text": [
      "hit1: 0.33381047809905523\n",
      "hit3: 0.4718007443458345\n",
      "hit10: 0.6177497852848555\n",
      "mr: 160.71102204408817\n",
      "mrr: 0.4284874640260654\n",
      "损失值为：1.4081622103694826\n"
     ]
    },
    {
     "name": "stderr",
     "output_type": "stream",
     "text": [
      "\r",
      " 39%|█████████████████████████████████▍                                                   | 118/300 [1:29:43<2:32:06, 50.14s/it]"
     ]
    },
    {
     "name": "stdout",
     "output_type": "stream",
     "text": [
      "hit1: 0.33529916976810764\n",
      "hit3: 0.4719152590896078\n",
      "hit10: 0.6180933295161752\n",
      "mr: 159.99421700543945\n",
      "mrr: 0.429016477505457\n"
     ]
    },
    {
     "name": "stderr",
     "output_type": "stream",
     "text": [
      " 39%|█████████████████████████████████▍                                                   | 118/300 [1:30:06<2:18:59, 45.82s/it]\n"
     ]
    },
    {
     "ename": "KeyboardInterrupt",
     "evalue": "",
     "output_type": "error",
     "traceback": [
      "\u001b[0;31m---------------------------------------------------------------------------\u001b[0m",
      "\u001b[0;31mKeyboardInterrupt\u001b[0m                         Traceback (most recent call last)",
      "Input \u001b[0;32mIn [8]\u001b[0m, in \u001b[0;36m<cell line: 6>\u001b[0;34m()\u001b[0m\n\u001b[1;32m      4\u001b[0m \u001b[38;5;28mprint\u001b[39m(\u001b[38;5;28mlen\u001b[39m(dataPro\u001b[38;5;241m.\u001b[39mdata[\u001b[38;5;124m'\u001b[39m\u001b[38;5;124mvalid\u001b[39m\u001b[38;5;124m'\u001b[39m]))\n\u001b[1;32m      5\u001b[0m trainer \u001b[38;5;241m=\u001b[39m Trainer(dataPro,config, device)\n\u001b[0;32m----> 6\u001b[0m \u001b[43mtrainer\u001b[49m\u001b[38;5;241;43m.\u001b[39;49m\u001b[43mMyTrain\u001b[49m\u001b[43m(\u001b[49m\u001b[43m)\u001b[49m\n",
      "Input \u001b[0;32mIn [7]\u001b[0m, in \u001b[0;36mTrainer.MyTrain\u001b[0;34m(self)\u001b[0m\n\u001b[1;32m     19\u001b[0m \u001b[38;5;28mself\u001b[39m\u001b[38;5;241m.\u001b[39mmodel\u001b[38;5;241m.\u001b[39mtrain()\n\u001b[1;32m     20\u001b[0m total_loss \u001b[38;5;241m=\u001b[39m \u001b[38;5;241m0.0\u001b[39m\n\u001b[0;32m---> 21\u001b[0m \u001b[38;5;28;01mfor\u001b[39;00m i,(triples, labels) \u001b[38;5;129;01min\u001b[39;00m \u001b[38;5;28menumerate\u001b[39m(dataload):\n\u001b[1;32m     22\u001b[0m     triples \u001b[38;5;241m=\u001b[39m triples\u001b[38;5;241m.\u001b[39mto(\u001b[38;5;28mself\u001b[39m\u001b[38;5;241m.\u001b[39mdevice)\n\u001b[1;32m     23\u001b[0m     labels \u001b[38;5;241m=\u001b[39m labels\u001b[38;5;241m.\u001b[39mto(\u001b[38;5;28mself\u001b[39m\u001b[38;5;241m.\u001b[39mdevice)\n",
      "File \u001b[0;32m~/.conda/envs/pytorch/lib/python3.8/site-packages/torch/utils/data/dataloader.py:521\u001b[0m, in \u001b[0;36m_BaseDataLoaderIter.__next__\u001b[0;34m(self)\u001b[0m\n\u001b[1;32m    519\u001b[0m \u001b[38;5;28;01mif\u001b[39;00m \u001b[38;5;28mself\u001b[39m\u001b[38;5;241m.\u001b[39m_sampler_iter \u001b[38;5;129;01mis\u001b[39;00m \u001b[38;5;28;01mNone\u001b[39;00m:\n\u001b[1;32m    520\u001b[0m     \u001b[38;5;28mself\u001b[39m\u001b[38;5;241m.\u001b[39m_reset()\n\u001b[0;32m--> 521\u001b[0m data \u001b[38;5;241m=\u001b[39m \u001b[38;5;28;43mself\u001b[39;49m\u001b[38;5;241;43m.\u001b[39;49m\u001b[43m_next_data\u001b[49m\u001b[43m(\u001b[49m\u001b[43m)\u001b[49m\n\u001b[1;32m    522\u001b[0m \u001b[38;5;28mself\u001b[39m\u001b[38;5;241m.\u001b[39m_num_yielded \u001b[38;5;241m+\u001b[39m\u001b[38;5;241m=\u001b[39m \u001b[38;5;241m1\u001b[39m\n\u001b[1;32m    523\u001b[0m \u001b[38;5;28;01mif\u001b[39;00m \u001b[38;5;28mself\u001b[39m\u001b[38;5;241m.\u001b[39m_dataset_kind \u001b[38;5;241m==\u001b[39m _DatasetKind\u001b[38;5;241m.\u001b[39mIterable \u001b[38;5;129;01mand\u001b[39;00m \\\n\u001b[1;32m    524\u001b[0m         \u001b[38;5;28mself\u001b[39m\u001b[38;5;241m.\u001b[39m_IterableDataset_len_called \u001b[38;5;129;01mis\u001b[39;00m \u001b[38;5;129;01mnot\u001b[39;00m \u001b[38;5;28;01mNone\u001b[39;00m \u001b[38;5;129;01mand\u001b[39;00m \\\n\u001b[1;32m    525\u001b[0m         \u001b[38;5;28mself\u001b[39m\u001b[38;5;241m.\u001b[39m_num_yielded \u001b[38;5;241m>\u001b[39m \u001b[38;5;28mself\u001b[39m\u001b[38;5;241m.\u001b[39m_IterableDataset_len_called:\n",
      "File \u001b[0;32m~/.conda/envs/pytorch/lib/python3.8/site-packages/torch/utils/data/dataloader.py:561\u001b[0m, in \u001b[0;36m_SingleProcessDataLoaderIter._next_data\u001b[0;34m(self)\u001b[0m\n\u001b[1;32m    559\u001b[0m \u001b[38;5;28;01mdef\u001b[39;00m \u001b[38;5;21m_next_data\u001b[39m(\u001b[38;5;28mself\u001b[39m):\n\u001b[1;32m    560\u001b[0m     index \u001b[38;5;241m=\u001b[39m \u001b[38;5;28mself\u001b[39m\u001b[38;5;241m.\u001b[39m_next_index()  \u001b[38;5;66;03m# may raise StopIteration\u001b[39;00m\n\u001b[0;32m--> 561\u001b[0m     data \u001b[38;5;241m=\u001b[39m \u001b[38;5;28;43mself\u001b[39;49m\u001b[38;5;241;43m.\u001b[39;49m\u001b[43m_dataset_fetcher\u001b[49m\u001b[38;5;241;43m.\u001b[39;49m\u001b[43mfetch\u001b[49m\u001b[43m(\u001b[49m\u001b[43mindex\u001b[49m\u001b[43m)\u001b[49m  \u001b[38;5;66;03m# may raise StopIteration\u001b[39;00m\n\u001b[1;32m    562\u001b[0m     \u001b[38;5;28;01mif\u001b[39;00m \u001b[38;5;28mself\u001b[39m\u001b[38;5;241m.\u001b[39m_pin_memory:\n\u001b[1;32m    563\u001b[0m         data \u001b[38;5;241m=\u001b[39m _utils\u001b[38;5;241m.\u001b[39mpin_memory\u001b[38;5;241m.\u001b[39mpin_memory(data)\n",
      "File \u001b[0;32m~/.conda/envs/pytorch/lib/python3.8/site-packages/torch/utils/data/_utils/fetch.py:52\u001b[0m, in \u001b[0;36m_MapDatasetFetcher.fetch\u001b[0;34m(self, possibly_batched_index)\u001b[0m\n\u001b[1;32m     50\u001b[0m \u001b[38;5;28;01melse\u001b[39;00m:\n\u001b[1;32m     51\u001b[0m     data \u001b[38;5;241m=\u001b[39m \u001b[38;5;28mself\u001b[39m\u001b[38;5;241m.\u001b[39mdataset[possibly_batched_index]\n\u001b[0;32m---> 52\u001b[0m \u001b[38;5;28;01mreturn\u001b[39;00m \u001b[38;5;28;43mself\u001b[39;49m\u001b[38;5;241;43m.\u001b[39;49m\u001b[43mcollate_fn\u001b[49m\u001b[43m(\u001b[49m\u001b[43mdata\u001b[49m\u001b[43m)\u001b[49m\n",
      "File \u001b[0;32m~/.conda/envs/pytorch/lib/python3.8/site-packages/torch/utils/data/_utils/collate.py:84\u001b[0m, in \u001b[0;36mdefault_collate\u001b[0;34m(batch)\u001b[0m\n\u001b[1;32m     82\u001b[0m         \u001b[38;5;28;01mraise\u001b[39;00m \u001b[38;5;167;01mRuntimeError\u001b[39;00m(\u001b[38;5;124m'\u001b[39m\u001b[38;5;124meach element in list of batch should be of equal size\u001b[39m\u001b[38;5;124m'\u001b[39m)\n\u001b[1;32m     83\u001b[0m     transposed \u001b[38;5;241m=\u001b[39m \u001b[38;5;28mzip\u001b[39m(\u001b[38;5;241m*\u001b[39mbatch)\n\u001b[0;32m---> 84\u001b[0m     \u001b[38;5;28;01mreturn\u001b[39;00m [default_collate(samples) \u001b[38;5;28;01mfor\u001b[39;00m samples \u001b[38;5;129;01min\u001b[39;00m transposed]\n\u001b[1;32m     86\u001b[0m \u001b[38;5;28;01mraise\u001b[39;00m \u001b[38;5;167;01mTypeError\u001b[39;00m(default_collate_err_msg_format\u001b[38;5;241m.\u001b[39mformat(elem_type))\n",
      "File \u001b[0;32m~/.conda/envs/pytorch/lib/python3.8/site-packages/torch/utils/data/_utils/collate.py:84\u001b[0m, in \u001b[0;36m<listcomp>\u001b[0;34m(.0)\u001b[0m\n\u001b[1;32m     82\u001b[0m         \u001b[38;5;28;01mraise\u001b[39;00m \u001b[38;5;167;01mRuntimeError\u001b[39;00m(\u001b[38;5;124m'\u001b[39m\u001b[38;5;124meach element in list of batch should be of equal size\u001b[39m\u001b[38;5;124m'\u001b[39m)\n\u001b[1;32m     83\u001b[0m     transposed \u001b[38;5;241m=\u001b[39m \u001b[38;5;28mzip\u001b[39m(\u001b[38;5;241m*\u001b[39mbatch)\n\u001b[0;32m---> 84\u001b[0m     \u001b[38;5;28;01mreturn\u001b[39;00m [\u001b[43mdefault_collate\u001b[49m\u001b[43m(\u001b[49m\u001b[43msamples\u001b[49m\u001b[43m)\u001b[49m \u001b[38;5;28;01mfor\u001b[39;00m samples \u001b[38;5;129;01min\u001b[39;00m transposed]\n\u001b[1;32m     86\u001b[0m \u001b[38;5;28;01mraise\u001b[39;00m \u001b[38;5;167;01mTypeError\u001b[39;00m(default_collate_err_msg_format\u001b[38;5;241m.\u001b[39mformat(elem_type))\n",
      "File \u001b[0;32m~/.conda/envs/pytorch/lib/python3.8/site-packages/torch/utils/data/_utils/collate.py:56\u001b[0m, in \u001b[0;36mdefault_collate\u001b[0;34m(batch)\u001b[0m\n\u001b[1;32m     54\u001b[0m         storage \u001b[38;5;241m=\u001b[39m elem\u001b[38;5;241m.\u001b[39mstorage()\u001b[38;5;241m.\u001b[39m_new_shared(numel)\n\u001b[1;32m     55\u001b[0m         out \u001b[38;5;241m=\u001b[39m elem\u001b[38;5;241m.\u001b[39mnew(storage)\n\u001b[0;32m---> 56\u001b[0m     \u001b[38;5;28;01mreturn\u001b[39;00m \u001b[43mtorch\u001b[49m\u001b[38;5;241;43m.\u001b[39;49m\u001b[43mstack\u001b[49m\u001b[43m(\u001b[49m\u001b[43mbatch\u001b[49m\u001b[43m,\u001b[49m\u001b[43m \u001b[49m\u001b[38;5;241;43m0\u001b[39;49m\u001b[43m,\u001b[49m\u001b[43m \u001b[49m\u001b[43mout\u001b[49m\u001b[38;5;241;43m=\u001b[39;49m\u001b[43mout\u001b[49m\u001b[43m)\u001b[49m\n\u001b[1;32m     57\u001b[0m \u001b[38;5;28;01melif\u001b[39;00m elem_type\u001b[38;5;241m.\u001b[39m\u001b[38;5;18m__module__\u001b[39m \u001b[38;5;241m==\u001b[39m \u001b[38;5;124m'\u001b[39m\u001b[38;5;124mnumpy\u001b[39m\u001b[38;5;124m'\u001b[39m \u001b[38;5;129;01mand\u001b[39;00m elem_type\u001b[38;5;241m.\u001b[39m\u001b[38;5;18m__name__\u001b[39m \u001b[38;5;241m!=\u001b[39m \u001b[38;5;124m'\u001b[39m\u001b[38;5;124mstr_\u001b[39m\u001b[38;5;124m'\u001b[39m \\\n\u001b[1;32m     58\u001b[0m         \u001b[38;5;129;01mand\u001b[39;00m elem_type\u001b[38;5;241m.\u001b[39m\u001b[38;5;18m__name__\u001b[39m \u001b[38;5;241m!=\u001b[39m \u001b[38;5;124m'\u001b[39m\u001b[38;5;124mstring_\u001b[39m\u001b[38;5;124m'\u001b[39m:\n\u001b[1;32m     59\u001b[0m     \u001b[38;5;28;01mif\u001b[39;00m elem_type\u001b[38;5;241m.\u001b[39m\u001b[38;5;18m__name__\u001b[39m \u001b[38;5;241m==\u001b[39m \u001b[38;5;124m'\u001b[39m\u001b[38;5;124mndarray\u001b[39m\u001b[38;5;124m'\u001b[39m \u001b[38;5;129;01mor\u001b[39;00m elem_type\u001b[38;5;241m.\u001b[39m\u001b[38;5;18m__name__\u001b[39m \u001b[38;5;241m==\u001b[39m \u001b[38;5;124m'\u001b[39m\u001b[38;5;124mmemmap\u001b[39m\u001b[38;5;124m'\u001b[39m:\n\u001b[1;32m     60\u001b[0m         \u001b[38;5;66;03m# array of string classes and object\u001b[39;00m\n",
      "\u001b[0;31mKeyboardInterrupt\u001b[0m: "
     ]
    }
   ],
   "source": [
    "dataPro = dataProcess('FB15k-237')\n",
    "device = torch.device(\"cuda:0\" if torch.cuda.is_available() else \"cpu\")\n",
    "config = Config(dataPro.ent_num(), dataPro.rel_num()*2)\n",
    "print(len(dataPro.data['valid']))\n",
    "trainer = Trainer(dataPro,config, device)\n",
    "trainer.MyTrain()\n",
    "\n"
   ]
  },
  {
   "cell_type": "code",
   "execution_count": 9,
   "id": "ba369e68",
   "metadata": {},
   "outputs": [],
   "source": [
    "class Tester:\n",
    "    def __init__(self,dataPro, model_path, device):\n",
    "        self.model = torch.load(model_path, map_location = device)\n",
    "        self.test_tail = MyDataSet(dataPro, 'test_tail', 0.0)\n",
    "        self.test_head = MyDataSet(dataPro, 'test_head', 0.0)\n",
    "        self.lens = len(dataPro.data['test'])\n",
    "        self.test_tail_load = DataLoader(self.test_tail, batch_size = 128)\n",
    "        self.test_head_load = DataLoader(self.test_head, batch_size = 128)\n",
    "        self.measure = Measure()\n",
    "        self.device = device\n",
    "        self.model.eval()\n",
    "    def test(self):\n",
    "        with torch.no_grad():\n",
    "            self.measure.init()\n",
    "            for i, (triples, labels) in enumerate(self.test_tail_load):\n",
    "                e1 = triples[:, 0]\n",
    "                rel = triples[:,1]\n",
    "                if i == 0:\n",
    "                    print(labels)\n",
    "                #print(e1)\n",
    "                e1 = e1.to(self.device)\n",
    "                rel = rel.to(self.device)\n",
    "                pred = self.model(e1, rel)\n",
    "                #print(pred)\n",
    "                pred = pred.cpu()\n",
    "                e2 = triples[:, 2]\n",
    "                self.predict(e2, labels, pred)\n",
    "            print(self.measure.mrr)\n",
    "            self.measure.deal(self.lens)\n",
    "            self.measure.print_()\n",
    "            self.measure.init()\n",
    "        \n",
    "            for i, (triples, labels) in enumerate(self.test_head_load):\n",
    "            \n",
    "                e1 = triples[:, 0]\n",
    "                rel = triples[:,1]\n",
    "                e1 = e1.to(self.device)\n",
    "                rel = rel.to(self.device)\n",
    "                pred = self.model(e1, rel)\n",
    "                pred = pred.cpu()\n",
    "                e2 = triples[:, 2]\n",
    "                self.predict(e2, labels, pred)\n",
    "            self.measure.deal(self.lens)\n",
    "            self.measure.print_()\n",
    "        \n",
    "            \n",
    "            \n",
    "    def predict(self, e2, labels, pred):\n",
    "        \n",
    "        n_batch = torch.arange(e2.shape[0])\n",
    "        target = pred[n_batch, e2]\n",
    "        pred = torch.where(labels.byte(), torch.zeros_like(pred), pred)\n",
    "        pred[n_batch, e2] = target\n",
    "        #print(target)\n",
    "        pred = pred.detach().numpy()\n",
    "        e2 = e2.numpy()\n",
    "        for i in range(e2.shape[0]):\n",
    "            ele = e2[i]\n",
    "            one_pred =  pred[i]\n",
    "            sc = one_pred[ele]\n",
    "            one_pred = np.delete(one_pred, ele)\n",
    "            one_pred = np.insert(one_pred,0, sc )\n",
    "            rank = (one_pred[0] <= one_pred).sum()\n",
    "            #print(rank)\n",
    "            self.measure.updata(rank)    \n",
    "            \n",
    "    \n",
    "    \n",
    "    \n",
    "  "
   ]
  },
  {
   "cell_type": "code",
   "execution_count": 10,
   "id": "f3457002",
   "metadata": {},
   "outputs": [
    {
     "name": "stdout",
     "output_type": "stream",
     "text": [
      "tensor([[0., 0., 0.,  ..., 0., 0., 0.],\n",
      "        [0., 0., 0.,  ..., 0., 0., 0.],\n",
      "        [0., 0., 0.,  ..., 0., 0., 0.],\n",
      "        ...,\n",
      "        [0., 0., 0.,  ..., 0., 0., 0.],\n",
      "        [0., 0., 0.,  ..., 0., 0., 0.],\n",
      "        [0., 0., 0.,  ..., 0., 0., 0.]])\n",
      "8541.983142886143\n",
      "hit1: 0.32018958272256426\n",
      "hit3: 0.46100850190559955\n",
      "hit10: 0.6100361575295612\n",
      "mr: 176.86157529561223\n",
      "mrr: 0.4173743351356466\n",
      "hit1: 0.13402716700869735\n",
      "hit3: 0.23624548030880485\n",
      "hit10: 0.379849506498583\n",
      "mr: 344.93643115410924\n",
      "mrr: 0.21511006519040557\n"
     ]
    }
   ],
   "source": [
    "model_path =  \"/home/qiupp/code/ConvE/models/118.pkl\"\n",
    "tester = Tester(dataPro, model_path, device)\n",
    "tester.test()"
   ]
  },
  {
   "cell_type": "code",
   "execution_count": 37,
   "id": "e6dbda49",
   "metadata": {},
   "outputs": [
    {
     "name": "stdout",
     "output_type": "stream",
     "text": [
      "[0. 0. 0. 0. 0. 0. 0. 0. 0. 0.]\n"
     ]
    }
   ],
   "source": []
  },
  {
   "cell_type": "code",
   "execution_count": 38,
   "id": "22bade46",
   "metadata": {},
   "outputs": [
    {
     "ename": "KeyError",
     "evalue": "'a'",
     "output_type": "error",
     "traceback": [
      "\u001b[0;31m---------------------------------------------------------------------------\u001b[0m",
      "\u001b[0;31mKeyError\u001b[0m                                  Traceback (most recent call last)",
      "Input \u001b[0;32mIn [38]\u001b[0m, in \u001b[0;36m<cell line: 3>\u001b[0;34m()\u001b[0m\n\u001b[1;32m      2\u001b[0m b \u001b[38;5;241m=\u001b[39m {}\n\u001b[1;32m      3\u001b[0m \u001b[38;5;28;01mfor\u001b[39;00m i \u001b[38;5;129;01min\u001b[39;00m a:\n\u001b[0;32m----> 4\u001b[0m     b[i] \u001b[38;5;241m+\u001b[39m\u001b[38;5;241m=\u001b[39m \u001b[38;5;241m1\u001b[39m\n\u001b[1;32m      5\u001b[0m \u001b[38;5;28mprint\u001b[39m(b)\n",
      "\u001b[0;31mKeyError\u001b[0m: 'a'"
     ]
    }
   ],
   "source": []
  },
  {
   "cell_type": "code",
   "execution_count": 28,
   "id": "32eb27a4",
   "metadata": {},
   "outputs": [],
   "source": []
  },
  {
   "cell_type": "code",
   "execution_count": 46,
   "id": "a94f61ef",
   "metadata": {},
   "outputs": [
    {
     "name": "stdout",
     "output_type": "stream",
     "text": [
      "0.9688639316269664\n"
     ]
    }
   ],
   "source": [
    "\n"
   ]
  },
  {
   "cell_type": "code",
   "execution_count": 134,
   "id": "d5110732",
   "metadata": {},
   "outputs": [
    {
     "name": "stdout",
     "output_type": "stream",
     "text": [
      "tensor([0., 0., 0., 0., 0., 0., 0., 0., 0., 0.])\n",
      "tensor([1., 0., 0., 0., 0., 0., 0., 0., 0., 0.])\n"
     ]
    }
   ],
   "source": []
  },
  {
   "cell_type": "code",
   "execution_count": 1,
   "id": "7e3874fd",
   "metadata": {},
   "outputs": [
    {
     "data": {
      "text/plain": [
       "tensor([[-1.7090,  1.3172]])"
      ]
     },
     "execution_count": 1,
     "metadata": {},
     "output_type": "execute_result"
    }
   ],
   "source": [
    "\n",
    "import torch\n",
    "torch.randn((1, 2))"
   ]
  },
  {
   "cell_type": "code",
   "execution_count": null,
   "id": "ec8a36a5",
   "metadata": {},
   "outputs": [],
   "source": []
  }
 ],
 "metadata": {
  "kernelspec": {
   "display_name": "Python 3 (ipykernel)",
   "language": "python",
   "name": "python3"
  },
  "language_info": {
   "codemirror_mode": {
    "name": "ipython",
    "version": 3
   },
   "file_extension": ".py",
   "mimetype": "text/x-python",
   "name": "python",
   "nbconvert_exporter": "python",
   "pygments_lexer": "ipython3",
   "version": "3.8.12"
  }
 },
 "nbformat": 4,
 "nbformat_minor": 5
}
