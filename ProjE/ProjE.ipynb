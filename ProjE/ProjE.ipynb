{
 "cells": [
  {
   "cell_type": "code",
   "execution_count": 1,
   "id": "23d96285",
   "metadata": {},
   "outputs": [],
   "source": [
    "class Config:\n",
    "    def __init__(self, ent_num, rel_num):\n",
    "        self.dim =  200\n",
    "        self.ent_num = ent_num\n",
    "        self.rel_num = rel_num\n",
    "        self.droprate =  0.4\n",
    "        self.smooth = 0.1\n",
    "        self.lr = 0.001\n",
    "        self.epochs = 300\n",
    "        self.batch_size = 128\n",
    "        self.weight_decay = 0.0"
   ]
  },
  {
   "cell_type": "code",
   "execution_count": 15,
   "id": "0d8f5889",
   "metadata": {},
   "outputs": [],
   "source": [
    "import torch\n",
    "import torch.nn as nn\n",
    "import torch.nn.functional as F\n",
    "import math\n",
    "\n",
    "class ProjE(nn.Module):\n",
    "    def __init__(self, config):\n",
    "        super(ProjE, self).__init__()\n",
    "        self.E = nn.Embedding(config.ent_num, config.dim)\n",
    "        self.R = nn.Embedding(config.rel_num, config.dim)\n",
    "        k = 6.0/math.sqrt(config.dim)\n",
    "        self.eh = nn.Parameter(torch.FloatTensor(config.dim, config.dim).uniform_(-k, k))\n",
    "        self.rh = nn.Parameter(torch.FloatTensor(config.dim, config.dim).uniform_(-k, k))\n",
    "        \n",
    "        #self.eh = nn.Parameter(torch.FloatTensor(config.dim).uniform_(-k, k))\n",
    "        #self.rh = nn.Parameter(torch.FloatTensor(config.dim).uniform_(-k, k))\n",
    "        \n",
    "        self.bc = nn.Parameter(torch.rand(config.dim))\n",
    "        self.bp = nn.Parameter(torch.rand(1))\n",
    "        \n",
    "        self.sigmoid = nn.Sigmoid()\n",
    "        self.tanh = nn.Tanh()\n",
    "        self.dropout = nn.Dropout(config.droprate)\n",
    "        self.loss = nn.BCELoss()\n",
    "    def forward(self, h, r):\n",
    "        h_emb = self.E(h)\n",
    "        r_emb = self.R(r)#batch*dim\n",
    "        combination = torch.mm(h_emb, self.eh) + torch.mm(r_emb, self.rh) + self.bc\n",
    "        #combination = self.eh*h_emb + self.rh*r_emb + self.bc\n",
    "        \n",
    "        #batch*1*dim*dim *n = batch *1*n;\n",
    "        combination = combination.unsqueeze(1)\n",
    "        out = torch.matmul(self.dropout(self.tanh(combination)), self.E.weight.transpose(0, 1)) + self.bp\n",
    "        out = torch.sigmoid(out)\n",
    "        out = out.squeeze(1)\n",
    "        return out\n",
    "        \n",
    "        \n",
    "        \n",
    "        "
   ]
  },
  {
   "cell_type": "code",
   "execution_count": 16,
   "id": "a0debe70",
   "metadata": {},
   "outputs": [],
   "source": [
    "from collections import defaultdict as ddict\n",
    "class dataProcess:\n",
    "    def __init__(self, file_name):\n",
    "        self.dir = '/home/qiupp/code/ConvE/data/'+file_name+'/'\n",
    "        self.ent2id = {}\n",
    "        self.rel2id = {}\n",
    "        self.data = {sql:self.read(sql) for sql in ['train', 'valid', 'test']}\n",
    "        self.train_sr2o = {}\n",
    "        self.all_sr2o = ddict(set)\n",
    "        self.triples = ddict(list)\n",
    "        self.sub_rel_map_obj()\n",
    "        self.train_triples()\n",
    "        self.valid_or_test_triples()\n",
    "        \n",
    "    def read(self, file_type):\n",
    "        with open(self.dir+file_type+'.txt', 'r') as f:\n",
    "            lines = f.readlines()\n",
    "        triples = []\n",
    "        for line in lines:\n",
    "            temp = line.strip().split()\n",
    "            triples.append((self.get_ent_id(temp[0]), self.get_rel_id(temp[1]), self.get_ent_id(temp[2])))\n",
    "        return triples\n",
    "    def get_ent_id(self, ent):\n",
    "        if  not ent in self.ent2id.keys():\n",
    "            self.ent2id[ent] = len(self.ent2id)\n",
    "        return self.ent2id[ent]\n",
    "        \n",
    "    def get_rel_id(self, rel):\n",
    "        if not rel  in self.rel2id.keys():\n",
    "            self.rel2id[rel] = len(self.rel2id)\n",
    "        return self.rel2id[rel]\n",
    "    def ent_num(self):\n",
    "        return len(self.ent2id)\n",
    "    def rel_num(self):\n",
    "        return len(self.rel2id)\n",
    "    def sub_rel_map_obj(self):\n",
    "        for fact in self.data['train']:\n",
    "            h, r, t = fact\n",
    "            self.all_sr2o[(h, r)].add(t)\n",
    "            self.all_sr2o[(t, r+ self.rel_num())].add(h)\n",
    "        \n",
    "        self.train_sr2o = {k: list(v) for k, v in self.all_sr2o.items()}\n",
    "        for sql in ['valid', 'test']:\n",
    "            for fact in self.data[sql]:\n",
    "                h, r, t = fact\n",
    "                self.all_sr2o[(h, r)].add(t)\n",
    "                self.all_sr2o[(t,r+self.rel_num())].add(h)\n",
    "    def train_triples(self):\n",
    "        for (h, r), t in self.train_sr2o.items():\n",
    "            self.triples['train'].append({'triple':(h, r), 'labels':t})\n",
    "    def valid_or_test_triples(self):\n",
    "        for sql in ['valid', 'test']:\n",
    "            for h, r, t in self.data[sql]:\n",
    "                rev_rel = r + self.rel_num()\n",
    "                self.triples[sql+'_tail'].append({'triple':(h, r, t), 'labels':self.all_sr2o[(h, r)]})\n",
    "                self.triples[sql+'_head'].append({'triple':(t,rev_rel, h), 'labels':self.all_sr2o[(t, rev_rel)]})\n",
    "        "
   ]
  },
  {
   "cell_type": "code",
   "execution_count": 17,
   "id": "a126d70a",
   "metadata": {},
   "outputs": [],
   "source": [
    "from torch.utils.data import DataLoader, Dataset\n",
    "class MyDataSet(Dataset):\n",
    "    def __init__(self, dataPro, type, smooth):\n",
    "        self.type = type\n",
    "        self.data = dataPro.triples[type]\n",
    "        self.ent_num = dataPro.ent_num()\n",
    "        self.smooth = smooth\n",
    "    def __len__(self):\n",
    "        return len(self.data)\n",
    "    \n",
    "    def __getitem__(self, index):\n",
    "        element = self.data[index]\n",
    "        \n",
    "        triple = torch.LongTensor(element['triple'])\n",
    "        labels = self.get_label(element['labels'])\n",
    "        return triple, labels\n",
    "    def get_label(self, labels):\n",
    "        temp_label = torch.zeros(self.ent_num)\n",
    "        for label in labels:\n",
    "            temp_label[label] = 1\n",
    "        if self.smooth != 0.0:\n",
    "            temp_label = (1-self.smooth)*temp_label+1.0/self.ent_num\n",
    "        return torch.FloatTensor(temp_label)\n",
    "        \n",
    "        "
   ]
  },
  {
   "cell_type": "code",
   "execution_count": 18,
   "id": "c5f408d4",
   "metadata": {},
   "outputs": [],
   "source": [
    "class Measure:\n",
    "    def __init__(self):\n",
    "        self.hit1 = 0.0\n",
    "        self.hit3 = 0.0\n",
    "        self.hit10 = 0.0\n",
    "        self.mr = 0.0\n",
    "        self.mrr = 0.0\n",
    "    def updata(self, rank):\n",
    "        if rank == 1:\n",
    "            self.hit1 += 1.0\n",
    "        if rank <= 3:\n",
    "            self.hit3 += 1.0\n",
    "        if rank <= 10:\n",
    "            self.hit10 += 1.0\n",
    "        self.mr += rank\n",
    "        self.mrr += 1.0 / rank\n",
    "    def deal(self, facts_num):\n",
    "        self.hit1 /=  facts_num\n",
    "        self.hit3 /= facts_num\n",
    "        self.hit10 /= facts_num\n",
    "        self.mr /= facts_num\n",
    "        self.mrr /= facts_num\n",
    "    def print_(self):\n",
    "        print('hit1: '+str(self.hit1))\n",
    "        print('hit3: '+str(self.hit3))\n",
    "        print('hit10: '+str(self.hit10))\n",
    "        print('mr: '+str(self.mr))\n",
    "        print('mrr: '+str(self.mrr))\n",
    "    def init(self):\n",
    "        self.hit1 = 0.0\n",
    "        self.hit3 = 0.0\n",
    "        self.hit10 = 0.0\n",
    "        self.mr = 0.0\n",
    "        self.mrr = 0.0\n",
    "    \n",
    "        \n",
    "        "
   ]
  },
  {
   "cell_type": "code",
   "execution_count": 19,
   "id": "b07e23a1",
   "metadata": {},
   "outputs": [],
   "source": [
    "import numpy as np\n",
    "from tqdm import trange\n",
    "import os\n",
    "class Trainer:\n",
    "    def __init__(self, dataPro, config, device):\n",
    "        self.device = device\n",
    "        self.dataPro = dataPro\n",
    "        self.mydataset = MyDataSet(dataPro, 'train', 0.1)\n",
    "        self.measure = Measure()\n",
    "        self.model = ProjE(config).to(device)\n",
    "        self.config = config\n",
    "        self.valid_data = DataLoader(MyDataSet(dataPro, 'valid_tail',0.00), batch_size = config.batch_size)\n",
    "        self.valid_data_len = len(dataPro.triples['valid_tail'])\n",
    "        print(\"valid_data_len\"+str(self.valid_data_len))\n",
    "        \n",
    "    def MyTrain(self):\n",
    "        optimizer = torch.optim.Adam(self.model.parameters(), lr=self.config.lr,weight_decay=self.config.weight_decay )\n",
    "        dataload = DataLoader(self.mydataset, batch_size = self.config.batch_size, shuffle = True)\n",
    "        for epoch in trange(1,self.config.epochs+1):\n",
    "            self.model.train()\n",
    "            total_loss = 0.0\n",
    "            for i,(triples, labels) in enumerate(dataload):\n",
    "                triples = triples.to(self.device)\n",
    "                labels = labels.to(self.device)\n",
    "                e1 = triples[:, 0]\n",
    "                rel = triples[:, 1]\n",
    "                optimizer.zero_grad()\n",
    "                #print(e1, rel)\n",
    "                score = self.model(e1, rel)\n",
    "#                 if i% 500 == 0:\n",
    "#                     print(score[1])\n",
    "                loss = self.model.loss(score, labels)\n",
    "                total_loss += loss.cpu().item()\n",
    "                loss.backward()\n",
    "                optimizer.step()\n",
    "            #total_loss_to_tensor = torch.FloatTensor(total_loss)\n",
    "            #print(total_loss_to_tensor)\n",
    "            print(\"损失值为：\"+str(total_loss))\n",
    "            \n",
    "            if epoch % 5 == 0:\n",
    "                self.save_model(epoch)\n",
    "                self.measure.init()\n",
    "                self.model.eval()\n",
    "                with torch.no_grad():\n",
    "                    tot_num = 0\n",
    "                    for i, (triples, labels) in enumerate(self.valid_data):\n",
    "                        tot_num += e1.shape[0]\n",
    "                        e1 = triples[:, 0]\n",
    "                        rel = triples[:, 1]\n",
    "                        e2 = triples[:, 2]\n",
    "                        e1 = e1.to(self.device)\n",
    "                        rel = rel.to(self.device)\n",
    "                        pred = self.model(e1, rel)\n",
    "                        pred = pred.cpu()\n",
    "                        self.predict(e2, labels,pred)\n",
    "                    self.measure.deal(tot_num)\n",
    "                    #print(tot_num)\n",
    "                    self.measure.print_()\n",
    "                 \n",
    "                \n",
    "    \n",
    "    def save_model(self, epoch):\n",
    "        model_path = '/home/qiupp/codestore/ProjE/models/'\n",
    "        if not os.path.exists(model_path):\n",
    "            os.mkdir(model_path)\n",
    "        torch.save(self.model, model_path+str(epoch)+'.pkl')\n",
    "    def predict(self, e2, labels, pred):\n",
    "        \n",
    "        n_batch = torch.arange(e2.shape[0])\n",
    "        target = pred[n_batch, e2]\n",
    "        pred = torch.where(labels.byte(), torch.zeros_like(pred), pred)\n",
    "        pred[n_batch, e2] = target\n",
    "        #print(target)\n",
    "        pred = pred.detach().numpy()\n",
    "        e2 = e2.numpy()\n",
    "        for i in range(e2.shape[0]):\n",
    "            ele = e2[i]\n",
    "            one_pred =  pred[i]\n",
    "            sc = one_pred[ele]\n",
    "            one_pred = np.delete(one_pred, ele)\n",
    "            one_pred = np.insert(one_pred,0, sc )\n",
    "            rank = (one_pred[0] <= one_pred).sum()\n",
    "            #print(rank)\n",
    "            self.measure.updata(rank)\n",
    "        \n",
    "        \n",
    "        "
   ]
  },
  {
   "cell_type": "code",
   "execution_count": 20,
   "id": "5243b68b",
   "metadata": {
    "scrolled": true
   },
   "outputs": [
    {
     "name": "stdout",
     "output_type": "stream",
     "text": [
      "17535\n",
      "valid_data_len17535\n"
     ]
    },
    {
     "name": "stderr",
     "output_type": "stream",
     "text": [
      "  0%|▎                                                                                        | 1/300 [00:14<1:13:03, 14.66s/it]"
     ]
    },
    {
     "name": "stdout",
     "output_type": "stream",
     "text": [
      "损失值为：3363.754267467186\n"
     ]
    },
    {
     "name": "stderr",
     "output_type": "stream",
     "text": [
      "\r",
      "  1%|▌                                                                                        | 2/300 [00:28<1:11:06, 14.32s/it]"
     ]
    },
    {
     "name": "stdout",
     "output_type": "stream",
     "text": [
      "损失值为：18.180644224397838\n"
     ]
    },
    {
     "name": "stderr",
     "output_type": "stream",
     "text": [
      "\r",
      "  1%|▉                                                                                        | 3/300 [00:43<1:12:49, 14.71s/it]"
     ]
    },
    {
     "name": "stdout",
     "output_type": "stream",
     "text": [
      "损失值为：14.833424688316882\n"
     ]
    },
    {
     "name": "stderr",
     "output_type": "stream",
     "text": [
      "\r",
      "  1%|█▏                                                                                       | 4/300 [00:59<1:13:19, 14.86s/it]"
     ]
    },
    {
     "name": "stdout",
     "output_type": "stream",
     "text": [
      "损失值为：14.50577223720029\n",
      "损失值为：14.487500756047666\n"
     ]
    },
    {
     "name": "stderr",
     "output_type": "stream",
     "text": [
      "\r",
      "  2%|█▍                                                                                       | 5/300 [01:18<1:21:04, 16.49s/it]"
     ]
    },
    {
     "name": "stdout",
     "output_type": "stream",
     "text": [
      "hit1: 0.022101345548239337\n",
      "hit3: 0.06618952190094475\n",
      "hit10: 0.11852275980532494\n",
      "mr: 4358.7343830518175\n",
      "mrr: 0.05641023581444981\n"
     ]
    },
    {
     "name": "stderr",
     "output_type": "stream",
     "text": [
      "\r",
      "  2%|█▊                                                                                       | 6/300 [01:33<1:18:45, 16.07s/it]"
     ]
    },
    {
     "name": "stdout",
     "output_type": "stream",
     "text": [
      "损失值为：14.547336080577224\n"
     ]
    },
    {
     "name": "stderr",
     "output_type": "stream",
     "text": [
      "\r",
      "  2%|██                                                                                       | 7/300 [01:48<1:17:12, 15.81s/it]"
     ]
    },
    {
     "name": "stdout",
     "output_type": "stream",
     "text": [
      "损失值为：14.637384577654302\n"
     ]
    },
    {
     "name": "stderr",
     "output_type": "stream",
     "text": [
      "\r",
      "  3%|██▎                                                                                      | 8/300 [02:03<1:15:43, 15.56s/it]"
     ]
    },
    {
     "name": "stdout",
     "output_type": "stream",
     "text": [
      "损失值为：14.664096639491618\n"
     ]
    },
    {
     "name": "stderr",
     "output_type": "stream",
     "text": [
      "\r",
      "  3%|██▋                                                                                      | 9/300 [02:18<1:14:34, 15.38s/it]"
     ]
    },
    {
     "name": "stdout",
     "output_type": "stream",
     "text": [
      "损失值为：14.725623349659145\n",
      "损失值为：14.723705558106303\n"
     ]
    },
    {
     "name": "stderr",
     "output_type": "stream",
     "text": [
      "\r",
      "  3%|██▉                                                                                     | 10/300 [02:38<1:20:12, 16.59s/it]"
     ]
    },
    {
     "name": "stdout",
     "output_type": "stream",
     "text": [
      "hit1: 0.07340395075866017\n",
      "hit3: 0.09206985399370168\n",
      "hit10: 0.13529916976810766\n",
      "mr: 3886.636243916404\n",
      "mrr: 0.09473498783804728\n"
     ]
    },
    {
     "name": "stderr",
     "output_type": "stream",
     "text": [
      "\r",
      "  4%|███▏                                                                                    | 11/300 [02:53<1:17:13, 16.03s/it]"
     ]
    },
    {
     "name": "stdout",
     "output_type": "stream",
     "text": [
      "损失值为：14.643996466882527\n"
     ]
    },
    {
     "name": "stderr",
     "output_type": "stream",
     "text": [
      "\r",
      "  4%|███▌                                                                                    | 12/300 [03:07<1:15:14, 15.68s/it]"
     ]
    },
    {
     "name": "stdout",
     "output_type": "stream",
     "text": [
      "损失值为：14.580760075710714\n"
     ]
    },
    {
     "name": "stderr",
     "output_type": "stream",
     "text": [
      "\r",
      "  4%|███▊                                                                                    | 13/300 [03:22<1:13:39, 15.40s/it]"
     ]
    },
    {
     "name": "stdout",
     "output_type": "stream",
     "text": [
      "损失值为：14.557184929028153\n"
     ]
    },
    {
     "name": "stderr",
     "output_type": "stream",
     "text": [
      "\r",
      "  5%|████                                                                                    | 14/300 [03:37<1:12:30, 15.21s/it]"
     ]
    },
    {
     "name": "stdout",
     "output_type": "stream",
     "text": [
      "损失值为：14.483465882018209\n",
      "损失值为：14.421251560561359\n"
     ]
    },
    {
     "name": "stderr",
     "output_type": "stream",
     "text": [
      "\r",
      "  5%|████▍                                                                                   | 15/300 [03:56<1:17:45, 16.37s/it]"
     ]
    },
    {
     "name": "stdout",
     "output_type": "stream",
     "text": [
      "hit1: 0.13924992842828515\n",
      "hit3: 0.17520755797308904\n",
      "hit10: 0.23778986544517608\n",
      "mr: 3617.2559977097053\n",
      "mrr: 0.17111295773305307\n"
     ]
    },
    {
     "name": "stderr",
     "output_type": "stream",
     "text": [
      "\r",
      "  5%|████▋                                                                                   | 16/300 [04:11<1:15:30, 15.95s/it]"
     ]
    },
    {
     "name": "stdout",
     "output_type": "stream",
     "text": [
      "损失值为：14.342028421349823\n"
     ]
    },
    {
     "name": "stderr",
     "output_type": "stream",
     "text": [
      "\r",
      "  6%|████▉                                                                                   | 17/300 [04:26<1:13:52, 15.66s/it]"
     ]
    },
    {
     "name": "stdout",
     "output_type": "stream",
     "text": [
      "损失值为：14.255457245744765\n"
     ]
    },
    {
     "name": "stderr",
     "output_type": "stream",
     "text": [
      "\r",
      "  6%|█████▎                                                                                  | 18/300 [04:41<1:12:36, 15.45s/it]"
     ]
    },
    {
     "name": "stdout",
     "output_type": "stream",
     "text": [
      "损失值为：14.09822151158005\n"
     ]
    },
    {
     "name": "stderr",
     "output_type": "stream",
     "text": [
      "\r",
      "  6%|█████▌                                                                                  | 19/300 [04:56<1:11:39, 15.30s/it]"
     ]
    },
    {
     "name": "stdout",
     "output_type": "stream",
     "text": [
      "损失值为：13.921970370225608\n",
      "损失值为：13.79276301059872\n"
     ]
    },
    {
     "name": "stderr",
     "output_type": "stream",
     "text": [
      "\r",
      "  7%|█████▊                                                                                  | 20/300 [05:15<1:17:08, 16.53s/it]"
     ]
    },
    {
     "name": "stdout",
     "output_type": "stream",
     "text": [
      "hit1: 0.1742341826510163\n",
      "hit3: 0.21328371027769824\n",
      "hit10: 0.29470369310048666\n",
      "mr: 3275.182880045806\n",
      "mrr: 0.2096692062711896\n"
     ]
    },
    {
     "name": "stderr",
     "output_type": "stream",
     "text": [
      "\r",
      "  7%|██████▏                                                                                 | 21/300 [05:32<1:16:38, 16.48s/it]"
     ]
    },
    {
     "name": "stdout",
     "output_type": "stream",
     "text": [
      "损失值为：13.576257367618382\n"
     ]
    },
    {
     "name": "stderr",
     "output_type": "stream",
     "text": [
      "\r",
      "  7%|██████▍                                                                                 | 22/300 [05:47<1:14:21, 16.05s/it]"
     ]
    },
    {
     "name": "stdout",
     "output_type": "stream",
     "text": [
      "损失值为：13.37153011187911\n"
     ]
    },
    {
     "name": "stderr",
     "output_type": "stream",
     "text": [
      "\r",
      "  8%|██████▋                                                                                 | 23/300 [06:02<1:12:40, 15.74s/it]"
     ]
    },
    {
     "name": "stdout",
     "output_type": "stream",
     "text": [
      "损失值为：13.21185643505305\n"
     ]
    },
    {
     "name": "stderr",
     "output_type": "stream",
     "text": [
      "\r",
      "  8%|███████                                                                                 | 24/300 [06:17<1:11:22, 15.52s/it]"
     ]
    },
    {
     "name": "stdout",
     "output_type": "stream",
     "text": [
      "损失值为：12.995912225916982\n",
      "损失值为：12.77499738521874\n"
     ]
    },
    {
     "name": "stderr",
     "output_type": "stream",
     "text": [
      "\r",
      "  8%|███████▎                                                                                | 25/300 [06:36<1:16:19, 16.65s/it]"
     ]
    },
    {
     "name": "stdout",
     "output_type": "stream",
     "text": [
      "hit1: 0.20183223590037216\n",
      "hit3: 0.25863154881190953\n",
      "hit10: 0.3271686229602061\n",
      "mr: 2875.884798167764\n",
      "mrr: 0.24347979874548467\n"
     ]
    },
    {
     "name": "stderr",
     "output_type": "stream",
     "text": [
      "\r",
      "  9%|███████▋                                                                                | 26/300 [06:51<1:13:36, 16.12s/it]"
     ]
    },
    {
     "name": "stdout",
     "output_type": "stream",
     "text": [
      "损失值为：12.559710930101573\n"
     ]
    },
    {
     "name": "stderr",
     "output_type": "stream",
     "text": [
      "\r",
      "  9%|███████▉                                                                                | 27/300 [07:06<1:11:41, 15.76s/it]"
     ]
    },
    {
     "name": "stdout",
     "output_type": "stream",
     "text": [
      "损失值为：12.360089147929102\n"
     ]
    },
    {
     "name": "stderr",
     "output_type": "stream",
     "text": [
      "\r",
      "  9%|████████▏                                                                               | 28/300 [07:21<1:10:19, 15.51s/it]"
     ]
    },
    {
     "name": "stdout",
     "output_type": "stream",
     "text": [
      "损失值为：12.214122628327459\n"
     ]
    },
    {
     "name": "stderr",
     "output_type": "stream",
     "text": [
      "\r",
      " 10%|████████▌                                                                               | 29/300 [07:36<1:09:11, 15.32s/it]"
     ]
    },
    {
     "name": "stdout",
     "output_type": "stream",
     "text": [
      "损失值为：12.005327257327735\n",
      "损失值为：11.80861711455509\n"
     ]
    },
    {
     "name": "stderr",
     "output_type": "stream",
     "text": [
      "\r",
      " 10%|████████▊                                                                               | 30/300 [07:55<1:14:18, 16.51s/it]"
     ]
    },
    {
     "name": "stdout",
     "output_type": "stream",
     "text": [
      "hit1: 0.21002004008016031\n",
      "hit3: 0.2789006584597767\n",
      "hit10: 0.34572001145147435\n",
      "mr: 2605.831663326653\n",
      "mrr: 0.2572996686854263\n"
     ]
    },
    {
     "name": "stderr",
     "output_type": "stream",
     "text": [
      "\r",
      " 10%|█████████                                                                               | 31/300 [08:10<1:11:48, 16.02s/it]"
     ]
    },
    {
     "name": "stdout",
     "output_type": "stream",
     "text": [
      "损失值为：11.627767070196569\n"
     ]
    },
    {
     "name": "stderr",
     "output_type": "stream",
     "text": [
      "\r",
      " 11%|█████████▍                                                                              | 32/300 [08:25<1:10:01, 15.68s/it]"
     ]
    },
    {
     "name": "stdout",
     "output_type": "stream",
     "text": [
      "损失值为：11.457520791795105\n"
     ]
    },
    {
     "name": "stderr",
     "output_type": "stream",
     "text": [
      "\r",
      " 11%|█████████▋                                                                              | 33/300 [08:39<1:08:40, 15.43s/it]"
     ]
    },
    {
     "name": "stdout",
     "output_type": "stream",
     "text": [
      "损失值为：11.26436769682914\n"
     ]
    },
    {
     "name": "stderr",
     "output_type": "stream",
     "text": [
      "\r",
      " 11%|█████████▉                                                                              | 34/300 [08:54<1:07:40, 15.27s/it]"
     ]
    },
    {
     "name": "stdout",
     "output_type": "stream",
     "text": [
      "损失值为：11.104870683513582\n",
      "损失值为：10.954393574502319\n"
     ]
    },
    {
     "name": "stderr",
     "output_type": "stream",
     "text": [
      "\r",
      " 12%|██████████▎                                                                             | 35/300 [09:14<1:12:34, 16.43s/it]"
     ]
    },
    {
     "name": "stdout",
     "output_type": "stream",
     "text": [
      "hit1: 0.21855138849126826\n",
      "hit3: 0.2934440309189808\n",
      "hit10: 0.3699971371314057\n",
      "mr: 2421.7163469796737\n",
      "mrr: 0.2694564709635863\n"
     ]
    },
    {
     "name": "stderr",
     "output_type": "stream",
     "text": [
      "\r",
      " 12%|██████████▌                                                                             | 36/300 [09:29<1:10:30, 16.03s/it]"
     ]
    },
    {
     "name": "stdout",
     "output_type": "stream",
     "text": [
      "损失值为：10.816362923011184\n"
     ]
    },
    {
     "name": "stderr",
     "output_type": "stream",
     "text": [
      "\r",
      " 12%|██████████▊                                                                             | 37/300 [09:44<1:08:56, 15.73s/it]"
     ]
    },
    {
     "name": "stdout",
     "output_type": "stream",
     "text": [
      "损失值为：10.66775973699987\n"
     ]
    },
    {
     "name": "stderr",
     "output_type": "stream",
     "text": [
      "\r",
      " 13%|███████████▏                                                                            | 38/300 [09:59<1:07:50, 15.54s/it]"
     ]
    },
    {
     "name": "stdout",
     "output_type": "stream",
     "text": [
      "损失值为：10.511794088874012\n"
     ]
    },
    {
     "name": "stderr",
     "output_type": "stream",
     "text": [
      "\r",
      " 13%|███████████▍                                                                            | 39/300 [10:14<1:06:58, 15.40s/it]"
     ]
    },
    {
     "name": "stdout",
     "output_type": "stream",
     "text": [
      "损失值为：10.328255964443088\n",
      "损失值为：10.187579988036305\n"
     ]
    },
    {
     "name": "stderr",
     "output_type": "stream",
     "text": [
      "\r",
      " 13%|███████████▋                                                                            | 40/300 [10:33<1:11:50, 16.58s/it]"
     ]
    },
    {
     "name": "stdout",
     "output_type": "stream",
     "text": [
      "hit1: 0.22513598625823075\n",
      "hit3: 0.30088748926424275\n",
      "hit10: 0.38179215574005154\n",
      "mr: 2307.7054108216435\n",
      "mrr: 0.27774610523980486\n"
     ]
    },
    {
     "name": "stderr",
     "output_type": "stream",
     "text": [
      "\r",
      " 14%|████████████                                                                            | 41/300 [10:48<1:08:56, 15.97s/it]"
     ]
    },
    {
     "name": "stdout",
     "output_type": "stream",
     "text": [
      "损失值为：10.035231268499047\n"
     ]
    },
    {
     "name": "stderr",
     "output_type": "stream",
     "text": [
      "\r",
      " 14%|████████████▎                                                                           | 42/300 [11:02<1:07:04, 15.60s/it]"
     ]
    },
    {
     "name": "stdout",
     "output_type": "stream",
     "text": [
      "损失值为：9.88606122136116\n"
     ]
    },
    {
     "name": "stderr",
     "output_type": "stream",
     "text": [
      "\r",
      " 14%|████████████▌                                                                           | 43/300 [11:17<1:05:36, 15.32s/it]"
     ]
    },
    {
     "name": "stdout",
     "output_type": "stream",
     "text": [
      "损失值为：9.74089361121878\n"
     ]
    },
    {
     "name": "stderr",
     "output_type": "stream",
     "text": [
      "\r",
      " 15%|████████████▉                                                                           | 44/300 [11:32<1:04:26, 15.10s/it]"
     ]
    },
    {
     "name": "stdout",
     "output_type": "stream",
     "text": [
      "损失值为：9.584168389905244\n",
      "损失值为：9.424278124701232\n"
     ]
    },
    {
     "name": "stderr",
     "output_type": "stream",
     "text": [
      "\r",
      " 15%|█████████████▏                                                                          | 45/300 [11:51<1:09:03, 16.25s/it]"
     ]
    },
    {
     "name": "stdout",
     "output_type": "stream",
     "text": [
      "hit1: 0.23366733466933867\n",
      "hit3: 0.3186372745490982\n",
      "hit10: 0.40074434583452617\n",
      "mr: 2213.408932150014\n",
      "mrr: 0.2906562069229736\n"
     ]
    },
    {
     "name": "stderr",
     "output_type": "stream",
     "text": [
      "\r",
      " 15%|█████████████▍                                                                          | 46/300 [12:05<1:06:39, 15.75s/it]"
     ]
    },
    {
     "name": "stdout",
     "output_type": "stream",
     "text": [
      "损失值为：9.30918749468401\n"
     ]
    },
    {
     "name": "stderr",
     "output_type": "stream",
     "text": [
      "\r",
      " 16%|█████████████▊                                                                          | 47/300 [12:20<1:05:01, 15.42s/it]"
     ]
    },
    {
     "name": "stdout",
     "output_type": "stream",
     "text": [
      "损失值为：9.174394571222365\n"
     ]
    },
    {
     "name": "stderr",
     "output_type": "stream",
     "text": [
      "\r",
      " 16%|██████████████                                                                          | 48/300 [12:34<1:03:50, 15.20s/it]"
     ]
    },
    {
     "name": "stdout",
     "output_type": "stream",
     "text": [
      "损失值为：9.02630351902917\n"
     ]
    },
    {
     "name": "stderr",
     "output_type": "stream",
     "text": [
      "\r",
      " 16%|██████████████▎                                                                         | 49/300 [12:50<1:03:20, 15.14s/it]"
     ]
    },
    {
     "name": "stdout",
     "output_type": "stream",
     "text": [
      "损失值为：8.879098047036678\n",
      "损失值为：8.761931137181818\n"
     ]
    },
    {
     "name": "stderr",
     "output_type": "stream",
     "text": [
      "\r",
      " 17%|██████████████▋                                                                         | 50/300 [13:08<1:07:52, 16.29s/it]"
     ]
    },
    {
     "name": "stdout",
     "output_type": "stream",
     "text": [
      "hit1: 0.24088176352705412\n",
      "hit3: 0.3320354995705697\n",
      "hit10: 0.42175780131691953\n",
      "mr: 2137.607729745205\n",
      "mrr: 0.3013638090625652\n"
     ]
    },
    {
     "name": "stderr",
     "output_type": "stream",
     "text": [
      "\r",
      " 17%|██████████████▉                                                                         | 51/300 [13:23<1:05:01, 15.67s/it]"
     ]
    },
    {
     "name": "stdout",
     "output_type": "stream",
     "text": [
      "损失值为：8.62396102072671\n"
     ]
    },
    {
     "name": "stderr",
     "output_type": "stream",
     "text": [
      "\r",
      " 17%|███████████████▎                                                                        | 52/300 [13:37<1:02:57, 15.23s/it]"
     ]
    },
    {
     "name": "stdout",
     "output_type": "stream",
     "text": [
      "损失值为：8.529761186335236\n"
     ]
    },
    {
     "name": "stderr",
     "output_type": "stream",
     "text": [
      "\r",
      " 18%|███████████████▌                                                                        | 53/300 [13:51<1:01:21, 14.90s/it]"
     ]
    },
    {
     "name": "stdout",
     "output_type": "stream",
     "text": [
      "损失值为：8.3879580097273\n"
     ]
    },
    {
     "name": "stderr",
     "output_type": "stream",
     "text": [
      "\r",
      " 18%|███████████████▊                                                                        | 54/300 [14:05<1:00:13, 14.69s/it]"
     ]
    },
    {
     "name": "stdout",
     "output_type": "stream",
     "text": [
      "损失值为：8.234971835277975\n",
      "损失值为：8.10941005917266\n"
     ]
    },
    {
     "name": "stderr",
     "output_type": "stream",
     "text": [
      "\r",
      " 18%|████████████████▏                                                                       | 55/300 [14:24<1:04:39, 15.84s/it]"
     ]
    },
    {
     "name": "stdout",
     "output_type": "stream",
     "text": [
      "hit1: 0.24780990552533638\n",
      "hit3: 0.3448038935012883\n",
      "hit10: 0.43418265101631837\n",
      "mr: 2080.8518179215575\n",
      "mrr: 0.3112083410881758\n"
     ]
    },
    {
     "name": "stderr",
     "output_type": "stream",
     "text": [
      "\r",
      " 19%|████████████████▍                                                                       | 56/300 [14:38<1:02:24, 15.35s/it]"
     ]
    },
    {
     "name": "stdout",
     "output_type": "stream",
     "text": [
      "损失值为：7.992814378812909\n"
     ]
    },
    {
     "name": "stderr",
     "output_type": "stream",
     "text": [
      "\r",
      " 19%|████████████████▋                                                                       | 57/300 [14:52<1:01:08, 15.10s/it]"
     ]
    },
    {
     "name": "stdout",
     "output_type": "stream",
     "text": [
      "损失值为：7.8694629543460906\n"
     ]
    },
    {
     "name": "stderr",
     "output_type": "stream",
     "text": [
      "\r",
      " 19%|█████████████████                                                                       | 58/300 [15:08<1:00:52, 15.09s/it]"
     ]
    },
    {
     "name": "stdout",
     "output_type": "stream",
     "text": [
      "损失值为：7.759684414137155\n"
     ]
    },
    {
     "name": "stderr",
     "output_type": "stream",
     "text": [
      "\r",
      " 20%|█████████████████▎                                                                      | 59/300 [15:23<1:00:39, 15.10s/it]"
     ]
    },
    {
     "name": "stdout",
     "output_type": "stream",
     "text": [
      "损失值为：7.632360314019024\n",
      "损失值为：7.513805011752993\n"
     ]
    },
    {
     "name": "stderr",
     "output_type": "stream",
     "text": [
      "\r",
      " 20%|█████████████████▌                                                                      | 60/300 [15:42<1:05:32, 16.38s/it]"
     ]
    },
    {
     "name": "stdout",
     "output_type": "stream",
     "text": [
      "hit1: 0.25324935585456626\n",
      "hit3: 0.34738047523618665\n",
      "hit10: 0.43985113083309474\n",
      "mr: 2034.8316060692814\n",
      "mrr: 0.31660170452177083\n"
     ]
    },
    {
     "name": "stderr",
     "output_type": "stream",
     "text": [
      "\r",
      " 20%|█████████████████▉                                                                      | 61/300 [15:57<1:03:35, 15.96s/it]"
     ]
    },
    {
     "name": "stdout",
     "output_type": "stream",
     "text": [
      "损失值为：7.399132426362485\n"
     ]
    },
    {
     "name": "stderr",
     "output_type": "stream",
     "text": [
      "\r",
      " 21%|██████████████████▏                                                                     | 62/300 [16:12<1:02:16, 15.70s/it]"
     ]
    },
    {
     "name": "stdout",
     "output_type": "stream",
     "text": [
      "损失值为：7.269829350989312\n"
     ]
    },
    {
     "name": "stderr",
     "output_type": "stream",
     "text": [
      "\r",
      " 21%|██████████████████▍                                                                     | 63/300 [16:27<1:01:16, 15.51s/it]"
     ]
    },
    {
     "name": "stdout",
     "output_type": "stream",
     "text": [
      "损失值为：7.167306074872613\n"
     ]
    },
    {
     "name": "stderr",
     "output_type": "stream",
     "text": [
      "\r",
      " 21%|██████████████████▊                                                                     | 64/300 [16:42<1:00:30, 15.39s/it]"
     ]
    },
    {
     "name": "stdout",
     "output_type": "stream",
     "text": [
      "损失值为：7.0537875718437135\n",
      "损失值为：6.950381953269243\n"
     ]
    },
    {
     "name": "stderr",
     "output_type": "stream",
     "text": [
      "\r",
      " 22%|███████████████████                                                                     | 65/300 [17:02<1:04:56, 16.58s/it]"
     ]
    },
    {
     "name": "stdout",
     "output_type": "stream",
     "text": [
      "hit1: 0.25662754079587746\n",
      "hit3: 0.35596908101918123\n",
      "hit10: 0.4570855997709705\n",
      "mr: 1968.7978242198683\n",
      "mrr: 0.32407488023878334\n"
     ]
    },
    {
     "name": "stderr",
     "output_type": "stream",
     "text": [
      "\r",
      " 22%|███████████████████▎                                                                    | 66/300 [17:17<1:02:54, 16.13s/it]"
     ]
    },
    {
     "name": "stdout",
     "output_type": "stream",
     "text": [
      "损失值为：6.8434994420968\n"
     ]
    },
    {
     "name": "stderr",
     "output_type": "stream",
     "text": [
      "\r",
      " 22%|███████████████████▋                                                                    | 67/300 [17:32<1:01:35, 15.86s/it]"
     ]
    },
    {
     "name": "stdout",
     "output_type": "stream",
     "text": [
      "损失值为：6.734260741155595\n"
     ]
    },
    {
     "name": "stderr",
     "output_type": "stream",
     "text": [
      "\r",
      " 23%|███████████████████▉                                                                    | 68/300 [17:47<1:00:29, 15.65s/it]"
     ]
    },
    {
     "name": "stdout",
     "output_type": "stream",
     "text": [
      "损失值为：6.620194626506418\n"
     ]
    },
    {
     "name": "stderr",
     "output_type": "stream",
     "text": [
      "\r",
      " 23%|████████████████████▋                                                                     | 69/300 [18:02<59:42, 15.51s/it]"
     ]
    },
    {
     "name": "stdout",
     "output_type": "stream",
     "text": [
      "损失值为：6.520468291826546\n",
      "损失值为：6.423873818013817\n"
     ]
    },
    {
     "name": "stderr",
     "output_type": "stream",
     "text": [
      "\r",
      " 23%|████████████████████▌                                                                   | 70/300 [18:22<1:04:08, 16.73s/it]"
     ]
    },
    {
     "name": "stdout",
     "output_type": "stream",
     "text": [
      "hit1: 0.2589750930432293\n",
      "hit3: 0.3624391640423705\n",
      "hit10: 0.4669911251073576\n",
      "mr: 1895.4452905811622\n",
      "mrr: 0.3286532982426389\n"
     ]
    },
    {
     "name": "stderr",
     "output_type": "stream",
     "text": [
      "\r",
      " 24%|████████████████████▊                                                                   | 71/300 [18:37<1:01:56, 16.23s/it]"
     ]
    },
    {
     "name": "stdout",
     "output_type": "stream",
     "text": [
      "损失值为：6.314680885989219\n"
     ]
    },
    {
     "name": "stderr",
     "output_type": "stream",
     "text": [
      "\r",
      " 24%|█████████████████████                                                                   | 72/300 [18:52<1:00:19, 15.87s/it]"
     ]
    },
    {
     "name": "stdout",
     "output_type": "stream",
     "text": [
      "损失值为：6.209348425734788\n"
     ]
    },
    {
     "name": "stderr",
     "output_type": "stream",
     "text": [
      "\r",
      " 24%|█████████████████████▉                                                                    | 73/300 [19:07<59:10, 15.64s/it]"
     ]
    },
    {
     "name": "stdout",
     "output_type": "stream",
     "text": [
      "损失值为：6.124221497215331\n"
     ]
    },
    {
     "name": "stderr",
     "output_type": "stream",
     "text": [
      "\r",
      " 25%|██████████████████████▏                                                                   | 74/300 [19:22<58:16, 15.47s/it]"
     ]
    },
    {
     "name": "stdout",
     "output_type": "stream",
     "text": [
      "损失值为：6.028537467587739\n",
      "损失值为：5.921514432411641\n"
     ]
    },
    {
     "name": "stderr",
     "output_type": "stream",
     "text": [
      "\r",
      " 25%|██████████████████████                                                                  | 75/300 [19:42<1:02:29, 16.67s/it]"
     ]
    },
    {
     "name": "stdout",
     "output_type": "stream",
     "text": [
      "hit1: 0.26263956484397366\n",
      "hit3: 0.3691955339249928\n",
      "hit10: 0.4798167764099628\n",
      "mr: 1799.9447466361294\n",
      "mrr: 0.33580277600111025\n"
     ]
    },
    {
     "name": "stderr",
     "output_type": "stream",
     "text": [
      "\r",
      " 25%|██████████████████████▎                                                                 | 76/300 [19:57<1:00:27, 16.19s/it]"
     ]
    },
    {
     "name": "stdout",
     "output_type": "stream",
     "text": [
      "损失值为：5.84829613333568\n"
     ]
    },
    {
     "name": "stderr",
     "output_type": "stream",
     "text": [
      "\r",
      " 26%|███████████████████████                                                                   | 77/300 [20:12<58:52, 15.84s/it]"
     ]
    },
    {
     "name": "stdout",
     "output_type": "stream",
     "text": [
      "损失值为：5.756033339072019\n"
     ]
    },
    {
     "name": "stderr",
     "output_type": "stream",
     "text": [
      "\r",
      " 26%|███████████████████████▍                                                                  | 78/300 [20:27<57:39, 15.58s/it]"
     ]
    },
    {
     "name": "stdout",
     "output_type": "stream",
     "text": [
      "损失值为：5.654589647427201\n"
     ]
    },
    {
     "name": "stderr",
     "output_type": "stream",
     "text": [
      "\r",
      " 26%|███████████████████████▋                                                                  | 79/300 [20:42<56:44, 15.40s/it]"
     ]
    },
    {
     "name": "stdout",
     "output_type": "stream",
     "text": [
      "损失值为：5.571468282258138\n",
      "损失值为：5.485224981093779\n"
     ]
    },
    {
     "name": "stderr",
     "output_type": "stream",
     "text": [
      "\r",
      " 27%|███████████████████████▍                                                                | 80/300 [21:01<1:00:50, 16.59s/it]"
     ]
    },
    {
     "name": "stdout",
     "output_type": "stream",
     "text": [
      "hit1: 0.27220154594904095\n",
      "hit3: 0.3806470083023189\n",
      "hit10: 0.4918980818780418\n",
      "mr: 1718.3157744059547\n",
      "mrr: 0.3464484102501714\n"
     ]
    },
    {
     "name": "stderr",
     "output_type": "stream",
     "text": [
      "\r",
      " 27%|████████████████████████▎                                                                 | 81/300 [21:16<58:46, 16.10s/it]"
     ]
    },
    {
     "name": "stdout",
     "output_type": "stream",
     "text": [
      "损失值为：5.4107673284597695\n"
     ]
    },
    {
     "name": "stderr",
     "output_type": "stream",
     "text": [
      "\r",
      " 27%|████████████████████████▌                                                                 | 82/300 [21:31<57:14, 15.76s/it]"
     ]
    },
    {
     "name": "stdout",
     "output_type": "stream",
     "text": [
      "损失值为：5.335961579112336\n"
     ]
    },
    {
     "name": "stderr",
     "output_type": "stream",
     "text": [
      "\r",
      " 28%|████████████████████████▉                                                                 | 83/300 [21:46<56:07, 15.52s/it]"
     ]
    },
    {
     "name": "stdout",
     "output_type": "stream",
     "text": [
      "损失值为：5.237748353742063\n"
     ]
    },
    {
     "name": "stderr",
     "output_type": "stream",
     "text": [
      "\r",
      " 28%|█████████████████████████▏                                                                | 84/300 [22:01<55:08, 15.32s/it]"
     ]
    },
    {
     "name": "stdout",
     "output_type": "stream",
     "text": [
      "损失值为：5.169337625382468\n",
      "损失值为：5.105533191934228\n"
     ]
    },
    {
     "name": "stderr",
     "output_type": "stream",
     "text": [
      "\r",
      " 28%|█████████████████████████▌                                                                | 85/300 [22:20<59:12, 16.52s/it]"
     ]
    },
    {
     "name": "stdout",
     "output_type": "stream",
     "text": [
      "hit1: 0.2759232751216719\n",
      "hit3: 0.38786143716003435\n",
      "hit10: 0.5002576581734899\n",
      "mr: 1631.7492699685085\n",
      "mrr: 0.3521926630566415\n"
     ]
    },
    {
     "name": "stderr",
     "output_type": "stream",
     "text": [
      "\r",
      " 29%|█████████████████████████▊                                                                | 86/300 [22:35<57:17, 16.06s/it]"
     ]
    },
    {
     "name": "stdout",
     "output_type": "stream",
     "text": [
      "损失值为：5.017489206977189\n"
     ]
    },
    {
     "name": "stderr",
     "output_type": "stream",
     "text": [
      "\r",
      " 29%|██████████████████████████                                                                | 87/300 [22:50<55:51, 15.74s/it]"
     ]
    },
    {
     "name": "stdout",
     "output_type": "stream",
     "text": [
      "损失值为：4.939611198147759\n"
     ]
    },
    {
     "name": "stderr",
     "output_type": "stream",
     "text": [
      "\r",
      " 29%|██████████████████████████▍                                                               | 88/300 [23:05<54:41, 15.48s/it]"
     ]
    },
    {
     "name": "stdout",
     "output_type": "stream",
     "text": [
      "损失值为：4.873119342839345\n"
     ]
    },
    {
     "name": "stderr",
     "output_type": "stream",
     "text": [
      "\r",
      " 30%|██████████████████████████▋                                                               | 89/300 [23:20<53:48, 15.30s/it]"
     ]
    },
    {
     "name": "stdout",
     "output_type": "stream",
     "text": [
      "损失值为：4.81423976784572\n",
      "损失值为：4.727946565952152\n"
     ]
    },
    {
     "name": "stderr",
     "output_type": "stream",
     "text": [
      "\r",
      " 30%|███████████████████████████                                                               | 90/300 [23:39<57:36, 16.46s/it]"
     ]
    },
    {
     "name": "stdout",
     "output_type": "stream",
     "text": [
      "hit1: 0.28164901231033496\n",
      "hit3: 0.3928428285141712\n",
      "hit10: 0.5095906097910106\n",
      "mr: 1530.0678499856856\n",
      "mrr: 0.35858601636808496\n"
     ]
    },
    {
     "name": "stderr",
     "output_type": "stream",
     "text": [
      "\r",
      " 30%|███████████████████████████▎                                                              | 91/300 [23:54<55:39, 15.98s/it]"
     ]
    },
    {
     "name": "stdout",
     "output_type": "stream",
     "text": [
      "损失值为：4.663845242466778\n"
     ]
    },
    {
     "name": "stderr",
     "output_type": "stream",
     "text": [
      " 30%|███████████████████████████▎                                                              | 91/300 [24:00<55:07, 15.83s/it]\n"
     ]
    },
    {
     "ename": "KeyboardInterrupt",
     "evalue": "",
     "output_type": "error",
     "traceback": [
      "\u001b[0;31m---------------------------------------------------------------------------\u001b[0m",
      "\u001b[0;31mKeyboardInterrupt\u001b[0m                         Traceback (most recent call last)",
      "Input \u001b[0;32mIn [20]\u001b[0m, in \u001b[0;36m<cell line: 6>\u001b[0;34m()\u001b[0m\n\u001b[1;32m      4\u001b[0m \u001b[38;5;28mprint\u001b[39m(\u001b[38;5;28mlen\u001b[39m(dataPro\u001b[38;5;241m.\u001b[39mdata[\u001b[38;5;124m'\u001b[39m\u001b[38;5;124mvalid\u001b[39m\u001b[38;5;124m'\u001b[39m]))\n\u001b[1;32m      5\u001b[0m trainer \u001b[38;5;241m=\u001b[39m Trainer(dataPro,config, device)\n\u001b[0;32m----> 6\u001b[0m \u001b[43mtrainer\u001b[49m\u001b[38;5;241;43m.\u001b[39;49m\u001b[43mMyTrain\u001b[49m\u001b[43m(\u001b[49m\u001b[43m)\u001b[49m\n",
      "Input \u001b[0;32mIn [19]\u001b[0m, in \u001b[0;36mTrainer.MyTrain\u001b[0;34m(self)\u001b[0m\n\u001b[1;32m     30\u001b[0m \u001b[38;5;66;03m#                 if i% 500 == 0:\u001b[39;00m\n\u001b[1;32m     31\u001b[0m \u001b[38;5;66;03m#                     print(score[1])\u001b[39;00m\n\u001b[1;32m     32\u001b[0m                 loss \u001b[38;5;241m=\u001b[39m \u001b[38;5;28mself\u001b[39m\u001b[38;5;241m.\u001b[39mmodel\u001b[38;5;241m.\u001b[39mloss(score, labels)\n\u001b[0;32m---> 33\u001b[0m                 total_loss \u001b[38;5;241m+\u001b[39m\u001b[38;5;241m=\u001b[39m \u001b[43mloss\u001b[49m\u001b[38;5;241;43m.\u001b[39;49m\u001b[43mcpu\u001b[49m\u001b[43m(\u001b[49m\u001b[43m)\u001b[49m\u001b[38;5;241m.\u001b[39mitem()\n\u001b[1;32m     34\u001b[0m                 loss\u001b[38;5;241m.\u001b[39mbackward()\n\u001b[1;32m     35\u001b[0m                 optimizer\u001b[38;5;241m.\u001b[39mstep()\n",
      "\u001b[0;31mKeyboardInterrupt\u001b[0m: "
     ]
    }
   ],
   "source": [
    "dataPro = dataProcess('FB15k-237')\n",
    "device = torch.device(\"cuda:1\" if torch.cuda.is_available() else \"cpu\")\n",
    "config = Config(dataPro.ent_num(), dataPro.rel_num()*2)\n",
    "print(len(dataPro.data['valid']))\n",
    "trainer = Trainer(dataPro,config, device)\n",
    "trainer.MyTrain()\n",
    "\n"
   ]
  },
  {
   "cell_type": "code",
   "execution_count": 12,
   "id": "25b9c65a",
   "metadata": {},
   "outputs": [],
   "source": [
    "class Tester:\n",
    "    def __init__(self,dataPro, model_path, device):\n",
    "        self.model = torch.load(model_path, map_location = device)\n",
    "        self.test_tail = MyDataSet(dataPro, 'test_tail', 0.0)\n",
    "        self.test_head = MyDataSet(dataPro, 'test_head', 0.0)\n",
    "        self.lens = len(dataPro.data['test'])\n",
    "        self.test_tail_load = DataLoader(self.test_tail, batch_size = 128)\n",
    "        self.test_head_load = DataLoader(self.test_head, batch_size = 128)\n",
    "        self.measure = Measure()\n",
    "        self.device = device\n",
    "        self.model.eval()\n",
    "    def test(self):\n",
    "        with torch.no_grad():\n",
    "            self.measure.init()\n",
    "            for i, (triples, labels) in enumerate(self.test_tail_load):\n",
    "                e1 = triples[:, 0]\n",
    "                rel = triples[:,1]\n",
    "                if i == 0:\n",
    "                    print(labels)\n",
    "                #print(e1)\n",
    "                e1 = e1.to(self.device)\n",
    "                rel = rel.to(self.device)\n",
    "                pred = self.model(e1, rel)\n",
    "                #print(pred)\n",
    "                pred = pred.cpu()\n",
    "                e2 = triples[:, 2]\n",
    "                self.predict(e2, labels, pred)\n",
    "            print(self.measure.mrr)\n",
    "            self.measure.deal(self.lens)\n",
    "            self.measure.print_()\n",
    "            self.measure.init()\n",
    "        \n",
    "            for i, (triples, labels) in enumerate(self.test_head_load):\n",
    "            \n",
    "                e1 = triples[:, 0]\n",
    "                rel = triples[:,1]\n",
    "                e1 = e1.to(self.device)\n",
    "                rel = rel.to(self.device)\n",
    "                pred = self.model(e1, rel)\n",
    "                pred = pred.cpu()\n",
    "                e2 = triples[:, 2]\n",
    "                self.predict(e2, labels, pred)\n",
    "            self.measure.deal(self.lens)\n",
    "            self.measure.print_()\n",
    "        \n",
    "            \n",
    "            \n",
    "    def predict(self, e2, labels, pred):\n",
    "        \n",
    "        n_batch = torch.arange(e2.shape[0])\n",
    "        target = pred[n_batch, e2]\n",
    "        pred = torch.where(labels.byte(), torch.zeros_like(pred), pred)\n",
    "        pred[n_batch, e2] = target\n",
    "        #print(target)\n",
    "        pred = pred.detach().numpy()\n",
    "        e2 = e2.numpy()\n",
    "        for i in range(e2.shape[0]):\n",
    "            ele = e2[i]\n",
    "            one_pred =  pred[i]\n",
    "            sc = one_pred[ele]\n",
    "            one_pred = np.delete(one_pred, ele)\n",
    "            one_pred = np.insert(one_pred,0, sc )\n",
    "            rank = (one_pred[0] <= one_pred).sum()\n",
    "            #print(rank)\n",
    "            self.measure.updata(rank)    \n",
    "            \n",
    "    \n",
    "    \n",
    "    \n",
    "  "
   ]
  },
  {
   "cell_type": "code",
   "execution_count": 14,
   "id": "0cacbc02",
   "metadata": {},
   "outputs": [
    {
     "name": "stdout",
     "output_type": "stream",
     "text": [
      "tensor([[0., 0., 0.,  ..., 0., 0., 0.],\n",
      "        [0., 0., 0.,  ..., 0., 0., 0.],\n",
      "        [0., 0., 0.,  ..., 0., 0., 0.],\n",
      "        ...,\n",
      "        [0., 0., 0.,  ..., 0., 0., 0.],\n",
      "        [0., 0., 0.,  ..., 0., 0., 0.],\n",
      "        [0., 0., 0.,  ..., 0., 0., 0.]])\n",
      "7329.083649609044\n",
      "hit1: 0.27284276360793513\n",
      "hit3: 0.3943613798495065\n",
      "hit10: 0.5242841786377407\n",
      "mr: 296.7852535913222\n",
      "mrr: 0.35811021448299835\n",
      "hit1: 0.09581745333724226\n",
      "hit3: 0.16783934330108471\n",
      "hit10: 0.279585654255839\n",
      "mr: 593.4205022964917\n",
      "mrr: 0.1569592806785564\n"
     ]
    }
   ],
   "source": [
    "model_path =  \"/home/qiupp/codestore/ProjE/models/55.pkl\"\n",
    "tester = Tester(dataPro, model_path, device)\n",
    "tester.test()"
   ]
  },
  {
   "cell_type": "code",
   "execution_count": null,
   "id": "17ba5235",
   "metadata": {},
   "outputs": [],
   "source": []
  },
  {
   "cell_type": "code",
   "execution_count": null,
   "id": "fc778f9b",
   "metadata": {},
   "outputs": [],
   "source": []
  }
 ],
 "metadata": {
  "kernelspec": {
   "display_name": "Python 3 (ipykernel)",
   "language": "python",
   "name": "python3"
  },
  "language_info": {
   "codemirror_mode": {
    "name": "ipython",
    "version": 3
   },
   "file_extension": ".py",
   "mimetype": "text/x-python",
   "name": "python",
   "nbconvert_exporter": "python",
   "pygments_lexer": "ipython3",
   "version": "3.8.12"
  }
 },
 "nbformat": 4,
 "nbformat_minor": 5
}
